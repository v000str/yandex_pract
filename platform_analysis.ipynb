{
 "cells": [
  {
   "cell_type": "markdown",
   "metadata": {},
   "source": [
    "# Проект по анализу перспективных направлений продаж в интернет магазине компьютерных игр на 2017 год\n",
    "\n",
    "**Цель исследования** — выявить закономерности в данных, определяющие успешность продажи игры. В дальнейшем, результаты исследования позволят сделать ставку на потенциально популярный продукт и спланировать рекламные кампании на 2017 год\n",
    "\n",
    "**Ход исследования:**<br>\n",
    "1. Загрузка данных и необходимых библиотек<br>\n",
    "2. Подготовка данных<br>\n",
    "3. Исследовательский анализ данных<br>\n",
    "4. Портрет пользователя каждого региона<br>\n",
    "5. Проверка гипотез<br>\n",
    "6. Общий вывод <br>\n",
    "\n",
    "**Описание данных**<br>\n",
    "\n",
    "* Name — название игры<br>\n",
    "* Platform — платформа<br>\n",
    "* Year_of_Release — год выпуска<br>\n",
    "* Genre — жанр игры<br>\n",
    "* NA_sales — продажи в Северной Америке (миллионы проданных копий)<br>\n",
    "* EU_sales — продажи в Европе (миллионы проданных копий)<br>\n",
    "* JP_sales — продажи в Японии (миллионы проданных копий)<br>\n",
    "* Other_sales — продажи в других странах (миллионы проданных копий)<br>\n",
    "* Critic_Score — оценка критиков (максимум 100)<br>\n",
    "* User_Score — оценка пользователей (максимум 10)<br>\n",
    "* Rating — рейтинг от организации ESRB (англ. Entertainment Software Rating Board). Эта ассоциация определяет рейтинг компьютерных игр и присваивает им подходящую возрастную категорию.<br>\n",
    "\n"
   ]
  },
  {
   "cell_type": "markdown",
   "metadata": {},
   "source": [
    "**Оглавление**\n",
    "* [Загрузка данных и импорт необходимых библиотек](#1)\n",
    "* [Подготовка файла](#2)\n",
    "* [Исследовательский анализ данных](#3)\n",
    "* [Портрет пользователя](#4)\n",
    "* [Проверка гипотез](#5)\n",
    "* [Общий вывод](#6)"
   ]
  },
  {
   "cell_type": "markdown",
   "metadata": {},
   "source": [
    "<a class=\"anchor\" id=\"1\"></a>\n",
    "## Загрузка данных и импорт необходимых библиотек"
   ]
  },
  {
   "cell_type": "code",
   "execution_count": 258,
   "metadata": {},
   "outputs": [
    {
     "name": "stdout",
     "output_type": "stream",
     "text": [
      "Requirement already satisfied: missingno in /opt/conda/lib/python3.9/site-packages (0.5.2)\n",
      "Requirement already satisfied: numpy in /opt/conda/lib/python3.9/site-packages (from missingno) (1.21.1)\n",
      "Requirement already satisfied: seaborn in /opt/conda/lib/python3.9/site-packages (from missingno) (0.11.1)\n",
      "Requirement already satisfied: matplotlib in /opt/conda/lib/python3.9/site-packages (from missingno) (3.3.4)\n",
      "Requirement already satisfied: scipy in /opt/conda/lib/python3.9/site-packages (from missingno) (1.9.1)\n",
      "Requirement already satisfied: pillow>=6.2.0 in /opt/conda/lib/python3.9/site-packages (from matplotlib->missingno) (8.4.0)\n",
      "Requirement already satisfied: pyparsing!=2.0.4,!=2.1.2,!=2.1.6,>=2.0.3 in /opt/conda/lib/python3.9/site-packages (from matplotlib->missingno) (2.4.7)\n",
      "Requirement already satisfied: cycler>=0.10 in /opt/conda/lib/python3.9/site-packages (from matplotlib->missingno) (0.11.0)\n",
      "Requirement already satisfied: kiwisolver>=1.0.1 in /opt/conda/lib/python3.9/site-packages (from matplotlib->missingno) (1.4.4)\n",
      "Requirement already satisfied: python-dateutil>=2.1 in /opt/conda/lib/python3.9/site-packages (from matplotlib->missingno) (2.8.1)\n",
      "Requirement already satisfied: six>=1.5 in /opt/conda/lib/python3.9/site-packages (from python-dateutil>=2.1->matplotlib->missingno) (1.16.0)\n",
      "Requirement already satisfied: pandas>=0.23 in /opt/conda/lib/python3.9/site-packages (from seaborn->missingno) (1.2.4)\n",
      "Requirement already satisfied: pytz>=2017.3 in /opt/conda/lib/python3.9/site-packages (from pandas>=0.23->seaborn->missingno) (2021.1)\n",
      "Note: you may need to restart the kernel to use updated packages.\n"
     ]
    }
   ],
   "source": [
    "pip install missingno"
   ]
  },
  {
   "cell_type": "code",
   "execution_count": 259,
   "metadata": {},
   "outputs": [],
   "source": [
    "import pandas as pd\n",
    "from matplotlib import pyplot as plt\n",
    "import numpy as np\n",
    "import seaborn as sns\n",
    "from scipy import stats as st\n",
    "import missingno as msno"
   ]
  },
  {
   "cell_type": "code",
   "execution_count": 260,
   "metadata": {},
   "outputs": [
    {
     "name": "stdout",
     "output_type": "stream",
     "text": [
      "<class 'pandas.core.frame.DataFrame'>\n",
      "RangeIndex: 16715 entries, 0 to 16714\n",
      "Data columns (total 11 columns):\n",
      " #   Column           Non-Null Count  Dtype  \n",
      "---  ------           --------------  -----  \n",
      " 0   Name             16713 non-null  object \n",
      " 1   Platform         16715 non-null  object \n",
      " 2   Year_of_Release  16446 non-null  float64\n",
      " 3   Genre            16713 non-null  object \n",
      " 4   NA_sales         16715 non-null  float64\n",
      " 5   EU_sales         16715 non-null  float64\n",
      " 6   JP_sales         16715 non-null  float64\n",
      " 7   Other_sales      16715 non-null  float64\n",
      " 8   Critic_Score     8137 non-null   float64\n",
      " 9   User_Score       10014 non-null  object \n",
      " 10  Rating           9949 non-null   object \n",
      "dtypes: float64(6), object(5)\n",
      "memory usage: 1.4+ MB\n"
     ]
    },
    {
     "data": {
      "text/html": [
       "<div>\n",
       "<style scoped>\n",
       "    .dataframe tbody tr th:only-of-type {\n",
       "        vertical-align: middle;\n",
       "    }\n",
       "\n",
       "    .dataframe tbody tr th {\n",
       "        vertical-align: top;\n",
       "    }\n",
       "\n",
       "    .dataframe thead th {\n",
       "        text-align: right;\n",
       "    }\n",
       "</style>\n",
       "<table border=\"1\" class=\"dataframe\">\n",
       "  <thead>\n",
       "    <tr style=\"text-align: right;\">\n",
       "      <th></th>\n",
       "      <th>Name</th>\n",
       "      <th>Platform</th>\n",
       "      <th>Year_of_Release</th>\n",
       "      <th>Genre</th>\n",
       "      <th>NA_sales</th>\n",
       "      <th>EU_sales</th>\n",
       "      <th>JP_sales</th>\n",
       "      <th>Other_sales</th>\n",
       "      <th>Critic_Score</th>\n",
       "      <th>User_Score</th>\n",
       "      <th>Rating</th>\n",
       "    </tr>\n",
       "  </thead>\n",
       "  <tbody>\n",
       "    <tr>\n",
       "      <th>0</th>\n",
       "      <td>Wii Sports</td>\n",
       "      <td>Wii</td>\n",
       "      <td>2006.0</td>\n",
       "      <td>Sports</td>\n",
       "      <td>41.36</td>\n",
       "      <td>28.96</td>\n",
       "      <td>3.77</td>\n",
       "      <td>8.45</td>\n",
       "      <td>76.0</td>\n",
       "      <td>8</td>\n",
       "      <td>E</td>\n",
       "    </tr>\n",
       "    <tr>\n",
       "      <th>1</th>\n",
       "      <td>Super Mario Bros.</td>\n",
       "      <td>NES</td>\n",
       "      <td>1985.0</td>\n",
       "      <td>Platform</td>\n",
       "      <td>29.08</td>\n",
       "      <td>3.58</td>\n",
       "      <td>6.81</td>\n",
       "      <td>0.77</td>\n",
       "      <td>NaN</td>\n",
       "      <td>NaN</td>\n",
       "      <td>NaN</td>\n",
       "    </tr>\n",
       "    <tr>\n",
       "      <th>2</th>\n",
       "      <td>Mario Kart Wii</td>\n",
       "      <td>Wii</td>\n",
       "      <td>2008.0</td>\n",
       "      <td>Racing</td>\n",
       "      <td>15.68</td>\n",
       "      <td>12.76</td>\n",
       "      <td>3.79</td>\n",
       "      <td>3.29</td>\n",
       "      <td>82.0</td>\n",
       "      <td>8.3</td>\n",
       "      <td>E</td>\n",
       "    </tr>\n",
       "    <tr>\n",
       "      <th>3</th>\n",
       "      <td>Wii Sports Resort</td>\n",
       "      <td>Wii</td>\n",
       "      <td>2009.0</td>\n",
       "      <td>Sports</td>\n",
       "      <td>15.61</td>\n",
       "      <td>10.93</td>\n",
       "      <td>3.28</td>\n",
       "      <td>2.95</td>\n",
       "      <td>80.0</td>\n",
       "      <td>8</td>\n",
       "      <td>E</td>\n",
       "    </tr>\n",
       "    <tr>\n",
       "      <th>4</th>\n",
       "      <td>Pokemon Red/Pokemon Blue</td>\n",
       "      <td>GB</td>\n",
       "      <td>1996.0</td>\n",
       "      <td>Role-Playing</td>\n",
       "      <td>11.27</td>\n",
       "      <td>8.89</td>\n",
       "      <td>10.22</td>\n",
       "      <td>1.00</td>\n",
       "      <td>NaN</td>\n",
       "      <td>NaN</td>\n",
       "      <td>NaN</td>\n",
       "    </tr>\n",
       "    <tr>\n",
       "      <th>5</th>\n",
       "      <td>Tetris</td>\n",
       "      <td>GB</td>\n",
       "      <td>1989.0</td>\n",
       "      <td>Puzzle</td>\n",
       "      <td>23.20</td>\n",
       "      <td>2.26</td>\n",
       "      <td>4.22</td>\n",
       "      <td>0.58</td>\n",
       "      <td>NaN</td>\n",
       "      <td>NaN</td>\n",
       "      <td>NaN</td>\n",
       "    </tr>\n",
       "    <tr>\n",
       "      <th>6</th>\n",
       "      <td>New Super Mario Bros.</td>\n",
       "      <td>DS</td>\n",
       "      <td>2006.0</td>\n",
       "      <td>Platform</td>\n",
       "      <td>11.28</td>\n",
       "      <td>9.14</td>\n",
       "      <td>6.50</td>\n",
       "      <td>2.88</td>\n",
       "      <td>89.0</td>\n",
       "      <td>8.5</td>\n",
       "      <td>E</td>\n",
       "    </tr>\n",
       "    <tr>\n",
       "      <th>7</th>\n",
       "      <td>Wii Play</td>\n",
       "      <td>Wii</td>\n",
       "      <td>2006.0</td>\n",
       "      <td>Misc</td>\n",
       "      <td>13.96</td>\n",
       "      <td>9.18</td>\n",
       "      <td>2.93</td>\n",
       "      <td>2.84</td>\n",
       "      <td>58.0</td>\n",
       "      <td>6.6</td>\n",
       "      <td>E</td>\n",
       "    </tr>\n",
       "    <tr>\n",
       "      <th>8</th>\n",
       "      <td>New Super Mario Bros. Wii</td>\n",
       "      <td>Wii</td>\n",
       "      <td>2009.0</td>\n",
       "      <td>Platform</td>\n",
       "      <td>14.44</td>\n",
       "      <td>6.94</td>\n",
       "      <td>4.70</td>\n",
       "      <td>2.24</td>\n",
       "      <td>87.0</td>\n",
       "      <td>8.4</td>\n",
       "      <td>E</td>\n",
       "    </tr>\n",
       "    <tr>\n",
       "      <th>9</th>\n",
       "      <td>Duck Hunt</td>\n",
       "      <td>NES</td>\n",
       "      <td>1984.0</td>\n",
       "      <td>Shooter</td>\n",
       "      <td>26.93</td>\n",
       "      <td>0.63</td>\n",
       "      <td>0.28</td>\n",
       "      <td>0.47</td>\n",
       "      <td>NaN</td>\n",
       "      <td>NaN</td>\n",
       "      <td>NaN</td>\n",
       "    </tr>\n",
       "  </tbody>\n",
       "</table>\n",
       "</div>"
      ],
      "text/plain": [
       "                        Name Platform  Year_of_Release         Genre  \\\n",
       "0                 Wii Sports      Wii           2006.0        Sports   \n",
       "1          Super Mario Bros.      NES           1985.0      Platform   \n",
       "2             Mario Kart Wii      Wii           2008.0        Racing   \n",
       "3          Wii Sports Resort      Wii           2009.0        Sports   \n",
       "4   Pokemon Red/Pokemon Blue       GB           1996.0  Role-Playing   \n",
       "5                     Tetris       GB           1989.0        Puzzle   \n",
       "6      New Super Mario Bros.       DS           2006.0      Platform   \n",
       "7                   Wii Play      Wii           2006.0          Misc   \n",
       "8  New Super Mario Bros. Wii      Wii           2009.0      Platform   \n",
       "9                  Duck Hunt      NES           1984.0       Shooter   \n",
       "\n",
       "   NA_sales  EU_sales  JP_sales  Other_sales  Critic_Score User_Score Rating  \n",
       "0     41.36     28.96      3.77         8.45          76.0          8      E  \n",
       "1     29.08      3.58      6.81         0.77           NaN        NaN    NaN  \n",
       "2     15.68     12.76      3.79         3.29          82.0        8.3      E  \n",
       "3     15.61     10.93      3.28         2.95          80.0          8      E  \n",
       "4     11.27      8.89     10.22         1.00           NaN        NaN    NaN  \n",
       "5     23.20      2.26      4.22         0.58           NaN        NaN    NaN  \n",
       "6     11.28      9.14      6.50         2.88          89.0        8.5      E  \n",
       "7     13.96      9.18      2.93         2.84          58.0        6.6      E  \n",
       "8     14.44      6.94      4.70         2.24          87.0        8.4      E  \n",
       "9     26.93      0.63      0.28         0.47           NaN        NaN    NaN  "
      ]
     },
     "execution_count": 260,
     "metadata": {},
     "output_type": "execute_result"
    }
   ],
   "source": [
    "all_data=pd.read_csv('/datasets/games.csv')\n",
    "all_data.info()\n",
    "all_data.head(10)"
   ]
  },
  {
   "cell_type": "markdown",
   "metadata": {},
   "source": [
    "<a class=\"anchor\" id=\"2\"></a>\n",
    "## Подготовка данных"
   ]
  },
  {
   "cell_type": "code",
   "execution_count": 261,
   "metadata": {},
   "outputs": [],
   "source": [
    "all_data.columns=all_data.columns.str.lower()"
   ]
  },
  {
   "cell_type": "code",
   "execution_count": 262,
   "metadata": {},
   "outputs": [],
   "source": [
    "all_data.loc[all_data['user_score']=='tbd']=np.nan\n",
    "all_data.loc[all_data['critic_score']=='tbd']=np.nan\n",
    "all_data['user_score']=all_data['user_score'].astype('float64')"
   ]
  },
  {
   "cell_type": "code",
   "execution_count": 263,
   "metadata": {},
   "outputs": [
    {
     "data": {
      "text/plain": [
       "name               2426\n",
       "platform           2424\n",
       "year_of_release    2645\n",
       "genre              2426\n",
       "na_sales           2424\n",
       "eu_sales           2424\n",
       "jp_sales           2424\n",
       "other_sales        2424\n",
       "critic_score       9660\n",
       "user_score         9125\n",
       "rating             9140\n",
       "dtype: int64"
      ]
     },
     "execution_count": 263,
     "metadata": {},
     "output_type": "execute_result"
    }
   ],
   "source": [
    "all_data.isna().sum()"
   ]
  },
  {
   "cell_type": "code",
   "execution_count": 264,
   "metadata": {},
   "outputs": [
    {
     "data": {
      "text/plain": [
       "<AxesSubplot:>"
      ]
     },
     "execution_count": 264,
     "metadata": {},
     "output_type": "execute_result"
    },
    {
     "data": {
      "image/png": "[encoded data removed]",
      "text/plain": [
       "<Figure size 1800x720 with 2 Axes>"
      ]
     },
     "metadata": {
      "needs_background": "light"
     },
     "output_type": "display_data"
    }
   ],
   "source": [
    "msno.matrix(all_data, labels=True)"
   ]
  },
  {
   "cell_type": "code",
   "execution_count": 265,
   "metadata": {},
   "outputs": [
    {
     "data": {
      "text/plain": [
       "name                  0\n",
       "platform              0\n",
       "year_of_release       0\n",
       "genre                 0\n",
       "na_sales              0\n",
       "eu_sales              0\n",
       "jp_sales              0\n",
       "other_sales           0\n",
       "critic_score       7141\n",
       "user_score         6605\n",
       "rating             6626\n",
       "dtype: int64"
      ]
     },
     "execution_count": 265,
     "metadata": {},
     "output_type": "execute_result"
    }
   ],
   "source": [
    "all_data=all_data.dropna(how='all')\n",
    "all_data=all_data.dropna(subset=['name','year_of_release'])\n",
    "all_data.isna().sum()"
   ]
  },
  {
   "cell_type": "code",
   "execution_count": 266,
   "metadata": {},
   "outputs": [
    {
     "data": {
      "text/plain": [
       "0"
      ]
     },
     "execution_count": 266,
     "metadata": {},
     "output_type": "execute_result"
    }
   ],
   "source": [
    "data.duplicated().sum()"
   ]
  },
  {
   "cell_type": "code",
   "execution_count": 267,
   "metadata": {},
   "outputs": [
    {
     "data": {
      "text/html": [
       "<div>\n",
       "<style scoped>\n",
       "    .dataframe tbody tr th:only-of-type {\n",
       "        vertical-align: middle;\n",
       "    }\n",
       "\n",
       "    .dataframe tbody tr th {\n",
       "        vertical-align: top;\n",
       "    }\n",
       "\n",
       "    .dataframe thead th {\n",
       "        text-align: right;\n",
       "    }\n",
       "</style>\n",
       "<table border=\"1\" class=\"dataframe\">\n",
       "  <thead>\n",
       "    <tr style=\"text-align: right;\">\n",
       "      <th></th>\n",
       "      <th>name</th>\n",
       "      <th>platform</th>\n",
       "      <th>year_of_release</th>\n",
       "      <th>genre</th>\n",
       "      <th>na_sales</th>\n",
       "      <th>eu_sales</th>\n",
       "      <th>jp_sales</th>\n",
       "      <th>other_sales</th>\n",
       "      <th>critic_score</th>\n",
       "      <th>user_score</th>\n",
       "      <th>rating</th>\n",
       "      <th>total_sales</th>\n",
       "    </tr>\n",
       "  </thead>\n",
       "  <tbody>\n",
       "    <tr>\n",
       "      <th>0</th>\n",
       "      <td>Wii Sports</td>\n",
       "      <td>Wii</td>\n",
       "      <td>2006.0</td>\n",
       "      <td>Sports</td>\n",
       "      <td>41.36</td>\n",
       "      <td>28.96</td>\n",
       "      <td>3.77</td>\n",
       "      <td>8.45</td>\n",
       "      <td>76.0</td>\n",
       "      <td>8.0</td>\n",
       "      <td>E</td>\n",
       "      <td>82.54</td>\n",
       "    </tr>\n",
       "    <tr>\n",
       "      <th>1</th>\n",
       "      <td>Super Mario Bros.</td>\n",
       "      <td>NES</td>\n",
       "      <td>1985.0</td>\n",
       "      <td>Platform</td>\n",
       "      <td>29.08</td>\n",
       "      <td>3.58</td>\n",
       "      <td>6.81</td>\n",
       "      <td>0.77</td>\n",
       "      <td>NaN</td>\n",
       "      <td>NaN</td>\n",
       "      <td>NaN</td>\n",
       "      <td>40.24</td>\n",
       "    </tr>\n",
       "    <tr>\n",
       "      <th>2</th>\n",
       "      <td>Mario Kart Wii</td>\n",
       "      <td>Wii</td>\n",
       "      <td>2008.0</td>\n",
       "      <td>Racing</td>\n",
       "      <td>15.68</td>\n",
       "      <td>12.76</td>\n",
       "      <td>3.79</td>\n",
       "      <td>3.29</td>\n",
       "      <td>82.0</td>\n",
       "      <td>8.3</td>\n",
       "      <td>E</td>\n",
       "      <td>35.52</td>\n",
       "    </tr>\n",
       "    <tr>\n",
       "      <th>3</th>\n",
       "      <td>Wii Sports Resort</td>\n",
       "      <td>Wii</td>\n",
       "      <td>2009.0</td>\n",
       "      <td>Sports</td>\n",
       "      <td>15.61</td>\n",
       "      <td>10.93</td>\n",
       "      <td>3.28</td>\n",
       "      <td>2.95</td>\n",
       "      <td>80.0</td>\n",
       "      <td>8.0</td>\n",
       "      <td>E</td>\n",
       "      <td>32.77</td>\n",
       "    </tr>\n",
       "    <tr>\n",
       "      <th>4</th>\n",
       "      <td>Pokemon Red/Pokemon Blue</td>\n",
       "      <td>GB</td>\n",
       "      <td>1996.0</td>\n",
       "      <td>Role-Playing</td>\n",
       "      <td>11.27</td>\n",
       "      <td>8.89</td>\n",
       "      <td>10.22</td>\n",
       "      <td>1.00</td>\n",
       "      <td>NaN</td>\n",
       "      <td>NaN</td>\n",
       "      <td>NaN</td>\n",
       "      <td>31.38</td>\n",
       "    </tr>\n",
       "  </tbody>\n",
       "</table>\n",
       "</div>"
      ],
      "text/plain": [
       "                       name platform  year_of_release         genre  na_sales  \\\n",
       "0                Wii Sports      Wii           2006.0        Sports     41.36   \n",
       "1         Super Mario Bros.      NES           1985.0      Platform     29.08   \n",
       "2            Mario Kart Wii      Wii           2008.0        Racing     15.68   \n",
       "3         Wii Sports Resort      Wii           2009.0        Sports     15.61   \n",
       "4  Pokemon Red/Pokemon Blue       GB           1996.0  Role-Playing     11.27   \n",
       "\n",
       "   eu_sales  jp_sales  other_sales  critic_score  user_score rating  \\\n",
       "0     28.96      3.77         8.45          76.0         8.0      E   \n",
       "1      3.58      6.81         0.77           NaN         NaN    NaN   \n",
       "2     12.76      3.79         3.29          82.0         8.3      E   \n",
       "3     10.93      3.28         2.95          80.0         8.0      E   \n",
       "4      8.89     10.22         1.00           NaN         NaN    NaN   \n",
       "\n",
       "   total_sales  \n",
       "0        82.54  \n",
       "1        40.24  \n",
       "2        35.52  \n",
       "3        32.77  \n",
       "4        31.38  "
      ]
     },
     "execution_count": 267,
     "metadata": {},
     "output_type": "execute_result"
    }
   ],
   "source": [
    "all_data['total_sales']=all_data['na_sales']+all_data['eu_sales']+all_data['jp_sales']+all_data['other_sales']\n",
    "all_data.head(5)"
   ]
  },
  {
   "cell_type": "markdown",
   "metadata": {},
   "source": [
    "<a class=\"anchor\" id=\"3\"></a>\n",
    "## Исследовательский аналих данных"
   ]
  },
  {
   "cell_type": "code",
   "execution_count": 268,
   "metadata": {
    "scrolled": false
   },
   "outputs": [
    {
     "data": {
      "image/png": "[encoded data removed]",
      "text/plain": [
       "<Figure size 720x360 with 1 Axes>"
      ]
     },
     "metadata": {
      "needs_background": "light"
     },
     "output_type": "display_data"
    }
   ],
   "source": [
    "all_data.pivot_table(index='year_of_release',\n",
    "                     values='name', aggfunc=['count'])\\\n",
    ".plot(grid=True, figsize=(10, 5), kind='bar', title='Количество игр за разные года', legend = None)\n",
    "plt.xlabel(\"Год выхода игры\")\n",
    "plt.ylabel(\"Частота упоминания в таблице\")\n",
    "plt.show()"
   ]
  },
  {
   "cell_type": "markdown",
   "metadata": {},
   "source": [
    "<div class=\"alert alert-block alert-info\">\n",
    "на графике вижно, что после 1994 года началась активная разработка игр\n",
    "\n",
    "к 2008 году он достигает своего максимума\n",
    "    \n",
    "на текущий момент времени количество произведенных игр в год заметно ниже, предположу, что это связано с тем, что игры стали сложнее в техническом плане и их создании требует большего времени, так например ААА игры создаются за 3-5 лет в среднем   \n",
    "</div>"
   ]
  },
  {
   "cell_type": "code",
   "execution_count": 269,
   "metadata": {},
   "outputs": [
    {
     "data": {
      "text/plain": [
       "platform\n",
       "PS2     1171.19\n",
       "X360     948.74\n",
       "PS3      921.09\n",
       "Wii      791.91\n",
       "PS       714.26\n",
       "Name: total_sales, dtype: float64"
      ]
     },
     "execution_count": 269,
     "metadata": {},
     "output_type": "execute_result"
    }
   ],
   "source": [
    "top_platforms=all_data.groupby('platform')['total_sales'].sum().sort_values(ascending=False)\n",
    "top_5=top_platforms.head(5)\n",
    "top_5"
   ]
  },
  {
   "cell_type": "code",
   "execution_count": 270,
   "metadata": {
    "scrolled": true
   },
   "outputs": [
    {
     "data": {
      "image/png": "[encoded data removed]",
      "text/plain": [
       "<Figure size 432x288 with 1 Axes>"
      ]
     },
     "metadata": {
      "needs_background": "light"
     },
     "output_type": "display_data"
    },
    {
     "data": {
      "image/png": "[encoded data removed]",
      "text/plain": [
       "<Figure size 432x288 with 1 Axes>"
      ]
     },
     "metadata": {
      "needs_background": "light"
     },
     "output_type": "display_data"
    },
    {
     "data": {
      "image/png": "[encoded data removed]",
      "text/plain": [
       "<Figure size 432x288 with 1 Axes>"
      ]
     },
     "metadata": {
      "needs_background": "light"
     },
     "output_type": "display_data"
    },
    {
     "data": {
      "image/png": "[encoded data removed]",
      "text/plain": [
       "<Figure size 432x288 with 1 Axes>"
      ]
     },
     "metadata": {
      "needs_background": "light"
     },
     "output_type": "display_data"
    },
    {
     "data": {
      "image/png": "[encoded data removed]",
      "text/plain": [
       "<Figure size 432x288 with 1 Axes>"
      ]
     },
     "metadata": {
      "needs_background": "light"
     },
     "output_type": "display_data"
    }
   ],
   "source": [
    "for x in top_5.index:\n",
    "    ax = (\n",
    "        all_data.pivot_table(index=['platform', 'year_of_release'], values='genre', aggfunc='count')\n",
    "        .query('platform == @x')\n",
    "        .plot(kind='barh', title=x, legend=False)\n",
    "    )\n",
    "    ax.set_xlabel('Number of Games')"
   ]
  },
  {
   "cell_type": "code",
   "execution_count": 271,
   "metadata": {},
   "outputs": [
    {
     "data": {
      "text/plain": [
       "count    31.000000\n",
       "mean      7.645161\n",
       "std       5.063256\n",
       "min       1.000000\n",
       "25%       4.000000\n",
       "50%       7.000000\n",
       "75%      10.500000\n",
       "max      26.000000\n",
       "Name: year_of_release, dtype: float64"
      ]
     },
     "execution_count": 271,
     "metadata": {},
     "output_type": "execute_result"
    }
   ],
   "source": [
    "all_data\\\n",
    ".pivot_table(index=('platform','year_of_release'),values='total_sales', aggfunc='sum').reset_index().query('year_of_release!=0')\\\n",
    ".pivot_table(index='platform', values='year_of_release', aggfunc='count')\\\n",
    "['year_of_release'].describe()"
   ]
  },
  {
   "cell_type": "markdown",
   "metadata": {},
   "source": [
    "<div class=\"alert alert-block alert-info\">\n",
    "в результате вычислений и построения графиков видно, что время жизни популярных игровых консолей составляет примерно 7-8 лет, имея пик популярности через 4-5 лет после выхода, максимальное значение соответсвует PC который имеет свой рынок на протяжении всей истории наблюдений \n",
    "</div>"
   ]
  },
  {
   "cell_type": "code",
   "execution_count": 272,
   "metadata": {},
   "outputs": [],
   "source": [
    "data=all_data.query('year_of_release>=2014')\n",
    "old_plat=['X360','PS3','PS2','PSP','Wii']\n",
    "data=data.query('platform !=@old_plat')"
   ]
  },
  {
   "cell_type": "markdown",
   "metadata": {},
   "source": [
    "<div class=\"alert alert-block alert-info\">\n",
    "определяю актуальным промежутком последнии 3 года на момент анализа, т.к время жизни консолей довольно мааленикое и можно потерять актульность если брать данные за больший период\n",
    "    \n",
    "так же убираю виды консолей которые у производителей являются не последними в своей линейке, так как политика фирм производящих игры и консоли устроена так, что поле выхода нового поколения практически прекращается поддержка предыдущего поколения. Следовательно делать ставки на консоли прошлого поколения не будет иметь смысла\n",
    "</div>"
   ]
  },
  {
   "cell_type": "code",
   "execution_count": 273,
   "metadata": {
    "scrolled": true
   },
   "outputs": [
    {
     "data": {
      "image/png": "[encoded data removed]",
      "text/plain": [
       "<Figure size 432x288 with 1 Axes>"
      ]
     },
     "metadata": {
      "needs_background": "light"
     },
     "output_type": "display_data"
    },
    {
     "data": {
      "image/png": "[encoded data removed]",
      "text/plain": [
       "<Figure size 432x288 with 1 Axes>"
      ]
     },
     "metadata": {
      "needs_background": "light"
     },
     "output_type": "display_data"
    },
    {
     "data": {
      "image/png": "[encoded data removed]",
      "text/plain": [
       "<Figure size 432x288 with 1 Axes>"
      ]
     },
     "metadata": {
      "needs_background": "light"
     },
     "output_type": "display_data"
    },
    {
     "data": {
      "image/png": "[encoded data removed]",
      "text/plain": [
       "<Figure size 432x288 with 1 Axes>"
      ]
     },
     "metadata": {
      "needs_background": "light"
     },
     "output_type": "display_data"
    },
    {
     "data": {
      "image/png": "[encoded data removed]",
      "text/plain": [
       "<Figure size 432x288 with 1 Axes>"
      ]
     },
     "metadata": {
      "needs_background": "light"
     },
     "output_type": "display_data"
    },
    {
     "data": {
      "image/png": "[encoded data removed]",
      "text/plain": [
       "<Figure size 432x288 with 1 Axes>"
      ]
     },
     "metadata": {
      "needs_background": "light"
     },
     "output_type": "display_data"
    }
   ],
   "source": [
    "for x in data['platform'].unique():\n",
    "    ax = (\n",
    "        all_data.pivot_table(index=['platform', 'year_of_release'], values='genre', aggfunc='count')\n",
    "        .query('platform == @x')\n",
    "        .plot(kind='barh', title=x, legend=False)\n",
    "    )\n",
    "    ax.set_xlabel('Number of Games')"
   ]
  },
  {
   "cell_type": "markdown",
   "metadata": {},
   "source": [
    "<div class=\"alert alert-block alert-info\">\n",
    "в результате отбора актуальных данных и платформ, видно что оставшиеся платформы либо находятся на своей стадии активного роста, либо прошли свой пик, но еще достаточно популярны, что бы включать их в план развития на 2017 год \n",
    "</div>"
   ]
  },
  {
   "cell_type": "code",
   "execution_count": 274,
   "metadata": {},
   "outputs": [
    {
     "data": {
      "text/plain": [
       "array(['PS4', '3DS', 'XOne', 'WiiU', 'PC', 'PSV'], dtype=object)"
      ]
     },
     "execution_count": 274,
     "metadata": {},
     "output_type": "execute_result"
    }
   ],
   "source": [
    "data['platform'].unique()"
   ]
  },
  {
   "cell_type": "code",
   "execution_count": 275,
   "metadata": {},
   "outputs": [
    {
     "data": {
      "image/png": "[encoded data removed]",
      "text/plain": [
       "<Figure size 936x576 with 1 Axes>"
      ]
     },
     "metadata": {
      "needs_background": "light"
     },
     "output_type": "display_data"
    }
   ],
   "source": [
    "\n",
    "plt.figure(figsize=(13, 8))\n",
    "(sns.boxplot(data=data,y=data['total_sales'], x='platform')\n",
    "    .set(title = 'Продажи по актуальным платформам', xlabel = 'Платформы', ylabel = 'Общие продажи', ylim=(0, 1.75)))\n",
    "plt.show()"
   ]
  },
  {
   "cell_type": "markdown",
   "metadata": {},
   "source": [
    "<div class=\"alert alert-block alert-info\">\n",
    "строю график распределения прибыли по каждой из оставшихся консолей,\n",
    "\n",
    "выделяются 3 главные игровые платформы с наибольшими средними продажами:\n",
    "    \n",
    "PS4\n",
    "    \n",
    "XOne\n",
    "    \n",
    "WiiU\n",
    "</div>"
   ]
  },
  {
   "cell_type": "code",
   "execution_count": 276,
   "metadata": {},
   "outputs": [
    {
     "data": {
      "image/png": "[encoded data removed]",
      "text/plain": [
       "<Figure size 1080x720 with 4 Axes>"
      ]
     },
     "metadata": {
      "needs_background": "light"
     },
     "output_type": "display_data"
    }
   ],
   "source": [
    "data.loc[data['platform'] == 'PS4',['total_sales', 'critic_score', 'user_score']].hist(figsize=(15,10))\n",
    "plt.show()"
   ]
  },
  {
   "cell_type": "markdown",
   "metadata": {},
   "source": [
    "<div class=\"alert alert-block alert-info\">\n",
    "смотрю распределения оценок пользователей, и критиков\n",
    "    \n",
    "выбросов или некорректных значений нет\n",
    "</div>"
   ]
  },
  {
   "cell_type": "code",
   "execution_count": 277,
   "metadata": {},
   "outputs": [
    {
     "data": {
      "image/png": "[encoded data removed]",
      "text/plain": [
       "<Figure size 432x288 with 1 Axes>"
      ]
     },
     "metadata": {
      "needs_background": "light"
     },
     "output_type": "display_data"
    },
    {
     "name": "stdout",
     "output_type": "stream",
     "text": [
      "Коэффициент корреляции Пирсона продаж от отзывов пользователей: -0.003\n"
     ]
    }
   ],
   "source": [
    "data.plot(x='user_score', y='total_sales', kind='scatter', alpha=0.3)\n",
    "plt.title('Корреляция между отзывами пользователей и продажами')\n",
    "plt.show()\n",
    "print('Коэффициент корреляции Пирсона продаж от отзывов пользователей:', round(data['user_score'].corr(data['total_sales']), 3))"
   ]
  },
  {
   "cell_type": "markdown",
   "metadata": {},
   "source": [
    "<div class=\"alert alert-block alert-info\">\n",
    "в результате видно, что оценки пользователей никак не влияют на продаваемость игры, связь отстутствует\n",
    "</div>"
   ]
  },
  {
   "cell_type": "code",
   "execution_count": 278,
   "metadata": {},
   "outputs": [
    {
     "data": {
      "image/png": "[encoded data removed]",
      "text/plain": [
       "<Figure size 432x288 with 1 Axes>"
      ]
     },
     "metadata": {
      "needs_background": "light"
     },
     "output_type": "display_data"
    },
    {
     "name": "stdout",
     "output_type": "stream",
     "text": [
      "Коэффициент корреляции Пирсона продаж от отзывов критиков: 0.325\n"
     ]
    }
   ],
   "source": [
    "data.plot(x='critic_score', y='total_sales', kind='scatter', alpha=0.3)\n",
    "plt.title('Корреляция между отзывами пользователей и продажами')\n",
    "plt.show()\n",
    "print('Коэффициент корреляции Пирсона продаж от отзывов критиков:', round(data['critic_score'].corr(data['total_sales']), 3))"
   ]
  },
  {
   "cell_type": "markdown",
   "metadata": {},
   "source": [
    "<div class=\"alert alert-block alert-info\">\n",
    "не смотря на больший коэффицент корреляции, чем у оценок пользователей, все еще нельзя сказать, что оценки критиков влияют на продаваемость игры\n",
    "</div>"
   ]
  },
  {
   "cell_type": "code",
   "execution_count": 279,
   "metadata": {
    "scrolled": true
   },
   "outputs": [
    {
     "name": "stdout",
     "output_type": "stream",
     "text": [
      "\n",
      "\n",
      "Проведем анализ зависимости между отзывами и продажами для платформы PS4\n"
     ]
    },
    {
     "data": {
      "image/png": "[encoded data removed]",
      "text/plain": [
       "<Figure size 432x288 with 1 Axes>"
      ]
     },
     "metadata": {
      "needs_background": "light"
     },
     "output_type": "display_data"
    },
    {
     "name": "stdout",
     "output_type": "stream",
     "text": [
      "Коэффициент корреляции Пирсона продаж от оценок пользователей: -0.04\n"
     ]
    },
    {
     "data": {
      "image/png": "[encoded data removed]",
      "text/plain": [
       "<Figure size 432x288 with 1 Axes>"
      ]
     },
     "metadata": {
      "needs_background": "light"
     },
     "output_type": "display_data"
    },
    {
     "name": "stdout",
     "output_type": "stream",
     "text": [
      "Коэффициент корреляции Пирсона продаж от оценок критиков: 0.402\n",
      "\n",
      "\n",
      "Проведем анализ зависимости между отзывами и продажами для платформы 3DS\n"
     ]
    },
    {
     "data": {
      "image/png": "[encoded data removed]",
      "text/plain": [
       "<Figure size 432x288 with 1 Axes>"
      ]
     },
     "metadata": {
      "needs_background": "light"
     },
     "output_type": "display_data"
    },
    {
     "name": "stdout",
     "output_type": "stream",
     "text": [
      "Коэффициент корреляции Пирсона продаж от оценок пользователей: 0.215\n"
     ]
    },
    {
     "data": {
      "image/png": "[encoded data removed]",
      "text/plain": [
       "<Figure size 432x288 with 1 Axes>"
      ]
     },
     "metadata": {
      "needs_background": "light"
     },
     "output_type": "display_data"
    },
    {
     "name": "stdout",
     "output_type": "stream",
     "text": [
      "Коэффициент корреляции Пирсона продаж от оценок критиков: 0.285\n",
      "\n",
      "\n",
      "Проведем анализ зависимости между отзывами и продажами для платформы XOne\n"
     ]
    },
    {
     "data": {
      "image/png": "[encoded data removed]",
      "text/plain": [
       "<Figure size 432x288 with 1 Axes>"
      ]
     },
     "metadata": {
      "needs_background": "light"
     },
     "output_type": "display_data"
    },
    {
     "name": "stdout",
     "output_type": "stream",
     "text": [
      "Коэффициент корреляции Пирсона продаж от оценок пользователей: -0.07\n"
     ]
    },
    {
     "data": {
      "image/png": "[encoded data removed]",
      "text/plain": [
       "<Figure size 432x288 with 1 Axes>"
      ]
     },
     "metadata": {
      "needs_background": "light"
     },
     "output_type": "display_data"
    },
    {
     "name": "stdout",
     "output_type": "stream",
     "text": [
      "Коэффициент корреляции Пирсона продаж от оценок критиков: 0.424\n",
      "\n",
      "\n",
      "Проведем анализ зависимости между отзывами и продажами для платформы WiiU\n"
     ]
    },
    {
     "data": {
      "image/png": "[encoded data removed]",
      "text/plain": [
       "<Figure size 432x288 with 1 Axes>"
      ]
     },
     "metadata": {
      "needs_background": "light"
     },
     "output_type": "display_data"
    },
    {
     "name": "stdout",
     "output_type": "stream",
     "text": [
      "Коэффициент корреляции Пирсона продаж от оценок пользователей: 0.408\n"
     ]
    },
    {
     "data": {
      "image/png": "[encoded data removed]",
      "text/plain": [
       "<Figure size 432x288 with 1 Axes>"
      ]
     },
     "metadata": {
      "needs_background": "light"
     },
     "output_type": "display_data"
    },
    {
     "name": "stdout",
     "output_type": "stream",
     "text": [
      "Коэффициент корреляции Пирсона продаж от оценок критиков: 0.376\n",
      "\n",
      "\n",
      "Проведем анализ зависимости между отзывами и продажами для платформы PC\n"
     ]
    },
    {
     "data": {
      "image/png": "[encoded data removed]",
      "text/plain": [
       "<Figure size 432x288 with 1 Axes>"
      ]
     },
     "metadata": {
      "needs_background": "light"
     },
     "output_type": "display_data"
    },
    {
     "name": "stdout",
     "output_type": "stream",
     "text": [
      "Коэффициент корреляции Пирсона продаж от оценок пользователей: -0.072\n"
     ]
    },
    {
     "data": {
      "image/png": "[encoded data removed]",
      "text/plain": [
       "<Figure size 432x288 with 1 Axes>"
      ]
     },
     "metadata": {
      "needs_background": "light"
     },
     "output_type": "display_data"
    },
    {
     "name": "stdout",
     "output_type": "stream",
     "text": [
      "Коэффициент корреляции Пирсона продаж от оценок критиков: 0.175\n",
      "\n",
      "\n",
      "Проведем анализ зависимости между отзывами и продажами для платформы PSV\n"
     ]
    },
    {
     "data": {
      "image/png": "[encoded data removed]",
      "text/plain": [
       "<Figure size 432x288 with 1 Axes>"
      ]
     },
     "metadata": {
      "needs_background": "light"
     },
     "output_type": "display_data"
    },
    {
     "name": "stdout",
     "output_type": "stream",
     "text": [
      "Коэффициент корреляции Пирсона продаж от оценок пользователей: -0.168\n"
     ]
    },
    {
     "data": {
      "image/png": "[encoded data removed]",
      "text/plain": [
       "<Figure size 432x288 with 1 Axes>"
      ]
     },
     "metadata": {
      "needs_background": "light"
     },
     "output_type": "display_data"
    },
    {
     "name": "stdout",
     "output_type": "stream",
     "text": [
      "Коэффициент корреляции Пирсона продаж от оценок критиков: 0.041\n"
     ]
    }
   ],
   "source": [
    "for platform in data['platform'].unique():\n",
    "    print('')\n",
    "    print('')\n",
    "    print('Проведем анализ зависимости между отзывами и продажами для платформы', platform)\n",
    "    \n",
    "    data\\\n",
    "    .loc[data['platform']==platform]\\\n",
    "    .plot(x='user_score', y='total_sales', kind='scatter', alpha=0.3)\n",
    "    plt.title('Корреляция между оценкой пользователей и продажами')\n",
    "    plt.show()\n",
    "\n",
    "    print('Коэффициент корреляции Пирсона продаж от оценок пользователей:',\\\n",
    "          round(data.loc[data['platform']==platform, 'user_score']\\\n",
    "                .corr(data.loc[data['platform']==platform, 'total_sales']), 3))\n",
    "\n",
    "    \n",
    "    data\\\n",
    "    .loc[data['platform']==platform]\\\n",
    "    .plot(x='critic_score', y='total_sales', kind='scatter', alpha=0.3)\n",
    "    plt.title('Корреляция между оценкой критиков и продажами')\n",
    "    plt.show()\n",
    "\n",
    "    print('Коэффициент корреляции Пирсона продаж от оценок критиков:',\\\n",
    "          round(data.loc[data['platform']==platform, 'critic_score']\\\n",
    "                .corr(data.loc[data['platform']==platform, 'total_sales']), 3))"
   ]
  },
  {
   "cell_type": "markdown",
   "metadata": {},
   "source": [
    "<div class=\"alert alert-block alert-info\">\n",
    "с помощью цикла проверяю зависимости от оценок у всех остальных платформ\n",
    "\n",
    "ни у одной из платформ свзяь не прослеживается, из чего делаю вывод, что никакие оценки не влияют на продажи игр\n",
    "</div>"
   ]
  },
  {
   "cell_type": "code",
   "execution_count": 280,
   "metadata": {},
   "outputs": [
    {
     "data": {
      "text/plain": [
       "genre\n",
       "Action          166.46\n",
       "Shooter         144.93\n",
       "Role-Playing     92.05\n",
       "Sports           77.89\n",
       "Misc             26.08\n",
       "Racing           24.88\n",
       "Fighting         24.67\n",
       "Platform         16.92\n",
       "Adventure        12.88\n",
       "Simulation       12.12\n",
       "Strategy          3.90\n",
       "Puzzle            2.05\n",
       "Name: total_sales, dtype: float64"
      ]
     },
     "execution_count": 280,
     "metadata": {},
     "output_type": "execute_result"
    }
   ],
   "source": [
    "data_genres=data.groupby('genre')['total_sales'].sum().sort_values(ascending=False)\n",
    "data_genres"
   ]
  },
  {
   "cell_type": "code",
   "execution_count": 281,
   "metadata": {},
   "outputs": [
    {
     "data": {
      "image/png": "[encoded data removed]",
      "text/plain": [
       "<Figure size 1080x720 with 1 Axes>"
      ]
     },
     "metadata": {
      "needs_background": "light"
     },
     "output_type": "display_data"
    }
   ],
   "source": [
    "plt.figure(figsize =(15, 10))\n",
    "plt.ylim(0, 4)\n",
    "\n",
    "data.pivot_table(index='name', values='total_sales', columns='genre').boxplot()\n",
    "plt.ylabel('Продажи, млн. копий')\n",
    "plt.xlabel('Жанр игры')\n",
    "plt.show()"
   ]
  },
  {
   "cell_type": "markdown",
   "metadata": {},
   "source": [
    "<div class=\"alert alert-block alert-info\">\n",
    "строю график распредения прибыли в зависимости от жанра  \n",
    "</div>"
   ]
  },
  {
   "cell_type": "code",
   "execution_count": 282,
   "metadata": {},
   "outputs": [
    {
     "data": {
      "text/html": [
       "<div>\n",
       "<style scoped>\n",
       "    .dataframe tbody tr th:only-of-type {\n",
       "        vertical-align: middle;\n",
       "    }\n",
       "\n",
       "    .dataframe tbody tr th {\n",
       "        vertical-align: top;\n",
       "    }\n",
       "\n",
       "    .dataframe thead th {\n",
       "        text-align: right;\n",
       "    }\n",
       "</style>\n",
       "<table border=\"1\" class=\"dataframe\">\n",
       "  <thead>\n",
       "    <tr style=\"text-align: right;\">\n",
       "      <th></th>\n",
       "      <th>total_sales</th>\n",
       "    </tr>\n",
       "    <tr>\n",
       "      <th>genre</th>\n",
       "      <th></th>\n",
       "    </tr>\n",
       "  </thead>\n",
       "  <tbody>\n",
       "    <tr>\n",
       "      <th>Shooter</th>\n",
       "      <td>0.570</td>\n",
       "    </tr>\n",
       "    <tr>\n",
       "      <th>Sports</th>\n",
       "      <td>0.210</td>\n",
       "    </tr>\n",
       "    <tr>\n",
       "      <th>Platform</th>\n",
       "      <td>0.150</td>\n",
       "    </tr>\n",
       "    <tr>\n",
       "      <th>Fighting</th>\n",
       "      <td>0.125</td>\n",
       "    </tr>\n",
       "    <tr>\n",
       "      <th>Misc</th>\n",
       "      <td>0.110</td>\n",
       "    </tr>\n",
       "    <tr>\n",
       "      <th>Role-Playing</th>\n",
       "      <td>0.110</td>\n",
       "    </tr>\n",
       "    <tr>\n",
       "      <th>Simulation</th>\n",
       "      <td>0.105</td>\n",
       "    </tr>\n",
       "    <tr>\n",
       "      <th>Action</th>\n",
       "      <td>0.090</td>\n",
       "    </tr>\n",
       "    <tr>\n",
       "      <th>Racing</th>\n",
       "      <td>0.090</td>\n",
       "    </tr>\n",
       "    <tr>\n",
       "      <th>Puzzle</th>\n",
       "      <td>0.060</td>\n",
       "    </tr>\n",
       "    <tr>\n",
       "      <th>Strategy</th>\n",
       "      <td>0.055</td>\n",
       "    </tr>\n",
       "    <tr>\n",
       "      <th>Adventure</th>\n",
       "      <td>0.030</td>\n",
       "    </tr>\n",
       "  </tbody>\n",
       "</table>\n",
       "</div>"
      ],
      "text/plain": [
       "              total_sales\n",
       "genre                    \n",
       "Shooter             0.570\n",
       "Sports              0.210\n",
       "Platform            0.150\n",
       "Fighting            0.125\n",
       "Misc                0.110\n",
       "Role-Playing        0.110\n",
       "Simulation          0.105\n",
       "Action              0.090\n",
       "Racing              0.090\n",
       "Puzzle              0.060\n",
       "Strategy            0.055\n",
       "Adventure           0.030"
      ]
     },
     "execution_count": 282,
     "metadata": {},
     "output_type": "execute_result"
    }
   ],
   "source": [
    "data_genres=data.pivot_table(index='genre', values='total_sales', aggfunc='median')\\\n",
    ".sort_values(by='total_sales', ascending=False)\n",
    "data_genres"
   ]
  },
  {
   "cell_type": "markdown",
   "metadata": {},
   "source": [
    "<div class=\"alert alert-block alert-info\">\n",
    "видно, что такие жанры: Shooter и Sport выделяются как, наиболее успешные, тогда как Puzzle, Strategy и Adventure можно назвать 'мертвыми' жанрами с точки зрения получения прибыли\n",
    "</div>"
   ]
  },
  {
   "cell_type": "markdown",
   "metadata": {},
   "source": [
    "<a class=\"anchor\" id=\"4\"></a>\n",
    "## Портрет пользователя каждого региона"
   ]
  },
  {
   "cell_type": "code",
   "execution_count": 283,
   "metadata": {},
   "outputs": [
    {
     "data": {
      "text/plain": [
       "Text(0.5, 1.0, 'Распределение платформ на ЕВРОПЕЙСКОМ рынке')"
      ]
     },
     "execution_count": 283,
     "metadata": {},
     "output_type": "execute_result"
    },
    {
     "data": {
      "image/png": "[encoded data removed]",
      "text/plain": [
       "<Figure size 504x504 with 1 Axes>"
      ]
     },
     "metadata": {},
     "output_type": "display_data"
    }
   ],
   "source": [
    "data_plat=data.pivot_table(index='platform',values=['eu_sales','total_sales'],aggfunc={'eu_sales':'sum'})\\\n",
    ".sort_values(by='eu_sales',ascending=False)\n",
    "data_plat=data_plat.head(5)\n",
    "data_plat['proportion']=data_plat['eu_sales']/data_plat['eu_sales'].sum()\n",
    "data_plat['proportion'].plot(kind='pie',figsize=(7,7), autopct='%1.1f%%')\n",
    "plt.title(\"Распределение платформ на ЕВРОПЕЙСКОМ рынке\")"
   ]
  },
  {
   "cell_type": "markdown",
   "metadata": {},
   "source": [
    "<div class=\"alert alert-block alert-info\">\n",
    "На графике видно чт оплатформа PS4 является основной в европейском регионе, ее прямой конкурент XOne еще не успел полноценно интегрироваться на европейский рынок.\n",
    "\n",
    "все остальные платформы занимают менее 25% рынка суммарно и можно скзаать, что на них не стоит делать упор в европейском регионе\n",
    "</div>"
   ]
  },
  {
   "cell_type": "code",
   "execution_count": 284,
   "metadata": {},
   "outputs": [
    {
     "data": {
      "text/plain": [
       "Text(0.5, 1.0, 'Распределение платформ на ЯПОНСКОМ рынке')"
      ]
     },
     "execution_count": 284,
     "metadata": {},
     "output_type": "execute_result"
    },
    {
     "data": {
      "image/png": "[encoded data removed]",
      "text/plain": [
       "<Figure size 504x504 with 1 Axes>"
      ]
     },
     "metadata": {},
     "output_type": "display_data"
    }
   ],
   "source": [
    "data_plat=data.pivot_table(index='platform',values=['jp_sales','total_sales'],aggfunc={'jp_sales':'sum'})\\\n",
    ".sort_values(by='jp_sales',ascending=False)\n",
    "data_plat=data_plat.head(5)\n",
    "data_plat['proportion']=data_plat['jp_sales']/data_plat['jp_sales'].sum()\n",
    "data_plat['proportion'].plot(kind='pie',figsize=(7,7), autopct='%1.1f%%')\n",
    "plt.title(\"Распределение платформ на ЯПОНСКОМ рынке\")"
   ]
  },
  {
   "cell_type": "markdown",
   "metadata": {},
   "source": [
    "<div class=\"alert alert-block alert-info\">\n",
    "Покупатели японии активно поддерживают игровые приставки собственного производства.\n",
    "\n",
    "Особенно выделяется приставка 3DS на которую выходили культовые для японкой культуры игры и продолжает выходить множество игр каждый год, не смотря на то, ее можно считать морально устаревшеей.\n",
    "    \n",
    "Если у магазина продажи игр есть намерение охватить японский рынок, то продажа игр на 3DS является перспективным направлением\n",
    "<br>    \n",
    "<br>    \n",
    "<br>    \n",
    "<br>        \n",
    "(я посмотрел на данные за 2022 год, и там лидером по продажам с большим отрывом является nintendo switch которая как раз пришла на замену 3DS, так что в расчетах нет ошибки и рынок японии действительно очень отличается от остального мира) \n",
    "</div>"
   ]
  },
  {
   "cell_type": "code",
   "execution_count": 285,
   "metadata": {},
   "outputs": [
    {
     "data": {
      "text/plain": [
       "Text(0.5, 1.0, 'Распределение платформ на АМЕРИКАНСКОМ рынке')"
      ]
     },
     "execution_count": 285,
     "metadata": {},
     "output_type": "execute_result"
    },
    {
     "data": {
      "image/png": "[encoded data removed]",
      "text/plain": [
       "<Figure size 504x504 with 1 Axes>"
      ]
     },
     "metadata": {},
     "output_type": "display_data"
    }
   ],
   "source": [
    "data_plat=data.pivot_table(index='platform',values=['na_sales','total_sales'],aggfunc={'na_sales':'sum'})\\\n",
    ".sort_values(by='na_sales',ascending=False,)\n",
    "data_plat=data_plat.head(5)\n",
    "data_plat['proportion']=data_plat['na_sales']/data_plat['na_sales'].sum()\n",
    "data_plat['proportion'].plot(kind='pie',figsize=(7,7), autopct='%1.1f%%',normalize=False)\n",
    "plt.title(\"Распределение платформ на АМЕРИКАНСКОМ рынке\")"
   ]
  },
  {
   "cell_type": "markdown",
   "metadata": {},
   "source": [
    "<div class=\"alert alert-block alert-info\">\n",
    "американский рынок очень похож на европейский\n",
    "    \n",
    "сдесь также две ключевые консоли PS4 и Xone занимают более 75% рынка, лишь с той разницей, что здесь XOne начал активнее развиваться и успел почти сравняться с прямым конкурентом\n",
    "</div>"
   ]
  },
  {
   "cell_type": "code",
   "execution_count": 286,
   "metadata": {},
   "outputs": [
    {
     "data": {
      "text/plain": [
       "Text(0.5, 1.0, 'Распределение жанров игр на ЕВРОПЕЙСКОМ рынке')"
      ]
     },
     "execution_count": 286,
     "metadata": {},
     "output_type": "execute_result"
    },
    {
     "data": {
      "image/png": "[encoded data removed]",
      "text/plain": [
       "<Figure size 504x504 with 1 Axes>"
      ]
     },
     "metadata": {},
     "output_type": "display_data"
    }
   ],
   "source": [
    "data_genre=data.pivot_table(index='genre',values=['eu_sales','total_sales'],aggfunc={'eu_sales':'sum'})\\\n",
    ".sort_values(by='eu_sales',ascending=False)\n",
    "data_genre=data_genre.head(5)\n",
    "data_genre['proportion']=data_genre['eu_sales']/data_genre['eu_sales'].sum()\n",
    "data_genre['proportion'].plot(kind='pie',figsize=(7,7), autopct='%1.1f%%',normalize=False)\n",
    "plt.title(\"Распределение жанров игр на ЕВРОПЕЙСКОМ рынке\")"
   ]
  },
  {
   "cell_type": "markdown",
   "metadata": {},
   "source": [
    "<div class=\"alert alert-block alert-info\">\n",
    "в европейском регионе самыми популярными являются Action и Shooter игры, они занимают более 60% рынка    \n",
    "</div>"
   ]
  },
  {
   "cell_type": "code",
   "execution_count": 287,
   "metadata": {},
   "outputs": [
    {
     "data": {
      "text/plain": [
       "Text(0.5, 1.0, 'Распределение жанров игр на ЯПОНСКОМ рынке')"
      ]
     },
     "execution_count": 287,
     "metadata": {},
     "output_type": "execute_result"
    },
    {
     "data": {
      "image/png": "[encoded data removed]",
      "text/plain": [
       "<Figure size 504x504 with 1 Axes>"
      ]
     },
     "metadata": {},
     "output_type": "display_data"
    }
   ],
   "source": [
    "data_genre=data.pivot_table(index='genre',values=['jp_sales','total_sales'],aggfunc={'jp_sales':'sum'})\\\n",
    ".sort_values(by='jp_sales',ascending=False)\n",
    "data_genre=data_genre.head(5)\n",
    "data_genre['proportion']=data_genre['jp_sales']/data_genre['jp_sales'].sum()\n",
    "data_genre['proportion'].plot(kind='pie',figsize=(7,7), autopct='%1.1f%%',normalize=False)\n",
    "plt.title(\"Распределение жанров игр на ЯПОНСКОМ рынке\")"
   ]
  },
  {
   "cell_type": "markdown",
   "metadata": {},
   "source": [
    "<div class=\"alert alert-block alert-info\">\n",
    "распределения популярнсти игр в японии так же очень сильно отличается от остального мира в виду их уникальной культуры\n",
    "    \n",
    "если у компании есть задача охватить японский рынок, то следует обратить внимание на Role-Playing игры, которые являются основным продуктом в японии \n",
    "</div>"
   ]
  },
  {
   "cell_type": "code",
   "execution_count": 288,
   "metadata": {},
   "outputs": [
    {
     "data": {
      "text/plain": [
       "Text(0.5, 1.0, 'Распределение жанров игр на АМЕРИКАНСКОМ рынке')"
      ]
     },
     "execution_count": 288,
     "metadata": {},
     "output_type": "execute_result"
    },
    {
     "data": {
      "image/png": "[encoded data removed]",
      "text/plain": [
       "<Figure size 504x504 with 1 Axes>"
      ]
     },
     "metadata": {},
     "output_type": "display_data"
    }
   ],
   "source": [
    "data_genre=data.pivot_table(index='genre',values=['na_sales','total_sales'],aggfunc={'na_sales':'sum'})\\\n",
    ".sort_values(by='na_sales',ascending=False)\n",
    "data_genre=data_genre.head(5)\n",
    "data_genre['proportion']=data_genre['na_sales']/data_genre['na_sales'].sum()\n",
    "data_genre['proportion'].plot(kind='pie',figsize=(7,7), autopct='%1.1f%%',normalize=False)\n",
    "plt.title(\"Распределение жанров игр на АМЕРИКАНСКОМ рынке\")"
   ]
  },
  {
   "cell_type": "markdown",
   "metadata": {},
   "source": [
    "<div class=\"alert alert-block alert-info\">\n",
    "популярность основных игр в америке очень схожа с европпой, отличие лишь в 5-6% рынка которые предпочитают Fighting вмесо Racing     \n",
    "</div>"
   ]
  },
  {
   "cell_type": "code",
   "execution_count": 289,
   "metadata": {},
   "outputs": [],
   "source": [
    "data_rating = data.pivot_table\\\n",
    "        (index='rating', \\\n",
    "        values=['total_sales', 'na_sales', 'eu_sales', 'jp_sales'],\\\n",
    "        aggfunc='sum')\n",
    "data_rating['eu_prop']=data_rating['eu_sales']/data_rating['eu_sales'].sum()\n",
    "data_rating['jp_prop']=data_rating['jp_sales']/data_rating['jp_sales'].sum()\n",
    "data_rating['na_prop']=data_rating['na_sales']/data_rating['na_sales'].sum()"
   ]
  },
  {
   "cell_type": "code",
   "execution_count": 290,
   "metadata": {},
   "outputs": [
    {
     "data": {
      "text/html": [
       "<div>\n",
       "<style scoped>\n",
       "    .dataframe tbody tr th:only-of-type {\n",
       "        vertical-align: middle;\n",
       "    }\n",
       "\n",
       "    .dataframe tbody tr th {\n",
       "        vertical-align: top;\n",
       "    }\n",
       "\n",
       "    .dataframe thead th {\n",
       "        text-align: right;\n",
       "    }\n",
       "</style>\n",
       "<table border=\"1\" class=\"dataframe\">\n",
       "  <thead>\n",
       "    <tr style=\"text-align: right;\">\n",
       "      <th></th>\n",
       "      <th>eu_sales</th>\n",
       "      <th>jp_sales</th>\n",
       "      <th>na_sales</th>\n",
       "      <th>total_sales</th>\n",
       "      <th>eu_prop</th>\n",
       "      <th>jp_prop</th>\n",
       "      <th>na_prop</th>\n",
       "    </tr>\n",
       "    <tr>\n",
       "      <th>rating</th>\n",
       "      <th></th>\n",
       "      <th></th>\n",
       "      <th></th>\n",
       "      <th></th>\n",
       "      <th></th>\n",
       "      <th></th>\n",
       "      <th></th>\n",
       "    </tr>\n",
       "  </thead>\n",
       "  <tbody>\n",
       "    <tr>\n",
       "      <th>E</th>\n",
       "      <td>45.62</td>\n",
       "      <td>8.29</td>\n",
       "      <td>37.33</td>\n",
       "      <td>102.83</td>\n",
       "      <td>0.260418</td>\n",
       "      <td>0.269331</td>\n",
       "      <td>0.213558</td>\n",
       "    </tr>\n",
       "    <tr>\n",
       "      <th>E10+</th>\n",
       "      <td>17.16</td>\n",
       "      <td>4.22</td>\n",
       "      <td>22.93</td>\n",
       "      <td>49.71</td>\n",
       "      <td>0.097956</td>\n",
       "      <td>0.137102</td>\n",
       "      <td>0.131178</td>\n",
       "    </tr>\n",
       "    <tr>\n",
       "      <th>M</th>\n",
       "      <td>82.38</td>\n",
       "      <td>6.40</td>\n",
       "      <td>82.19</td>\n",
       "      <td>195.93</td>\n",
       "      <td>0.470259</td>\n",
       "      <td>0.207927</td>\n",
       "      <td>0.470195</td>\n",
       "    </tr>\n",
       "    <tr>\n",
       "      <th>T</th>\n",
       "      <td>30.02</td>\n",
       "      <td>11.87</td>\n",
       "      <td>32.35</td>\n",
       "      <td>83.94</td>\n",
       "      <td>0.171367</td>\n",
       "      <td>0.385640</td>\n",
       "      <td>0.185069</td>\n",
       "    </tr>\n",
       "  </tbody>\n",
       "</table>\n",
       "</div>"
      ],
      "text/plain": [
       "        eu_sales  jp_sales  na_sales  total_sales   eu_prop   jp_prop  \\\n",
       "rating                                                                  \n",
       "E          45.62      8.29     37.33       102.83  0.260418  0.269331   \n",
       "E10+       17.16      4.22     22.93        49.71  0.097956  0.137102   \n",
       "M          82.38      6.40     82.19       195.93  0.470259  0.207927   \n",
       "T          30.02     11.87     32.35        83.94  0.171367  0.385640   \n",
       "\n",
       "         na_prop  \n",
       "rating            \n",
       "E       0.213558  \n",
       "E10+    0.131178  \n",
       "M       0.470195  \n",
       "T       0.185069  "
      ]
     },
     "execution_count": 290,
     "metadata": {},
     "output_type": "execute_result"
    }
   ],
   "source": [
    "data_rating"
   ]
  },
  {
   "cell_type": "code",
   "execution_count": 291,
   "metadata": {},
   "outputs": [
    {
     "data": {
      "image/png": "[encoded data removed]",
      "text/plain": [
       "<Figure size 1080x360 with 1 Axes>"
      ]
     },
     "metadata": {
      "needs_background": "light"
     },
     "output_type": "display_data"
    }
   ],
   "source": [
    "data_rating.plot(kind='bar', y=['eu_prop', 'jp_prop', 'na_prop'], figsize=(15,5))\n",
    "plt.show()"
   ]
  },
  {
   "cell_type": "markdown",
   "metadata": {},
   "source": [
    "<div class=\"alert alert-block alert-info\">\n",
    "строю графики популярности игр по возрастному рейтингу\n",
    "    \n",
    "рынки европпы и америки практически одинаковы, в отличии от японского, где наиболее хорошо продаваемые в остальных регионах игры с рейтингом M (17+, присутствует насилие и ненормативная лексика) пользуются значительно меньшей популярностью  \n",
    "    \n",
    "тогда как игры с рейтингом Т (13+ для подростков) имеют спрос в два раза выше остальных регионов\n",
    "</div>"
   ]
  },
  {
   "cell_type": "markdown",
   "metadata": {},
   "source": [
    "<a class=\"anchor\" id=\"5\"></a>\n",
    "## Проверка гипотез"
   ]
  },
  {
   "cell_type": "code",
   "execution_count": 292,
   "metadata": {},
   "outputs": [],
   "source": [
    "user_score_xbo = data.loc[data['platform'] == 'XOne', 'user_score'].dropna()\n",
    "user_score_pc = data.loc[data['platform'] == 'PC', 'user_score'].dropna()"
   ]
  },
  {
   "cell_type": "markdown",
   "metadata": {},
   "source": [
    "<div class=\"alert alert-block alert-info\">\n",
    "Проверяю гипотезу, что средние пользовательские рейтинги платформ Xbox One (XOne) и PC одинаковые\n",
    "\n",
    "Сформулируем нулевую гипотезу, о том, что средние пользовательские рейтинги платформ Xbox One и PC одинаковые. Эта гипотеза является двусторонней. Соответственно альтернативная гипотеза обратна ей. Для проверки будем использовать данные из двух генеральных совокупностей. Массив данных по каждой из платформ. Для оценки будем использовать критерий двустороннее значение p-value - вероятность совпадения рейтингов.\n",
    "\n",
    "H0: Средние пользовательские рейтинги платформ Xbox One и PC одинаковые\n",
    "\n",
    "H1: Средние пользовательские рейтинги платформ Xbox One и PC не одинаковые   \n",
    "</div>"
   ]
  },
  {
   "cell_type": "code",
   "execution_count": 293,
   "metadata": {},
   "outputs": [
    {
     "name": "stdout",
     "output_type": "stream",
     "text": [
      "0.11601398086668832\n",
      "Не получилось отвергнуть нулевую гипотезу\n"
     ]
    }
   ],
   "source": [
    "results = st.ttest_ind(user_score_xbo, user_score_pc, equal_var = False)\n",
    "alpha = 0.05\n",
    "print(results.pvalue)\n",
    "if results.pvalue < alpha:\n",
    "    print('Отвергаем нулевую гипотезу')\n",
    "else:\n",
    "    print('Не получилось отвергнуть нулевую гипотезу')"
   ]
  },
  {
   "cell_type": "markdown",
   "metadata": {},
   "source": [
    "<div class=\"alert alert-block alert-info\">\n",
    "Нулевая гипотеза не отвергнута, из чего можно сделать вывод, что пользовательские рейтинги для XOne и PC примерно одинаковые  \n",
    "</div>"
   ]
  },
  {
   "cell_type": "code",
   "execution_count": 294,
   "metadata": {},
   "outputs": [],
   "source": [
    "user_score_action = data.loc[data['genre'] == 'Action', 'user_score'].dropna()\n",
    "user_score_sports = data.loc[data['genre'] == 'Sports', 'user_score'].dropna()"
   ]
  },
  {
   "cell_type": "markdown",
   "metadata": {},
   "source": [
    "<div class=\"alert alert-block alert-info\">\n",
    "Проверим гипотезу, что средние пользовательские рейтинги жанров Action (англ. «действие», экшен-игры) и Sports (англ. «спортивные соревнования») разные.\n",
    "\n",
    "Сформулируем нулевую гипотезу, о том, что средние пользовательские рейтинги жанров Action и Sports одинаковые. Эта гипотеза является двусторонней. Соответственно альтернативная гипотеза обратна ей. Для проверки будем использовать данные из двух генеральных совокупностей. Массив данных по каждому из жанров. Для оценки будем использовать критерий двустороннее значение p-value - вероятность совпадения рейтингов. Нюанс в том, что при альтернативной гипотезе pvalue должна быть больше alpha.\n",
    "\n",
    "H0: средние пользовательские рейтинги жанров Action и Sports одинаковые\n",
    "\n",
    "H1: средние пользовательские рейтинги жанров Action и Sports разные \n",
    "</div>"
   ]
  },
  {
   "cell_type": "code",
   "execution_count": 295,
   "metadata": {},
   "outputs": [
    {
     "name": "stdout",
     "output_type": "stream",
     "text": [
      "1.1664151897936176e-08\n",
      "Отвергаем нулевую гипотезу\n"
     ]
    }
   ],
   "source": [
    "results = st.ttest_ind(user_score_action, user_score_sports, equal_var = False)\n",
    "alpha = 0.05\n",
    "print(results.pvalue)\n",
    "if results.pvalue < alpha:\n",
    "    print('Отвергаем нулевую гипотезу')\n",
    "else:\n",
    "    print('Не получилось отвергнуть нулевую гипотезу')"
   ]
  },
  {
   "cell_type": "markdown",
   "metadata": {},
   "source": [
    "<div class=\"alert alert-block alert-info\">\n",
    "Нулевая гипотеза отвергнута, из чего можно сделать вывод, что пользовательские оценки для Action и Sport одинаковые  \n",
    "</div>"
   ]
  },
  {
   "cell_type": "markdown",
   "metadata": {},
   "source": [
    "<a class=\"anchor\" id=\"6\"></a>\n",
    "## Общий вывод"
   ]
  },
  {
   "cell_type": "markdown",
   "metadata": {},
   "source": [
    "\n",
    "На основании полученных данных был проведен анализ:\n",
    "* Популярнсти платформ\n",
    "* Популярности жанров игр\n",
    "* Популярность игры в зависимости от возрастного рейтинга\n",
    "* Зависимости успешности игры от рейтингов пользователей и критиков\n",
    "\n",
    "При планировании расходов на рекламу игр на 2017 год следует учесть следующие факторы:\n",
    "\n",
    "**Для европейского рынка**\n",
    "* В качестве игровых платформ отдать предпочтение - PS4 (58% рынка) и XBox One (21% рынка)\n",
    "* Среди жанров отдать предпочтение Action, Shooter, Sport (суммарно 80% рынка), RPG и Racing входят в топ 5, но имеют заничительно меньшую популярность\n",
    "* Предпочитаемый возрастной рейтинг M (17+)\n",
    "\n",
    "**Для американского рынка**\n",
    "* В качестве игровых платформ отдать предпочтение - PS4 (43% рынка) и XBox One (36% рынка)\n",
    "* Среди жанров отдать предпочтение Action, Shooter, Sport (суммарно 79% рынка), RPG и Fighting входят в топ 5, но имеют заничительно меньшую популярность\n",
    "* Предпочитаемый возрастной рейтинг M (17+)\n",
    "<br>\n",
    "<br>\n",
    "Европейский и американский рынок очень похожи и основные рекламные кампании можно проводить одинаковые \n",
    "<br>\n",
    "<br>  \n",
    "\n",
    "**Для японкого рынка**\n",
    "* В качестве платформы рассматривать ТОЛЬКО японских производителей (99% рынка) и в особенности 3DS (54% рынка)\n",
    "* Среди жанров отдать предпочтение Action, Role-Playing (суммарно 79% рынка). Misc, Fighting и Shooter входят в топ 5, но имеют заничительно меньшую популярность\n",
    "* Игры с возрастным рейтингом M продаются значительно хуже, чем в остальном мире, при этом игры с рейтингом Т гораздо лучше чем в остальном мире\n",
    "<br>\n",
    "<br>\n",
    "<br>\n",
    "На мой взгляд стоит отдать предпочтение европейскому и американскому рынку, так как можно уменьшить расходы проводя схожие рекламные кампании при этом охватив большую часть общего рынка по продаже игр.\n",
    "<br>\n",
    "На японский рынок следует обратить внимание,когда выйдет новая японская классическая консоль на замену 3DS, которая постепенно начинает устаревать.С ее выходом произойдет резкое увеличение продаж игр в японии. Предположу, что это случится через 2-3 года "
   ]
  },
  {
   "cell_type": "code",
   "execution_count": null,
   "metadata": {},
   "outputs": [],
   "source": []
  }
 ],
 "metadata": {
  "ExecuteTimeLog": [
   {
    "duration": 1080,
    "start_time": "2023-05-15T11:46:29.536Z"
   },
   {
    "duration": 106,
    "start_time": "2023-05-15T11:46:39.817Z"
   },
   {
    "duration": 818,
    "start_time": "2023-05-15T11:47:49.715Z"
   },
   {
    "duration": 8,
    "start_time": "2023-05-15T11:49:31.418Z"
   },
   {
    "duration": 15,
    "start_time": "2023-05-15T11:49:40.636Z"
   },
   {
    "duration": 7477,
    "start_time": "2023-05-15T11:51:07.460Z"
   },
   {
    "duration": 7,
    "start_time": "2023-05-15T11:51:26.447Z"
   },
   {
    "duration": 14,
    "start_time": "2023-05-15T11:51:36.845Z"
   },
   {
    "duration": 25,
    "start_time": "2023-05-15T11:51:48.151Z"
   },
   {
    "duration": 15,
    "start_time": "2023-05-15T11:52:23.630Z"
   },
   {
    "duration": 87,
    "start_time": "2023-05-15T11:52:33.257Z"
   },
   {
    "duration": 4,
    "start_time": "2023-05-15T11:52:38.072Z"
   },
   {
    "duration": 15,
    "start_time": "2023-05-15T11:52:42.871Z"
   },
   {
    "duration": 12,
    "start_time": "2023-05-15T11:52:58.381Z"
   },
   {
    "duration": 10,
    "start_time": "2023-05-15T11:56:22.357Z"
   },
   {
    "duration": 10,
    "start_time": "2023-05-15T11:56:32.055Z"
   },
   {
    "duration": 3,
    "start_time": "2023-05-15T11:57:43.063Z"
   },
   {
    "duration": 40,
    "start_time": "2023-05-15T11:57:46.412Z"
   },
   {
    "duration": 13,
    "start_time": "2023-05-15T11:58:11.371Z"
   },
   {
    "duration": 12,
    "start_time": "2023-05-15T12:00:17.540Z"
   },
   {
    "duration": 8266,
    "start_time": "2023-05-15T12:09:37.723Z"
   },
   {
    "duration": 28,
    "start_time": "2023-05-15T12:11:50.559Z"
   },
   {
    "duration": 26,
    "start_time": "2023-05-15T12:13:52.333Z"
   },
   {
    "duration": 28,
    "start_time": "2023-05-15T12:14:13.843Z"
   },
   {
    "duration": 94,
    "start_time": "2023-05-15T12:14:20.191Z"
   },
   {
    "duration": 4,
    "start_time": "2023-05-15T12:14:20.287Z"
   },
   {
    "duration": 22,
    "start_time": "2023-05-15T12:14:22.739Z"
   },
   {
    "duration": 15,
    "start_time": "2023-05-15T12:15:10.074Z"
   },
   {
    "duration": 14,
    "start_time": "2023-05-15T12:15:52.068Z"
   },
   {
    "duration": 11,
    "start_time": "2023-05-15T12:16:22.132Z"
   },
   {
    "duration": 14,
    "start_time": "2023-05-15T12:16:41.853Z"
   },
   {
    "duration": 7,
    "start_time": "2023-05-15T12:16:52.546Z"
   },
   {
    "duration": 11,
    "start_time": "2023-05-15T12:18:07.432Z"
   },
   {
    "duration": 6,
    "start_time": "2023-05-15T12:18:21.168Z"
   },
   {
    "duration": 15,
    "start_time": "2023-05-15T12:18:29.284Z"
   },
   {
    "duration": 11,
    "start_time": "2023-05-15T12:18:43.644Z"
   },
   {
    "duration": 10,
    "start_time": "2023-05-15T12:18:54.025Z"
   },
   {
    "duration": 28,
    "start_time": "2023-05-15T12:19:32.655Z"
   },
   {
    "duration": 25,
    "start_time": "2023-05-15T12:21:18.493Z"
   },
   {
    "duration": 15,
    "start_time": "2023-05-15T12:25:35.507Z"
   },
   {
    "duration": 16,
    "start_time": "2023-05-15T12:27:48.383Z"
   },
   {
    "duration": 10,
    "start_time": "2023-05-15T12:28:38.962Z"
   },
   {
    "duration": 29,
    "start_time": "2023-05-15T12:30:11.965Z"
   },
   {
    "duration": 37,
    "start_time": "2023-05-15T12:30:29.143Z"
   },
   {
    "duration": 11,
    "start_time": "2023-05-15T12:33:04.322Z"
   },
   {
    "duration": 130,
    "start_time": "2023-05-15T12:33:14.095Z"
   },
   {
    "duration": 35,
    "start_time": "2023-05-15T12:33:25.384Z"
   },
   {
    "duration": 21,
    "start_time": "2023-05-15T12:33:43.834Z"
   },
   {
    "duration": 21,
    "start_time": "2023-05-15T12:34:02.140Z"
   },
   {
    "duration": 107,
    "start_time": "2023-05-15T12:34:12.657Z"
   },
   {
    "duration": 4,
    "start_time": "2023-05-15T12:34:12.766Z"
   },
   {
    "duration": 38,
    "start_time": "2023-05-15T12:34:12.772Z"
   },
   {
    "duration": 48,
    "start_time": "2023-05-15T12:34:12.812Z"
   },
   {
    "duration": 32,
    "start_time": "2023-05-15T12:34:35.774Z"
   },
   {
    "duration": 212,
    "start_time": "2023-05-15T12:36:37.074Z"
   },
   {
    "duration": 255,
    "start_time": "2023-05-15T12:36:45.887Z"
   },
   {
    "duration": 301,
    "start_time": "2023-05-15T12:36:52.015Z"
   },
   {
    "duration": 5,
    "start_time": "2023-05-15T12:39:07.238Z"
   },
   {
    "duration": 20,
    "start_time": "2023-05-15T12:39:23.628Z"
   },
   {
    "duration": 29,
    "start_time": "2023-05-15T12:39:42.612Z"
   },
   {
    "duration": 24,
    "start_time": "2023-05-15T12:39:57.394Z"
   },
   {
    "duration": 23,
    "start_time": "2023-05-15T12:40:06.106Z"
   },
   {
    "duration": 179,
    "start_time": "2023-05-15T12:41:21.426Z"
   },
   {
    "duration": 9,
    "start_time": "2023-05-15T12:43:12.307Z"
   },
   {
    "duration": 4,
    "start_time": "2023-05-15T12:44:43.124Z"
   },
   {
    "duration": 14,
    "start_time": "2023-05-15T12:46:56.658Z"
   },
   {
    "duration": 19,
    "start_time": "2023-05-15T12:47:00.919Z"
   },
   {
    "duration": 8,
    "start_time": "2023-05-15T12:49:07.280Z"
   },
   {
    "duration": 11,
    "start_time": "2023-05-15T12:49:11.939Z"
   },
   {
    "duration": 12,
    "start_time": "2023-05-15T12:49:14.576Z"
   },
   {
    "duration": 15,
    "start_time": "2023-05-15T12:49:41.787Z"
   },
   {
    "duration": 9,
    "start_time": "2023-05-15T12:49:44.630Z"
   },
   {
    "duration": 8,
    "start_time": "2023-05-15T12:49:59.337Z"
   },
   {
    "duration": 96,
    "start_time": "2023-05-15T12:50:37.234Z"
   },
   {
    "duration": 4,
    "start_time": "2023-05-15T12:50:37.332Z"
   },
   {
    "duration": 15,
    "start_time": "2023-05-15T12:50:37.337Z"
   },
   {
    "duration": 8,
    "start_time": "2023-05-15T12:50:37.353Z"
   },
   {
    "duration": 47,
    "start_time": "2023-05-15T12:50:37.363Z"
   },
   {
    "duration": 38,
    "start_time": "2023-05-15T12:50:37.412Z"
   },
   {
    "duration": 240,
    "start_time": "2023-05-15T12:50:37.451Z"
   },
   {
    "duration": 133,
    "start_time": "2023-05-15T12:50:37.695Z"
   },
   {
    "duration": 8,
    "start_time": "2023-05-15T12:50:37.829Z"
   },
   {
    "duration": 15,
    "start_time": "2023-05-15T12:50:41.312Z"
   },
   {
    "duration": 19,
    "start_time": "2023-05-15T12:50:43.114Z"
   },
   {
    "duration": 7,
    "start_time": "2023-05-15T12:52:39.646Z"
   },
   {
    "duration": 11,
    "start_time": "2023-05-15T12:53:06.535Z"
   },
   {
    "duration": 3,
    "start_time": "2023-05-15T12:56:05.334Z"
   },
   {
    "duration": 4,
    "start_time": "2023-05-15T12:56:09.859Z"
   },
   {
    "duration": 4,
    "start_time": "2023-05-15T12:56:14.679Z"
   },
   {
    "duration": 22,
    "start_time": "2023-05-15T12:56:24.026Z"
   },
   {
    "duration": 320,
    "start_time": "2023-05-15T12:59:11.327Z"
   },
   {
    "duration": 310,
    "start_time": "2023-05-15T12:59:45.447Z"
   },
   {
    "duration": 9,
    "start_time": "2023-05-15T13:04:13.908Z"
   },
   {
    "duration": 12,
    "start_time": "2023-05-15T13:06:20.674Z"
   },
   {
    "duration": 151,
    "start_time": "2023-05-15T13:06:26.507Z"
   },
   {
    "duration": 129,
    "start_time": "2023-05-15T13:06:34.836Z"
   },
   {
    "duration": 8,
    "start_time": "2023-05-15T13:07:21.953Z"
   },
   {
    "duration": 18,
    "start_time": "2023-05-15T13:07:44.887Z"
   },
   {
    "duration": 10,
    "start_time": "2023-05-15T13:07:53.738Z"
   },
   {
    "duration": 7,
    "start_time": "2023-05-15T13:08:10.613Z"
   },
   {
    "duration": 897,
    "start_time": "2023-05-15T13:08:22.324Z"
   },
   {
    "duration": 14,
    "start_time": "2023-05-15T13:09:32.088Z"
   },
   {
    "duration": 1012,
    "start_time": "2023-05-15T13:09:37.276Z"
   },
   {
    "duration": 1813,
    "start_time": "2023-05-15T13:09:47.574Z"
   },
   {
    "duration": 103,
    "start_time": "2023-05-15T13:15:38.752Z"
   },
   {
    "duration": 3,
    "start_time": "2023-05-15T13:15:38.857Z"
   },
   {
    "duration": 34,
    "start_time": "2023-05-15T13:15:38.862Z"
   },
   {
    "duration": 25,
    "start_time": "2023-05-15T13:15:38.905Z"
   },
   {
    "duration": 35,
    "start_time": "2023-05-15T13:15:38.932Z"
   },
   {
    "duration": 17,
    "start_time": "2023-05-15T13:15:38.969Z"
   },
   {
    "duration": 40,
    "start_time": "2023-05-15T13:15:38.987Z"
   },
   {
    "duration": 0,
    "start_time": "2023-05-15T13:15:39.029Z"
   },
   {
    "duration": 0,
    "start_time": "2023-05-15T13:15:39.030Z"
   },
   {
    "duration": 317,
    "start_time": "2023-05-15T13:15:52.853Z"
   },
   {
    "duration": 145,
    "start_time": "2023-05-15T13:16:00.381Z"
   },
   {
    "duration": 4,
    "start_time": "2023-05-15T13:16:00.533Z"
   },
   {
    "duration": 79,
    "start_time": "2023-05-15T13:16:00.538Z"
   },
   {
    "duration": 38,
    "start_time": "2023-05-15T13:16:00.624Z"
   },
   {
    "duration": 100,
    "start_time": "2023-05-15T13:16:00.665Z"
   },
   {
    "duration": 89,
    "start_time": "2023-05-15T13:16:00.767Z"
   },
   {
    "duration": 385,
    "start_time": "2023-05-15T13:16:00.858Z"
   },
   {
    "duration": 296,
    "start_time": "2023-05-15T13:16:01.246Z"
   },
   {
    "duration": 7,
    "start_time": "2023-05-15T13:16:01.544Z"
   },
   {
    "duration": 8,
    "start_time": "2023-05-15T13:16:21.810Z"
   },
   {
    "duration": 10,
    "start_time": "2023-05-15T13:16:23.824Z"
   },
   {
    "duration": 715,
    "start_time": "2023-05-15T13:16:28.409Z"
   },
   {
    "duration": 6,
    "start_time": "2023-05-15T13:17:03.111Z"
   },
   {
    "duration": 7,
    "start_time": "2023-05-15T13:17:04.538Z"
   },
   {
    "duration": 821,
    "start_time": "2023-05-15T13:17:13.184Z"
   },
   {
    "duration": 13,
    "start_time": "2023-05-15T13:17:29.591Z"
   },
   {
    "duration": 7,
    "start_time": "2023-05-15T13:17:30.712Z"
   },
   {
    "duration": 624,
    "start_time": "2023-05-15T13:17:32.746Z"
   },
   {
    "duration": 8,
    "start_time": "2023-05-15T13:17:43.061Z"
   },
   {
    "duration": 1493,
    "start_time": "2023-05-15T13:17:46.355Z"
   },
   {
    "duration": 8,
    "start_time": "2023-05-15T13:18:17.648Z"
   },
   {
    "duration": 6,
    "start_time": "2023-05-15T13:18:59.462Z"
   },
   {
    "duration": 17,
    "start_time": "2023-05-15T13:19:00.988Z"
   },
   {
    "duration": 71,
    "start_time": "2023-05-15T13:21:06.714Z"
   },
   {
    "duration": 4,
    "start_time": "2023-05-15T13:21:06.787Z"
   },
   {
    "duration": 39,
    "start_time": "2023-05-15T13:21:06.792Z"
   },
   {
    "duration": 13,
    "start_time": "2023-05-15T13:21:06.833Z"
   },
   {
    "duration": 15,
    "start_time": "2023-05-15T13:21:06.847Z"
   },
   {
    "duration": 25,
    "start_time": "2023-05-15T13:21:06.863Z"
   },
   {
    "duration": 240,
    "start_time": "2023-05-15T13:21:06.890Z"
   },
   {
    "duration": 94,
    "start_time": "2023-05-15T13:21:18.655Z"
   },
   {
    "duration": 4,
    "start_time": "2023-05-15T13:21:18.751Z"
   },
   {
    "duration": 32,
    "start_time": "2023-05-15T13:21:18.757Z"
   },
   {
    "duration": 15,
    "start_time": "2023-05-15T13:21:18.791Z"
   },
   {
    "duration": 31,
    "start_time": "2023-05-15T13:21:18.811Z"
   },
   {
    "duration": 20,
    "start_time": "2023-05-15T13:21:18.843Z"
   },
   {
    "duration": 253,
    "start_time": "2023-05-15T13:21:18.865Z"
   },
   {
    "duration": 7,
    "start_time": "2023-05-15T13:21:19.120Z"
   },
   {
    "duration": 1794,
    "start_time": "2023-05-15T13:21:19.129Z"
   },
   {
    "duration": 6,
    "start_time": "2023-05-15T13:21:20.925Z"
   },
   {
    "duration": 20,
    "start_time": "2023-05-15T13:21:20.932Z"
   },
   {
    "duration": 1375,
    "start_time": "2023-05-15T13:21:20.953Z"
   },
   {
    "duration": 14,
    "start_time": "2023-05-15T13:32:07.647Z"
   },
   {
    "duration": 10,
    "start_time": "2023-05-15T13:32:17.289Z"
   },
   {
    "duration": 8,
    "start_time": "2023-05-15T13:32:19.725Z"
   },
   {
    "duration": 1217,
    "start_time": "2023-05-15T13:32:26.638Z"
   },
   {
    "duration": 15,
    "start_time": "2023-05-15T13:33:03.309Z"
   },
   {
    "duration": 12,
    "start_time": "2023-05-15T13:33:04.494Z"
   },
   {
    "duration": 1233,
    "start_time": "2023-05-15T13:33:09.208Z"
   },
   {
    "duration": 80,
    "start_time": "2023-05-15T13:38:58.455Z"
   },
   {
    "duration": 2,
    "start_time": "2023-05-15T13:38:58.537Z"
   },
   {
    "duration": 30,
    "start_time": "2023-05-15T13:38:58.541Z"
   },
   {
    "duration": 8,
    "start_time": "2023-05-15T13:38:58.573Z"
   },
   {
    "duration": 27,
    "start_time": "2023-05-15T13:38:58.583Z"
   },
   {
    "duration": 20,
    "start_time": "2023-05-15T13:38:58.612Z"
   },
   {
    "duration": 315,
    "start_time": "2023-05-15T13:38:58.634Z"
   },
   {
    "duration": 9,
    "start_time": "2023-05-15T13:38:58.951Z"
   },
   {
    "duration": 1099,
    "start_time": "2023-05-15T13:38:58.962Z"
   },
   {
    "duration": 7,
    "start_time": "2023-05-15T13:39:00.062Z"
   },
   {
    "duration": 46,
    "start_time": "2023-05-15T13:39:00.071Z"
   },
   {
    "duration": 1325,
    "start_time": "2023-05-15T13:39:03.835Z"
   },
   {
    "duration": 823,
    "start_time": "2023-05-15T13:39:52.540Z"
   },
   {
    "duration": 7,
    "start_time": "2023-05-15T13:40:45.795Z"
   },
   {
    "duration": 8,
    "start_time": "2023-05-15T13:40:47.083Z"
   },
   {
    "duration": 1217,
    "start_time": "2023-05-15T13:40:54.599Z"
   },
   {
    "duration": 10,
    "start_time": "2023-05-15T13:41:52.661Z"
   },
   {
    "duration": 9,
    "start_time": "2023-05-15T13:42:07.413Z"
   },
   {
    "duration": 586,
    "start_time": "2023-05-15T14:04:09.990Z"
   },
   {
    "duration": 679,
    "start_time": "2023-05-15T14:05:04.411Z"
   },
   {
    "duration": 407,
    "start_time": "2023-05-15T14:05:11.936Z"
   },
   {
    "duration": 397,
    "start_time": "2023-05-15T14:05:23.087Z"
   },
   {
    "duration": 370,
    "start_time": "2023-05-15T14:05:30.587Z"
   },
   {
    "duration": 12,
    "start_time": "2023-05-15T14:11:04.589Z"
   },
   {
    "duration": 22,
    "start_time": "2023-05-15T14:11:15.653Z"
   },
   {
    "duration": 92,
    "start_time": "2023-05-15T14:11:25.710Z"
   },
   {
    "duration": 3,
    "start_time": "2023-05-15T14:11:25.805Z"
   },
   {
    "duration": 42,
    "start_time": "2023-05-15T14:11:25.810Z"
   },
   {
    "duration": 13,
    "start_time": "2023-05-15T14:11:25.855Z"
   },
   {
    "duration": 32,
    "start_time": "2023-05-15T14:11:25.870Z"
   },
   {
    "duration": 43,
    "start_time": "2023-05-15T14:11:25.903Z"
   },
   {
    "duration": 415,
    "start_time": "2023-05-15T14:11:25.948Z"
   },
   {
    "duration": 11,
    "start_time": "2023-05-15T14:11:26.365Z"
   },
   {
    "duration": 1151,
    "start_time": "2023-05-15T14:11:26.398Z"
   },
   {
    "duration": 31,
    "start_time": "2023-05-15T14:11:36.946Z"
   },
   {
    "duration": 21,
    "start_time": "2023-05-15T14:11:48.540Z"
   },
   {
    "duration": 6,
    "start_time": "2023-05-15T14:12:57.817Z"
   },
   {
    "duration": 648,
    "start_time": "2023-05-15T14:14:25.105Z"
   },
   {
    "duration": 3,
    "start_time": "2023-05-15T14:14:25.755Z"
   },
   {
    "duration": 16,
    "start_time": "2023-05-15T14:14:25.760Z"
   },
   {
    "duration": 18,
    "start_time": "2023-05-15T14:14:25.778Z"
   },
   {
    "duration": 22,
    "start_time": "2023-05-15T14:14:25.799Z"
   },
   {
    "duration": 29,
    "start_time": "2023-05-15T14:14:25.823Z"
   },
   {
    "duration": 441,
    "start_time": "2023-05-15T14:14:25.854Z"
   },
   {
    "duration": 11,
    "start_time": "2023-05-15T14:14:26.298Z"
   },
   {
    "duration": 907,
    "start_time": "2023-05-15T14:14:26.311Z"
   },
   {
    "duration": 24,
    "start_time": "2023-05-15T14:14:27.221Z"
   },
   {
    "duration": 10,
    "start_time": "2023-05-15T14:14:27.246Z"
   },
   {
    "duration": 8,
    "start_time": "2023-05-15T14:14:27.258Z"
   },
   {
    "duration": 56,
    "start_time": "2023-05-15T14:18:18.935Z"
   },
   {
    "duration": 27,
    "start_time": "2023-05-15T14:18:26.437Z"
   },
   {
    "duration": 232,
    "start_time": "2023-05-15T14:19:00.017Z"
   },
   {
    "duration": 11,
    "start_time": "2023-05-15T14:21:57.860Z"
   },
   {
    "duration": 11,
    "start_time": "2023-05-15T14:22:03.772Z"
   },
   {
    "duration": 436,
    "start_time": "2023-05-15T14:22:12.016Z"
   },
   {
    "duration": 6066,
    "start_time": "2023-05-15T14:24:45.227Z"
   },
   {
    "duration": 221,
    "start_time": "2023-05-15T14:25:14.679Z"
   },
   {
    "duration": 152,
    "start_time": "2023-05-15T14:25:23.444Z"
   },
   {
    "duration": 258,
    "start_time": "2023-05-15T14:26:24.463Z"
   },
   {
    "duration": 3,
    "start_time": "2023-05-15T14:29:51.525Z"
   },
   {
    "duration": 27,
    "start_time": "2023-05-15T14:29:58.158Z"
   },
   {
    "duration": 222,
    "start_time": "2023-05-15T14:30:41.234Z"
   },
   {
    "duration": 26,
    "start_time": "2023-05-15T14:30:52.750Z"
   },
   {
    "duration": 34,
    "start_time": "2023-05-15T14:31:15.546Z"
   },
   {
    "duration": 27,
    "start_time": "2023-05-15T14:32:23.019Z"
   },
   {
    "duration": 79,
    "start_time": "2023-05-15T14:32:29.041Z"
   },
   {
    "duration": 4,
    "start_time": "2023-05-15T14:32:29.122Z"
   },
   {
    "duration": 15,
    "start_time": "2023-05-15T14:32:29.132Z"
   },
   {
    "duration": 9,
    "start_time": "2023-05-15T14:32:29.149Z"
   },
   {
    "duration": 57,
    "start_time": "2023-05-15T14:32:29.160Z"
   },
   {
    "duration": 29,
    "start_time": "2023-05-15T14:32:29.220Z"
   },
   {
    "duration": 435,
    "start_time": "2023-05-15T14:32:29.251Z"
   },
   {
    "duration": 18,
    "start_time": "2023-05-15T14:32:29.688Z"
   },
   {
    "duration": 950,
    "start_time": "2023-05-15T14:32:29.707Z"
   },
   {
    "duration": 44,
    "start_time": "2023-05-15T14:32:30.659Z"
   },
   {
    "duration": 49,
    "start_time": "2023-05-15T14:32:30.707Z"
   },
   {
    "duration": 58,
    "start_time": "2023-05-15T14:32:30.758Z"
   },
   {
    "duration": 269,
    "start_time": "2023-05-15T14:32:30.818Z"
   },
   {
    "duration": 34,
    "start_time": "2023-05-15T14:32:44.782Z"
   },
   {
    "duration": 231,
    "start_time": "2023-05-15T14:33:16.539Z"
   },
   {
    "duration": 2963,
    "start_time": "2023-05-15T14:33:45.008Z"
   },
   {
    "duration": 624,
    "start_time": "2023-05-15T14:36:51.027Z"
   },
   {
    "duration": 7,
    "start_time": "2023-05-15T14:38:30.742Z"
   },
   {
    "duration": 6,
    "start_time": "2023-05-15T14:38:41.753Z"
   },
   {
    "duration": 7,
    "start_time": "2023-05-15T14:38:49.493Z"
   },
   {
    "duration": 2058,
    "start_time": "2023-05-15T14:43:11.171Z"
   },
   {
    "duration": 2300,
    "start_time": "2023-05-15T14:43:59.584Z"
   },
   {
    "duration": 2248,
    "start_time": "2023-05-15T14:44:16.166Z"
   },
   {
    "duration": 2140,
    "start_time": "2023-05-15T14:44:48.638Z"
   },
   {
    "duration": 1931,
    "start_time": "2023-05-15T14:46:17.848Z"
   },
   {
    "duration": 12,
    "start_time": "2023-05-15T14:51:38.327Z"
   },
   {
    "duration": 294,
    "start_time": "2023-05-15T14:52:38.951Z"
   },
   {
    "duration": 420,
    "start_time": "2023-05-15T14:53:04.062Z"
   },
   {
    "duration": 321,
    "start_time": "2023-05-15T14:53:48.257Z"
   },
   {
    "duration": 284,
    "start_time": "2023-05-15T14:54:02.939Z"
   },
   {
    "duration": 541,
    "start_time": "2023-05-15T14:55:10.698Z"
   },
   {
    "duration": 395,
    "start_time": "2023-05-15T14:55:19.260Z"
   },
   {
    "duration": 165,
    "start_time": "2023-05-15T14:56:07.824Z"
   },
   {
    "duration": 158,
    "start_time": "2023-05-15T14:57:01.213Z"
   },
   {
    "duration": 148,
    "start_time": "2023-05-15T14:57:19.123Z"
   },
   {
    "duration": 22,
    "start_time": "2023-05-15T14:57:37.967Z"
   },
   {
    "duration": 380,
    "start_time": "2023-05-15T14:59:20.734Z"
   },
   {
    "duration": 17,
    "start_time": "2023-05-15T15:01:04.001Z"
   },
   {
    "duration": 18,
    "start_time": "2023-05-15T15:01:26.733Z"
   },
   {
    "duration": 18,
    "start_time": "2023-05-15T15:01:38.945Z"
   },
   {
    "duration": 13,
    "start_time": "2023-05-15T15:01:51.443Z"
   },
   {
    "duration": 305,
    "start_time": "2023-05-15T15:01:57.720Z"
   },
   {
    "duration": 13,
    "start_time": "2023-05-15T15:02:10.135Z"
   },
   {
    "duration": 14,
    "start_time": "2023-05-15T15:02:33.032Z"
   },
   {
    "duration": 12,
    "start_time": "2023-05-15T15:02:38.284Z"
   },
   {
    "duration": 18,
    "start_time": "2023-05-15T15:02:44.979Z"
   },
   {
    "duration": 9,
    "start_time": "2023-05-15T15:50:20.643Z"
   },
   {
    "duration": 13,
    "start_time": "2023-05-15T15:50:33.152Z"
   },
   {
    "duration": 16,
    "start_time": "2023-05-15T15:51:02.998Z"
   },
   {
    "duration": 160,
    "start_time": "2023-05-15T15:51:33.360Z"
   },
   {
    "duration": 20,
    "start_time": "2023-05-15T15:51:49.473Z"
   },
   {
    "duration": 21,
    "start_time": "2023-05-15T15:52:08.080Z"
   },
   {
    "duration": 183,
    "start_time": "2023-05-15T15:52:14.261Z"
   },
   {
    "duration": 212,
    "start_time": "2023-05-15T15:53:09.373Z"
   },
   {
    "duration": 21,
    "start_time": "2023-05-15T15:53:19.082Z"
   },
   {
    "duration": 19,
    "start_time": "2023-05-15T15:54:45.928Z"
   },
   {
    "duration": 12,
    "start_time": "2023-05-15T15:56:58.311Z"
   },
   {
    "duration": 107,
    "start_time": "2023-05-15T15:57:23.685Z"
   },
   {
    "duration": 121,
    "start_time": "2023-05-15T15:57:43.376Z"
   },
   {
    "duration": 140,
    "start_time": "2023-05-15T15:58:28.588Z"
   },
   {
    "duration": 9,
    "start_time": "2023-05-15T15:59:16.044Z"
   },
   {
    "duration": 8,
    "start_time": "2023-05-15T15:59:33.918Z"
   },
   {
    "duration": 152,
    "start_time": "2023-05-15T16:00:19.055Z"
   },
   {
    "duration": 153,
    "start_time": "2023-05-15T16:01:03.444Z"
   },
   {
    "duration": 144,
    "start_time": "2023-05-15T16:03:45.834Z"
   },
   {
    "duration": 10,
    "start_time": "2023-05-15T16:03:49.038Z"
   },
   {
    "duration": 173,
    "start_time": "2023-05-15T16:07:34.185Z"
   },
   {
    "duration": 174,
    "start_time": "2023-05-15T16:07:48.100Z"
   },
   {
    "duration": 234,
    "start_time": "2023-05-15T16:08:20.698Z"
   },
   {
    "duration": 196,
    "start_time": "2023-05-15T16:09:03.677Z"
   },
   {
    "duration": 21,
    "start_time": "2023-05-15T16:11:16.788Z"
   },
   {
    "duration": 11,
    "start_time": "2023-05-15T16:11:21.284Z"
   },
   {
    "duration": 21,
    "start_time": "2023-05-15T16:12:22.201Z"
   },
   {
    "duration": 11,
    "start_time": "2023-05-15T16:12:34.524Z"
   },
   {
    "duration": 25,
    "start_time": "2023-05-15T16:12:40.791Z"
   },
   {
    "duration": 4,
    "start_time": "2023-05-15T16:12:56.882Z"
   },
   {
    "duration": 13,
    "start_time": "2023-05-15T16:13:03.275Z"
   },
   {
    "duration": 10,
    "start_time": "2023-05-15T16:13:13.956Z"
   },
   {
    "duration": 171,
    "start_time": "2023-05-15T16:14:57.471Z"
   },
   {
    "duration": 15,
    "start_time": "2023-05-15T16:15:07.550Z"
   },
   {
    "duration": 9,
    "start_time": "2023-05-15T16:15:26.241Z"
   },
   {
    "duration": 13,
    "start_time": "2023-05-15T16:15:30.057Z"
   },
   {
    "duration": 21,
    "start_time": "2023-05-15T16:15:34.517Z"
   },
   {
    "duration": 12,
    "start_time": "2023-05-15T16:15:43.778Z"
   },
   {
    "duration": 15,
    "start_time": "2023-05-15T16:15:48.737Z"
   },
   {
    "duration": 258,
    "start_time": "2023-05-15T16:16:00.528Z"
   },
   {
    "duration": 112,
    "start_time": "2023-05-15T16:16:23.813Z"
   },
   {
    "duration": 142,
    "start_time": "2023-05-15T16:16:40.093Z"
   },
   {
    "duration": 143,
    "start_time": "2023-05-15T16:17:13.974Z"
   },
   {
    "duration": 134,
    "start_time": "2023-05-15T16:17:24.316Z"
   },
   {
    "duration": 15,
    "start_time": "2023-05-15T16:18:19.072Z"
   },
   {
    "duration": 115,
    "start_time": "2023-05-15T16:18:30.238Z"
   },
   {
    "duration": 118,
    "start_time": "2023-05-15T16:19:44.248Z"
   },
   {
    "duration": 80,
    "start_time": "2023-05-15T16:20:43.401Z"
   },
   {
    "duration": 3,
    "start_time": "2023-05-15T16:20:43.483Z"
   },
   {
    "duration": 39,
    "start_time": "2023-05-15T16:20:43.488Z"
   },
   {
    "duration": 11,
    "start_time": "2023-05-15T16:20:43.530Z"
   },
   {
    "duration": 15,
    "start_time": "2023-05-15T16:20:43.543Z"
   },
   {
    "duration": 17,
    "start_time": "2023-05-15T16:20:43.559Z"
   },
   {
    "duration": 386,
    "start_time": "2023-05-15T16:20:43.597Z"
   },
   {
    "duration": 30,
    "start_time": "2023-05-15T16:20:43.986Z"
   },
   {
    "duration": 1042,
    "start_time": "2023-05-15T16:20:44.019Z"
   },
   {
    "duration": 33,
    "start_time": "2023-05-15T16:20:45.065Z"
   },
   {
    "duration": 15,
    "start_time": "2023-05-15T16:20:45.102Z"
   },
   {
    "duration": 16,
    "start_time": "2023-05-15T16:20:45.119Z"
   },
   {
    "duration": 283,
    "start_time": "2023-05-15T16:20:45.137Z"
   },
   {
    "duration": 618,
    "start_time": "2023-05-15T16:20:45.422Z"
   },
   {
    "duration": 162,
    "start_time": "2023-05-15T16:20:46.042Z"
   },
   {
    "duration": 167,
    "start_time": "2023-05-15T16:20:46.205Z"
   },
   {
    "duration": 1884,
    "start_time": "2023-05-15T16:20:46.373Z"
   },
   {
    "duration": 7,
    "start_time": "2023-05-15T16:20:48.258Z"
   },
   {
    "duration": 363,
    "start_time": "2023-05-15T16:20:48.267Z"
   },
   {
    "duration": 15,
    "start_time": "2023-05-15T16:20:48.632Z"
   },
   {
    "duration": 154,
    "start_time": "2023-05-15T16:20:48.649Z"
   },
   {
    "duration": 147,
    "start_time": "2023-05-15T16:20:48.804Z"
   },
   {
    "duration": 159,
    "start_time": "2023-05-15T16:20:48.954Z"
   },
   {
    "duration": 301,
    "start_time": "2023-05-15T16:20:49.115Z"
   },
   {
    "duration": 134,
    "start_time": "2023-05-15T16:20:49.417Z"
   },
   {
    "duration": 128,
    "start_time": "2023-05-15T16:20:49.552Z"
   },
   {
    "duration": 131,
    "start_time": "2023-05-15T16:21:55.057Z"
   },
   {
    "duration": 124,
    "start_time": "2023-05-15T16:24:21.224Z"
   },
   {
    "duration": 118,
    "start_time": "2023-05-15T16:24:43.409Z"
   },
   {
    "duration": 154,
    "start_time": "2023-05-15T16:24:46.544Z"
   },
   {
    "duration": 123,
    "start_time": "2023-05-15T16:25:05.910Z"
   },
   {
    "duration": 118,
    "start_time": "2023-05-15T16:27:43.710Z"
   },
   {
    "duration": 75,
    "start_time": "2023-05-15T16:28:10.028Z"
   },
   {
    "duration": 5,
    "start_time": "2023-05-15T16:28:10.105Z"
   },
   {
    "duration": 17,
    "start_time": "2023-05-15T16:28:10.112Z"
   },
   {
    "duration": 8,
    "start_time": "2023-05-15T16:28:10.131Z"
   },
   {
    "duration": 15,
    "start_time": "2023-05-15T16:28:10.141Z"
   },
   {
    "duration": 52,
    "start_time": "2023-05-15T16:28:10.158Z"
   },
   {
    "duration": 339,
    "start_time": "2023-05-15T16:28:10.211Z"
   },
   {
    "duration": 10,
    "start_time": "2023-05-15T16:28:10.552Z"
   },
   {
    "duration": 907,
    "start_time": "2023-05-15T16:28:10.564Z"
   },
   {
    "duration": 32,
    "start_time": "2023-05-15T16:28:11.475Z"
   },
   {
    "duration": 11,
    "start_time": "2023-05-15T16:28:11.509Z"
   },
   {
    "duration": 7,
    "start_time": "2023-05-15T16:28:11.522Z"
   },
   {
    "duration": 230,
    "start_time": "2023-05-15T16:28:11.530Z"
   },
   {
    "duration": 615,
    "start_time": "2023-05-15T16:28:11.761Z"
   },
   {
    "duration": 181,
    "start_time": "2023-05-15T16:28:12.378Z"
   },
   {
    "duration": 150,
    "start_time": "2023-05-15T16:28:12.560Z"
   },
   {
    "duration": 1722,
    "start_time": "2023-05-15T16:28:12.711Z"
   },
   {
    "duration": 8,
    "start_time": "2023-05-15T16:28:14.435Z"
   },
   {
    "duration": 383,
    "start_time": "2023-05-15T16:28:14.445Z"
   },
   {
    "duration": 14,
    "start_time": "2023-05-15T16:28:14.829Z"
   },
   {
    "duration": 123,
    "start_time": "2023-05-15T16:28:14.844Z"
   },
   {
    "duration": 142,
    "start_time": "2023-05-15T16:28:14.968Z"
   },
   {
    "duration": 141,
    "start_time": "2023-05-15T16:28:15.112Z"
   },
   {
    "duration": 124,
    "start_time": "2023-05-15T16:28:15.255Z"
   },
   {
    "duration": 132,
    "start_time": "2023-05-15T16:28:15.381Z"
   },
   {
    "duration": 287,
    "start_time": "2023-05-15T16:28:15.516Z"
   },
   {
    "duration": 57,
    "start_time": "2023-05-16T11:24:18.992Z"
   },
   {
    "duration": 1985,
    "start_time": "2023-05-16T11:24:34.618Z"
   },
   {
    "duration": 6,
    "start_time": "2023-05-16T11:24:36.616Z"
   },
   {
    "duration": 18,
    "start_time": "2023-05-16T11:24:36.624Z"
   },
   {
    "duration": 9,
    "start_time": "2023-05-16T11:24:36.644Z"
   },
   {
    "duration": 19,
    "start_time": "2023-05-16T11:24:36.656Z"
   },
   {
    "duration": 16,
    "start_time": "2023-05-16T11:24:36.676Z"
   },
   {
    "duration": 373,
    "start_time": "2023-05-16T11:24:36.694Z"
   },
   {
    "duration": 8,
    "start_time": "2023-05-16T11:24:37.068Z"
   },
   {
    "duration": 1046,
    "start_time": "2023-05-16T11:24:37.077Z"
   },
   {
    "duration": 30,
    "start_time": "2023-05-16T11:24:38.125Z"
   },
   {
    "duration": 8,
    "start_time": "2023-05-16T11:24:38.157Z"
   },
   {
    "duration": 8,
    "start_time": "2023-05-16T11:24:38.166Z"
   },
   {
    "duration": 305,
    "start_time": "2023-05-16T11:24:38.176Z"
   },
   {
    "duration": 697,
    "start_time": "2023-05-16T11:24:38.485Z"
   },
   {
    "duration": 214,
    "start_time": "2023-05-16T11:24:39.186Z"
   },
   {
    "duration": 222,
    "start_time": "2023-05-16T11:24:39.402Z"
   },
   {
    "duration": 1970,
    "start_time": "2023-05-16T11:24:39.626Z"
   },
   {
    "duration": 19,
    "start_time": "2023-05-16T11:24:41.606Z"
   },
   {
    "duration": 312,
    "start_time": "2023-05-16T11:24:41.632Z"
   },
   {
    "duration": 14,
    "start_time": "2023-05-16T11:24:41.946Z"
   },
   {
    "duration": 115,
    "start_time": "2023-05-16T11:24:41.962Z"
   },
   {
    "duration": 128,
    "start_time": "2023-05-16T11:24:42.078Z"
   },
   {
    "duration": 145,
    "start_time": "2023-05-16T11:24:42.208Z"
   },
   {
    "duration": 166,
    "start_time": "2023-05-16T11:24:42.356Z"
   },
   {
    "duration": 149,
    "start_time": "2023-05-16T11:24:42.529Z"
   },
   {
    "duration": 169,
    "start_time": "2023-05-16T11:24:42.681Z"
   },
   {
    "duration": 16,
    "start_time": "2023-05-16T11:24:44.853Z"
   },
   {
    "duration": 9,
    "start_time": "2023-05-16T11:27:14.393Z"
   },
   {
    "duration": 9,
    "start_time": "2023-05-16T11:27:15.880Z"
   },
   {
    "duration": 15,
    "start_time": "2023-05-16T11:28:15.834Z"
   },
   {
    "duration": 21,
    "start_time": "2023-05-16T11:28:17.004Z"
   },
   {
    "duration": 158,
    "start_time": "2023-05-16T11:28:45.397Z"
   },
   {
    "duration": 252,
    "start_time": "2023-05-16T11:28:57.731Z"
   },
   {
    "duration": 79,
    "start_time": "2023-05-16T11:31:34.936Z"
   },
   {
    "duration": 3,
    "start_time": "2023-05-16T11:31:35.017Z"
   },
   {
    "duration": 34,
    "start_time": "2023-05-16T11:31:35.022Z"
   },
   {
    "duration": 15,
    "start_time": "2023-05-16T11:31:35.057Z"
   },
   {
    "duration": 14,
    "start_time": "2023-05-16T11:31:35.074Z"
   },
   {
    "duration": 32,
    "start_time": "2023-05-16T11:31:35.090Z"
   },
   {
    "duration": 343,
    "start_time": "2023-05-16T11:31:35.124Z"
   },
   {
    "duration": 10,
    "start_time": "2023-05-16T11:31:35.469Z"
   },
   {
    "duration": 999,
    "start_time": "2023-05-16T11:31:35.481Z"
   },
   {
    "duration": 32,
    "start_time": "2023-05-16T11:31:36.483Z"
   },
   {
    "duration": 15,
    "start_time": "2023-05-16T11:31:36.520Z"
   },
   {
    "duration": 30,
    "start_time": "2023-05-16T11:31:36.537Z"
   },
   {
    "duration": 252,
    "start_time": "2023-05-16T11:31:36.569Z"
   },
   {
    "duration": 489,
    "start_time": "2023-05-16T11:31:36.828Z"
   },
   {
    "duration": 169,
    "start_time": "2023-05-16T11:31:37.319Z"
   },
   {
    "duration": 169,
    "start_time": "2023-05-16T11:31:37.490Z"
   },
   {
    "duration": 2075,
    "start_time": "2023-05-16T11:31:37.661Z"
   },
   {
    "duration": 8,
    "start_time": "2023-05-16T11:31:39.737Z"
   },
   {
    "duration": 408,
    "start_time": "2023-05-16T11:31:39.746Z"
   },
   {
    "duration": 17,
    "start_time": "2023-05-16T11:31:40.157Z"
   },
   {
    "duration": 179,
    "start_time": "2023-05-16T11:31:40.176Z"
   },
   {
    "duration": 119,
    "start_time": "2023-05-16T11:31:40.357Z"
   },
   {
    "duration": 182,
    "start_time": "2023-05-16T11:31:40.477Z"
   },
   {
    "duration": 169,
    "start_time": "2023-05-16T11:31:40.665Z"
   },
   {
    "duration": 124,
    "start_time": "2023-05-16T11:31:40.836Z"
   },
   {
    "duration": 147,
    "start_time": "2023-05-16T11:31:40.962Z"
   },
   {
    "duration": 23,
    "start_time": "2023-05-16T11:31:41.112Z"
   },
   {
    "duration": 15,
    "start_time": "2023-05-16T11:31:41.139Z"
   },
   {
    "duration": 295,
    "start_time": "2023-05-16T11:31:41.156Z"
   },
   {
    "duration": 80,
    "start_time": "2023-05-16T11:35:06.625Z"
   },
   {
    "duration": 9,
    "start_time": "2023-05-16T11:35:15.831Z"
   },
   {
    "duration": 5,
    "start_time": "2023-05-16T11:35:23.064Z"
   },
   {
    "duration": 8,
    "start_time": "2023-05-16T11:36:05.156Z"
   },
   {
    "duration": 4,
    "start_time": "2023-05-16T11:36:15.198Z"
   },
   {
    "duration": 11,
    "start_time": "2023-05-16T11:36:32.822Z"
   },
   {
    "duration": 5,
    "start_time": "2023-05-16T11:36:42.368Z"
   },
   {
    "duration": 7,
    "start_time": "2023-05-16T11:39:56.456Z"
   },
   {
    "duration": 5,
    "start_time": "2023-05-16T11:40:14.984Z"
   },
   {
    "duration": 5,
    "start_time": "2023-05-16T11:40:16.866Z"
   },
   {
    "duration": 6,
    "start_time": "2023-05-16T11:42:25.468Z"
   },
   {
    "duration": 7,
    "start_time": "2023-05-16T11:42:27.009Z"
   },
   {
    "duration": 85,
    "start_time": "2023-05-16T11:55:34.628Z"
   },
   {
    "duration": 4,
    "start_time": "2023-05-16T11:55:34.718Z"
   },
   {
    "duration": 29,
    "start_time": "2023-05-16T11:55:34.724Z"
   },
   {
    "duration": 8,
    "start_time": "2023-05-16T11:55:34.755Z"
   },
   {
    "duration": 25,
    "start_time": "2023-05-16T11:55:34.765Z"
   },
   {
    "duration": 19,
    "start_time": "2023-05-16T11:55:34.791Z"
   },
   {
    "duration": 335,
    "start_time": "2023-05-16T11:55:34.813Z"
   },
   {
    "duration": 8,
    "start_time": "2023-05-16T11:55:35.149Z"
   },
   {
    "duration": 922,
    "start_time": "2023-05-16T11:55:35.158Z"
   },
   {
    "duration": 49,
    "start_time": "2023-05-16T11:55:36.082Z"
   },
   {
    "duration": 14,
    "start_time": "2023-05-16T11:55:36.133Z"
   },
   {
    "duration": 4,
    "start_time": "2023-05-16T11:55:36.149Z"
   },
   {
    "duration": 219,
    "start_time": "2023-05-16T11:55:36.155Z"
   },
   {
    "duration": 450,
    "start_time": "2023-05-16T11:55:36.377Z"
   },
   {
    "duration": 144,
    "start_time": "2023-05-16T11:55:36.829Z"
   },
   {
    "duration": 174,
    "start_time": "2023-05-16T11:55:36.975Z"
   },
   {
    "duration": 1916,
    "start_time": "2023-05-16T11:55:37.151Z"
   },
   {
    "duration": 7,
    "start_time": "2023-05-16T11:55:39.068Z"
   },
   {
    "duration": 311,
    "start_time": "2023-05-16T11:55:39.076Z"
   },
   {
    "duration": 20,
    "start_time": "2023-05-16T11:55:39.388Z"
   },
   {
    "duration": 142,
    "start_time": "2023-05-16T11:55:39.410Z"
   },
   {
    "duration": 115,
    "start_time": "2023-05-16T11:55:39.554Z"
   },
   {
    "duration": 120,
    "start_time": "2023-05-16T11:55:39.670Z"
   },
   {
    "duration": 140,
    "start_time": "2023-05-16T11:55:39.791Z"
   },
   {
    "duration": 120,
    "start_time": "2023-05-16T11:55:39.933Z"
   },
   {
    "duration": 121,
    "start_time": "2023-05-16T11:55:40.054Z"
   },
   {
    "duration": 11,
    "start_time": "2023-05-16T11:55:40.177Z"
   },
   {
    "duration": 29,
    "start_time": "2023-05-16T11:55:40.190Z"
   },
   {
    "duration": 158,
    "start_time": "2023-05-16T11:55:40.220Z"
   },
   {
    "duration": 4,
    "start_time": "2023-05-16T11:55:40.379Z"
   },
   {
    "duration": 5,
    "start_time": "2023-05-16T11:55:40.385Z"
   },
   {
    "duration": 8,
    "start_time": "2023-05-16T11:55:40.391Z"
   },
   {
    "duration": 23,
    "start_time": "2023-05-16T11:55:40.416Z"
   },
   {
    "duration": 94,
    "start_time": "2023-05-16T11:55:45.690Z"
   },
   {
    "duration": 75,
    "start_time": "2023-05-16T11:55:50.455Z"
   },
   {
    "duration": 5,
    "start_time": "2023-05-16T11:55:50.541Z"
   },
   {
    "duration": 16,
    "start_time": "2023-05-16T11:55:50.548Z"
   },
   {
    "duration": 8,
    "start_time": "2023-05-16T11:55:50.565Z"
   },
   {
    "duration": 12,
    "start_time": "2023-05-16T11:55:50.575Z"
   },
   {
    "duration": 23,
    "start_time": "2023-05-16T11:55:50.588Z"
   },
   {
    "duration": 455,
    "start_time": "2023-05-16T11:55:50.613Z"
   },
   {
    "duration": 7,
    "start_time": "2023-05-16T11:55:51.070Z"
   },
   {
    "duration": 924,
    "start_time": "2023-05-16T11:55:51.078Z"
   },
   {
    "duration": 40,
    "start_time": "2023-05-16T11:55:52.005Z"
   },
   {
    "duration": 8,
    "start_time": "2023-05-16T11:55:52.046Z"
   },
   {
    "duration": 19,
    "start_time": "2023-05-16T11:55:52.056Z"
   },
   {
    "duration": 222,
    "start_time": "2023-05-16T11:55:52.077Z"
   },
   {
    "duration": 461,
    "start_time": "2023-05-16T11:55:52.302Z"
   },
   {
    "duration": 194,
    "start_time": "2023-05-16T11:55:52.765Z"
   },
   {
    "duration": 183,
    "start_time": "2023-05-16T11:55:52.961Z"
   },
   {
    "duration": 1967,
    "start_time": "2023-05-16T11:55:53.146Z"
   },
   {
    "duration": 14,
    "start_time": "2023-05-16T11:55:55.117Z"
   },
   {
    "duration": 319,
    "start_time": "2023-05-16T11:55:55.138Z"
   },
   {
    "duration": 12,
    "start_time": "2023-05-16T11:55:55.459Z"
   },
   {
    "duration": 119,
    "start_time": "2023-05-16T11:55:55.472Z"
   },
   {
    "duration": 136,
    "start_time": "2023-05-16T11:55:55.593Z"
   },
   {
    "duration": 118,
    "start_time": "2023-05-16T11:55:55.731Z"
   },
   {
    "duration": 227,
    "start_time": "2023-05-16T11:55:55.850Z"
   },
   {
    "duration": 125,
    "start_time": "2023-05-16T11:55:56.079Z"
   },
   {
    "duration": 147,
    "start_time": "2023-05-16T11:55:56.205Z"
   },
   {
    "duration": 14,
    "start_time": "2023-05-16T11:55:56.354Z"
   },
   {
    "duration": 78,
    "start_time": "2023-05-16T11:55:56.369Z"
   },
   {
    "duration": 219,
    "start_time": "2023-05-16T11:55:56.449Z"
   },
   {
    "duration": 5,
    "start_time": "2023-05-16T11:55:56.670Z"
   },
   {
    "duration": 6,
    "start_time": "2023-05-16T11:55:56.677Z"
   },
   {
    "duration": 38,
    "start_time": "2023-05-16T11:55:56.684Z"
   },
   {
    "duration": 13,
    "start_time": "2023-05-16T11:55:56.723Z"
   },
   {
    "duration": 324,
    "start_time": "2023-05-16T11:56:17.866Z"
   },
   {
    "duration": 111,
    "start_time": "2023-05-16T12:40:59.575Z"
   },
   {
    "duration": 4,
    "start_time": "2023-05-16T12:40:59.687Z"
   },
   {
    "duration": 20,
    "start_time": "2023-05-16T12:40:59.692Z"
   },
   {
    "duration": 11,
    "start_time": "2023-05-16T12:40:59.714Z"
   },
   {
    "duration": 26,
    "start_time": "2023-05-16T12:40:59.727Z"
   },
   {
    "duration": 32,
    "start_time": "2023-05-16T12:40:59.754Z"
   },
   {
    "duration": 406,
    "start_time": "2023-05-16T12:40:59.788Z"
   },
   {
    "duration": 17,
    "start_time": "2023-05-16T12:41:00.196Z"
   },
   {
    "duration": 1090,
    "start_time": "2023-05-16T12:41:00.215Z"
   },
   {
    "duration": 43,
    "start_time": "2023-05-16T12:41:01.310Z"
   },
   {
    "duration": 19,
    "start_time": "2023-05-16T12:41:01.355Z"
   },
   {
    "duration": 29,
    "start_time": "2023-05-16T12:41:01.376Z"
   },
   {
    "duration": 388,
    "start_time": "2023-05-16T12:41:01.409Z"
   },
   {
    "duration": 764,
    "start_time": "2023-05-16T12:41:01.801Z"
   },
   {
    "duration": 230,
    "start_time": "2023-05-16T12:41:02.570Z"
   },
   {
    "duration": 234,
    "start_time": "2023-05-16T12:41:02.802Z"
   },
   {
    "duration": 2622,
    "start_time": "2023-05-16T12:41:03.042Z"
   },
   {
    "duration": 13,
    "start_time": "2023-05-16T12:41:05.670Z"
   },
   {
    "duration": 631,
    "start_time": "2023-05-16T12:41:05.688Z"
   },
   {
    "duration": 21,
    "start_time": "2023-05-16T12:41:06.321Z"
   },
   {
    "duration": 178,
    "start_time": "2023-05-16T12:41:06.343Z"
   },
   {
    "duration": 194,
    "start_time": "2023-05-16T12:41:06.526Z"
   },
   {
    "duration": 178,
    "start_time": "2023-05-16T12:41:06.726Z"
   },
   {
    "duration": 212,
    "start_time": "2023-05-16T12:41:06.906Z"
   },
   {
    "duration": 172,
    "start_time": "2023-05-16T12:41:07.122Z"
   },
   {
    "duration": 194,
    "start_time": "2023-05-16T12:41:07.297Z"
   },
   {
    "duration": 15,
    "start_time": "2023-05-16T12:41:07.497Z"
   },
   {
    "duration": 13,
    "start_time": "2023-05-16T12:41:07.519Z"
   },
   {
    "duration": 198,
    "start_time": "2023-05-16T12:41:07.533Z"
   },
   {
    "duration": 13,
    "start_time": "2023-05-16T12:41:07.735Z"
   },
   {
    "duration": 9,
    "start_time": "2023-05-16T12:41:07.751Z"
   },
   {
    "duration": 36,
    "start_time": "2023-05-16T12:41:07.761Z"
   },
   {
    "duration": 20,
    "start_time": "2023-05-16T12:41:07.802Z"
   },
   {
    "duration": 109,
    "start_time": "2023-05-16T13:51:01.701Z"
   },
   {
    "duration": 9,
    "start_time": "2023-05-16T13:51:01.814Z"
   },
   {
    "duration": 38,
    "start_time": "2023-05-16T13:51:01.831Z"
   },
   {
    "duration": 31,
    "start_time": "2023-05-16T13:51:01.871Z"
   },
   {
    "duration": 61,
    "start_time": "2023-05-16T13:51:01.904Z"
   },
   {
    "duration": 62,
    "start_time": "2023-05-16T13:51:01.967Z"
   },
   {
    "duration": 316,
    "start_time": "2023-05-16T13:51:02.035Z"
   },
   {
    "duration": 9,
    "start_time": "2023-05-16T13:51:02.353Z"
   },
   {
    "duration": 1126,
    "start_time": "2023-05-16T13:51:02.364Z"
   },
   {
    "duration": 43,
    "start_time": "2023-05-16T13:51:03.492Z"
   },
   {
    "duration": 11,
    "start_time": "2023-05-16T13:51:03.540Z"
   },
   {
    "duration": 4,
    "start_time": "2023-05-16T13:51:03.553Z"
   },
   {
    "duration": 241,
    "start_time": "2023-05-16T13:51:03.559Z"
   },
   {
    "duration": 445,
    "start_time": "2023-05-16T13:51:03.802Z"
   },
   {
    "duration": 164,
    "start_time": "2023-05-16T13:51:04.249Z"
   },
   {
    "duration": 159,
    "start_time": "2023-05-16T13:51:04.418Z"
   },
   {
    "duration": 1897,
    "start_time": "2023-05-16T13:51:04.579Z"
   },
   {
    "duration": 7,
    "start_time": "2023-05-16T13:51:06.478Z"
   },
   {
    "duration": 356,
    "start_time": "2023-05-16T13:51:06.486Z"
   },
   {
    "duration": 14,
    "start_time": "2023-05-16T13:51:06.843Z"
   },
   {
    "duration": 118,
    "start_time": "2023-05-16T13:51:06.858Z"
   },
   {
    "duration": 133,
    "start_time": "2023-05-16T13:51:06.978Z"
   },
   {
    "duration": 127,
    "start_time": "2023-05-16T13:51:07.112Z"
   },
   {
    "duration": 129,
    "start_time": "2023-05-16T13:51:07.241Z"
   },
   {
    "duration": 134,
    "start_time": "2023-05-16T13:51:07.371Z"
   },
   {
    "duration": 128,
    "start_time": "2023-05-16T13:51:07.514Z"
   },
   {
    "duration": 13,
    "start_time": "2023-05-16T13:51:07.643Z"
   },
   {
    "duration": 22,
    "start_time": "2023-05-16T13:51:07.658Z"
   },
   {
    "duration": 175,
    "start_time": "2023-05-16T13:51:07.681Z"
   },
   {
    "duration": 5,
    "start_time": "2023-05-16T13:51:07.858Z"
   },
   {
    "duration": 11,
    "start_time": "2023-05-16T13:51:07.864Z"
   },
   {
    "duration": 10,
    "start_time": "2023-05-16T13:51:07.876Z"
   },
   {
    "duration": 4,
    "start_time": "2023-05-16T13:51:07.888Z"
   },
   {
    "duration": 1555,
    "start_time": "2023-05-16T18:37:33.982Z"
   },
   {
    "duration": 3,
    "start_time": "2023-05-16T18:37:35.539Z"
   },
   {
    "duration": 19,
    "start_time": "2023-05-16T18:37:35.543Z"
   },
   {
    "duration": 28,
    "start_time": "2023-05-16T18:37:35.564Z"
   },
   {
    "duration": 18,
    "start_time": "2023-05-16T18:37:35.594Z"
   },
   {
    "duration": 22,
    "start_time": "2023-05-16T18:37:35.613Z"
   },
   {
    "duration": 337,
    "start_time": "2023-05-16T18:37:35.637Z"
   },
   {
    "duration": 8,
    "start_time": "2023-05-16T18:37:35.976Z"
   },
   {
    "duration": 854,
    "start_time": "2023-05-16T18:37:35.985Z"
   },
   {
    "duration": 30,
    "start_time": "2023-05-16T18:37:36.843Z"
   },
   {
    "duration": 8,
    "start_time": "2023-05-16T18:37:36.874Z"
   },
   {
    "duration": 7,
    "start_time": "2023-05-16T18:37:36.883Z"
   },
   {
    "duration": 241,
    "start_time": "2023-05-16T18:37:36.891Z"
   },
   {
    "duration": 478,
    "start_time": "2023-05-16T18:37:37.134Z"
   },
   {
    "duration": 171,
    "start_time": "2023-05-16T18:37:37.613Z"
   },
   {
    "duration": 156,
    "start_time": "2023-05-16T18:37:37.786Z"
   },
   {
    "duration": 1783,
    "start_time": "2023-05-16T18:37:37.944Z"
   },
   {
    "duration": 7,
    "start_time": "2023-05-16T18:37:39.729Z"
   },
   {
    "duration": 297,
    "start_time": "2023-05-16T18:37:39.737Z"
   },
   {
    "duration": 12,
    "start_time": "2023-05-16T18:37:40.036Z"
   },
   {
    "duration": 124,
    "start_time": "2023-05-16T18:37:40.050Z"
   },
   {
    "duration": 116,
    "start_time": "2023-05-16T18:37:40.175Z"
   },
   {
    "duration": 119,
    "start_time": "2023-05-16T18:37:40.293Z"
   },
   {
    "duration": 141,
    "start_time": "2023-05-16T18:37:40.417Z"
   },
   {
    "duration": 124,
    "start_time": "2023-05-16T18:37:40.560Z"
   },
   {
    "duration": 127,
    "start_time": "2023-05-16T18:37:40.685Z"
   },
   {
    "duration": 16,
    "start_time": "2023-05-16T18:37:40.814Z"
   },
   {
    "duration": 20,
    "start_time": "2023-05-16T18:37:40.835Z"
   },
   {
    "duration": 231,
    "start_time": "2023-05-16T18:37:40.856Z"
   },
   {
    "duration": 4,
    "start_time": "2023-05-16T18:37:41.089Z"
   },
   {
    "duration": 9,
    "start_time": "2023-05-16T18:37:41.094Z"
   },
   {
    "duration": 24,
    "start_time": "2023-05-16T18:37:41.104Z"
   },
   {
    "duration": 7,
    "start_time": "2023-05-16T18:37:41.130Z"
   },
   {
    "duration": 16,
    "start_time": "2023-05-16T18:41:45.534Z"
   },
   {
    "duration": 19,
    "start_time": "2023-05-16T18:45:19.918Z"
   },
   {
    "duration": 3,
    "start_time": "2023-05-16T18:59:59.214Z"
   },
   {
    "duration": 73,
    "start_time": "2023-05-16T18:59:59.219Z"
   },
   {
    "duration": 3,
    "start_time": "2023-05-16T18:59:59.293Z"
   },
   {
    "duration": 13,
    "start_time": "2023-05-16T18:59:59.298Z"
   },
   {
    "duration": 8,
    "start_time": "2023-05-16T18:59:59.316Z"
   },
   {
    "duration": 15,
    "start_time": "2023-05-16T18:59:59.325Z"
   },
   {
    "duration": 14,
    "start_time": "2023-05-16T18:59:59.341Z"
   },
   {
    "duration": 314,
    "start_time": "2023-05-16T18:59:59.356Z"
   },
   {
    "duration": 7,
    "start_time": "2023-05-16T18:59:59.672Z"
   },
   {
    "duration": 831,
    "start_time": "2023-05-16T18:59:59.681Z"
   },
   {
    "duration": 23,
    "start_time": "2023-05-16T19:00:00.517Z"
   },
   {
    "duration": 10,
    "start_time": "2023-05-16T19:00:00.542Z"
   },
   {
    "duration": 16,
    "start_time": "2023-05-16T19:00:00.553Z"
   },
   {
    "duration": 237,
    "start_time": "2023-05-16T19:00:00.572Z"
   },
   {
    "duration": 435,
    "start_time": "2023-05-16T19:00:00.811Z"
   },
   {
    "duration": 159,
    "start_time": "2023-05-16T19:00:01.248Z"
   },
   {
    "duration": 150,
    "start_time": "2023-05-16T19:00:01.419Z"
   },
   {
    "duration": 1825,
    "start_time": "2023-05-16T19:00:01.571Z"
   },
   {
    "duration": 7,
    "start_time": "2023-05-16T19:00:03.398Z"
   },
   {
    "duration": 387,
    "start_time": "2023-05-16T19:00:03.406Z"
   },
   {
    "duration": 23,
    "start_time": "2023-05-16T19:00:03.795Z"
   },
   {
    "duration": 124,
    "start_time": "2023-05-16T19:00:03.820Z"
   },
   {
    "duration": 124,
    "start_time": "2023-05-16T19:00:03.946Z"
   },
   {
    "duration": 125,
    "start_time": "2023-05-16T19:00:04.071Z"
   },
   {
    "duration": 126,
    "start_time": "2023-05-16T19:00:04.198Z"
   },
   {
    "duration": 129,
    "start_time": "2023-05-16T19:00:04.325Z"
   },
   {
    "duration": 154,
    "start_time": "2023-05-16T19:00:04.456Z"
   },
   {
    "duration": 18,
    "start_time": "2023-05-16T19:00:04.612Z"
   },
   {
    "duration": 40,
    "start_time": "2023-05-16T19:00:04.632Z"
   },
   {
    "duration": 184,
    "start_time": "2023-05-16T19:00:04.674Z"
   },
   {
    "duration": 5,
    "start_time": "2023-05-16T19:00:04.861Z"
   },
   {
    "duration": 15,
    "start_time": "2023-05-16T19:00:04.868Z"
   },
   {
    "duration": 31,
    "start_time": "2023-05-16T19:00:04.885Z"
   },
   {
    "duration": 27,
    "start_time": "2023-05-16T19:00:04.918Z"
   },
   {
    "duration": 109,
    "start_time": "2023-05-16T19:01:53.784Z"
   },
   {
    "duration": 0,
    "start_time": "2023-05-16T19:01:53.895Z"
   },
   {
    "duration": 0,
    "start_time": "2023-05-16T19:01:53.896Z"
   },
   {
    "duration": 0,
    "start_time": "2023-05-16T19:01:53.897Z"
   },
   {
    "duration": 0,
    "start_time": "2023-05-16T19:01:53.899Z"
   },
   {
    "duration": 0,
    "start_time": "2023-05-16T19:01:53.900Z"
   },
   {
    "duration": 0,
    "start_time": "2023-05-16T19:01:53.918Z"
   },
   {
    "duration": 0,
    "start_time": "2023-05-16T19:01:53.919Z"
   },
   {
    "duration": 0,
    "start_time": "2023-05-16T19:01:53.920Z"
   },
   {
    "duration": 0,
    "start_time": "2023-05-16T19:01:53.921Z"
   },
   {
    "duration": 0,
    "start_time": "2023-05-16T19:01:53.922Z"
   },
   {
    "duration": 0,
    "start_time": "2023-05-16T19:01:53.923Z"
   },
   {
    "duration": 0,
    "start_time": "2023-05-16T19:01:53.924Z"
   },
   {
    "duration": 0,
    "start_time": "2023-05-16T19:01:53.925Z"
   },
   {
    "duration": 0,
    "start_time": "2023-05-16T19:01:53.926Z"
   },
   {
    "duration": 0,
    "start_time": "2023-05-16T19:01:53.927Z"
   },
   {
    "duration": 0,
    "start_time": "2023-05-16T19:01:53.928Z"
   },
   {
    "duration": 0,
    "start_time": "2023-05-16T19:01:53.929Z"
   },
   {
    "duration": 0,
    "start_time": "2023-05-16T19:01:53.930Z"
   },
   {
    "duration": 0,
    "start_time": "2023-05-16T19:01:53.931Z"
   },
   {
    "duration": 0,
    "start_time": "2023-05-16T19:01:53.932Z"
   },
   {
    "duration": 0,
    "start_time": "2023-05-16T19:01:53.933Z"
   },
   {
    "duration": 0,
    "start_time": "2023-05-16T19:01:53.933Z"
   },
   {
    "duration": 0,
    "start_time": "2023-05-16T19:01:53.934Z"
   },
   {
    "duration": 0,
    "start_time": "2023-05-16T19:01:53.935Z"
   },
   {
    "duration": 0,
    "start_time": "2023-05-16T19:01:53.936Z"
   },
   {
    "duration": 0,
    "start_time": "2023-05-16T19:01:53.937Z"
   },
   {
    "duration": 0,
    "start_time": "2023-05-16T19:01:53.937Z"
   },
   {
    "duration": 0,
    "start_time": "2023-05-16T19:01:53.938Z"
   },
   {
    "duration": 0,
    "start_time": "2023-05-16T19:01:53.939Z"
   },
   {
    "duration": 0,
    "start_time": "2023-05-16T19:01:53.940Z"
   },
   {
    "duration": 0,
    "start_time": "2023-05-16T19:01:53.941Z"
   },
   {
    "duration": 0,
    "start_time": "2023-05-16T19:01:53.942Z"
   },
   {
    "duration": 0,
    "start_time": "2023-05-16T19:01:53.943Z"
   },
   {
    "duration": 0,
    "start_time": "2023-05-16T19:01:53.944Z"
   },
   {
    "duration": 7,
    "start_time": "2023-05-16T19:02:03.950Z"
   },
   {
    "duration": 0,
    "start_time": "2023-05-16T19:02:03.959Z"
   },
   {
    "duration": 0,
    "start_time": "2023-05-16T19:02:03.960Z"
   },
   {
    "duration": 0,
    "start_time": "2023-05-16T19:02:03.961Z"
   },
   {
    "duration": 0,
    "start_time": "2023-05-16T19:02:03.962Z"
   },
   {
    "duration": 0,
    "start_time": "2023-05-16T19:02:03.962Z"
   },
   {
    "duration": 0,
    "start_time": "2023-05-16T19:02:03.964Z"
   },
   {
    "duration": 0,
    "start_time": "2023-05-16T19:02:03.965Z"
   },
   {
    "duration": 0,
    "start_time": "2023-05-16T19:02:03.966Z"
   },
   {
    "duration": 0,
    "start_time": "2023-05-16T19:02:03.966Z"
   },
   {
    "duration": 853,
    "start_time": "2023-05-16T19:02:03.968Z"
   },
   {
    "duration": 24,
    "start_time": "2023-05-16T19:02:04.823Z"
   },
   {
    "duration": 9,
    "start_time": "2023-05-16T19:02:04.849Z"
   },
   {
    "duration": 7,
    "start_time": "2023-05-16T19:02:04.860Z"
   },
   {
    "duration": 308,
    "start_time": "2023-05-16T19:02:04.868Z"
   },
   {
    "duration": 396,
    "start_time": "2023-05-16T19:02:05.178Z"
   },
   {
    "duration": 149,
    "start_time": "2023-05-16T19:02:05.576Z"
   },
   {
    "duration": 155,
    "start_time": "2023-05-16T19:02:05.727Z"
   },
   {
    "duration": 1747,
    "start_time": "2023-05-16T19:02:05.884Z"
   },
   {
    "duration": 6,
    "start_time": "2023-05-16T19:02:07.634Z"
   },
   {
    "duration": 296,
    "start_time": "2023-05-16T19:02:07.642Z"
   },
   {
    "duration": 16,
    "start_time": "2023-05-16T19:02:07.940Z"
   },
   {
    "duration": 124,
    "start_time": "2023-05-16T19:02:07.958Z"
   },
   {
    "duration": 137,
    "start_time": "2023-05-16T19:02:08.084Z"
   },
   {
    "duration": 115,
    "start_time": "2023-05-16T19:02:08.223Z"
   },
   {
    "duration": 121,
    "start_time": "2023-05-16T19:02:08.339Z"
   },
   {
    "duration": 117,
    "start_time": "2023-05-16T19:02:08.461Z"
   },
   {
    "duration": 118,
    "start_time": "2023-05-16T19:02:08.579Z"
   },
   {
    "duration": 19,
    "start_time": "2023-05-16T19:02:08.698Z"
   },
   {
    "duration": 21,
    "start_time": "2023-05-16T19:02:08.719Z"
   },
   {
    "duration": 253,
    "start_time": "2023-05-16T19:02:08.741Z"
   },
   {
    "duration": 4,
    "start_time": "2023-05-16T19:02:08.996Z"
   },
   {
    "duration": 16,
    "start_time": "2023-05-16T19:02:09.001Z"
   },
   {
    "duration": 19,
    "start_time": "2023-05-16T19:02:09.018Z"
   },
   {
    "duration": 19,
    "start_time": "2023-05-16T19:02:09.038Z"
   },
   {
    "duration": 72,
    "start_time": "2023-05-16T19:02:51.451Z"
   },
   {
    "duration": 3017,
    "start_time": "2023-05-16T19:03:51.403Z"
   },
   {
    "duration": 13,
    "start_time": "2023-05-16T19:04:05.684Z"
   },
   {
    "duration": 2180,
    "start_time": "2023-05-16T19:04:12.985Z"
   },
   {
    "duration": 7,
    "start_time": "2023-05-16T19:04:15.167Z"
   },
   {
    "duration": 77,
    "start_time": "2023-05-16T19:04:15.176Z"
   },
   {
    "duration": 3,
    "start_time": "2023-05-16T19:04:15.255Z"
   },
   {
    "duration": 15,
    "start_time": "2023-05-16T19:04:15.260Z"
   },
   {
    "duration": 14,
    "start_time": "2023-05-16T19:04:15.277Z"
   },
   {
    "duration": 756,
    "start_time": "2023-05-16T19:04:15.292Z"
   },
   {
    "duration": 18,
    "start_time": "2023-05-16T19:04:16.049Z"
   },
   {
    "duration": 15,
    "start_time": "2023-05-16T19:04:16.068Z"
   },
   {
    "duration": 318,
    "start_time": "2023-05-16T19:04:16.085Z"
   },
   {
    "duration": 13,
    "start_time": "2023-05-16T19:04:16.405Z"
   },
   {
    "duration": 781,
    "start_time": "2023-05-16T19:04:16.420Z"
   },
   {
    "duration": 32,
    "start_time": "2023-05-16T19:04:17.203Z"
   },
   {
    "duration": 9,
    "start_time": "2023-05-16T19:04:17.239Z"
   },
   {
    "duration": 5,
    "start_time": "2023-05-16T19:04:17.250Z"
   },
   {
    "duration": 237,
    "start_time": "2023-05-16T19:04:17.257Z"
   },
   {
    "duration": 470,
    "start_time": "2023-05-16T19:04:17.496Z"
   },
   {
    "duration": 171,
    "start_time": "2023-05-16T19:04:17.968Z"
   },
   {
    "duration": 282,
    "start_time": "2023-05-16T19:04:18.141Z"
   },
   {
    "duration": 1748,
    "start_time": "2023-05-16T19:04:18.425Z"
   },
   {
    "duration": 6,
    "start_time": "2023-05-16T19:04:20.175Z"
   },
   {
    "duration": 287,
    "start_time": "2023-05-16T19:04:20.183Z"
   },
   {
    "duration": 13,
    "start_time": "2023-05-16T19:04:20.471Z"
   },
   {
    "duration": 228,
    "start_time": "2023-05-16T19:04:20.486Z"
   },
   {
    "duration": 164,
    "start_time": "2023-05-16T19:04:20.717Z"
   },
   {
    "duration": 127,
    "start_time": "2023-05-16T19:04:20.883Z"
   },
   {
    "duration": 145,
    "start_time": "2023-05-16T19:04:21.017Z"
   },
   {
    "duration": 158,
    "start_time": "2023-05-16T19:04:21.164Z"
   },
   {
    "duration": 143,
    "start_time": "2023-05-16T19:04:21.324Z"
   },
   {
    "duration": 12,
    "start_time": "2023-05-16T19:04:21.470Z"
   },
   {
    "duration": 34,
    "start_time": "2023-05-16T19:04:21.484Z"
   },
   {
    "duration": 169,
    "start_time": "2023-05-16T19:04:21.520Z"
   },
   {
    "duration": 6,
    "start_time": "2023-05-16T19:04:21.691Z"
   },
   {
    "duration": 7,
    "start_time": "2023-05-16T19:04:21.698Z"
   },
   {
    "duration": 6,
    "start_time": "2023-05-16T19:04:21.717Z"
   },
   {
    "duration": 18,
    "start_time": "2023-05-16T19:04:21.725Z"
   },
   {
    "duration": 696,
    "start_time": "2023-05-16T19:05:38.379Z"
   },
   {
    "duration": 2216,
    "start_time": "2023-05-16T19:05:50.348Z"
   },
   {
    "duration": 3,
    "start_time": "2023-05-16T19:05:52.567Z"
   },
   {
    "duration": 89,
    "start_time": "2023-05-16T19:05:52.571Z"
   },
   {
    "duration": 3,
    "start_time": "2023-05-16T19:05:52.662Z"
   },
   {
    "duration": 15,
    "start_time": "2023-05-16T19:05:52.666Z"
   },
   {
    "duration": 8,
    "start_time": "2023-05-16T19:05:52.682Z"
   },
   {
    "duration": 856,
    "start_time": "2023-05-16T19:05:52.691Z"
   },
   {
    "duration": 18,
    "start_time": "2023-05-16T19:05:53.549Z"
   },
   {
    "duration": 14,
    "start_time": "2023-05-16T19:05:53.569Z"
   },
   {
    "duration": 319,
    "start_time": "2023-05-16T19:05:53.586Z"
   },
   {
    "duration": 13,
    "start_time": "2023-05-16T19:05:53.906Z"
   },
   {
    "duration": 975,
    "start_time": "2023-05-16T19:05:53.920Z"
   },
   {
    "duration": 34,
    "start_time": "2023-05-16T19:05:54.897Z"
   },
   {
    "duration": 8,
    "start_time": "2023-05-16T19:05:54.933Z"
   },
   {
    "duration": 11,
    "start_time": "2023-05-16T19:05:54.942Z"
   },
   {
    "duration": 205,
    "start_time": "2023-05-16T19:05:54.955Z"
   },
   {
    "duration": 384,
    "start_time": "2023-05-16T19:05:55.162Z"
   },
   {
    "duration": 135,
    "start_time": "2023-05-16T19:05:55.548Z"
   },
   {
    "duration": 154,
    "start_time": "2023-05-16T19:05:55.685Z"
   },
   {
    "duration": 1712,
    "start_time": "2023-05-16T19:05:55.841Z"
   },
   {
    "duration": 7,
    "start_time": "2023-05-16T19:05:57.555Z"
   },
   {
    "duration": 308,
    "start_time": "2023-05-16T19:05:57.563Z"
   },
   {
    "duration": 16,
    "start_time": "2023-05-16T19:05:57.873Z"
   },
   {
    "duration": 146,
    "start_time": "2023-05-16T19:05:57.890Z"
   },
   {
    "duration": 142,
    "start_time": "2023-05-16T19:05:58.038Z"
   },
   {
    "duration": 118,
    "start_time": "2023-05-16T19:05:58.182Z"
   },
   {
    "duration": 150,
    "start_time": "2023-05-16T19:05:58.302Z"
   },
   {
    "duration": 122,
    "start_time": "2023-05-16T19:05:58.456Z"
   },
   {
    "duration": 116,
    "start_time": "2023-05-16T19:05:58.579Z"
   },
   {
    "duration": 21,
    "start_time": "2023-05-16T19:05:58.696Z"
   },
   {
    "duration": 9,
    "start_time": "2023-05-16T19:05:58.719Z"
   },
   {
    "duration": 174,
    "start_time": "2023-05-16T19:05:58.729Z"
   },
   {
    "duration": 4,
    "start_time": "2023-05-16T19:05:58.906Z"
   },
   {
    "duration": 7,
    "start_time": "2023-05-16T19:05:58.917Z"
   },
   {
    "duration": 10,
    "start_time": "2023-05-16T19:05:58.925Z"
   },
   {
    "duration": 6,
    "start_time": "2023-05-16T19:05:58.937Z"
   },
   {
    "duration": 8,
    "start_time": "2023-05-16T19:09:00.575Z"
   },
   {
    "duration": 1373,
    "start_time": "2023-05-16T19:21:37.044Z"
   },
   {
    "duration": 1008,
    "start_time": "2023-05-16T19:21:46.092Z"
   },
   {
    "duration": 124,
    "start_time": "2023-05-16T19:25:53.530Z"
   },
   {
    "duration": 119,
    "start_time": "2023-05-16T19:26:20.047Z"
   },
   {
    "duration": 117,
    "start_time": "2023-05-16T19:26:31.031Z"
   },
   {
    "duration": 118,
    "start_time": "2023-05-16T19:26:53.918Z"
   },
   {
    "duration": 137,
    "start_time": "2023-05-16T19:27:06.122Z"
   },
   {
    "duration": 127,
    "start_time": "2023-05-16T19:27:17.731Z"
   },
   {
    "duration": 2284,
    "start_time": "2023-05-16T19:27:40.234Z"
   },
   {
    "duration": 3,
    "start_time": "2023-05-16T19:27:42.521Z"
   },
   {
    "duration": 77,
    "start_time": "2023-05-16T19:27:42.525Z"
   },
   {
    "duration": 4,
    "start_time": "2023-05-16T19:27:42.603Z"
   },
   {
    "duration": 13,
    "start_time": "2023-05-16T19:27:42.608Z"
   },
   {
    "duration": 7,
    "start_time": "2023-05-16T19:27:42.623Z"
   },
   {
    "duration": 813,
    "start_time": "2023-05-16T19:27:42.632Z"
   },
   {
    "duration": 17,
    "start_time": "2023-05-16T19:27:43.446Z"
   },
   {
    "duration": 8,
    "start_time": "2023-05-16T19:27:43.464Z"
   },
   {
    "duration": 16,
    "start_time": "2023-05-16T19:27:43.474Z"
   },
   {
    "duration": 318,
    "start_time": "2023-05-16T19:27:43.492Z"
   },
   {
    "duration": 10,
    "start_time": "2023-05-16T19:27:43.812Z"
   },
   {
    "duration": 917,
    "start_time": "2023-05-16T19:27:43.823Z"
   },
   {
    "duration": 26,
    "start_time": "2023-05-16T19:27:44.744Z"
   },
   {
    "duration": 8,
    "start_time": "2023-05-16T19:27:44.771Z"
   },
   {
    "duration": 868,
    "start_time": "2023-05-16T19:27:44.780Z"
   },
   {
    "duration": 4,
    "start_time": "2023-05-16T19:27:45.650Z"
   },
   {
    "duration": 227,
    "start_time": "2023-05-16T19:27:45.656Z"
   },
   {
    "duration": 404,
    "start_time": "2023-05-16T19:27:45.885Z"
   },
   {
    "duration": 148,
    "start_time": "2023-05-16T19:27:46.290Z"
   },
   {
    "duration": 164,
    "start_time": "2023-05-16T19:27:46.440Z"
   },
   {
    "duration": 1772,
    "start_time": "2023-05-16T19:27:46.606Z"
   },
   {
    "duration": 7,
    "start_time": "2023-05-16T19:27:48.381Z"
   },
   {
    "duration": 294,
    "start_time": "2023-05-16T19:27:48.390Z"
   },
   {
    "duration": 12,
    "start_time": "2023-05-16T19:27:48.686Z"
   },
   {
    "duration": 133,
    "start_time": "2023-05-16T19:27:48.699Z"
   },
   {
    "duration": 127,
    "start_time": "2023-05-16T19:27:48.834Z"
   },
   {
    "duration": 132,
    "start_time": "2023-05-16T19:27:48.962Z"
   },
   {
    "duration": 128,
    "start_time": "2023-05-16T19:27:49.095Z"
   },
   {
    "duration": 133,
    "start_time": "2023-05-16T19:27:49.224Z"
   },
   {
    "duration": 136,
    "start_time": "2023-05-16T19:27:49.358Z"
   },
   {
    "duration": 12,
    "start_time": "2023-05-16T19:27:49.495Z"
   },
   {
    "duration": 10,
    "start_time": "2023-05-16T19:27:49.517Z"
   },
   {
    "duration": 162,
    "start_time": "2023-05-16T19:27:49.529Z"
   },
   {
    "duration": 4,
    "start_time": "2023-05-16T19:27:49.693Z"
   },
   {
    "duration": 9,
    "start_time": "2023-05-16T19:27:49.699Z"
   },
   {
    "duration": 4,
    "start_time": "2023-05-16T19:27:49.718Z"
   },
   {
    "duration": 7,
    "start_time": "2023-05-16T19:27:49.724Z"
   },
   {
    "duration": 2126,
    "start_time": "2023-05-16T19:28:02.300Z"
   },
   {
    "duration": 4,
    "start_time": "2023-05-16T19:28:04.428Z"
   },
   {
    "duration": 121,
    "start_time": "2023-05-16T19:28:04.435Z"
   },
   {
    "duration": 4,
    "start_time": "2023-05-16T19:28:04.558Z"
   },
   {
    "duration": 28,
    "start_time": "2023-05-16T19:28:04.565Z"
   },
   {
    "duration": 23,
    "start_time": "2023-05-16T19:28:04.596Z"
   },
   {
    "duration": 930,
    "start_time": "2023-05-16T19:28:04.621Z"
   },
   {
    "duration": 21,
    "start_time": "2023-05-16T19:28:05.553Z"
   },
   {
    "duration": 8,
    "start_time": "2023-05-16T19:28:05.575Z"
   },
   {
    "duration": 34,
    "start_time": "2023-05-16T19:28:05.584Z"
   },
   {
    "duration": 434,
    "start_time": "2023-05-16T19:28:05.620Z"
   },
   {
    "duration": 8,
    "start_time": "2023-05-16T19:28:06.055Z"
   },
   {
    "duration": 807,
    "start_time": "2023-05-16T19:28:06.064Z"
   },
   {
    "duration": 42,
    "start_time": "2023-05-16T19:28:06.876Z"
   },
   {
    "duration": 11,
    "start_time": "2023-05-16T19:28:06.920Z"
   },
   {
    "duration": 892,
    "start_time": "2023-05-16T19:28:06.933Z"
   },
   {
    "duration": 5,
    "start_time": "2023-05-16T19:28:07.826Z"
   },
   {
    "duration": 220,
    "start_time": "2023-05-16T19:28:07.833Z"
   },
   {
    "duration": 413,
    "start_time": "2023-05-16T19:28:08.055Z"
   },
   {
    "duration": 151,
    "start_time": "2023-05-16T19:28:08.470Z"
   },
   {
    "duration": 149,
    "start_time": "2023-05-16T19:28:08.622Z"
   },
   {
    "duration": 1765,
    "start_time": "2023-05-16T19:28:08.772Z"
   },
   {
    "duration": 6,
    "start_time": "2023-05-16T19:28:10.539Z"
   },
   {
    "duration": 300,
    "start_time": "2023-05-16T19:28:10.547Z"
   },
   {
    "duration": 23,
    "start_time": "2023-05-16T19:28:10.849Z"
   },
   {
    "duration": 127,
    "start_time": "2023-05-16T19:28:10.877Z"
   },
   {
    "duration": 125,
    "start_time": "2023-05-16T19:28:11.006Z"
   },
   {
    "duration": 127,
    "start_time": "2023-05-16T19:28:11.133Z"
   },
   {
    "duration": 133,
    "start_time": "2023-05-16T19:28:11.262Z"
   },
   {
    "duration": 132,
    "start_time": "2023-05-16T19:28:11.396Z"
   },
   {
    "duration": 134,
    "start_time": "2023-05-16T19:28:11.529Z"
   },
   {
    "duration": 11,
    "start_time": "2023-05-16T19:28:11.665Z"
   },
   {
    "duration": 11,
    "start_time": "2023-05-16T19:28:11.678Z"
   },
   {
    "duration": 175,
    "start_time": "2023-05-16T19:28:11.691Z"
   },
   {
    "duration": 5,
    "start_time": "2023-05-16T19:28:11.868Z"
   },
   {
    "duration": 9,
    "start_time": "2023-05-16T19:28:11.875Z"
   },
   {
    "duration": 14,
    "start_time": "2023-05-16T19:28:11.886Z"
   },
   {
    "duration": 19,
    "start_time": "2023-05-16T19:28:11.902Z"
   },
   {
    "duration": 2164,
    "start_time": "2023-05-16T19:36:00.125Z"
   },
   {
    "duration": 3,
    "start_time": "2023-05-16T19:36:02.292Z"
   },
   {
    "duration": 130,
    "start_time": "2023-05-16T19:36:02.297Z"
   },
   {
    "duration": 3,
    "start_time": "2023-05-16T19:36:02.430Z"
   },
   {
    "duration": 80,
    "start_time": "2023-05-16T19:36:02.435Z"
   },
   {
    "duration": 54,
    "start_time": "2023-05-16T19:36:02.516Z"
   },
   {
    "duration": 873,
    "start_time": "2023-05-16T19:36:02.571Z"
   },
   {
    "duration": 18,
    "start_time": "2023-05-16T19:36:03.445Z"
   },
   {
    "duration": 15,
    "start_time": "2023-05-16T19:36:03.464Z"
   },
   {
    "duration": 34,
    "start_time": "2023-05-16T19:36:03.482Z"
   },
   {
    "duration": 457,
    "start_time": "2023-05-16T19:36:03.517Z"
   },
   {
    "duration": 7,
    "start_time": "2023-05-16T19:36:03.975Z"
   },
   {
    "duration": 868,
    "start_time": "2023-05-16T19:36:03.984Z"
   },
   {
    "duration": 23,
    "start_time": "2023-05-16T19:36:04.853Z"
   },
   {
    "duration": 9,
    "start_time": "2023-05-16T19:36:04.877Z"
   },
   {
    "duration": 903,
    "start_time": "2023-05-16T19:36:04.887Z"
   },
   {
    "duration": 4,
    "start_time": "2023-05-16T19:36:05.793Z"
   },
   {
    "duration": 221,
    "start_time": "2023-05-16T19:36:05.798Z"
   },
   {
    "duration": 412,
    "start_time": "2023-05-16T19:36:06.021Z"
   },
   {
    "duration": 148,
    "start_time": "2023-05-16T19:36:06.435Z"
   },
   {
    "duration": 158,
    "start_time": "2023-05-16T19:36:06.584Z"
   },
   {
    "duration": 1918,
    "start_time": "2023-05-16T19:36:06.744Z"
   },
   {
    "duration": 8,
    "start_time": "2023-05-16T19:36:08.663Z"
   },
   {
    "duration": 333,
    "start_time": "2023-05-16T19:36:08.672Z"
   },
   {
    "duration": 16,
    "start_time": "2023-05-16T19:36:09.006Z"
   },
   {
    "duration": 132,
    "start_time": "2023-05-16T19:36:09.024Z"
   },
   {
    "duration": 130,
    "start_time": "2023-05-16T19:36:09.158Z"
   },
   {
    "duration": 133,
    "start_time": "2023-05-16T19:36:09.292Z"
   },
   {
    "duration": 134,
    "start_time": "2023-05-16T19:36:09.427Z"
   },
   {
    "duration": 129,
    "start_time": "2023-05-16T19:36:09.562Z"
   },
   {
    "duration": 129,
    "start_time": "2023-05-16T19:36:09.693Z"
   },
   {
    "duration": 14,
    "start_time": "2023-05-16T19:36:09.824Z"
   },
   {
    "duration": 18,
    "start_time": "2023-05-16T19:36:09.840Z"
   },
   {
    "duration": 154,
    "start_time": "2023-05-16T19:36:09.859Z"
   },
   {
    "duration": 6,
    "start_time": "2023-05-16T19:36:10.018Z"
   },
   {
    "duration": 11,
    "start_time": "2023-05-16T19:36:10.026Z"
   },
   {
    "duration": 20,
    "start_time": "2023-05-16T19:36:10.039Z"
   },
   {
    "duration": 8,
    "start_time": "2023-05-16T19:36:10.060Z"
   }
  ],
  "kernelspec": {
   "display_name": "Python 3 (ipykernel)",
   "language": "python",
   "name": "python3"
  },
  "language_info": {
   "codemirror_mode": {
    "name": "ipython",
    "version": 3
   },
   "file_extension": ".py",
   "mimetype": "text/x-python",
   "name": "python",
   "nbconvert_exporter": "python",
   "pygments_lexer": "ipython3",
   "version": "3.9.5"
  },
  "toc": {
   "base_numbering": 1,
   "nav_menu": {},
   "number_sections": true,
   "sideBar": true,
   "skip_h1_title": true,
   "title_cell": "Table of Contents",
   "title_sidebar": "Contents",
   "toc_cell": false,
   "toc_position": {},
   "toc_section_display": true,
   "toc_window_display": false
  }
 },
 "nbformat": 4,
 "nbformat_minor": 2
}
