{
 "cells": [
  {
   "cell_type": "markdown",
   "metadata": {},
   "source": [
    "# Исследование объявлений о продаже квартир\n",
    "\n",
    "В вашем распоряжении данные сервиса Яндекс.Недвижимость — архив объявлений о продаже квартир в Санкт-Петербурге и соседних населённых пунктов за несколько лет. Нужно научиться определять рыночную стоимость объектов недвижимости. Ваша задача — установить параметры. Это позволит построить автоматизированную систему: она отследит аномалии и мошенническую деятельность. \n",
    "\n",
    "По каждой квартире на продажу доступны два вида данных. Первые вписаны пользователем, вторые — получены автоматически на основе картографических данных. Например, расстояние до центра, аэропорта, ближайшего парка и водоёма. "
   ]
  },
  {
   "cell_type": "markdown",
   "metadata": {},
   "source": [
    "### Откройте файл с данными и изучите общую информацию. "
   ]
  },
  {
   "cell_type": "code",
   "execution_count": 12,
   "metadata": {
    "scrolled": true
   },
   "outputs": [
    {
     "name": "stdout",
     "output_type": "stream",
     "text": [
      "<class 'pandas.core.frame.DataFrame'>\n",
      "RangeIndex: 23699 entries, 0 to 23698\n",
      "Data columns (total 22 columns):\n",
      " #   Column                Non-Null Count  Dtype  \n",
      "---  ------                --------------  -----  \n",
      " 0   total_images          23699 non-null  int64  \n",
      " 1   last_price            23699 non-null  float64\n",
      " 2   total_area            23699 non-null  float64\n",
      " 3   first_day_exposition  23699 non-null  object \n",
      " 4   rooms                 23699 non-null  int64  \n",
      " 5   ceiling_height        14504 non-null  float64\n",
      " 6   floors_total          23613 non-null  float64\n",
      " 7   living_area           21796 non-null  float64\n",
      " 8   floor                 23699 non-null  int64  \n",
      " 9   is_apartment          2775 non-null   object \n",
      " 10  studio                23699 non-null  bool   \n",
      " 11  open_plan             23699 non-null  bool   \n",
      " 12  kitchen_area          21421 non-null  float64\n",
      " 13  balcony               12180 non-null  float64\n",
      " 14  locality_name         23650 non-null  object \n",
      " 15  airports_nearest      18157 non-null  float64\n",
      " 16  cityCenters_nearest   18180 non-null  float64\n",
      " 17  parks_around3000      18181 non-null  float64\n",
      " 18  parks_nearest         8079 non-null   float64\n",
      " 19  ponds_around3000      18181 non-null  float64\n",
      " 20  ponds_nearest         9110 non-null   float64\n",
      " 21  days_exposition       20518 non-null  float64\n",
      "dtypes: bool(2), float64(14), int64(3), object(3)\n",
      "memory usage: 3.7+ MB\n"
     ]
    },
    {
     "data": {
      "text/html": [
       "<div>\n",
       "<style scoped>\n",
       "    .dataframe tbody tr th:only-of-type {\n",
       "        vertical-align: middle;\n",
       "    }\n",
       "\n",
       "    .dataframe tbody tr th {\n",
       "        vertical-align: top;\n",
       "    }\n",
       "\n",
       "    .dataframe thead th {\n",
       "        text-align: right;\n",
       "    }\n",
       "</style>\n",
       "<table border=\"1\" class=\"dataframe\">\n",
       "  <thead>\n",
       "    <tr style=\"text-align: right;\">\n",
       "      <th></th>\n",
       "      <th>total_images</th>\n",
       "      <th>last_price</th>\n",
       "      <th>total_area</th>\n",
       "      <th>first_day_exposition</th>\n",
       "      <th>rooms</th>\n",
       "      <th>ceiling_height</th>\n",
       "      <th>floors_total</th>\n",
       "      <th>living_area</th>\n",
       "      <th>floor</th>\n",
       "      <th>is_apartment</th>\n",
       "      <th>...</th>\n",
       "      <th>kitchen_area</th>\n",
       "      <th>balcony</th>\n",
       "      <th>locality_name</th>\n",
       "      <th>airports_nearest</th>\n",
       "      <th>cityCenters_nearest</th>\n",
       "      <th>parks_around3000</th>\n",
       "      <th>parks_nearest</th>\n",
       "      <th>ponds_around3000</th>\n",
       "      <th>ponds_nearest</th>\n",
       "      <th>days_exposition</th>\n",
       "    </tr>\n",
       "  </thead>\n",
       "  <tbody>\n",
       "    <tr>\n",
       "      <th>0</th>\n",
       "      <td>20</td>\n",
       "      <td>13000000.0</td>\n",
       "      <td>108.00</td>\n",
       "      <td>2019-03-07T00:00:00</td>\n",
       "      <td>3</td>\n",
       "      <td>2.70</td>\n",
       "      <td>16.0</td>\n",
       "      <td>51.00</td>\n",
       "      <td>8</td>\n",
       "      <td>NaN</td>\n",
       "      <td>...</td>\n",
       "      <td>25.00</td>\n",
       "      <td>NaN</td>\n",
       "      <td>Санкт-Петербург</td>\n",
       "      <td>18863.0</td>\n",
       "      <td>16028.0</td>\n",
       "      <td>1.0</td>\n",
       "      <td>482.0</td>\n",
       "      <td>2.0</td>\n",
       "      <td>755.0</td>\n",
       "      <td>NaN</td>\n",
       "    </tr>\n",
       "    <tr>\n",
       "      <th>1</th>\n",
       "      <td>7</td>\n",
       "      <td>3350000.0</td>\n",
       "      <td>40.40</td>\n",
       "      <td>2018-12-04T00:00:00</td>\n",
       "      <td>1</td>\n",
       "      <td>NaN</td>\n",
       "      <td>11.0</td>\n",
       "      <td>18.60</td>\n",
       "      <td>1</td>\n",
       "      <td>NaN</td>\n",
       "      <td>...</td>\n",
       "      <td>11.00</td>\n",
       "      <td>2.0</td>\n",
       "      <td>посёлок Шушары</td>\n",
       "      <td>12817.0</td>\n",
       "      <td>18603.0</td>\n",
       "      <td>0.0</td>\n",
       "      <td>NaN</td>\n",
       "      <td>0.0</td>\n",
       "      <td>NaN</td>\n",
       "      <td>81.0</td>\n",
       "    </tr>\n",
       "    <tr>\n",
       "      <th>2</th>\n",
       "      <td>10</td>\n",
       "      <td>5196000.0</td>\n",
       "      <td>56.00</td>\n",
       "      <td>2015-08-20T00:00:00</td>\n",
       "      <td>2</td>\n",
       "      <td>NaN</td>\n",
       "      <td>5.0</td>\n",
       "      <td>34.30</td>\n",
       "      <td>4</td>\n",
       "      <td>NaN</td>\n",
       "      <td>...</td>\n",
       "      <td>8.30</td>\n",
       "      <td>0.0</td>\n",
       "      <td>Санкт-Петербург</td>\n",
       "      <td>21741.0</td>\n",
       "      <td>13933.0</td>\n",
       "      <td>1.0</td>\n",
       "      <td>90.0</td>\n",
       "      <td>2.0</td>\n",
       "      <td>574.0</td>\n",
       "      <td>558.0</td>\n",
       "    </tr>\n",
       "    <tr>\n",
       "      <th>3</th>\n",
       "      <td>0</td>\n",
       "      <td>64900000.0</td>\n",
       "      <td>159.00</td>\n",
       "      <td>2015-07-24T00:00:00</td>\n",
       "      <td>3</td>\n",
       "      <td>NaN</td>\n",
       "      <td>14.0</td>\n",
       "      <td>NaN</td>\n",
       "      <td>9</td>\n",
       "      <td>NaN</td>\n",
       "      <td>...</td>\n",
       "      <td>NaN</td>\n",
       "      <td>0.0</td>\n",
       "      <td>Санкт-Петербург</td>\n",
       "      <td>28098.0</td>\n",
       "      <td>6800.0</td>\n",
       "      <td>2.0</td>\n",
       "      <td>84.0</td>\n",
       "      <td>3.0</td>\n",
       "      <td>234.0</td>\n",
       "      <td>424.0</td>\n",
       "    </tr>\n",
       "    <tr>\n",
       "      <th>4</th>\n",
       "      <td>2</td>\n",
       "      <td>10000000.0</td>\n",
       "      <td>100.00</td>\n",
       "      <td>2018-06-19T00:00:00</td>\n",
       "      <td>2</td>\n",
       "      <td>3.03</td>\n",
       "      <td>14.0</td>\n",
       "      <td>32.00</td>\n",
       "      <td>13</td>\n",
       "      <td>NaN</td>\n",
       "      <td>...</td>\n",
       "      <td>41.00</td>\n",
       "      <td>NaN</td>\n",
       "      <td>Санкт-Петербург</td>\n",
       "      <td>31856.0</td>\n",
       "      <td>8098.0</td>\n",
       "      <td>2.0</td>\n",
       "      <td>112.0</td>\n",
       "      <td>1.0</td>\n",
       "      <td>48.0</td>\n",
       "      <td>121.0</td>\n",
       "    </tr>\n",
       "    <tr>\n",
       "      <th>5</th>\n",
       "      <td>10</td>\n",
       "      <td>2890000.0</td>\n",
       "      <td>30.40</td>\n",
       "      <td>2018-09-10T00:00:00</td>\n",
       "      <td>1</td>\n",
       "      <td>NaN</td>\n",
       "      <td>12.0</td>\n",
       "      <td>14.40</td>\n",
       "      <td>5</td>\n",
       "      <td>NaN</td>\n",
       "      <td>...</td>\n",
       "      <td>9.10</td>\n",
       "      <td>NaN</td>\n",
       "      <td>городской посёлок Янино-1</td>\n",
       "      <td>NaN</td>\n",
       "      <td>NaN</td>\n",
       "      <td>NaN</td>\n",
       "      <td>NaN</td>\n",
       "      <td>NaN</td>\n",
       "      <td>NaN</td>\n",
       "      <td>55.0</td>\n",
       "    </tr>\n",
       "    <tr>\n",
       "      <th>6</th>\n",
       "      <td>6</td>\n",
       "      <td>3700000.0</td>\n",
       "      <td>37.30</td>\n",
       "      <td>2017-11-02T00:00:00</td>\n",
       "      <td>1</td>\n",
       "      <td>NaN</td>\n",
       "      <td>26.0</td>\n",
       "      <td>10.60</td>\n",
       "      <td>6</td>\n",
       "      <td>NaN</td>\n",
       "      <td>...</td>\n",
       "      <td>14.40</td>\n",
       "      <td>1.0</td>\n",
       "      <td>посёлок Парголово</td>\n",
       "      <td>52996.0</td>\n",
       "      <td>19143.0</td>\n",
       "      <td>0.0</td>\n",
       "      <td>NaN</td>\n",
       "      <td>0.0</td>\n",
       "      <td>NaN</td>\n",
       "      <td>155.0</td>\n",
       "    </tr>\n",
       "    <tr>\n",
       "      <th>7</th>\n",
       "      <td>5</td>\n",
       "      <td>7915000.0</td>\n",
       "      <td>71.60</td>\n",
       "      <td>2019-04-18T00:00:00</td>\n",
       "      <td>2</td>\n",
       "      <td>NaN</td>\n",
       "      <td>24.0</td>\n",
       "      <td>NaN</td>\n",
       "      <td>22</td>\n",
       "      <td>NaN</td>\n",
       "      <td>...</td>\n",
       "      <td>18.90</td>\n",
       "      <td>2.0</td>\n",
       "      <td>Санкт-Петербург</td>\n",
       "      <td>23982.0</td>\n",
       "      <td>11634.0</td>\n",
       "      <td>0.0</td>\n",
       "      <td>NaN</td>\n",
       "      <td>0.0</td>\n",
       "      <td>NaN</td>\n",
       "      <td>NaN</td>\n",
       "    </tr>\n",
       "    <tr>\n",
       "      <th>8</th>\n",
       "      <td>20</td>\n",
       "      <td>2900000.0</td>\n",
       "      <td>33.16</td>\n",
       "      <td>2018-05-23T00:00:00</td>\n",
       "      <td>1</td>\n",
       "      <td>NaN</td>\n",
       "      <td>27.0</td>\n",
       "      <td>15.43</td>\n",
       "      <td>26</td>\n",
       "      <td>NaN</td>\n",
       "      <td>...</td>\n",
       "      <td>8.81</td>\n",
       "      <td>NaN</td>\n",
       "      <td>посёлок Мурино</td>\n",
       "      <td>NaN</td>\n",
       "      <td>NaN</td>\n",
       "      <td>NaN</td>\n",
       "      <td>NaN</td>\n",
       "      <td>NaN</td>\n",
       "      <td>NaN</td>\n",
       "      <td>189.0</td>\n",
       "    </tr>\n",
       "    <tr>\n",
       "      <th>9</th>\n",
       "      <td>18</td>\n",
       "      <td>5400000.0</td>\n",
       "      <td>61.00</td>\n",
       "      <td>2017-02-26T00:00:00</td>\n",
       "      <td>3</td>\n",
       "      <td>2.50</td>\n",
       "      <td>9.0</td>\n",
       "      <td>43.60</td>\n",
       "      <td>7</td>\n",
       "      <td>NaN</td>\n",
       "      <td>...</td>\n",
       "      <td>6.50</td>\n",
       "      <td>2.0</td>\n",
       "      <td>Санкт-Петербург</td>\n",
       "      <td>50898.0</td>\n",
       "      <td>15008.0</td>\n",
       "      <td>0.0</td>\n",
       "      <td>NaN</td>\n",
       "      <td>0.0</td>\n",
       "      <td>NaN</td>\n",
       "      <td>289.0</td>\n",
       "    </tr>\n",
       "  </tbody>\n",
       "</table>\n",
       "<p>10 rows × 22 columns</p>\n",
       "</div>"
      ],
      "text/plain": [
       "   total_images  last_price  total_area first_day_exposition  rooms  \\\n",
       "0            20  13000000.0      108.00  2019-03-07T00:00:00      3   \n",
       "1             7   3350000.0       40.40  2018-12-04T00:00:00      1   \n",
       "2            10   5196000.0       56.00  2015-08-20T00:00:00      2   \n",
       "3             0  64900000.0      159.00  2015-07-24T00:00:00      3   \n",
       "4             2  10000000.0      100.00  2018-06-19T00:00:00      2   \n",
       "5            10   2890000.0       30.40  2018-09-10T00:00:00      1   \n",
       "6             6   3700000.0       37.30  2017-11-02T00:00:00      1   \n",
       "7             5   7915000.0       71.60  2019-04-18T00:00:00      2   \n",
       "8            20   2900000.0       33.16  2018-05-23T00:00:00      1   \n",
       "9            18   5400000.0       61.00  2017-02-26T00:00:00      3   \n",
       "\n",
       "   ceiling_height  floors_total  living_area  floor is_apartment  ...  \\\n",
       "0            2.70          16.0        51.00      8          NaN  ...   \n",
       "1             NaN          11.0        18.60      1          NaN  ...   \n",
       "2             NaN           5.0        34.30      4          NaN  ...   \n",
       "3             NaN          14.0          NaN      9          NaN  ...   \n",
       "4            3.03          14.0        32.00     13          NaN  ...   \n",
       "5             NaN          12.0        14.40      5          NaN  ...   \n",
       "6             NaN          26.0        10.60      6          NaN  ...   \n",
       "7             NaN          24.0          NaN     22          NaN  ...   \n",
       "8             NaN          27.0        15.43     26          NaN  ...   \n",
       "9            2.50           9.0        43.60      7          NaN  ...   \n",
       "\n",
       "   kitchen_area  balcony              locality_name  airports_nearest  \\\n",
       "0         25.00      NaN            Санкт-Петербург           18863.0   \n",
       "1         11.00      2.0             посёлок Шушары           12817.0   \n",
       "2          8.30      0.0            Санкт-Петербург           21741.0   \n",
       "3           NaN      0.0            Санкт-Петербург           28098.0   \n",
       "4         41.00      NaN            Санкт-Петербург           31856.0   \n",
       "5          9.10      NaN  городской посёлок Янино-1               NaN   \n",
       "6         14.40      1.0          посёлок Парголово           52996.0   \n",
       "7         18.90      2.0            Санкт-Петербург           23982.0   \n",
       "8          8.81      NaN             посёлок Мурино               NaN   \n",
       "9          6.50      2.0            Санкт-Петербург           50898.0   \n",
       "\n",
       "  cityCenters_nearest  parks_around3000  parks_nearest  ponds_around3000  \\\n",
       "0             16028.0               1.0          482.0               2.0   \n",
       "1             18603.0               0.0            NaN               0.0   \n",
       "2             13933.0               1.0           90.0               2.0   \n",
       "3              6800.0               2.0           84.0               3.0   \n",
       "4              8098.0               2.0          112.0               1.0   \n",
       "5                 NaN               NaN            NaN               NaN   \n",
       "6             19143.0               0.0            NaN               0.0   \n",
       "7             11634.0               0.0            NaN               0.0   \n",
       "8                 NaN               NaN            NaN               NaN   \n",
       "9             15008.0               0.0            NaN               0.0   \n",
       "\n",
       "   ponds_nearest  days_exposition  \n",
       "0          755.0              NaN  \n",
       "1            NaN             81.0  \n",
       "2          574.0            558.0  \n",
       "3          234.0            424.0  \n",
       "4           48.0            121.0  \n",
       "5            NaN             55.0  \n",
       "6            NaN            155.0  \n",
       "7            NaN              NaN  \n",
       "8            NaN            189.0  \n",
       "9            NaN            289.0  \n",
       "\n",
       "[10 rows x 22 columns]"
      ]
     },
     "execution_count": 12,
     "metadata": {},
     "output_type": "execute_result"
    }
   ],
   "source": [
    "import pandas as pd\n",
    "import matplotlib.pyplot as plt\n",
    "import numpy as np\n",
    "data=pd.read_csv('/datasets/real_estate_data.csv', sep='\\t')\n",
    "data.info()\n",
    "data.head(10)\n"
   ]
  },
  {
   "cell_type": "code",
   "execution_count": 13,
   "metadata": {
    "scrolled": true
   },
   "outputs": [
    {
     "data": {
      "text/plain": [
       "array([[<AxesSubplot:title={'center':'total_images'}>,\n",
       "        <AxesSubplot:title={'center':'last_price'}>,\n",
       "        <AxesSubplot:title={'center':'total_area'}>,\n",
       "        <AxesSubplot:title={'center':'rooms'}>],\n",
       "       [<AxesSubplot:title={'center':'ceiling_height'}>,\n",
       "        <AxesSubplot:title={'center':'floors_total'}>,\n",
       "        <AxesSubplot:title={'center':'living_area'}>,\n",
       "        <AxesSubplot:title={'center':'floor'}>],\n",
       "       [<AxesSubplot:title={'center':'kitchen_area'}>,\n",
       "        <AxesSubplot:title={'center':'balcony'}>,\n",
       "        <AxesSubplot:title={'center':'airports_nearest'}>,\n",
       "        <AxesSubplot:title={'center':'cityCenters_nearest'}>],\n",
       "       [<AxesSubplot:title={'center':'parks_around3000'}>,\n",
       "        <AxesSubplot:title={'center':'parks_nearest'}>,\n",
       "        <AxesSubplot:title={'center':'ponds_around3000'}>,\n",
       "        <AxesSubplot:title={'center':'ponds_nearest'}>],\n",
       "       [<AxesSubplot:title={'center':'days_exposition'}>, <AxesSubplot:>,\n",
       "        <AxesSubplot:>, <AxesSubplot:>]], dtype=object)"
      ]
     },
     "execution_count": 13,
     "metadata": {},
     "output_type": "execute_result"
    },
    {
     "data": {
      "image/png": "[encoded data removed]",
      "text/plain": [
       "<Figure size 1080x1440 with 20 Axes>"
      ]
     },
     "metadata": {
      "needs_background": "light"
     },
     "output_type": "display_data"
    }
   ],
   "source": [
    "data.hist(figsize=(15, 20))"
   ]
  },
  {
   "cell_type": "markdown",
   "metadata": {},
   "source": [
    "### Предобработка данных"
   ]
  },
  {
   "cell_type": "code",
   "execution_count": 14,
   "metadata": {
    "scrolled": true
   },
   "outputs": [
    {
     "data": {
      "text/plain": [
       "total_images                0\n",
       "last_price                  0\n",
       "total_area                  0\n",
       "first_day_exposition        0\n",
       "rooms                       0\n",
       "ceiling_height           9195\n",
       "floors_total               86\n",
       "living_area              1903\n",
       "floor                       0\n",
       "is_apartment            20924\n",
       "studio                      0\n",
       "open_plan                   0\n",
       "kitchen_area             2278\n",
       "balcony                 11519\n",
       "locality_name              49\n",
       "airports_nearest         5542\n",
       "cityCenters_nearest      5519\n",
       "parks_around3000         5518\n",
       "parks_nearest           15620\n",
       "ponds_around3000         5518\n",
       "ponds_nearest           14589\n",
       "days_exposition          3181\n",
       "dtype: int64"
      ]
     },
     "execution_count": 14,
     "metadata": {},
     "output_type": "execute_result"
    }
   ],
   "source": [
    "data.isna().sum()"
   ]
  },
  {
   "cell_type": "markdown",
   "metadata": {},
   "source": [
    "<div class=\"alert alert-block alert-info\">\n",
    "подсчитваю количество пропусков по столбцам\n",
    "\n",
    "в основных параметрах пропусков почти нет\n",
    "    \n",
    "скорее всего большое количество пропусков в остальных параметрах вызвано тем, что эти графы являются необязательными при заполнении \n",
    "</div>"
   ]
  },
  {
   "cell_type": "code",
   "execution_count": 15,
   "metadata": {},
   "outputs": [
    {
     "name": "stdout",
     "output_type": "stream",
     "text": [
      "<class 'pandas.core.frame.DataFrame'>\n",
      "RangeIndex: 23699 entries, 0 to 23698\n",
      "Data columns (total 22 columns):\n",
      " #   Column                Non-Null Count  Dtype  \n",
      "---  ------                --------------  -----  \n",
      " 0   total_images          23699 non-null  int64  \n",
      " 1   last_price            23699 non-null  float64\n",
      " 2   total_area            23699 non-null  float64\n",
      " 3   first_day_exposition  23699 non-null  object \n",
      " 4   rooms                 23699 non-null  int64  \n",
      " 5   ceiling_height        14504 non-null  float64\n",
      " 6   floors_total          23699 non-null  float64\n",
      " 7   living_area           23699 non-null  float64\n",
      " 8   floor                 23699 non-null  int64  \n",
      " 9   is_apartment          23699 non-null  bool   \n",
      " 10  studio                23699 non-null  bool   \n",
      " 11  open_plan             23699 non-null  bool   \n",
      " 12  kitchen_area          23699 non-null  float64\n",
      " 13  balcony               23699 non-null  float64\n",
      " 14  locality_name         23699 non-null  object \n",
      " 15  airports_nearest      18157 non-null  float64\n",
      " 16  cityCenters_nearest   18180 non-null  float64\n",
      " 17  parks_around3000      18181 non-null  float64\n",
      " 18  parks_nearest         8079 non-null   float64\n",
      " 19  ponds_around3000      18181 non-null  float64\n",
      " 20  ponds_nearest         9110 non-null   float64\n",
      " 21  days_exposition       20518 non-null  float64\n",
      "dtypes: bool(3), float64(14), int64(3), object(2)\n",
      "memory usage: 3.5+ MB\n"
     ]
    }
   ],
   "source": [
    "data['balcony']=data['balcony'].fillna(0)\n",
    "data['is_apartment']=data['is_apartment'].fillna(False)\n",
    "data['floors_total']=data['floors_total'].fillna(100)\n",
    "data['locality_name']=data['locality_name'].fillna('Не указан')\n",
    "data['living_area']=data['living_area'].fillna(data['total_area']*(data['living_area'].mean()/data['total_area'].mean()))\n",
    "data['kitchen_area']=data['living_area'].fillna(data['total_area']*(data['kitchen_area'].mean()/data['total_area'].mean()))\n",
    "data.info()"
   ]
  },
  {
   "cell_type": "markdown",
   "metadata": {},
   "source": [
    "<div class=\"alert alert-block alert-info\">\n",
    "заполняю значения только там, где это нужно для дальнейшего анализа, что бы не создавать синтетические данные\n",
    "    \n",
    "<b>дозаполнил пропуски в kitchen area и living area </b>   \n",
    "</div>"
   ]
  },
  {
   "cell_type": "code",
   "execution_count": null,
   "metadata": {},
   "outputs": [],
   "source": [
    "data.info()\n",
    "data['is_apartment']=data['is_apartment'].astype('bool')\n",
    "data['first_day_exposition']=pd.to_datetime(data['first_day_exposition'])\n",
    "data['balcony']=data['balcony'].astype('int32')\n",
    "data['floors_total']=data['floors_total'].astype('int32')\n",
    "data.info()"
   ]
  },
  {
   "cell_type": "code",
   "execution_count": 17,
   "metadata": {
    "scrolled": true
   },
   "outputs": [
    {
     "data": {
      "text/plain": [
       "array([' лесная поляна', 'агалатово', 'александровская', 'алексеевка',\n",
       "       'аннино', 'аро', 'барышево', 'батово', 'бегуницы', 'белогорка',\n",
       "       'белоостров', 'бокситогорск', 'большая вруда', 'большая ижора',\n",
       "       'большая пустомержа', 'большие колпаны', 'большое рейзино',\n",
       "       'большой сабск', 'бор', 'борисова грива', 'бугры', 'будогощь',\n",
       "       'ваганово', 'важины', 'вартемяги', 'вахнова кара', 'виллози',\n",
       "       'вознесенье', 'возрождение', 'войсковицы', 'войскорово',\n",
       "       'володарское', 'волосово', 'волхов', 'всеволожск', 'выборг',\n",
       "       'вырица', 'выскатка', 'высокоключевой', 'высоцк', 'гаврилово',\n",
       "       'гарболово', 'гатчина', 'гладкое', 'глажево', 'глебычево',\n",
       "       'глинка', 'гончарово', 'горбунки', 'гостилицы', 'громово',\n",
       "       'дзержинского', 'дружная горка', 'дружноселье', 'дубровка',\n",
       "       'елизаветино', 'ефимовский', 'жилгородок', 'жилпоселок', 'житково',\n",
       "       'заводской', 'заклинье', 'заневка', 'запорожское', 'зеленогорск',\n",
       "       'зимитицы', 'ивангород', 'извара', 'ильичево', 'имени морозова',\n",
       "       'имени свердлова', 'иссад', 'калитино', 'каложицы', 'кальтино',\n",
       "       'каменногорск', 'камышовка', 'каськово', 'келози', 'кикерино',\n",
       "       'кингисепп', 'кингисеппский', 'кипень', 'кириши', 'кировск',\n",
       "       'кирпичное', 'кисельня', 'кобралово', 'кобринское', 'колпино',\n",
       "       'колтуши', 'коммунар', 'коммунары', 'кондратьево', 'коркино',\n",
       "       'коробицыно', 'котельский', 'котлы', 'коттеджный кивеннапа север',\n",
       "       'коттеджный лесное', 'коттеджный счастье', 'красная долина',\n",
       "       'красное село', 'красносельское', 'красный бор', 'кривко',\n",
       "       'кронштадт', 'кудрово', 'кузнечное', 'кузьмолово', 'кузьмоловский',\n",
       "       'курковицы', 'куровицы', 'куттузи', 'лаврики', 'лаголово',\n",
       "       'лампово', 'лебяжье', 'левашово', 'ленинское', 'лесколово',\n",
       "       'лесное', 'лесогорский', 'лисий нос', 'лодейное поле', 'ломоносов',\n",
       "       'лопухинка', 'луга', 'лукаши', 'лупполово', 'любань',\n",
       "       'малая романовка', 'малое верево', 'малое карлино',\n",
       "       'малые колпаны', 'мануйлово', 'мга', 'мельниково', 'меньково',\n",
       "       'металлострой', 'мины', 'мистолово', 'мичуринское', 'молодежное',\n",
       "       'молодцово', 'мурино', 'мыза-ивановка', 'назия', 'не указан',\n",
       "       'ненимяки', 'нижние осельки', 'нижняя', 'низино', 'никольский',\n",
       "       'никольское', 'новая ладога', 'новогорелово', 'новое девяткино',\n",
       "       'новолисино', 'новоселье', 'новый свет', 'новый учхоз', 'нурма',\n",
       "       'оредеж', 'оржицы', 'отрадное', 'павлово', 'павловск',\n",
       "       'пансионат зеленый бор', 'парголово', 'парицы', 'пельгора',\n",
       "       'пеники', 'первомайское', 'перово', 'песочный', 'петергоф',\n",
       "       'петро-славянка', 'петровское', 'пижма', 'пикалево', 'пикколово',\n",
       "       'платформа 69-й километр', 'плодовое', 'плоское', 'победа',\n",
       "       'подпорожье', 'поляны', 'понтонный', 'почап', 'починок',\n",
       "       'при железнодорожной станции вещево',\n",
       "       'при железнодорожной станции приветнинское', 'пригородный',\n",
       "       'приладожский', 'приморск', 'приозерск', 'пудомяги', 'пудость',\n",
       "       'пустынка', 'пушкин', 'пушное', 'пчева', 'пчевжа', 'рабитицы',\n",
       "       'разбегаево', 'раздолье', 'разметелево', 'рапполово', 'рахья',\n",
       "       'реброво', 'репино', 'романовка', 'ромашки', 'ропша', 'рощино',\n",
       "       'русско', 'рябово', 'садовое товарищество новая ропша',\n",
       "       'садовое товарищество приладожский', 'садовое товарищество рахья',\n",
       "       'садовое товарищество садко', 'санкт-петербург', 'саперное',\n",
       "       'саперный', 'светогорск', 'свирьстрой', 'севастьяново',\n",
       "       'селезнево', 'село копорье', 'село никольское', 'село павлово',\n",
       "       'село паша', 'село путилово', 'село рождествено',\n",
       "       'село русско-высоцкое', 'село старая ладога', 'село шум', 'сельцо',\n",
       "       'семиозерье', 'семрино', 'серебрянский', 'сертолово', 'сестрорецк',\n",
       "       'сиверский', 'сижно', 'синявино', 'сланцы', 'снегиревка',\n",
       "       'советский', 'совхозный', 'сосново', 'сосновый бор',\n",
       "       'станции вещево', 'станции громово', 'станции корнево',\n",
       "       'станции лужайка', 'станции приветнинское', 'станции свирь',\n",
       "       'старая', 'старая малукса', 'старая пустошь', 'старое хинколово',\n",
       "       'старополье', 'старосиверская', 'старые бегуницы', 'стеклянный',\n",
       "       'стрельна', 'суйда', 'сумино', 'суоранда', 'суходолье',\n",
       "       'сяськелево', 'сясьстрой', 'тайцы', 'тарасово', 'тельмана',\n",
       "       'терволово', 'терпилицы', 'тесово-4', 'тихвин', 'тихковицы',\n",
       "       'тойворово', 'токсово', 'торковичи', 'торосово', 'торошковичи',\n",
       "       'торфяное', 'тосно', 'трубников бор', 'углово', 'ульяновка',\n",
       "       'усть-ижора', 'усть-луга', 'ушаки', 'фалилеево', 'федоровское',\n",
       "       'форносово', 'форт красная горка', 'хапо-ое', 'хязельки',\n",
       "       'цвелодубово', 'цвылево', 'чудской бор', 'шлиссельбург',\n",
       "       'шпаньково', 'шугозеро', 'шушары', 'щеглово', 'юкки', 'ялгино',\n",
       "       'яльгелево', 'ям-тесово', 'янино-1'], dtype=object)"
      ]
     },
     "execution_count": 17,
     "metadata": {},
     "output_type": "execute_result"
    }
   ],
   "source": [
    "to_replace=['поселок ','городского ','типа ','деревня ','городской ','садоводческое некоммерческое товарищество','поселок при железнодорожной станции ','коттеджный поселок лесное']\n",
    "data['locality_name']=data['locality_name'].str.lower()\n",
    "data['locality_name']=data['locality_name'].str.replace('ё','е')\n",
    "for i in to_replace:\n",
    "    data['locality_name']=data['locality_name'].str.replace(i,'')\n",
    "\n",
    "data['locality_name'].sort_values().unique()"
   ]
  },
  {
   "cell_type": "markdown",
   "metadata": {},
   "source": [
    "<div class=\"alert alert-block alert-info\">\n",
    "Убираю все слова кроме названий самих населенных пунктов, что бы избежать дублликатов \n",
    "</div>"
   ]
  },
  {
   "cell_type": "code",
   "execution_count": 18,
   "metadata": {
    "scrolled": true
   },
   "outputs": [
    {
     "data": {
      "text/plain": [
       "array([2.        , 2.2       , 2.25      , 2.26      , 2.3       ,\n",
       "       2.34      , 2.4       , 2.45      , 2.46      , 2.47      ,\n",
       "       2.48      , 2.49      , 2.5       , 2.51      , 2.52      ,\n",
       "       2.53      , 2.54      , 2.55      , 2.56      , 2.57      ,\n",
       "       2.58      , 2.59      , 2.6       , 2.61      , 2.62      ,\n",
       "       2.63      , 2.64      , 2.65      , 2.66      , 2.67      ,\n",
       "       2.68      , 2.69      , 2.7       , 2.71      , 2.72      ,\n",
       "       2.72526955, 2.73      , 2.74      , 2.75      , 2.76      ,\n",
       "       2.77      , 2.78      , 2.79      , 2.8       , 2.81      ,\n",
       "       2.82      , 2.83      , 2.84      , 2.85      , 2.86      ,\n",
       "       2.87      , 2.88      , 2.89      , 2.9       , 2.91      ,\n",
       "       2.92      , 2.93      , 2.94      , 2.95      , 2.96      ,\n",
       "       2.97      , 2.98      , 2.99      , 3.        , 3.01      ,\n",
       "       3.02      , 3.03      , 3.04      , 3.05      , 3.06      ,\n",
       "       3.07      , 3.08      , 3.09      , 3.1       , 3.11      ,\n",
       "       3.12      , 3.13      , 3.14      , 3.15      , 3.16      ,\n",
       "       3.17      , 3.18      , 3.2       , 3.21      , 3.22      ,\n",
       "       3.23      , 3.24      , 3.25      , 3.26      , 3.27      ,\n",
       "       3.28      , 3.29      , 3.3       , 3.31      , 3.32      ,\n",
       "       3.33      , 3.34      , 3.35      , 3.36      , 3.37      ,\n",
       "       3.38      , 3.39      , 3.4       , 3.42      , 3.43      ,\n",
       "       3.44      , 3.45      , 3.46      , 3.47      , 3.48      ,\n",
       "       3.49      , 3.5       , 3.51      , 3.52      , 3.53      ,\n",
       "       3.54      , 3.55      , 3.56      , 3.57      , 3.58      ,\n",
       "       3.59      , 3.6       , 3.62      , 3.63      , 3.65      ,\n",
       "       3.66      , 3.67      , 3.68      , 3.69      , 3.7       ,\n",
       "       3.75      , 3.76      , 3.78      , 3.8       , 3.82      ,\n",
       "       3.83      , 3.84      , 3.85      , 3.86      , 3.87      ,\n",
       "       3.88      , 3.9       , 3.93      , 3.95      , 3.98      ,\n",
       "       4.        , 4.06      , 4.1       , 4.14      , 4.15      ,\n",
       "       4.19      , 4.2       , 4.25      , 4.3       , 4.37      ,\n",
       "       4.4       , 4.45      , 4.5       , 4.65      , 4.7       ,\n",
       "       4.8       , 4.9       , 5.        ])"
      ]
     },
     "execution_count": 18,
     "metadata": {},
     "output_type": "execute_result"
    }
   ],
   "source": [
    "\n",
    "data.loc[(data['ceiling_height']<100)&(data['ceiling_height']>=20),'ceiling_height']=data['ceiling_height']/10\n",
    "data.loc[(data['ceiling_height']>10),'ceiling_height']=data['ceiling_height']/2\n",
    "data.loc[(data['ceiling_height']>5)|(data['ceiling_height']<2),'ceiling_height']=np.nan\n",
    "data['ceiling_height']=data['ceiling_height'].fillna(data['ceiling_height'].mean())\n",
    "data['ceiling_height'].sort_values().unique()"
   ]
  },
  {
   "cell_type": "markdown",
   "metadata": {},
   "source": [
    "<div class=\"alert alert-block alert-info\">\n",
    "сначала предполагаю, что значения 25м итп это 2.5м \n",
    "    \n",
    "далее делю пополам высоты потолков характерные для двухэтажных квартир\n",
    "    \n",
    "остальные выделяющиеся значения заменяю на NaN, а далее на среднее зачение выстоы потолков\n",
    "</div>"
   ]
  },
  {
   "cell_type": "markdown",
   "metadata": {},
   "source": [
    "<div class=\"alert alert-warning\">\n",
    "\n",
    "**⚠️ Комментарий ревьюера ⚠️**\n",
    "   \n",
    "   Хорошее решение, также рекомендую заполнить пропуски в столбце ceiling_height медианой - она уже не будет подвержена выбросам\n",
    "\n",
    "</div>\n",
    "\n",
    "\n"
   ]
  },
  {
   "cell_type": "markdown",
   "metadata": {},
   "source": [
    "### Посчитайте и добавьте в таблицу новые столбцы"
   ]
  },
  {
   "cell_type": "code",
   "execution_count": 19,
   "metadata": {
    "scrolled": true
   },
   "outputs": [
    {
     "data": {
      "text/html": [
       "<div>\n",
       "<style scoped>\n",
       "    .dataframe tbody tr th:only-of-type {\n",
       "        vertical-align: middle;\n",
       "    }\n",
       "\n",
       "    .dataframe tbody tr th {\n",
       "        vertical-align: top;\n",
       "    }\n",
       "\n",
       "    .dataframe thead th {\n",
       "        text-align: right;\n",
       "    }\n",
       "</style>\n",
       "<table border=\"1\" class=\"dataframe\">\n",
       "  <thead>\n",
       "    <tr style=\"text-align: right;\">\n",
       "      <th></th>\n",
       "      <th>total_images</th>\n",
       "      <th>last_price</th>\n",
       "      <th>total_area</th>\n",
       "      <th>first_day_exposition</th>\n",
       "      <th>rooms</th>\n",
       "      <th>ceiling_height</th>\n",
       "      <th>floors_total</th>\n",
       "      <th>living_area</th>\n",
       "      <th>floor</th>\n",
       "      <th>is_apartment</th>\n",
       "      <th>...</th>\n",
       "      <th>parks_nearest</th>\n",
       "      <th>ponds_around3000</th>\n",
       "      <th>ponds_nearest</th>\n",
       "      <th>days_exposition</th>\n",
       "      <th>sqm_price</th>\n",
       "      <th>day</th>\n",
       "      <th>month</th>\n",
       "      <th>year</th>\n",
       "      <th>floor_type</th>\n",
       "      <th>city_center_km</th>\n",
       "    </tr>\n",
       "  </thead>\n",
       "  <tbody>\n",
       "    <tr>\n",
       "      <th>0</th>\n",
       "      <td>20</td>\n",
       "      <td>13000000.0</td>\n",
       "      <td>108.0</td>\n",
       "      <td>2019-03-07</td>\n",
       "      <td>3</td>\n",
       "      <td>2.70000</td>\n",
       "      <td>16</td>\n",
       "      <td>51.000000</td>\n",
       "      <td>8</td>\n",
       "      <td>False</td>\n",
       "      <td>...</td>\n",
       "      <td>482.0</td>\n",
       "      <td>2.0</td>\n",
       "      <td>755.0</td>\n",
       "      <td>NaN</td>\n",
       "      <td>120370.370370</td>\n",
       "      <td>3</td>\n",
       "      <td>3</td>\n",
       "      <td>2019</td>\n",
       "      <td>другой</td>\n",
       "      <td>16.0</td>\n",
       "    </tr>\n",
       "    <tr>\n",
       "      <th>1</th>\n",
       "      <td>7</td>\n",
       "      <td>3350000.0</td>\n",
       "      <td>40.4</td>\n",
       "      <td>2018-12-04</td>\n",
       "      <td>1</td>\n",
       "      <td>2.72527</td>\n",
       "      <td>11</td>\n",
       "      <td>18.600000</td>\n",
       "      <td>1</td>\n",
       "      <td>False</td>\n",
       "      <td>...</td>\n",
       "      <td>NaN</td>\n",
       "      <td>0.0</td>\n",
       "      <td>NaN</td>\n",
       "      <td>81.0</td>\n",
       "      <td>82920.792079</td>\n",
       "      <td>1</td>\n",
       "      <td>12</td>\n",
       "      <td>2018</td>\n",
       "      <td>первый</td>\n",
       "      <td>19.0</td>\n",
       "    </tr>\n",
       "    <tr>\n",
       "      <th>2</th>\n",
       "      <td>10</td>\n",
       "      <td>5196000.0</td>\n",
       "      <td>56.0</td>\n",
       "      <td>2015-08-20</td>\n",
       "      <td>2</td>\n",
       "      <td>2.72527</td>\n",
       "      <td>5</td>\n",
       "      <td>34.300000</td>\n",
       "      <td>4</td>\n",
       "      <td>False</td>\n",
       "      <td>...</td>\n",
       "      <td>90.0</td>\n",
       "      <td>2.0</td>\n",
       "      <td>574.0</td>\n",
       "      <td>558.0</td>\n",
       "      <td>92785.714286</td>\n",
       "      <td>3</td>\n",
       "      <td>8</td>\n",
       "      <td>2015</td>\n",
       "      <td>другой</td>\n",
       "      <td>14.0</td>\n",
       "    </tr>\n",
       "    <tr>\n",
       "      <th>3</th>\n",
       "      <td>0</td>\n",
       "      <td>64900000.0</td>\n",
       "      <td>159.0</td>\n",
       "      <td>2015-07-24</td>\n",
       "      <td>3</td>\n",
       "      <td>2.72527</td>\n",
       "      <td>14</td>\n",
       "      <td>90.785766</td>\n",
       "      <td>9</td>\n",
       "      <td>False</td>\n",
       "      <td>...</td>\n",
       "      <td>84.0</td>\n",
       "      <td>3.0</td>\n",
       "      <td>234.0</td>\n",
       "      <td>424.0</td>\n",
       "      <td>408176.100629</td>\n",
       "      <td>4</td>\n",
       "      <td>7</td>\n",
       "      <td>2015</td>\n",
       "      <td>другой</td>\n",
       "      <td>7.0</td>\n",
       "    </tr>\n",
       "    <tr>\n",
       "      <th>4</th>\n",
       "      <td>2</td>\n",
       "      <td>10000000.0</td>\n",
       "      <td>100.0</td>\n",
       "      <td>2018-06-19</td>\n",
       "      <td>2</td>\n",
       "      <td>3.03000</td>\n",
       "      <td>14</td>\n",
       "      <td>32.000000</td>\n",
       "      <td>13</td>\n",
       "      <td>False</td>\n",
       "      <td>...</td>\n",
       "      <td>112.0</td>\n",
       "      <td>1.0</td>\n",
       "      <td>48.0</td>\n",
       "      <td>121.0</td>\n",
       "      <td>100000.000000</td>\n",
       "      <td>1</td>\n",
       "      <td>6</td>\n",
       "      <td>2018</td>\n",
       "      <td>другой</td>\n",
       "      <td>8.0</td>\n",
       "    </tr>\n",
       "  </tbody>\n",
       "</table>\n",
       "<p>5 rows × 28 columns</p>\n",
       "</div>"
      ],
      "text/plain": [
       "   total_images  last_price  total_area first_day_exposition  rooms  \\\n",
       "0            20  13000000.0       108.0           2019-03-07      3   \n",
       "1             7   3350000.0        40.4           2018-12-04      1   \n",
       "2            10   5196000.0        56.0           2015-08-20      2   \n",
       "3             0  64900000.0       159.0           2015-07-24      3   \n",
       "4             2  10000000.0       100.0           2018-06-19      2   \n",
       "\n",
       "   ceiling_height  floors_total  living_area  floor  is_apartment  ...  \\\n",
       "0         2.70000            16    51.000000      8         False  ...   \n",
       "1         2.72527            11    18.600000      1         False  ...   \n",
       "2         2.72527             5    34.300000      4         False  ...   \n",
       "3         2.72527            14    90.785766      9         False  ...   \n",
       "4         3.03000            14    32.000000     13         False  ...   \n",
       "\n",
       "   parks_nearest  ponds_around3000  ponds_nearest  days_exposition  \\\n",
       "0          482.0               2.0          755.0              NaN   \n",
       "1            NaN               0.0            NaN             81.0   \n",
       "2           90.0               2.0          574.0            558.0   \n",
       "3           84.0               3.0          234.0            424.0   \n",
       "4          112.0               1.0           48.0            121.0   \n",
       "\n",
       "       sqm_price  day  month  year  floor_type  city_center_km  \n",
       "0  120370.370370    3      3  2019      другой            16.0  \n",
       "1   82920.792079    1     12  2018      первый            19.0  \n",
       "2   92785.714286    3      8  2015      другой            14.0  \n",
       "3  408176.100629    4      7  2015      другой             7.0  \n",
       "4  100000.000000    1      6  2018      другой             8.0  \n",
       "\n",
       "[5 rows x 28 columns]"
      ]
     },
     "execution_count": 19,
     "metadata": {},
     "output_type": "execute_result"
    }
   ],
   "source": [
    "data['sqm_price']=data['last_price']/data['total_area']\n",
    "data['day']=data['first_day_exposition'].dt.weekday\n",
    "data['month']=data['first_day_exposition'].dt.month\n",
    "data['year']=data['first_day_exposition'].dt.year\n",
    "\n",
    "def floor_type(row):\n",
    "    if row['floor']==1:\n",
    "        return('первый')\n",
    "    elif row['floor']==row['floors_total']:\n",
    "        return('последний')\n",
    "    else:\n",
    "        return('другой')\n",
    "data['floor_type']=data.apply(floor_type,axis=1)\n",
    "\n",
    "data['city_center_km']=round(data['cityCenters_nearest']/1000)\n",
    "    \n",
    "data.head(5)"
   ]
  },
  {
   "cell_type": "markdown",
   "metadata": {},
   "source": [
    "<div class=\"alert alert-block alert-info\">\n",
    "добавляю новые столбцы согласно заданию\n",
    "</div>"
   ]
  },
  {
   "cell_type": "markdown",
   "metadata": {},
   "source": [
    "### Проведите исследовательский анализ данных"
   ]
  },
  {
   "cell_type": "code",
   "execution_count": 20,
   "metadata": {},
   "outputs": [
    {
     "name": "stdout",
     "output_type": "stream",
     "text": [
      "Доля выбросов в выборке: last_price 8.58% (выбросов: 2034)\n",
      "Доля выбросов в выборке: total_area 2.07% (выбросов: 449)\n",
      "Доля выбросов в выборке: rooms 0.00% (выбросов: 0)\n",
      "Доля выбросов в выборке: ceiling_height 7.76% (выбросов: 1647)\n",
      "Доля выбросов в выборке: living_area 0.23% (выбросов: 45)\n",
      "Доля выбросов в выборке: kitchen_area 0.00% (выбросов: 0)\n",
      "Доля выбросов в выборке: floors_total 0.51% (выбросов: 99)\n"
     ]
    }
   ],
   "source": [
    "def delete_outliers(df):\n",
    "    for col in df[list_to_outlers]:\n",
    "              \n",
    "        q = df[col].quantile([0.25, 0.75])\n",
    "        top_border = q[0.75] + 1.5 * (q[0.75] - q[0.25])\n",
    "        bot_border = q[0.25] - 1.5 * (q[0.75] - q[0.25])\n",
    "      \n",
    "        out_top_border_count = df[col][df[col] > top_border].count()\n",
    "        out_bot_border_count = df[col][df[col] < bot_border].count()\n",
    "        out_top_border_percent = out_top_border_count / df[col].count()\n",
    "        out_bot_border_percent = out_bot_border_count / df[col].count()\n",
    "        \n",
    "        if out_top_border_percent + out_bot_border_percent < 0.1:\n",
    "            df = df[(df[col] <= top_border) & (df[col] >= bot_border) | (df[col].isna())]       \n",
    "        \n",
    "        print('Доля выбросов в выборке:',col, f'{(out_top_border_percent + out_bot_border_percent):.2%}',\n",
    "              f'(выбросов: {(out_top_border_count + out_bot_border_count)})')\n",
    "    return df\n",
    "list_to_outlers=['last_price','total_area','rooms','ceiling_height','living_area','kitchen_area','floors_total']\n",
    "data2=delete_outliers(data)\n"
   ]
  },
  {
   "cell_type": "markdown",
   "metadata": {},
   "source": [
    "<div class=\"alert alert-block alert-info\">\n",
    "в данной функции вычисляю количество выбросов в ключевых параметрах\n",
    "    \n",
    "принимаю решение удалить все выбросы не смотря на то, что в некоторых местах они достигают 8% данных, т.к параметр цены является ключевым и может сильно исказить все последующие шаги анализа с ним связанные\n",
    "    \n",
    "на мой взгляд оставшихся 20тыс. строк вполне достаточно \n",
    "</div>"
   ]
  },
  {
   "cell_type": "markdown",
   "metadata": {},
   "source": [
    "<div class=\"alert alert-block alert-info\">\n",
    "изначально я и хотел оставить как можно больше данных, но эти выбросы по ценам на квартиры в СПб которые в несколько десятков раз превышают все средние параметры, если их не убрать то данные например по маленькому поселку в Лен.обл получатся абослютно другие и менее правдоподобные \n",
    "\n",
    "я просто считаю что рынок квартир в цетре спб и рынок квартир в лен.обл. это 2 абослютно разных рынка у которых из общих основных параметров ценообразования только площадь,тогда как в питере квартира может стоить гораздо дороже соседней, просто имея пару окон на набережную или достопримечательность в отличие от квартиры в том же доме но окнами во двор.\n",
    "    \n",
    "и если в рамках данной работы надо рассматривать Спб и лен.обл вместе, тогда приходиться пожертвовать большой часть данных, но попытаться привести все к единым правилам ценообразования\n",
    "</div>"
   ]
  },
  {
   "cell_type": "code",
   "execution_count": 21,
   "metadata": {
    "scrolled": true
   },
   "outputs": [
    {
     "name": "stdout",
     "output_type": "stream",
     "text": [
      "<class 'pandas.core.frame.DataFrame'>\n",
      "Int64Index: 19425 entries, 1 to 23698\n",
      "Data columns (total 28 columns):\n",
      " #   Column                Non-Null Count  Dtype         \n",
      "---  ------                --------------  -----         \n",
      " 0   total_images          19425 non-null  int64         \n",
      " 1   last_price            19425 non-null  float64       \n",
      " 2   total_area            19425 non-null  float64       \n",
      " 3   first_day_exposition  19425 non-null  datetime64[ns]\n",
      " 4   rooms                 19425 non-null  int64         \n",
      " 5   ceiling_height        19425 non-null  float64       \n",
      " 6   floors_total          19425 non-null  int32         \n",
      " 7   living_area           19425 non-null  float64       \n",
      " 8   floor                 19425 non-null  int64         \n",
      " 9   is_apartment          19425 non-null  bool          \n",
      " 10  studio                19425 non-null  bool          \n",
      " 11  open_plan             19425 non-null  bool          \n",
      " 12  kitchen_area          19425 non-null  float64       \n",
      " 13  balcony               19425 non-null  int32         \n",
      " 14  locality_name         19425 non-null  object        \n",
      " 15  airports_nearest      14191 non-null  float64       \n",
      " 16  cityCenters_nearest   14202 non-null  float64       \n",
      " 17  parks_around3000      14202 non-null  float64       \n",
      " 18  parks_nearest         5515 non-null   float64       \n",
      " 19  ponds_around3000      14202 non-null  float64       \n",
      " 20  ponds_nearest         6580 non-null   float64       \n",
      " 21  days_exposition       17182 non-null  float64       \n",
      " 22  sqm_price             19425 non-null  float64       \n",
      " 23  day                   19425 non-null  int64         \n",
      " 24  month                 19425 non-null  int64         \n",
      " 25  year                  19425 non-null  int64         \n",
      " 26  floor_type            19425 non-null  object        \n",
      " 27  city_center_km        14202 non-null  float64       \n",
      "dtypes: bool(3), datetime64[ns](1), float64(14), int32(2), int64(6), object(2)\n",
      "memory usage: 3.8+ MB\n"
     ]
    }
   ],
   "source": [
    "data2.info()"
   ]
  },
  {
   "cell_type": "code",
   "execution_count": 22,
   "metadata": {},
   "outputs": [
    {
     "data": {
      "text/plain": [
       "count    19425.000000\n",
       "mean        50.839516\n",
       "std         16.120158\n",
       "min         12.000000\n",
       "25%         38.000000\n",
       "50%         47.000000\n",
       "75%         61.000000\n",
       "max        100.600000\n",
       "Name: total_area, dtype: float64"
      ]
     },
     "execution_count": 22,
     "metadata": {},
     "output_type": "execute_result"
    },
    {
     "data": {
      "image/png": "[encoded data removed]",
      "text/plain": [
       "<Figure size 432x288 with 1 Axes>"
      ]
     },
     "metadata": {
      "needs_background": "light"
     },
     "output_type": "display_data"
    }
   ],
   "source": [
    "data2['total_area'].hist(bins=30)\n",
    "data2['total_area'].describe()"
   ]
  },
  {
   "cell_type": "markdown",
   "metadata": {},
   "source": [
    "<div class=\"alert alert-block alert-info\">\n",
    "график похож на отображение реальной ситуации, аномалий или выбросов не вижу \n",
    "</div>"
   ]
  },
  {
   "cell_type": "code",
   "execution_count": 23,
   "metadata": {},
   "outputs": [
    {
     "data": {
      "text/plain": [
       "count    19425.000000\n",
       "mean        28.936585\n",
       "std         11.373038\n",
       "min          2.000000\n",
       "25%         18.000000\n",
       "50%         28.200000\n",
       "75%         37.000000\n",
       "max         65.400000\n",
       "Name: living_area, dtype: float64"
      ]
     },
     "execution_count": 23,
     "metadata": {},
     "output_type": "execute_result"
    },
    {
     "data": {
      "image/png": "[encoded data removed]",
      "text/plain": [
       "<Figure size 432x288 with 1 Axes>"
      ]
     },
     "metadata": {
      "needs_background": "light"
     },
     "output_type": "display_data"
    }
   ],
   "source": [
    "data2['living_area'].hist(bins=30)\n",
    "data2['living_area'].describe()"
   ]
  },
  {
   "cell_type": "markdown",
   "metadata": {},
   "source": [
    "<div class=\"alert alert-block alert-info\">\n",
    "график похож на отображение реальной ситуации, аномалий или выбросов не вижу \n",
    "\n",
    "присутствуют пики отображающие типовые значения, вызваны однотипной застройкой\n",
    "</div>"
   ]
  },
  {
   "cell_type": "code",
   "execution_count": 24,
   "metadata": {},
   "outputs": [
    {
     "data": {
      "text/plain": [
       "count    19425.000000\n",
       "mean        28.936585\n",
       "std         11.373038\n",
       "min          2.000000\n",
       "25%         18.000000\n",
       "50%         28.200000\n",
       "75%         37.000000\n",
       "max         65.400000\n",
       "Name: kitchen_area, dtype: float64"
      ]
     },
     "execution_count": 24,
     "metadata": {},
     "output_type": "execute_result"
    },
    {
     "data": {
      "image/png": "[encoded data removed]",
      "text/plain": [
       "<Figure size 432x288 with 1 Axes>"
      ]
     },
     "metadata": {
      "needs_background": "light"
     },
     "output_type": "display_data"
    }
   ],
   "source": [
    "data2['kitchen_area'].hist(bins=30)\n",
    "data2['kitchen_area'].describe()"
   ]
  },
  {
   "cell_type": "markdown",
   "metadata": {},
   "source": [
    "<div class=\"alert alert-block alert-info\">\n",
    "график похож на отображение реальной ситуации, аномалий или выбросов не вижу \n",
    "</div>"
   ]
  },
  {
   "cell_type": "code",
   "execution_count": 25,
   "metadata": {},
   "outputs": [
    {
     "data": {
      "text/plain": [
       "count    1.942500e+04\n",
       "mean     4.577345e+06\n",
       "std      2.019624e+06\n",
       "min      4.300000e+05\n",
       "25%      3.230000e+06\n",
       "50%      4.243000e+06\n",
       "75%      5.600000e+06\n",
       "max      1.190000e+07\n",
       "Name: last_price, dtype: float64"
      ]
     },
     "execution_count": 25,
     "metadata": {},
     "output_type": "execute_result"
    },
    {
     "data": {
      "image/png": "[encoded data removed]",
      "text/plain": [
       "<Figure size 432x288 with 1 Axes>"
      ]
     },
     "metadata": {
      "needs_background": "light"
     },
     "output_type": "display_data"
    }
   ],
   "source": [
    "data2['last_price'].hist(bins=30)\n",
    "data2['last_price'].describe()"
   ]
  },
  {
   "cell_type": "markdown",
   "metadata": {},
   "source": [
    "<div class=\"alert alert-block alert-info\">\n",
    "график похож на отображение реальной ситуации, аномалий или выбросов не вижу \n",
    "\n",
    "цена распределена нормально, без пика у 0 и хвостом в право показывающим наличие дорогих квартир в регионе\n",
    "</div>"
   ]
  },
  {
   "cell_type": "code",
   "execution_count": 26,
   "metadata": {},
   "outputs": [
    {
     "data": {
      "text/plain": [
       "count    19425.000000\n",
       "mean         1.857658\n",
       "std          0.856023\n",
       "min          0.000000\n",
       "25%          1.000000\n",
       "50%          2.000000\n",
       "75%          2.000000\n",
       "max          5.000000\n",
       "Name: rooms, dtype: float64"
      ]
     },
     "execution_count": 26,
     "metadata": {},
     "output_type": "execute_result"
    },
    {
     "data": {
      "image/png": "[encoded data removed]",
      "text/plain": [
       "<Figure size 432x288 with 1 Axes>"
      ]
     },
     "metadata": {
      "needs_background": "light"
     },
     "output_type": "display_data"
    }
   ],
   "source": [
    "data2['rooms'].hist(bins=30)\n",
    "data2['rooms'].describe()"
   ]
  },
  {
   "cell_type": "markdown",
   "metadata": {},
   "source": [
    "<div class=\"alert alert-block alert-info\">\n",
    "все значения соответвуют реальным \n",
    "    \n",
    "одна и двух комнатные картиры ожидаемо самые популярные\n",
    "</div>"
   ]
  },
  {
   "cell_type": "code",
   "execution_count": 27,
   "metadata": {},
   "outputs": [
    {
     "data": {
      "text/plain": [
       "count    19425.000000\n",
       "mean         2.661791\n",
       "std          0.099035\n",
       "min          2.450000\n",
       "25%          2.560000\n",
       "50%          2.725270\n",
       "75%          2.725270\n",
       "max          2.910000\n",
       "Name: ceiling_height, dtype: float64"
      ]
     },
     "execution_count": 27,
     "metadata": {},
     "output_type": "execute_result"
    },
    {
     "data": {
      "image/png": "[encoded data removed]",
      "text/plain": [
       "<Figure size 432x288 with 1 Axes>"
      ]
     },
     "metadata": {
      "needs_background": "light"
     },
     "output_type": "display_data"
    }
   ],
   "source": [
    "data2['ceiling_height'].hist(bins=30)\n",
    "data2['ceiling_height'].describe()"
   ]
  },
  {
   "cell_type": "markdown",
   "metadata": {},
   "source": [
    "<div class=\"alert alert-block alert-info\">\n",
    "график похож на отображение реальной ситуации, аномалий или выбросов не вижу \n",
    "\n",
    "присутствуют пики отображающие типовые значения, вызваны однотипной застройкой\n",
    "</div>"
   ]
  },
  {
   "cell_type": "code",
   "execution_count": 28,
   "metadata": {},
   "outputs": [
    {
     "data": {
      "text/plain": [
       "count    19425.000000\n",
       "mean         6.060129\n",
       "std          4.965717\n",
       "min          1.000000\n",
       "25%          2.000000\n",
       "50%          5.000000\n",
       "75%          8.000000\n",
       "max         27.000000\n",
       "Name: floor, dtype: float64"
      ]
     },
     "execution_count": 28,
     "metadata": {},
     "output_type": "execute_result"
    },
    {
     "data": {
      "image/png": "[encoded data removed]",
      "text/plain": [
       "<Figure size 432x288 with 1 Axes>"
      ]
     },
     "metadata": {
      "needs_background": "light"
     },
     "output_type": "display_data"
    }
   ],
   "source": [
    "data2['floor'].hist(bins=100)\n",
    "data2['floor'].describe()"
   ]
  },
  {
   "cell_type": "markdown",
   "metadata": {},
   "source": [
    "<div class=\"alert alert-block alert-info\">\n",
    "график похож на отображение реальной ситуации, аномалий или выбросов не вижу \n",
    "\n",
    "этажи с первого по пятый самые популярные в виду большого количества пятиэтажной застройки в спб лен.обл\n",
    "</div>"
   ]
  },
  {
   "cell_type": "code",
   "execution_count": 29,
   "metadata": {},
   "outputs": [
    {
     "data": {
      "text/plain": [
       "count      19425\n",
       "unique         3\n",
       "top       другой\n",
       "freq       14395\n",
       "Name: floor_type, dtype: object"
      ]
     },
     "execution_count": 29,
     "metadata": {},
     "output_type": "execute_result"
    },
    {
     "data": {
      "image/png": "[encoded data removed]",
      "text/plain": [
       "<Figure size 432x288 with 1 Axes>"
      ]
     },
     "metadata": {
      "needs_background": "light"
     },
     "output_type": "display_data"
    }
   ],
   "source": [
    "data2['floor_type'].hist(bins=30)\n",
    "data2['floor_type'].describe()"
   ]
  },
  {
   "cell_type": "markdown",
   "metadata": {},
   "source": [
    "<div class=\"alert alert-block alert-info\">\n",
    "график похож на отображение реальной ситуации, аномалий или выбросов не вижу \n",
    "</div>"
   ]
  },
  {
   "cell_type": "code",
   "execution_count": 30,
   "metadata": {},
   "outputs": [
    {
     "data": {
      "text/plain": [
       "count    19425.000000\n",
       "mean        11.125560\n",
       "std          6.602516\n",
       "min          1.000000\n",
       "25%          5.000000\n",
       "50%          9.000000\n",
       "75%         16.000000\n",
       "max         29.000000\n",
       "Name: floors_total, dtype: float64"
      ]
     },
     "execution_count": 30,
     "metadata": {},
     "output_type": "execute_result"
    },
    {
     "data": {
      "image/png": "[encoded data removed]",
      "text/plain": [
       "<Figure size 432x288 with 1 Axes>"
      ]
     },
     "metadata": {
      "needs_background": "light"
     },
     "output_type": "display_data"
    }
   ],
   "source": [
    "data2['floors_total'].hist(bins=100)\n",
    "data2['floors_total'].describe()"
   ]
  },
  {
   "cell_type": "markdown",
   "metadata": {},
   "source": [
    "<div class=\"alert alert-block alert-info\">\n",
    "график похож на отображение реальной ситуации, аномалий или выбросов не вижу \n",
    "\n",
    "5-ти и 9-ти этажные дома как было сказанно ранее, являются большой частью засройки спб и лен.обл\n",
    "</div>"
   ]
  },
  {
   "cell_type": "code",
   "execution_count": 31,
   "metadata": {},
   "outputs": [
    {
     "data": {
      "text/plain": [
       "count    14202.000000\n",
       "mean     15611.915998\n",
       "std       8250.635457\n",
       "min        399.000000\n",
       "25%      11360.000000\n",
       "50%      14042.000000\n",
       "75%      16890.000000\n",
       "max      65968.000000\n",
       "Name: cityCenters_nearest, dtype: float64"
      ]
     },
     "execution_count": 31,
     "metadata": {},
     "output_type": "execute_result"
    },
    {
     "data": {
      "image/png": "[encoded data removed]",
      "text/plain": [
       "<Figure size 432x288 with 1 Axes>"
      ]
     },
     "metadata": {
      "needs_background": "light"
     },
     "output_type": "display_data"
    }
   ],
   "source": [
    "data2['cityCenters_nearest'].hist(bins=30)\n",
    "data2['cityCenters_nearest'].describe()"
   ]
  },
  {
   "cell_type": "markdown",
   "metadata": {},
   "source": [
    "<div class=\"alert alert-block alert-info\">\n",
    "график похож на отображение реальной ситуации, аномалий или выбросов не вижу \n",
    "\n",
    "в среденем КАД находится в 20-25км от центра Спб, это значит большое число квартир как раз и находится в спальных районах на удалении 10-20км \n",
    "</div>"
   ]
  },
  {
   "cell_type": "code",
   "execution_count": 32,
   "metadata": {},
   "outputs": [
    {
     "data": {
      "text/plain": [
       "count    14191.000000\n",
       "mean     29244.538651\n",
       "std      13269.790447\n",
       "min          0.000000\n",
       "25%      17698.500000\n",
       "50%      27933.000000\n",
       "75%      38999.000000\n",
       "max      84869.000000\n",
       "Name: airports_nearest, dtype: float64"
      ]
     },
     "execution_count": 32,
     "metadata": {},
     "output_type": "execute_result"
    },
    {
     "data": {
      "image/png": "[encoded data removed]",
      "text/plain": [
       "<Figure size 432x288 with 1 Axes>"
      ]
     },
     "metadata": {
      "needs_background": "light"
     },
     "output_type": "display_data"
    }
   ],
   "source": [
    "data2['airports_nearest'].hist(bins=30)\n",
    "data2['airports_nearest'].describe()"
   ]
  },
  {
   "cell_type": "markdown",
   "metadata": {},
   "source": [
    "<div class=\"alert alert-block alert-info\">\n",
    "график похож на отображение реальной ситуации, аномалий или выбросов не вижу \n",
    "\n",
    "</div>"
   ]
  },
  {
   "cell_type": "code",
   "execution_count": 33,
   "metadata": {},
   "outputs": [
    {
     "data": {
      "text/plain": [
       "count    5515.000000\n",
       "mean      501.855485\n",
       "std       336.026866\n",
       "min         1.000000\n",
       "25%       303.000000\n",
       "50%       467.000000\n",
       "75%       624.500000\n",
       "max      3190.000000\n",
       "Name: parks_nearest, dtype: float64"
      ]
     },
     "execution_count": 33,
     "metadata": {},
     "output_type": "execute_result"
    },
    {
     "data": {
      "image/png": "[encoded data removed]",
      "text/plain": [
       "<Figure size 432x288 with 1 Axes>"
      ]
     },
     "metadata": {
      "needs_background": "light"
     },
     "output_type": "display_data"
    }
   ],
   "source": [
    "data2['parks_nearest'].hist(bins=30)\n",
    "data2['parks_nearest'].describe()"
   ]
  },
  {
   "cell_type": "markdown",
   "metadata": {},
   "source": [
    "<div class=\"alert alert-block alert-info\">\n",
    "график похож на отображение реальной ситуации, аномалий или выбросов не вижу \n",
    "\n",
    "в СПб много парков так что большое число малых значений не кажется странным\n",
    "</div>"
   ]
  },
  {
   "cell_type": "code",
   "execution_count": 34,
   "metadata": {},
   "outputs": [
    {
     "data": {
      "text/plain": [
       "count    19425.000000\n",
       "mean         2.583115\n",
       "std          1.796655\n",
       "min          0.000000\n",
       "25%          1.000000\n",
       "50%          3.000000\n",
       "75%          4.000000\n",
       "max          6.000000\n",
       "Name: day, dtype: float64"
      ]
     },
     "execution_count": 34,
     "metadata": {},
     "output_type": "execute_result"
    },
    {
     "data": {
      "image/png": "[encoded data removed]",
      "text/plain": [
       "<Figure size 432x288 with 1 Axes>"
      ]
     },
     "metadata": {
      "needs_background": "light"
     },
     "output_type": "display_data"
    }
   ],
   "source": [
    "data2['day'].hist(bins=30)\n",
    "data2['day'].describe()"
   ]
  },
  {
   "cell_type": "markdown",
   "metadata": {},
   "source": [
    "<div class=\"alert alert-block alert-info\">\n",
    "график похож на отображение реальной ситуации, аномалий или выбросов не вижу \n",
    "\n",
    "в выходные люди меньше занимаются продажей квартиры, скорее всего из за отдыха, поездок на дачу итп\n",
    "</div>"
   ]
  },
  {
   "cell_type": "code",
   "execution_count": 35,
   "metadata": {},
   "outputs": [
    {
     "data": {
      "text/plain": [
       "count    19425.000000\n",
       "mean         6.400875\n",
       "std          3.489477\n",
       "min          1.000000\n",
       "25%          3.000000\n",
       "50%          6.000000\n",
       "75%         10.000000\n",
       "max         12.000000\n",
       "Name: month, dtype: float64"
      ]
     },
     "execution_count": 35,
     "metadata": {},
     "output_type": "execute_result"
    },
    {
     "data": {
      "image/png": "[encoded data removed]",
      "text/plain": [
       "<Figure size 432x288 with 1 Axes>"
      ]
     },
     "metadata": {
      "needs_background": "light"
     },
     "output_type": "display_data"
    }
   ],
   "source": [
    "data2['month'].hist(bins=100)\n",
    "data2['month'].describe()"
   ]
  },
  {
   "cell_type": "markdown",
   "metadata": {},
   "source": [
    "<div class=\"alert alert-block alert-info\">\n",
    "график похож на отображение реальной ситуации, аномалий или выбросов не вижу \n",
    "\n",
    "в зимние и летние месяцы люди менее активно занимаются продажами квартир, предоположу, что это связанно с отпусками и поездками\n",
    "</div>"
   ]
  },
  {
   "cell_type": "code",
   "execution_count": 36,
   "metadata": {},
   "outputs": [
    {
     "data": {
      "text/plain": [
       "count    17182.000000\n",
       "mean       167.493016\n",
       "std        205.765138\n",
       "min          1.000000\n",
       "25%         43.000000\n",
       "50%         89.000000\n",
       "75%        211.000000\n",
       "max       1580.000000\n",
       "Name: days_exposition, dtype: float64"
      ]
     },
     "execution_count": 36,
     "metadata": {},
     "output_type": "execute_result"
    },
    {
     "data": {
      "image/png": "[encoded data removed]",
      "text/plain": [
       "<Figure size 432x288 with 1 Axes>"
      ]
     },
     "metadata": {
      "needs_background": "light"
     },
     "output_type": "display_data"
    }
   ],
   "source": [
    "data2['days_exposition'].hist(bins=30)\n",
    "data2['days_exposition'].describe()"
   ]
  },
  {
   "cell_type": "markdown",
   "metadata": {},
   "source": [
    "<div class=\"alert alert-block alert-info\">\n",
    "график похож на отображение реальной ситуации, аномалий или выбросов не вижу \n",
    "\n",
    "далее хочу проверить начальную область графика подробнее, что бы быть уверенным в точности вычисления \"быстрой/долгой\" продажи\n",
    "</div>"
   ]
  },
  {
   "cell_type": "code",
   "execution_count": 37,
   "metadata": {},
   "outputs": [
    {
     "data": {
      "text/plain": [
       "<AxesSubplot:>"
      ]
     },
     "execution_count": 37,
     "metadata": {},
     "output_type": "execute_result"
    },
    {
     "data": {
      "image/png": "[encoded data removed]",
      "text/plain": [
       "<Figure size 432x288 with 1 Axes>"
      ]
     },
     "metadata": {
      "needs_background": "light"
     },
     "output_type": "display_data"
    }
   ],
   "source": [
    "data2.loc[data2['days_exposition']<100]['days_exposition'].hist(bins=100)"
   ]
  },
  {
   "cell_type": "code",
   "execution_count": 38,
   "metadata": {},
   "outputs": [],
   "source": [
    "days_list=[7,30,45,60]\n",
    "for i in days_list:\n",
    "    data2['days_exposition']=data2.loc[(data2['days_exposition']!=i)]['days_exposition']\n",
    "data2['days_exposition']=data2.loc[(data2['days_exposition']>45.01)|(data2['days_exposition']<44.99)]['days_exposition']"
   ]
  },
  {
   "cell_type": "markdown",
   "metadata": {},
   "source": [
    "<div class=\"alert alert-block alert-info\">\n",
    "пики на числах [7,30,45,60] скорее всего вызваны тем, что платформа для размещения объявлений имеет функционал подписки на показ объявления определенное количество дней, либо удаляет по прошедствии определенного количества дней в виду неактивности владельца объявления\n",
    "    \n",
    "считаю нужным удалить эти данные т.к. они могу являтся просто автоматически снятым объявлением, а не завершенной сделкой по покупке\n",
    "</div>"
   ]
  },
  {
   "cell_type": "code",
   "execution_count": 39,
   "metadata": {},
   "outputs": [
    {
     "data": {
      "text/plain": [
       "count    15472.000000\n",
       "mean       181.241404\n",
       "std        212.347335\n",
       "min          1.000000\n",
       "25%         42.000000\n",
       "50%        104.000000\n",
       "75%        233.000000\n",
       "max       1580.000000\n",
       "Name: days_exposition, dtype: float64"
      ]
     },
     "execution_count": 39,
     "metadata": {},
     "output_type": "execute_result"
    },
    {
     "data": {
      "image/png": "[encoded data removed]",
      "text/plain": [
       "<Figure size 432x288 with 1 Axes>"
      ]
     },
     "metadata": {
      "needs_background": "light"
     },
     "output_type": "display_data"
    }
   ],
   "source": [
    "data2['days_exposition'].hist(bins=100)\n",
    "data2['days_exposition'].describe()"
   ]
  },
  {
   "cell_type": "markdown",
   "metadata": {},
   "source": [
    "<div class=\"alert alert-block alert-info\">\n",
    "по результатам вычислений можно сказать что:\n",
    "    \n",
    "менее 42 является быстрой продажей\n",
    "    \n",
    "более 236 является долгой продажей\n",
    "</div>"
   ]
  },
  {
   "cell_type": "markdown",
   "metadata": {},
   "source": [
    "<div class=\"alert alert-success\">\n",
    "\n",
    "**✔️ Комментарий ревьюера ✔️**\n",
    "   \n",
    "   Да, данные о быстрых и долгих продажах вполне корректны. Пики действительно указывают на снятие объявления агрегатором: https://yandex.ru/support/realty/owner/home/add-ads-housing.html\n",
    "\n",
    "</div>\n"
   ]
  },
  {
   "cell_type": "code",
   "execution_count": 40,
   "metadata": {},
   "outputs": [
    {
     "data": {
      "text/plain": [
       "0.6656872947088939"
      ]
     },
     "execution_count": 40,
     "metadata": {},
     "output_type": "execute_result"
    },
    {
     "data": {
      "image/png": "[encoded data removed]",
      "text/plain": [
       "<Figure size 432x288 with 1 Axes>"
      ]
     },
     "metadata": {
      "needs_background": "light"
     },
     "output_type": "display_data"
    }
   ],
   "source": [
    "data2.plot(x='total_area', y='last_price', kind='scatter', alpha=0.1)\n",
    "data2['total_area'].corr(data2['last_price'])"
   ]
  },
  {
   "cell_type": "markdown",
   "metadata": {},
   "source": [
    "<div class=\"alert alert-block alert-info\">\n",
    "между общей площадью и ценой ожидаемо есть сильная прямая связь\n",
    "</div>"
   ]
  },
  {
   "cell_type": "code",
   "execution_count": 41,
   "metadata": {},
   "outputs": [
    {
     "data": {
      "text/plain": [
       "0.5221262477521744"
      ]
     },
     "execution_count": 41,
     "metadata": {},
     "output_type": "execute_result"
    },
    {
     "data": {
      "image/png": "[encoded data removed]",
      "text/plain": [
       "<Figure size 432x288 with 1 Axes>"
      ]
     },
     "metadata": {
      "needs_background": "light"
     },
     "output_type": "display_data"
    }
   ],
   "source": [
    "data2.plot(x='living_area', y='last_price', kind='scatter', alpha=0.1)\n",
    "data2['living_area'].corr(data2['last_price'])"
   ]
  },
  {
   "cell_type": "markdown",
   "metadata": {},
   "source": [
    "<div class=\"alert alert-block alert-info\">\n",
    "наличие свзяи показано, но это скорее всего не прямая связь\n",
    "\n",
    "жилая площадь как и площадь кухни непосредственно связана с общей площадью, а та уже в свою очередь с ценой    \n",
    "</div>"
   ]
  },
  {
   "cell_type": "code",
   "execution_count": 42,
   "metadata": {},
   "outputs": [
    {
     "data": {
      "text/plain": [
       "0.5221262477521744"
      ]
     },
     "execution_count": 42,
     "metadata": {},
     "output_type": "execute_result"
    },
    {
     "data": {
      "image/png": "[encoded data removed]",
      "text/plain": [
       "<Figure size 432x288 with 1 Axes>"
      ]
     },
     "metadata": {
      "needs_background": "light"
     },
     "output_type": "display_data"
    }
   ],
   "source": [
    "data2.plot(x='kitchen_area', y='last_price', kind='scatter', alpha=0.1)\n",
    "data2['kitchen_area'].corr(data2['last_price'])"
   ]
  },
  {
   "cell_type": "code",
   "execution_count": 43,
   "metadata": {},
   "outputs": [
    {
     "data": {
      "text/plain": [
       "0.902755945912514"
      ]
     },
     "execution_count": 43,
     "metadata": {},
     "output_type": "execute_result"
    },
    {
     "data": {
      "image/png": "[encoded data removed]",
      "text/plain": [
       "<Figure size 432x288 with 1 Axes>"
      ]
     },
     "metadata": {
      "needs_background": "light"
     },
     "output_type": "display_data"
    }
   ],
   "source": [
    "data2.plot(x='living_area', y='total_area', kind='scatter', alpha=0.1)\n",
    "data2['living_area'].corr(data2['total_area'])"
   ]
  },
  {
   "cell_type": "markdown",
   "metadata": {},
   "source": [
    "<div class=\"alert alert-block alert-info\">\n",
    "показываю свзязь жилой и общей площади в подтверждение написаного выше\n",
    "</div>"
   ]
  },
  {
   "cell_type": "code",
   "execution_count": 44,
   "metadata": {},
   "outputs": [
    {
     "data": {
      "text/plain": [
       "0.3930464600454481"
      ]
     },
     "execution_count": 44,
     "metadata": {},
     "output_type": "execute_result"
    },
    {
     "data": {
      "image/png": "[encoded data removed]",
      "text/plain": [
       "<Figure size 432x288 with 1 Axes>"
      ]
     },
     "metadata": {
      "needs_background": "light"
     },
     "output_type": "display_data"
    }
   ],
   "source": [
    "data_rooms=pd.pivot_table(data2,index='rooms', values='last_price', aggfunc='mean')\n",
    "data_rooms.plot()\n",
    "data2['rooms'].corr(data2['last_price'])"
   ]
  },
  {
   "cell_type": "markdown",
   "metadata": {},
   "source": [
    "<div class=\"alert alert-block alert-info\">\n",
    "количество комнат имеет сильную связь с ценой квартиры (предполагаю, что коэффицент 0.4 достаточный что бы сказать что он имеет свзять,так как есть много параметров и они влияют все в совокупности, а не один \n",
    "</div>"
   ]
  },
  {
   "cell_type": "code",
   "execution_count": 45,
   "metadata": {},
   "outputs": [
    {
     "data": {
      "text/plain": [
       "<AxesSubplot:xlabel='floor_type'>"
      ]
     },
     "execution_count": 45,
     "metadata": {},
     "output_type": "execute_result"
    },
    {
     "data": {
      "image/png": "[encoded data removed]",
      "text/plain": [
       "<Figure size 432x288 with 1 Axes>"
      ]
     },
     "metadata": {
      "needs_background": "light"
     },
     "output_type": "display_data"
    }
   ],
   "source": [
    "data_floor_type=pd.pivot_table(data2,index='floor_type', values='last_price', aggfunc='mean')\n",
    "data_floor_type.plot()"
   ]
  },
  {
   "cell_type": "markdown",
   "metadata": {},
   "source": [
    "<div class=\"alert alert-block alert-info\">\n",
    "первый и последний этаж ожидаемо дешевле аналогичного другого\n",
    "</div>"
   ]
  },
  {
   "cell_type": "code",
   "execution_count": 46,
   "metadata": {},
   "outputs": [
    {
     "data": {
      "text/plain": [
       "<AxesSubplot:xlabel='day'>"
      ]
     },
     "execution_count": 46,
     "metadata": {},
     "output_type": "execute_result"
    },
    {
     "data": {
      "image/png": "[encoded data removed]",
      "text/plain": [
       "<Figure size 432x288 with 1 Axes>"
      ]
     },
     "metadata": {
      "needs_background": "light"
     },
     "output_type": "display_data"
    }
   ],
   "source": [
    "data_day=pd.pivot_table(data2, index='day',values='last_price', aggfunc='mean')\n",
    "data_day.plot()"
   ]
  },
  {
   "cell_type": "markdown",
   "metadata": {},
   "source": [
    "<div class=\"alert alert-block alert-info\">\n",
    "учитывая шаг графика по оси Y разброс почти отсутствует\n",
    "</div>"
   ]
  },
  {
   "cell_type": "code",
   "execution_count": 47,
   "metadata": {},
   "outputs": [
    {
     "data": {
      "text/plain": [
       "<AxesSubplot:xlabel='month'>"
      ]
     },
     "execution_count": 47,
     "metadata": {},
     "output_type": "execute_result"
    },
    {
     "data": {
      "image/png": "[encoded data removed]",
      "text/plain": [
       "<Figure size 432x288 with 1 Axes>"
      ]
     },
     "metadata": {
      "needs_background": "light"
     },
     "output_type": "display_data"
    }
   ],
   "source": [
    "data_month=pd.pivot_table(data2, index='month',values='last_price', aggfunc='mean')\n",
    "data_month.plot()"
   ]
  },
  {
   "cell_type": "markdown",
   "metadata": {},
   "source": [
    "<div class=\"alert alert-block alert-info\">\n",
    "предположу что летом люди более благосклонны к снижению цены на квартиру\n",
    "</div>"
   ]
  },
  {
   "cell_type": "code",
   "execution_count": 48,
   "metadata": {},
   "outputs": [
    {
     "data": {
      "text/plain": [
       "<AxesSubplot:xlabel='year'>"
      ]
     },
     "execution_count": 48,
     "metadata": {},
     "output_type": "execute_result"
    },
    {
     "data": {
      "image/png": "[encoded data removed]",
      "text/plain": [
       "<Figure size 432x288 with 1 Axes>"
      ]
     },
     "metadata": {
      "needs_background": "light"
     },
     "output_type": "display_data"
    }
   ],
   "source": [
    "data_year=pd.pivot_table(data2, index='year',values='last_price', aggfunc='mean')\n",
    "data_year.plot()"
   ]
  },
  {
   "cell_type": "markdown",
   "metadata": {},
   "source": [
    "<div class=\"alert alert-block alert-info\">\n",
    "падение графика цены соответвует общему экономическому положению в стране в свзяи с кризисом\n",
    "</div>"
   ]
  },
  {
   "cell_type": "code",
   "execution_count": 49,
   "metadata": {},
   "outputs": [],
   "source": [
    "data_locality_name=pd.pivot_table(data2,index='locality_name', values=['floor','last_price','total_area'],\n",
    "                                  aggfunc={'floor':'count','last_price':'mean','total_area':'mean'}\n",
    "                                 ).sort_values(by='floor',ascending=False)\n",
    "data_locality_name=data_locality_name[data_locality_name['floor']>200]\n",
    "data_locality_name.columns=['Количество объявлений','Ср. цена', 'Ср. площадь']"
   ]
  },
  {
   "cell_type": "code",
   "execution_count": 50,
   "metadata": {},
   "outputs": [
    {
     "data": {
      "text/html": [
       "<div>\n",
       "<style scoped>\n",
       "    .dataframe tbody tr th:only-of-type {\n",
       "        vertical-align: middle;\n",
       "    }\n",
       "\n",
       "    .dataframe tbody tr th {\n",
       "        vertical-align: top;\n",
       "    }\n",
       "\n",
       "    .dataframe thead th {\n",
       "        text-align: right;\n",
       "    }\n",
       "</style>\n",
       "<table border=\"1\" class=\"dataframe\">\n",
       "  <thead>\n",
       "    <tr style=\"text-align: right;\">\n",
       "      <th></th>\n",
       "      <th>Количество объявлений</th>\n",
       "      <th>Ср. цена</th>\n",
       "      <th>Ср. площадь</th>\n",
       "      <th>Ср.цена/кв.м</th>\n",
       "    </tr>\n",
       "    <tr>\n",
       "      <th>locality_name</th>\n",
       "      <th></th>\n",
       "      <th></th>\n",
       "      <th></th>\n",
       "      <th></th>\n",
       "    </tr>\n",
       "  </thead>\n",
       "  <tbody>\n",
       "    <tr>\n",
       "      <th>санкт-петербург</th>\n",
       "      <td>11963</td>\n",
       "      <td>5.364437e+06</td>\n",
       "      <td>51.765093</td>\n",
       "      <td>103630.389756</td>\n",
       "    </tr>\n",
       "    <tr>\n",
       "      <th>пушкин</th>\n",
       "      <td>300</td>\n",
       "      <td>5.135557e+06</td>\n",
       "      <td>51.682100</td>\n",
       "      <td>99368.186406</td>\n",
       "    </tr>\n",
       "    <tr>\n",
       "      <th>кудрово</th>\n",
       "      <td>464</td>\n",
       "      <td>4.308346e+06</td>\n",
       "      <td>46.062091</td>\n",
       "      <td>93533.449509</td>\n",
       "    </tr>\n",
       "    <tr>\n",
       "      <th>парголово</th>\n",
       "      <td>324</td>\n",
       "      <td>4.463582e+06</td>\n",
       "      <td>50.725309</td>\n",
       "      <td>87995.160268</td>\n",
       "    </tr>\n",
       "    <tr>\n",
       "      <th>мурино</th>\n",
       "      <td>579</td>\n",
       "      <td>3.670799e+06</td>\n",
       "      <td>43.993938</td>\n",
       "      <td>83438.749019</td>\n",
       "    </tr>\n",
       "    <tr>\n",
       "      <th>шушары</th>\n",
       "      <td>428</td>\n",
       "      <td>4.020465e+06</td>\n",
       "      <td>52.664626</td>\n",
       "      <td>76340.899831</td>\n",
       "    </tr>\n",
       "    <tr>\n",
       "      <th>колпино</th>\n",
       "      <td>315</td>\n",
       "      <td>3.753058e+06</td>\n",
       "      <td>50.761714</td>\n",
       "      <td>73934.814390</td>\n",
       "    </tr>\n",
       "    <tr>\n",
       "      <th>гатчина</th>\n",
       "      <td>283</td>\n",
       "      <td>3.332369e+06</td>\n",
       "      <td>48.962827</td>\n",
       "      <td>68059.157881</td>\n",
       "    </tr>\n",
       "    <tr>\n",
       "      <th>всеволожск</th>\n",
       "      <td>378</td>\n",
       "      <td>3.633432e+06</td>\n",
       "      <td>54.913968</td>\n",
       "      <td>66165.906025</td>\n",
       "    </tr>\n",
       "    <tr>\n",
       "      <th>выборг</th>\n",
       "      <td>202</td>\n",
       "      <td>2.874134e+06</td>\n",
       "      <td>50.348812</td>\n",
       "      <td>57084.438659</td>\n",
       "    </tr>\n",
       "  </tbody>\n",
       "</table>\n",
       "</div>"
      ],
      "text/plain": [
       "                 Количество объявлений      Ср. цена  Ср. площадь  \\\n",
       "locality_name                                                       \n",
       "санкт-петербург                  11963  5.364437e+06    51.765093   \n",
       "пушкин                             300  5.135557e+06    51.682100   \n",
       "кудрово                            464  4.308346e+06    46.062091   \n",
       "парголово                          324  4.463582e+06    50.725309   \n",
       "мурино                             579  3.670799e+06    43.993938   \n",
       "шушары                             428  4.020465e+06    52.664626   \n",
       "колпино                            315  3.753058e+06    50.761714   \n",
       "гатчина                            283  3.332369e+06    48.962827   \n",
       "всеволожск                         378  3.633432e+06    54.913968   \n",
       "выборг                             202  2.874134e+06    50.348812   \n",
       "\n",
       "                  Ср.цена/кв.м  \n",
       "locality_name                   \n",
       "санкт-петербург  103630.389756  \n",
       "пушкин            99368.186406  \n",
       "кудрово           93533.449509  \n",
       "парголово         87995.160268  \n",
       "мурино            83438.749019  \n",
       "шушары            76340.899831  \n",
       "колпино           73934.814390  \n",
       "гатчина           68059.157881  \n",
       "всеволожск        66165.906025  \n",
       "выборг            57084.438659  "
      ]
     },
     "execution_count": 50,
     "metadata": {},
     "output_type": "execute_result"
    }
   ],
   "source": [
    "data_locality_name['Ср.цена/кв.м']=data_locality_name['Ср. цена']/data_locality_name['Ср. площадь']\n",
    "data_locality_name.sort_values(by='Ср.цена/кв.м',ascending=False)"
   ]
  },
  {
   "cell_type": "markdown",
   "metadata": {},
   "source": [
    "<div class=\"alert alert-block alert-info\">\n",
    "вычислаю наибольшую среднюю цену кв.м. в 10 пунктах с наибольшим числом обЪявлений\n",
    "</div>"
   ]
  },
  {
   "cell_type": "code",
   "execution_count": 51,
   "metadata": {},
   "outputs": [
    {
     "data": {
      "text/plain": [
       "-0.3189458565121021"
      ]
     },
     "execution_count": 51,
     "metadata": {},
     "output_type": "execute_result"
    },
    {
     "data": {
      "image/png": "[encoded data removed]",
      "text/plain": [
       "<Figure size 432x288 with 1 Axes>"
      ]
     },
     "metadata": {
      "needs_background": "light"
     },
     "output_type": "display_data"
    }
   ],
   "source": [
    "data_spb=data2[data2['locality_name']=='санкт-петербург']\n",
    "data_spb=data_spb[data_spb['city_center_km']<=30]\n",
    "data_spb_mean=pd.pivot_table(data_spb, index='city_center_km',values='sqm_price', aggfunc='mean')\n",
    "data_spb_mean.plot()\n",
    "data_spb['sqm_price'].corr(data_spb['city_center_km'])"
   ]
  },
  {
   "cell_type": "markdown",
   "metadata": {},
   "source": [
    "<div class=\"alert alert-block alert-info\">\n",
    "свзять между удаленностью от центра Спб и ценой опреденно имеется (и очень сильная), но коэфицент это плохо отображает так как из за того, что в базе слишком мало дорогих объявлений из цетральной части Спб, их пришлось откинуть как \"выбросы\" иначе они очень сильно исказят информацию для анализа по остальным объявлениям из Лен. обл. \n",
    "</div>"
   ]
  },
  {
   "cell_type": "markdown",
   "metadata": {},
   "source": [
    "### Общий вывод"
   ]
  },
  {
   "cell_type": "markdown",
   "metadata": {},
   "source": [
    "<b>Параметры сильно влияющие на стоимость квартиры:</b>\n",
    "* Общая площадь (цена растет с увеличением)\n",
    "* Этаж (первый и последний дешевле)\n",
    "* Месяц размещения (летом средняя цена заметно падает)\n",
    "* Близость к центру (только в случает с Санкт-Петербургом)\n",
    "\n",
    "Сейчас рынок квартир идет вверх после сильного падения 2014-2015 годов\n",
    "\n",
    "Наибольшее число объявлений находиться в самом Спб и населенных пунктах в непосредственной близости к нему\n",
    "\n",
    "Так же считаю не совсем корректным проводить анализ по Спб и Ленинградской области вместе т.к. это слишком крупный город и его данные не дают объективно оценить ситацию в малых населенных пунктах, где формирование цен может происходить по другим, отличным от СПб величинам (например: близость основным магистралям, близость к другим городам, инфраструктура конкретного населенного пункта)"
   ]
  },
  {
   "cell_type": "code",
   "execution_count": null,
   "metadata": {},
   "outputs": [],
   "source": []
  }
 ],
 "metadata": {
  "ExecuteTimeLog": [
   {
    "duration": 562,
    "start_time": "2023-05-05T10:58:56.595Z"
   },
   {
    "duration": 394,
    "start_time": "2023-05-05T10:59:21.899Z"
   },
   {
    "duration": 126,
    "start_time": "2023-05-05T11:23:47.728Z"
   },
   {
    "duration": 13,
    "start_time": "2023-05-05T11:23:49.518Z"
   },
   {
    "duration": 104,
    "start_time": "2023-05-05T11:24:26.195Z"
   },
   {
    "duration": 2275,
    "start_time": "2023-05-05T11:24:36.094Z"
   },
   {
    "duration": 23,
    "start_time": "2023-05-05T11:26:56.138Z"
   },
   {
    "duration": 14,
    "start_time": "2023-05-05T11:27:00.505Z"
   },
   {
    "duration": 10,
    "start_time": "2023-05-05T11:27:28.627Z"
   },
   {
    "duration": 10,
    "start_time": "2023-05-05T11:27:49.618Z"
   },
   {
    "duration": 124,
    "start_time": "2023-05-05T11:34:02.947Z"
   },
   {
    "duration": 117,
    "start_time": "2023-05-05T11:34:21.737Z"
   },
   {
    "duration": 797,
    "start_time": "2023-05-05T11:35:11.928Z"
   },
   {
    "duration": 870,
    "start_time": "2023-05-05T11:35:23.533Z"
   },
   {
    "duration": 7,
    "start_time": "2023-05-05T11:35:33.738Z"
   },
   {
    "duration": 25,
    "start_time": "2023-05-05T11:36:04.883Z"
   },
   {
    "duration": 18,
    "start_time": "2023-05-05T11:40:08.370Z"
   },
   {
    "duration": 25,
    "start_time": "2023-05-05T11:40:20.539Z"
   },
   {
    "duration": 36,
    "start_time": "2023-05-05T11:42:41.441Z"
   },
   {
    "duration": 79,
    "start_time": "2023-05-05T11:43:03.999Z"
   },
   {
    "duration": 29,
    "start_time": "2023-05-05T11:44:16.802Z"
   },
   {
    "duration": 35,
    "start_time": "2023-05-05T11:44:24.645Z"
   },
   {
    "duration": 134,
    "start_time": "2023-05-05T11:44:29.576Z"
   },
   {
    "duration": 2235,
    "start_time": "2023-05-05T11:44:29.712Z"
   },
   {
    "duration": 16,
    "start_time": "2023-05-05T11:44:31.949Z"
   },
   {
    "duration": 24,
    "start_time": "2023-05-05T11:44:31.967Z"
   },
   {
    "duration": 54,
    "start_time": "2023-05-05T11:45:34.624Z"
   },
   {
    "duration": 36,
    "start_time": "2023-05-05T11:46:12.407Z"
   },
   {
    "duration": 12,
    "start_time": "2023-05-05T11:46:43.430Z"
   },
   {
    "duration": 32,
    "start_time": "2023-05-05T11:46:50.249Z"
   },
   {
    "duration": 21,
    "start_time": "2023-05-05T11:47:28.781Z"
   },
   {
    "duration": 57,
    "start_time": "2023-05-05T11:48:32.002Z"
   },
   {
    "duration": 56,
    "start_time": "2023-05-05T11:52:32.058Z"
   },
   {
    "duration": 53,
    "start_time": "2023-05-05T11:52:42.202Z"
   },
   {
    "duration": 51,
    "start_time": "2023-05-05T11:53:37.303Z"
   },
   {
    "duration": 51,
    "start_time": "2023-05-05T11:58:41.876Z"
   },
   {
    "duration": 52,
    "start_time": "2023-05-05T11:58:58.440Z"
   },
   {
    "duration": 63,
    "start_time": "2023-05-05T11:59:22.407Z"
   },
   {
    "duration": 54,
    "start_time": "2023-05-05T11:59:35.093Z"
   },
   {
    "duration": 66,
    "start_time": "2023-05-05T12:05:55.137Z"
   },
   {
    "duration": 54,
    "start_time": "2023-05-05T12:06:31.823Z"
   },
   {
    "duration": 90,
    "start_time": "2023-05-05T12:08:27.296Z"
   },
   {
    "duration": 82,
    "start_time": "2023-05-05T12:08:50.234Z"
   },
   {
    "duration": 130,
    "start_time": "2023-05-05T12:09:20.305Z"
   },
   {
    "duration": 1991,
    "start_time": "2023-05-05T12:09:20.437Z"
   },
   {
    "duration": 10,
    "start_time": "2023-05-05T12:09:22.430Z"
   },
   {
    "duration": 7,
    "start_time": "2023-05-05T12:09:22.442Z"
   },
   {
    "duration": 52,
    "start_time": "2023-05-05T12:09:22.451Z"
   },
   {
    "duration": 64,
    "start_time": "2023-05-05T12:09:40.830Z"
   },
   {
    "duration": 100,
    "start_time": "2023-05-05T12:09:54.581Z"
   },
   {
    "duration": 8,
    "start_time": "2023-05-05T12:10:46.185Z"
   },
   {
    "duration": 130,
    "start_time": "2023-05-05T12:10:55.344Z"
   },
   {
    "duration": 2205,
    "start_time": "2023-05-05T12:10:55.476Z"
   },
   {
    "duration": 13,
    "start_time": "2023-05-05T12:10:57.685Z"
   },
   {
    "duration": 9,
    "start_time": "2023-05-05T12:10:57.701Z"
   },
   {
    "duration": 32,
    "start_time": "2023-05-05T12:10:57.711Z"
   },
   {
    "duration": 50,
    "start_time": "2023-05-05T12:11:13.481Z"
   },
   {
    "duration": 67,
    "start_time": "2023-05-05T12:11:28.544Z"
   },
   {
    "duration": 54,
    "start_time": "2023-05-05T12:12:25.355Z"
   },
   {
    "duration": 53,
    "start_time": "2023-05-05T12:13:00.376Z"
   },
   {
    "duration": 48,
    "start_time": "2023-05-05T12:13:23.153Z"
   },
   {
    "duration": 36,
    "start_time": "2023-05-05T12:16:01.124Z"
   },
   {
    "duration": 53,
    "start_time": "2023-05-05T12:16:08.344Z"
   },
   {
    "duration": 123,
    "start_time": "2023-05-05T12:16:38.622Z"
   },
   {
    "duration": 2261,
    "start_time": "2023-05-05T12:16:38.747Z"
   },
   {
    "duration": 10,
    "start_time": "2023-05-05T12:16:41.010Z"
   },
   {
    "duration": 10,
    "start_time": "2023-05-05T12:16:41.022Z"
   },
   {
    "duration": 74,
    "start_time": "2023-05-05T12:16:41.034Z"
   },
   {
    "duration": 51,
    "start_time": "2023-05-05T12:18:46.366Z"
   },
   {
    "duration": 57,
    "start_time": "2023-05-05T12:18:58.036Z"
   },
   {
    "duration": 58,
    "start_time": "2023-05-05T12:20:56.254Z"
   },
   {
    "duration": 50,
    "start_time": "2023-05-05T12:21:06.885Z"
   },
   {
    "duration": 57,
    "start_time": "2023-05-05T12:21:38.565Z"
   },
   {
    "duration": 71,
    "start_time": "2023-05-05T12:21:49.823Z"
   },
   {
    "duration": 8,
    "start_time": "2023-05-05T12:22:00.602Z"
   },
   {
    "duration": 60,
    "start_time": "2023-05-05T12:28:06.762Z"
   },
   {
    "duration": 56,
    "start_time": "2023-05-05T12:31:34.905Z"
   },
   {
    "duration": 126,
    "start_time": "2023-05-05T12:37:38.877Z"
   },
   {
    "duration": 2051,
    "start_time": "2023-05-05T12:37:39.005Z"
   },
   {
    "duration": 9,
    "start_time": "2023-05-05T12:37:41.058Z"
   },
   {
    "duration": 22,
    "start_time": "2023-05-05T12:37:41.069Z"
   },
   {
    "duration": 44,
    "start_time": "2023-05-05T12:37:41.093Z"
   },
   {
    "duration": 40,
    "start_time": "2023-05-05T12:37:52.776Z"
   },
   {
    "duration": 26,
    "start_time": "2023-05-05T12:38:11.333Z"
   },
   {
    "duration": 31,
    "start_time": "2023-05-05T12:38:25.285Z"
   },
   {
    "duration": 37,
    "start_time": "2023-05-05T12:38:55.160Z"
   },
   {
    "duration": 34,
    "start_time": "2023-05-05T12:39:19.210Z"
   },
   {
    "duration": 39,
    "start_time": "2023-05-05T12:39:29.607Z"
   },
   {
    "duration": 46,
    "start_time": "2023-05-05T12:40:55.375Z"
   },
   {
    "duration": 41,
    "start_time": "2023-05-05T12:41:05.829Z"
   },
   {
    "duration": 160,
    "start_time": "2023-05-05T12:42:07.021Z"
   },
   {
    "duration": 229,
    "start_time": "2023-05-05T12:42:17.783Z"
   },
   {
    "duration": 128,
    "start_time": "2023-05-05T12:42:23.705Z"
   },
   {
    "duration": 2146,
    "start_time": "2023-05-05T12:42:23.836Z"
   },
   {
    "duration": 19,
    "start_time": "2023-05-05T12:42:25.984Z"
   },
   {
    "duration": 9,
    "start_time": "2023-05-05T12:42:26.005Z"
   },
   {
    "duration": 30,
    "start_time": "2023-05-05T12:42:26.016Z"
   },
   {
    "duration": 182,
    "start_time": "2023-05-05T12:42:33.049Z"
   },
   {
    "duration": 176,
    "start_time": "2023-05-05T12:43:17.075Z"
   },
   {
    "duration": 143,
    "start_time": "2023-05-05T12:43:35.364Z"
   },
   {
    "duration": 2256,
    "start_time": "2023-05-05T12:43:35.509Z"
   },
   {
    "duration": 21,
    "start_time": "2023-05-05T12:43:37.767Z"
   },
   {
    "duration": 16,
    "start_time": "2023-05-05T12:43:37.791Z"
   },
   {
    "duration": 43,
    "start_time": "2023-05-05T12:43:37.810Z"
   },
   {
    "duration": 166,
    "start_time": "2023-05-05T12:43:44.699Z"
   },
   {
    "duration": 12,
    "start_time": "2023-05-05T12:44:27.584Z"
   },
   {
    "duration": 143,
    "start_time": "2023-05-05T12:44:41.368Z"
   },
   {
    "duration": 9,
    "start_time": "2023-05-05T12:44:56.636Z"
   },
   {
    "duration": 7,
    "start_time": "2023-05-05T12:45:19.805Z"
   },
   {
    "duration": 13,
    "start_time": "2023-05-05T12:45:23.777Z"
   },
   {
    "duration": 10,
    "start_time": "2023-05-05T12:46:08.689Z"
   },
   {
    "duration": 9,
    "start_time": "2023-05-05T12:46:19.439Z"
   },
   {
    "duration": 34,
    "start_time": "2023-05-05T13:01:25.785Z"
   },
   {
    "duration": 18,
    "start_time": "2023-05-05T13:03:01.110Z"
   },
   {
    "duration": 13,
    "start_time": "2023-05-05T13:06:02.395Z"
   },
   {
    "duration": 16,
    "start_time": "2023-05-05T13:07:01.498Z"
   },
   {
    "duration": 28,
    "start_time": "2023-05-05T13:07:06.184Z"
   },
   {
    "duration": 22,
    "start_time": "2023-05-05T13:08:31.456Z"
   },
   {
    "duration": 18,
    "start_time": "2023-05-05T13:10:11.419Z"
   },
   {
    "duration": 18,
    "start_time": "2023-05-05T13:11:38.113Z"
   },
   {
    "duration": 17,
    "start_time": "2023-05-05T13:12:23.347Z"
   },
   {
    "duration": 21,
    "start_time": "2023-05-05T13:13:11.735Z"
   },
   {
    "duration": 21,
    "start_time": "2023-05-05T13:13:36.297Z"
   },
   {
    "duration": 175,
    "start_time": "2023-05-05T13:14:14.071Z"
   },
   {
    "duration": 2109,
    "start_time": "2023-05-05T13:14:14.249Z"
   },
   {
    "duration": 11,
    "start_time": "2023-05-05T13:14:16.361Z"
   },
   {
    "duration": 21,
    "start_time": "2023-05-05T13:14:16.386Z"
   },
   {
    "duration": 40,
    "start_time": "2023-05-05T13:14:16.410Z"
   },
   {
    "duration": 202,
    "start_time": "2023-05-05T13:14:16.452Z"
   },
   {
    "duration": 11,
    "start_time": "2023-05-05T13:14:20.067Z"
   },
   {
    "duration": 10,
    "start_time": "2023-05-05T13:14:26.802Z"
   },
   {
    "duration": 10,
    "start_time": "2023-05-05T13:14:31.801Z"
   },
   {
    "duration": 13,
    "start_time": "2023-05-05T13:15:02.145Z"
   },
   {
    "duration": 12,
    "start_time": "2023-05-05T13:15:19.578Z"
   },
   {
    "duration": 141,
    "start_time": "2023-05-05T13:15:24.260Z"
   },
   {
    "duration": 2266,
    "start_time": "2023-05-05T13:15:24.403Z"
   },
   {
    "duration": 17,
    "start_time": "2023-05-05T13:15:26.671Z"
   },
   {
    "duration": 23,
    "start_time": "2023-05-05T13:15:26.690Z"
   },
   {
    "duration": 36,
    "start_time": "2023-05-05T13:15:26.715Z"
   },
   {
    "duration": 199,
    "start_time": "2023-05-05T13:15:26.753Z"
   },
   {
    "duration": 13,
    "start_time": "2023-05-05T13:15:54.582Z"
   },
   {
    "duration": 12,
    "start_time": "2023-05-05T13:17:51.886Z"
   },
   {
    "duration": 14,
    "start_time": "2023-05-05T13:17:55.811Z"
   },
   {
    "duration": 15,
    "start_time": "2023-05-05T13:18:06.346Z"
   },
   {
    "duration": 152,
    "start_time": "2023-05-05T13:18:11.736Z"
   },
   {
    "duration": 1987,
    "start_time": "2023-05-05T13:18:11.890Z"
   },
   {
    "duration": 13,
    "start_time": "2023-05-05T13:18:13.884Z"
   },
   {
    "duration": 124,
    "start_time": "2023-05-05T13:18:13.898Z"
   },
   {
    "duration": 30,
    "start_time": "2023-05-05T13:18:14.024Z"
   },
   {
    "duration": 185,
    "start_time": "2023-05-05T13:18:14.056Z"
   },
   {
    "duration": 15,
    "start_time": "2023-05-05T13:18:31.797Z"
   },
   {
    "duration": 133,
    "start_time": "2023-05-05T13:18:48.045Z"
   },
   {
    "duration": 2153,
    "start_time": "2023-05-05T13:18:48.183Z"
   },
   {
    "duration": 15,
    "start_time": "2023-05-05T13:18:50.338Z"
   },
   {
    "duration": 12,
    "start_time": "2023-05-05T13:18:50.355Z"
   },
   {
    "duration": 49,
    "start_time": "2023-05-05T13:18:50.368Z"
   },
   {
    "duration": 207,
    "start_time": "2023-05-05T13:18:50.419Z"
   },
   {
    "duration": 11,
    "start_time": "2023-05-05T13:19:00.343Z"
   },
   {
    "duration": 135,
    "start_time": "2023-05-05T13:19:40.282Z"
   },
   {
    "duration": 2298,
    "start_time": "2023-05-05T13:19:40.419Z"
   },
   {
    "duration": 9,
    "start_time": "2023-05-05T13:19:42.719Z"
   },
   {
    "duration": 8,
    "start_time": "2023-05-05T13:19:42.729Z"
   },
   {
    "duration": 53,
    "start_time": "2023-05-05T13:19:42.738Z"
   },
   {
    "duration": 165,
    "start_time": "2023-05-05T13:19:42.793Z"
   },
   {
    "duration": 12,
    "start_time": "2023-05-05T13:20:46.532Z"
   },
   {
    "duration": 14,
    "start_time": "2023-05-05T13:20:57.812Z"
   },
   {
    "duration": 15,
    "start_time": "2023-05-05T13:21:52.578Z"
   },
   {
    "duration": 8,
    "start_time": "2023-05-05T13:22:27.825Z"
   },
   {
    "duration": 123,
    "start_time": "2023-05-05T13:22:51.417Z"
   },
   {
    "duration": 9,
    "start_time": "2023-05-05T13:24:28.033Z"
   },
   {
    "duration": 122,
    "start_time": "2023-05-05T13:25:46.886Z"
   },
   {
    "duration": 1929,
    "start_time": "2023-05-05T13:25:47.010Z"
   },
   {
    "duration": 13,
    "start_time": "2023-05-05T13:25:48.941Z"
   },
   {
    "duration": 22,
    "start_time": "2023-05-05T13:25:48.956Z"
   },
   {
    "duration": 46,
    "start_time": "2023-05-05T13:25:48.984Z"
   },
   {
    "duration": 167,
    "start_time": "2023-05-05T13:25:49.031Z"
   },
   {
    "duration": 14,
    "start_time": "2023-05-05T13:25:49.200Z"
   },
   {
    "duration": 9,
    "start_time": "2023-05-05T13:25:56.367Z"
   },
   {
    "duration": 99,
    "start_time": "2023-05-05T13:26:04.523Z"
   },
   {
    "duration": 109,
    "start_time": "2023-05-05T13:26:30.448Z"
   },
   {
    "duration": 68,
    "start_time": "2023-05-05T13:28:24.479Z"
   },
   {
    "duration": 6,
    "start_time": "2023-05-05T13:28:28.810Z"
   },
   {
    "duration": 38,
    "start_time": "2023-05-05T13:28:38.279Z"
   },
   {
    "duration": 14,
    "start_time": "2023-05-05T13:30:32.100Z"
   },
   {
    "duration": 12,
    "start_time": "2023-05-05T13:31:47.686Z"
   },
   {
    "duration": 11,
    "start_time": "2023-05-05T13:34:56.276Z"
   },
   {
    "duration": 12,
    "start_time": "2023-05-05T13:37:08.985Z"
   },
   {
    "duration": 29,
    "start_time": "2023-05-05T13:37:36.453Z"
   },
   {
    "duration": 31,
    "start_time": "2023-05-05T13:37:53.427Z"
   },
   {
    "duration": 42,
    "start_time": "2023-05-05T13:38:05.731Z"
   },
   {
    "duration": 21,
    "start_time": "2023-05-05T13:42:48.206Z"
   },
   {
    "duration": 123,
    "start_time": "2023-05-05T13:43:51.686Z"
   },
   {
    "duration": 1870,
    "start_time": "2023-05-05T13:43:51.810Z"
   },
   {
    "duration": 10,
    "start_time": "2023-05-05T13:43:53.681Z"
   },
   {
    "duration": 12,
    "start_time": "2023-05-05T13:43:53.693Z"
   },
   {
    "duration": 134,
    "start_time": "2023-05-05T13:44:07.433Z"
   },
   {
    "duration": 2419,
    "start_time": "2023-05-05T13:44:07.569Z"
   },
   {
    "duration": 15,
    "start_time": "2023-05-05T13:44:09.991Z"
   },
   {
    "duration": 18,
    "start_time": "2023-05-05T13:44:10.007Z"
   },
   {
    "duration": 46,
    "start_time": "2023-05-05T13:44:10.028Z"
   },
   {
    "duration": 0,
    "start_time": "2023-05-05T13:44:10.075Z"
   },
   {
    "duration": 0,
    "start_time": "2023-05-05T13:44:10.076Z"
   },
   {
    "duration": 196,
    "start_time": "2023-05-05T13:44:18.580Z"
   },
   {
    "duration": 18,
    "start_time": "2023-05-05T13:44:24.059Z"
   },
   {
    "duration": 23,
    "start_time": "2023-05-05T13:44:28.004Z"
   },
   {
    "duration": 21,
    "start_time": "2023-05-05T13:45:36.604Z"
   },
   {
    "duration": 20,
    "start_time": "2023-05-05T13:46:31.331Z"
   },
   {
    "duration": 21,
    "start_time": "2023-05-05T13:46:49.629Z"
   },
   {
    "duration": 25,
    "start_time": "2023-05-05T13:47:37.783Z"
   },
   {
    "duration": 140,
    "start_time": "2023-05-05T13:50:02.335Z"
   },
   {
    "duration": 1915,
    "start_time": "2023-05-05T13:50:02.485Z"
   },
   {
    "duration": 9,
    "start_time": "2023-05-05T13:50:04.402Z"
   },
   {
    "duration": 8,
    "start_time": "2023-05-05T13:50:04.413Z"
   },
   {
    "duration": 39,
    "start_time": "2023-05-05T13:50:04.423Z"
   },
   {
    "duration": 175,
    "start_time": "2023-05-05T13:50:04.464Z"
   },
   {
    "duration": 13,
    "start_time": "2023-05-05T13:50:04.640Z"
   },
   {
    "duration": 22,
    "start_time": "2023-05-05T13:50:11.624Z"
   },
   {
    "duration": 20,
    "start_time": "2023-05-05T13:52:06.373Z"
   },
   {
    "duration": 344,
    "start_time": "2023-05-05T13:59:30.085Z"
   },
   {
    "duration": 393,
    "start_time": "2023-05-05T14:04:00.759Z"
   },
   {
    "duration": 114,
    "start_time": "2023-05-05T14:06:43.180Z"
   },
   {
    "duration": 8,
    "start_time": "2023-05-05T14:06:53.519Z"
   },
   {
    "duration": 99,
    "start_time": "2023-05-05T14:06:59.861Z"
   },
   {
    "duration": 97,
    "start_time": "2023-05-05T14:07:15.992Z"
   },
   {
    "duration": 120,
    "start_time": "2023-05-05T14:07:56.276Z"
   },
   {
    "duration": 126,
    "start_time": "2023-05-05T14:08:28.200Z"
   },
   {
    "duration": 127,
    "start_time": "2023-05-05T14:08:48.525Z"
   },
   {
    "duration": 110,
    "start_time": "2023-05-05T14:09:40.556Z"
   },
   {
    "duration": 99,
    "start_time": "2023-05-05T14:15:26.156Z"
   },
   {
    "duration": 136,
    "start_time": "2023-05-05T14:15:44.500Z"
   },
   {
    "duration": 6,
    "start_time": "2023-05-05T14:15:47.104Z"
   },
   {
    "duration": 17,
    "start_time": "2023-05-05T14:16:43.726Z"
   },
   {
    "duration": 17,
    "start_time": "2023-05-05T14:17:40.975Z"
   },
   {
    "duration": 17,
    "start_time": "2023-05-05T14:17:45.106Z"
   },
   {
    "duration": 17,
    "start_time": "2023-05-05T14:18:10.212Z"
   },
   {
    "duration": 20,
    "start_time": "2023-05-05T14:18:28.020Z"
   },
   {
    "duration": 20,
    "start_time": "2023-05-05T14:18:41.042Z"
   },
   {
    "duration": 21,
    "start_time": "2023-05-05T14:19:00.751Z"
   },
   {
    "duration": 55,
    "start_time": "2023-05-05T14:20:20.832Z"
   },
   {
    "duration": 19,
    "start_time": "2023-05-05T14:21:53.388Z"
   },
   {
    "duration": 21,
    "start_time": "2023-05-05T14:22:27.319Z"
   },
   {
    "duration": 54,
    "start_time": "2023-05-05T14:25:02.127Z"
   },
   {
    "duration": 81,
    "start_time": "2023-05-05T14:25:16.884Z"
   },
   {
    "duration": 92,
    "start_time": "2023-05-05T14:26:37.363Z"
   },
   {
    "duration": 83,
    "start_time": "2023-05-05T14:27:07.038Z"
   },
   {
    "duration": 15,
    "start_time": "2023-05-05T14:27:41.667Z"
   },
   {
    "duration": 16,
    "start_time": "2023-05-05T14:27:56.042Z"
   },
   {
    "duration": 82,
    "start_time": "2023-05-05T14:28:55.802Z"
   },
   {
    "duration": 15,
    "start_time": "2023-05-05T14:29:05.080Z"
   },
   {
    "duration": 118,
    "start_time": "2023-05-05T14:31:46.687Z"
   },
   {
    "duration": 1851,
    "start_time": "2023-05-05T14:31:46.808Z"
   },
   {
    "duration": 9,
    "start_time": "2023-05-05T14:31:48.661Z"
   },
   {
    "duration": 25,
    "start_time": "2023-05-05T14:31:48.671Z"
   },
   {
    "duration": 32,
    "start_time": "2023-05-05T14:31:48.698Z"
   },
   {
    "duration": 166,
    "start_time": "2023-05-05T14:31:48.732Z"
   },
   {
    "duration": 14,
    "start_time": "2023-05-05T14:31:48.900Z"
   },
   {
    "duration": 353,
    "start_time": "2023-05-05T14:31:48.915Z"
   },
   {
    "duration": 58,
    "start_time": "2023-05-05T14:31:54.343Z"
   },
   {
    "duration": 103,
    "start_time": "2023-05-05T14:32:06.747Z"
   },
   {
    "duration": 107,
    "start_time": "2023-05-05T14:32:46.503Z"
   },
   {
    "duration": 109,
    "start_time": "2023-05-05T14:33:08.348Z"
   },
   {
    "duration": 564,
    "start_time": "2023-05-05T14:33:25.036Z"
   },
   {
    "duration": 119,
    "start_time": "2023-05-05T14:35:14.566Z"
   },
   {
    "duration": 111,
    "start_time": "2023-05-05T14:35:25.421Z"
   },
   {
    "duration": 92,
    "start_time": "2023-05-05T14:38:38.062Z"
   },
   {
    "duration": 15,
    "start_time": "2023-05-05T14:38:42.849Z"
   },
   {
    "duration": 106,
    "start_time": "2023-05-05T14:38:58.061Z"
   },
   {
    "duration": 15,
    "start_time": "2023-05-05T14:39:00.584Z"
   },
   {
    "duration": 104,
    "start_time": "2023-05-05T14:39:18.019Z"
   },
   {
    "duration": 131,
    "start_time": "2023-05-05T15:07:49.416Z"
   },
   {
    "duration": 2017,
    "start_time": "2023-05-05T15:07:49.550Z"
   },
   {
    "duration": 19,
    "start_time": "2023-05-05T15:07:51.569Z"
   },
   {
    "duration": 42,
    "start_time": "2023-05-05T15:07:51.591Z"
   },
   {
    "duration": 54,
    "start_time": "2023-05-05T15:07:51.635Z"
   },
   {
    "duration": 172,
    "start_time": "2023-05-05T15:07:51.690Z"
   },
   {
    "duration": 26,
    "start_time": "2023-05-05T15:07:51.865Z"
   },
   {
    "duration": 379,
    "start_time": "2023-05-05T15:07:51.893Z"
   },
   {
    "duration": 125,
    "start_time": "2023-05-05T15:07:52.274Z"
   },
   {
    "duration": 19,
    "start_time": "2023-05-05T15:07:58.169Z"
   },
   {
    "duration": 7,
    "start_time": "2023-05-05T15:09:55.744Z"
   },
   {
    "duration": 8,
    "start_time": "2023-05-05T15:10:02.282Z"
   },
   {
    "duration": 7,
    "start_time": "2023-05-05T15:14:14.936Z"
   },
   {
    "duration": 6,
    "start_time": "2023-05-05T15:15:27.673Z"
   },
   {
    "duration": 37,
    "start_time": "2023-05-05T15:22:41.916Z"
   },
   {
    "duration": 16,
    "start_time": "2023-05-05T15:22:51.976Z"
   },
   {
    "duration": 62,
    "start_time": "2023-05-05T15:23:14.714Z"
   },
   {
    "duration": 23,
    "start_time": "2023-05-05T15:23:17.306Z"
   },
   {
    "duration": 134,
    "start_time": "2023-05-05T15:23:25.578Z"
   },
   {
    "duration": 19,
    "start_time": "2023-05-05T15:29:10.040Z"
   },
   {
    "duration": 45,
    "start_time": "2023-05-05T15:29:28.745Z"
   },
   {
    "duration": 22,
    "start_time": "2023-05-05T15:29:34.006Z"
   },
   {
    "duration": 107,
    "start_time": "2023-05-05T15:31:25.158Z"
   },
   {
    "duration": 135,
    "start_time": "2023-05-05T15:31:55.897Z"
   },
   {
    "duration": 2233,
    "start_time": "2023-05-05T15:31:56.034Z"
   },
   {
    "duration": 21,
    "start_time": "2023-05-05T15:31:58.269Z"
   },
   {
    "duration": 15,
    "start_time": "2023-05-05T15:31:58.292Z"
   },
   {
    "duration": 47,
    "start_time": "2023-05-05T15:31:58.310Z"
   },
   {
    "duration": 230,
    "start_time": "2023-05-05T15:31:58.360Z"
   },
   {
    "duration": 14,
    "start_time": "2023-05-05T15:31:58.591Z"
   },
   {
    "duration": 382,
    "start_time": "2023-05-05T15:31:58.607Z"
   },
   {
    "duration": 54,
    "start_time": "2023-05-05T15:32:02.703Z"
   },
   {
    "duration": 108,
    "start_time": "2023-05-05T15:32:05.226Z"
   },
   {
    "duration": 38,
    "start_time": "2023-05-05T15:32:23.397Z"
   },
   {
    "duration": 17,
    "start_time": "2023-05-05T15:32:34.306Z"
   },
   {
    "duration": 118,
    "start_time": "2023-05-05T15:32:37.460Z"
   },
   {
    "duration": 66,
    "start_time": "2023-05-05T15:32:44.807Z"
   },
   {
    "duration": 21,
    "start_time": "2023-05-05T15:32:50.636Z"
   },
   {
    "duration": 122,
    "start_time": "2023-05-05T15:33:04.851Z"
   },
   {
    "duration": 151,
    "start_time": "2023-05-05T15:34:39.168Z"
   },
   {
    "duration": 254,
    "start_time": "2023-05-05T15:34:49.841Z"
   },
   {
    "duration": 241,
    "start_time": "2023-05-05T15:35:24.430Z"
   },
   {
    "duration": 312,
    "start_time": "2023-05-05T15:35:34.056Z"
   },
   {
    "duration": 196,
    "start_time": "2023-05-05T15:36:03.711Z"
   },
   {
    "duration": 162,
    "start_time": "2023-05-05T15:36:17.714Z"
   },
   {
    "duration": 158,
    "start_time": "2023-05-05T15:36:26.140Z"
   },
   {
    "duration": 207,
    "start_time": "2023-05-05T15:36:33.850Z"
   },
   {
    "duration": 209,
    "start_time": "2023-05-05T15:36:59.510Z"
   },
   {
    "duration": 178,
    "start_time": "2023-05-05T15:37:19.907Z"
   },
   {
    "duration": 172,
    "start_time": "2023-05-05T15:37:51.576Z"
   },
   {
    "duration": 189,
    "start_time": "2023-05-05T15:38:28.160Z"
   },
   {
    "duration": 166,
    "start_time": "2023-05-05T15:38:51.916Z"
   },
   {
    "duration": 690,
    "start_time": "2023-05-05T15:39:12.899Z"
   },
   {
    "duration": 169,
    "start_time": "2023-05-05T15:39:39.643Z"
   },
   {
    "duration": 154,
    "start_time": "2023-05-05T15:40:21.350Z"
   },
   {
    "duration": 643,
    "start_time": "2023-05-05T15:41:08.198Z"
   },
   {
    "duration": 163,
    "start_time": "2023-05-05T15:41:20.503Z"
   },
   {
    "duration": 170,
    "start_time": "2023-05-05T15:42:37.700Z"
   },
   {
    "duration": 58,
    "start_time": "2023-05-05T15:43:04.207Z"
   },
   {
    "duration": 62,
    "start_time": "2023-05-05T15:43:17.156Z"
   },
   {
    "duration": 16,
    "start_time": "2023-05-05T15:43:20.358Z"
   },
   {
    "duration": 151,
    "start_time": "2023-05-05T15:44:17.255Z"
   },
   {
    "duration": 152,
    "start_time": "2023-05-05T15:45:22.257Z"
   },
   {
    "duration": 153,
    "start_time": "2023-05-05T15:45:53.666Z"
   },
   {
    "duration": 158,
    "start_time": "2023-05-05T15:46:08.482Z"
   },
   {
    "duration": 170,
    "start_time": "2023-05-05T15:47:02.051Z"
   },
   {
    "duration": 5016,
    "start_time": "2023-05-05T15:48:26.358Z"
   },
   {
    "duration": 257,
    "start_time": "2023-05-05T15:48:49.083Z"
   },
   {
    "duration": 239,
    "start_time": "2023-05-05T15:50:10.108Z"
   },
   {
    "duration": 13,
    "start_time": "2023-05-05T15:51:33.373Z"
   },
   {
    "duration": 45,
    "start_time": "2023-05-06T11:32:30.829Z"
   },
   {
    "duration": 966,
    "start_time": "2023-05-06T11:32:36.423Z"
   },
   {
    "duration": 1921,
    "start_time": "2023-05-06T11:32:37.391Z"
   },
   {
    "duration": 9,
    "start_time": "2023-05-06T11:32:39.313Z"
   },
   {
    "duration": 9,
    "start_time": "2023-05-06T11:32:39.324Z"
   },
   {
    "duration": 31,
    "start_time": "2023-05-06T11:32:39.334Z"
   },
   {
    "duration": 147,
    "start_time": "2023-05-06T11:32:39.367Z"
   },
   {
    "duration": 13,
    "start_time": "2023-05-06T11:32:39.516Z"
   },
   {
    "duration": 364,
    "start_time": "2023-05-06T11:32:39.531Z"
   },
   {
    "duration": 48,
    "start_time": "2023-05-06T11:32:39.897Z"
   },
   {
    "duration": 14,
    "start_time": "2023-05-06T11:32:39.948Z"
   },
   {
    "duration": 188,
    "start_time": "2023-05-06T11:32:39.964Z"
   },
   {
    "duration": 187,
    "start_time": "2023-05-06T11:32:40.153Z"
   },
   {
    "duration": 177,
    "start_time": "2023-05-06T11:32:40.341Z"
   },
   {
    "duration": 262,
    "start_time": "2023-05-06T11:32:40.519Z"
   },
   {
    "duration": 172,
    "start_time": "2023-05-06T11:32:40.783Z"
   },
   {
    "duration": 168,
    "start_time": "2023-05-06T11:32:40.956Z"
   },
   {
    "duration": 160,
    "start_time": "2023-05-06T11:32:41.125Z"
   },
   {
    "duration": 166,
    "start_time": "2023-05-06T11:32:41.287Z"
   },
   {
    "duration": 163,
    "start_time": "2023-05-06T11:32:41.455Z"
   },
   {
    "duration": 170,
    "start_time": "2023-05-06T11:32:41.619Z"
   },
   {
    "duration": 167,
    "start_time": "2023-05-06T11:32:41.794Z"
   },
   {
    "duration": 169,
    "start_time": "2023-05-06T11:32:41.962Z"
   },
   {
    "duration": 176,
    "start_time": "2023-05-06T11:32:42.132Z"
   },
   {
    "duration": 155,
    "start_time": "2023-05-06T11:32:42.309Z"
   },
   {
    "duration": 270,
    "start_time": "2023-05-06T11:32:42.466Z"
   },
   {
    "duration": 257,
    "start_time": "2023-05-06T11:32:42.737Z"
   },
   {
    "duration": 17,
    "start_time": "2023-05-06T11:32:47.129Z"
   },
   {
    "duration": 157,
    "start_time": "2023-05-06T11:33:23.251Z"
   },
   {
    "duration": 244,
    "start_time": "2023-05-06T11:33:36.460Z"
   },
   {
    "duration": 231,
    "start_time": "2023-05-06T11:33:59.821Z"
   },
   {
    "duration": 13,
    "start_time": "2023-05-06T11:34:19.318Z"
   },
   {
    "duration": 237,
    "start_time": "2023-05-06T11:34:21.124Z"
   },
   {
    "duration": 15,
    "start_time": "2023-05-06T11:34:31.617Z"
   },
   {
    "duration": 344,
    "start_time": "2023-05-06T11:34:33.075Z"
   },
   {
    "duration": 146,
    "start_time": "2023-05-06T11:34:50.678Z"
   },
   {
    "duration": 141,
    "start_time": "2023-05-06T11:34:57.514Z"
   },
   {
    "duration": 122,
    "start_time": "2023-05-06T11:35:13.426Z"
   },
   {
    "duration": 1978,
    "start_time": "2023-05-06T11:35:13.550Z"
   },
   {
    "duration": 9,
    "start_time": "2023-05-06T11:35:15.529Z"
   },
   {
    "duration": 9,
    "start_time": "2023-05-06T11:35:15.540Z"
   },
   {
    "duration": 47,
    "start_time": "2023-05-06T11:35:15.550Z"
   },
   {
    "duration": 141,
    "start_time": "2023-05-06T11:35:15.599Z"
   },
   {
    "duration": 13,
    "start_time": "2023-05-06T11:35:15.742Z"
   },
   {
    "duration": 358,
    "start_time": "2023-05-06T11:35:15.756Z"
   },
   {
    "duration": 47,
    "start_time": "2023-05-06T11:35:16.115Z"
   },
   {
    "duration": 29,
    "start_time": "2023-05-06T11:35:16.165Z"
   },
   {
    "duration": 161,
    "start_time": "2023-05-06T11:35:16.196Z"
   },
   {
    "duration": 164,
    "start_time": "2023-05-06T11:35:16.358Z"
   },
   {
    "duration": 182,
    "start_time": "2023-05-06T11:35:16.524Z"
   },
   {
    "duration": 177,
    "start_time": "2023-05-06T11:35:16.707Z"
   },
   {
    "duration": 174,
    "start_time": "2023-05-06T11:35:16.886Z"
   },
   {
    "duration": 160,
    "start_time": "2023-05-06T11:35:17.062Z"
   },
   {
    "duration": 156,
    "start_time": "2023-05-06T11:35:17.224Z"
   },
   {
    "duration": 271,
    "start_time": "2023-05-06T11:35:17.382Z"
   },
   {
    "duration": 152,
    "start_time": "2023-05-06T11:35:17.654Z"
   },
   {
    "duration": 171,
    "start_time": "2023-05-06T11:35:17.807Z"
   },
   {
    "duration": 157,
    "start_time": "2023-05-06T11:35:17.980Z"
   },
   {
    "duration": 157,
    "start_time": "2023-05-06T11:35:18.139Z"
   },
   {
    "duration": 159,
    "start_time": "2023-05-06T11:35:18.298Z"
   },
   {
    "duration": 148,
    "start_time": "2023-05-06T11:35:18.459Z"
   },
   {
    "duration": 173,
    "start_time": "2023-05-06T11:35:18.609Z"
   },
   {
    "duration": 252,
    "start_time": "2023-05-06T11:35:18.784Z"
   },
   {
    "duration": 16,
    "start_time": "2023-05-06T11:35:32.580Z"
   },
   {
    "duration": 149,
    "start_time": "2023-05-06T11:35:40.431Z"
   },
   {
    "duration": 9,
    "start_time": "2023-05-06T11:36:27.153Z"
   },
   {
    "duration": 6,
    "start_time": "2023-05-06T11:36:44.181Z"
   },
   {
    "duration": 177,
    "start_time": "2023-05-06T11:37:02.605Z"
   },
   {
    "duration": 299,
    "start_time": "2023-05-06T11:37:26.957Z"
   },
   {
    "duration": 249,
    "start_time": "2023-05-06T11:37:46.780Z"
   },
   {
    "duration": 19,
    "start_time": "2023-05-06T11:38:22.888Z"
   },
   {
    "duration": 238,
    "start_time": "2023-05-06T11:38:26.207Z"
   },
   {
    "duration": 5,
    "start_time": "2023-05-06T11:39:11.772Z"
   },
   {
    "duration": 234,
    "start_time": "2023-05-06T11:39:48.732Z"
   },
   {
    "duration": 37,
    "start_time": "2023-05-06T11:41:14.653Z"
   },
   {
    "duration": 14,
    "start_time": "2023-05-06T11:41:32.443Z"
   },
   {
    "duration": 18,
    "start_time": "2023-05-06T11:43:27.536Z"
   },
   {
    "duration": 238,
    "start_time": "2023-05-06T11:43:30.843Z"
   },
   {
    "duration": 246,
    "start_time": "2023-05-06T11:43:57.948Z"
   },
   {
    "duration": 332,
    "start_time": "2023-05-06T11:49:49.478Z"
   },
   {
    "duration": 250,
    "start_time": "2023-05-06T11:50:11.968Z"
   },
   {
    "duration": 216,
    "start_time": "2023-05-06T11:50:15.326Z"
   },
   {
    "duration": 235,
    "start_time": "2023-05-06T11:51:02.414Z"
   },
   {
    "duration": 238,
    "start_time": "2023-05-06T11:51:27.719Z"
   },
   {
    "duration": 201,
    "start_time": "2023-05-06T11:51:43.720Z"
   },
   {
    "duration": 209,
    "start_time": "2023-05-06T11:51:52.070Z"
   },
   {
    "duration": 199,
    "start_time": "2023-05-06T11:52:24.939Z"
   },
   {
    "duration": 189,
    "start_time": "2023-05-06T11:53:22.286Z"
   },
   {
    "duration": 228,
    "start_time": "2023-05-06T11:53:28.723Z"
   },
   {
    "duration": 254,
    "start_time": "2023-05-06T11:53:44.660Z"
   },
   {
    "duration": 199,
    "start_time": "2023-05-06T11:54:04.812Z"
   },
   {
    "duration": 159,
    "start_time": "2023-05-06T11:54:21.701Z"
   },
   {
    "duration": 320,
    "start_time": "2023-05-06T11:54:51.252Z"
   },
   {
    "duration": 183,
    "start_time": "2023-05-06T11:55:26.698Z"
   },
   {
    "duration": 174,
    "start_time": "2023-05-06T11:55:34.919Z"
   },
   {
    "duration": 163,
    "start_time": "2023-05-06T11:55:47.226Z"
   },
   {
    "duration": 155,
    "start_time": "2023-05-06T11:56:01.470Z"
   },
   {
    "duration": 379,
    "start_time": "2023-05-06T11:56:47.572Z"
   },
   {
    "duration": 146,
    "start_time": "2023-05-06T11:57:04.956Z"
   },
   {
    "duration": 4,
    "start_time": "2023-05-06T11:57:27.032Z"
   },
   {
    "duration": 21,
    "start_time": "2023-05-06T11:57:30.617Z"
   },
   {
    "duration": 152,
    "start_time": "2023-05-06T11:57:59.378Z"
   },
   {
    "duration": 157,
    "start_time": "2023-05-06T12:01:13.787Z"
   },
   {
    "duration": 143,
    "start_time": "2023-05-06T12:01:19.403Z"
   },
   {
    "duration": 151,
    "start_time": "2023-05-06T12:01:25.132Z"
   },
   {
    "duration": 261,
    "start_time": "2023-05-06T12:01:45.061Z"
   },
   {
    "duration": 1024,
    "start_time": "2023-05-06T12:02:09.366Z"
   },
   {
    "duration": 173,
    "start_time": "2023-05-06T12:02:34.779Z"
   },
   {
    "duration": 434,
    "start_time": "2023-05-06T12:02:51.064Z"
   },
   {
    "duration": 172,
    "start_time": "2023-05-06T12:03:14.307Z"
   },
   {
    "duration": 565,
    "start_time": "2023-05-06T12:03:29.821Z"
   },
   {
    "duration": 161,
    "start_time": "2023-05-06T12:05:26.141Z"
   },
   {
    "duration": 255,
    "start_time": "2023-05-06T12:07:09.583Z"
   },
   {
    "duration": 147,
    "start_time": "2023-05-06T12:07:20.055Z"
   },
   {
    "duration": 154,
    "start_time": "2023-05-06T12:07:32.747Z"
   },
   {
    "duration": 146,
    "start_time": "2023-05-06T12:07:53.902Z"
   },
   {
    "duration": 197,
    "start_time": "2023-05-06T12:09:01.597Z"
   },
   {
    "duration": 7,
    "start_time": "2023-05-06T12:10:40.005Z"
   },
   {
    "duration": 8,
    "start_time": "2023-05-06T12:10:54.706Z"
   },
   {
    "duration": 123,
    "start_time": "2023-05-06T12:10:59.408Z"
   },
   {
    "duration": 149,
    "start_time": "2023-05-06T12:11:32.236Z"
   },
   {
    "duration": 124,
    "start_time": "2023-05-06T12:12:29.492Z"
   },
   {
    "duration": 144,
    "start_time": "2023-05-06T12:12:40.322Z"
   },
   {
    "duration": 146,
    "start_time": "2023-05-06T12:12:46.067Z"
   },
   {
    "duration": 153,
    "start_time": "2023-05-06T12:13:14.110Z"
   },
   {
    "duration": 142,
    "start_time": "2023-05-06T12:13:37.855Z"
   },
   {
    "duration": 139,
    "start_time": "2023-05-06T12:15:45.776Z"
   },
   {
    "duration": 130,
    "start_time": "2023-05-06T12:15:56.412Z"
   },
   {
    "duration": 132,
    "start_time": "2023-05-06T12:16:02.150Z"
   },
   {
    "duration": 24,
    "start_time": "2023-05-06T12:18:08.367Z"
   },
   {
    "duration": 16,
    "start_time": "2023-05-06T12:18:19.235Z"
   },
   {
    "duration": 26,
    "start_time": "2023-05-06T12:18:27.325Z"
   },
   {
    "duration": 23,
    "start_time": "2023-05-06T12:18:33.120Z"
   },
   {
    "duration": 21,
    "start_time": "2023-05-06T12:19:10.521Z"
   },
   {
    "duration": 18,
    "start_time": "2023-05-06T12:19:22.859Z"
   },
   {
    "duration": 20,
    "start_time": "2023-05-06T12:19:28.234Z"
   },
   {
    "duration": 16,
    "start_time": "2023-05-06T12:19:49.722Z"
   },
   {
    "duration": 48,
    "start_time": "2023-05-06T12:23:33.997Z"
   },
   {
    "duration": 9,
    "start_time": "2023-05-06T12:23:55.537Z"
   },
   {
    "duration": 19,
    "start_time": "2023-05-06T12:24:04.735Z"
   },
   {
    "duration": 16,
    "start_time": "2023-05-06T12:24:31.161Z"
   },
   {
    "duration": 22,
    "start_time": "2023-05-06T12:25:03.322Z"
   },
   {
    "duration": 20,
    "start_time": "2023-05-06T12:25:13.665Z"
   },
   {
    "duration": 21,
    "start_time": "2023-05-06T12:28:07.622Z"
   },
   {
    "duration": 20,
    "start_time": "2023-05-06T12:29:22.694Z"
   },
   {
    "duration": 16,
    "start_time": "2023-05-06T12:30:05.198Z"
   },
   {
    "duration": 7,
    "start_time": "2023-05-06T12:30:09.872Z"
   },
   {
    "duration": 12,
    "start_time": "2023-05-06T12:31:01.644Z"
   },
   {
    "duration": 14,
    "start_time": "2023-05-06T12:31:24.185Z"
   },
   {
    "duration": 12,
    "start_time": "2023-05-06T12:31:37.298Z"
   },
   {
    "duration": 17,
    "start_time": "2023-05-06T12:31:48.267Z"
   },
   {
    "duration": 16,
    "start_time": "2023-05-06T12:35:06.579Z"
   },
   {
    "duration": 14,
    "start_time": "2023-05-06T12:35:07.998Z"
   },
   {
    "duration": 12,
    "start_time": "2023-05-06T12:38:05.765Z"
   },
   {
    "duration": 13,
    "start_time": "2023-05-06T12:38:11.715Z"
   },
   {
    "duration": 352,
    "start_time": "2023-05-06T12:38:19.408Z"
   },
   {
    "duration": 136,
    "start_time": "2023-05-06T12:40:26.909Z"
   },
   {
    "duration": 139,
    "start_time": "2023-05-06T12:40:34.812Z"
   },
   {
    "duration": 117,
    "start_time": "2023-05-06T12:42:24.653Z"
   },
   {
    "duration": 136,
    "start_time": "2023-05-06T12:42:57.995Z"
   },
   {
    "duration": 145,
    "start_time": "2023-05-06T12:44:03.021Z"
   },
   {
    "duration": 312,
    "start_time": "2023-05-06T12:45:12.839Z"
   },
   {
    "duration": 144,
    "start_time": "2023-05-06T12:45:56.920Z"
   },
   {
    "duration": 120,
    "start_time": "2023-05-06T12:46:01.155Z"
   },
   {
    "duration": 1943,
    "start_time": "2023-05-06T12:46:01.277Z"
   },
   {
    "duration": 8,
    "start_time": "2023-05-06T12:46:03.222Z"
   },
   {
    "duration": 7,
    "start_time": "2023-05-06T12:46:03.232Z"
   },
   {
    "duration": 29,
    "start_time": "2023-05-06T12:46:03.241Z"
   },
   {
    "duration": 164,
    "start_time": "2023-05-06T12:46:03.271Z"
   },
   {
    "duration": 13,
    "start_time": "2023-05-06T12:46:03.437Z"
   },
   {
    "duration": 504,
    "start_time": "2023-05-06T12:46:03.451Z"
   },
   {
    "duration": 58,
    "start_time": "2023-05-06T12:46:03.957Z"
   },
   {
    "duration": 14,
    "start_time": "2023-05-06T12:46:04.017Z"
   },
   {
    "duration": 204,
    "start_time": "2023-05-06T12:46:04.033Z"
   },
   {
    "duration": 180,
    "start_time": "2023-05-06T12:46:04.239Z"
   },
   {
    "duration": 170,
    "start_time": "2023-05-06T12:46:04.421Z"
   },
   {
    "duration": 190,
    "start_time": "2023-05-06T12:46:04.593Z"
   },
   {
    "duration": 163,
    "start_time": "2023-05-06T12:46:04.785Z"
   },
   {
    "duration": 167,
    "start_time": "2023-05-06T12:46:04.950Z"
   },
   {
    "duration": 151,
    "start_time": "2023-05-06T12:46:05.118Z"
   },
   {
    "duration": 156,
    "start_time": "2023-05-06T12:46:05.271Z"
   },
   {
    "duration": 153,
    "start_time": "2023-05-06T12:46:05.429Z"
   },
   {
    "duration": 161,
    "start_time": "2023-05-06T12:46:05.584Z"
   },
   {
    "duration": 155,
    "start_time": "2023-05-06T12:46:05.747Z"
   },
   {
    "duration": 167,
    "start_time": "2023-05-06T12:46:05.904Z"
   },
   {
    "duration": 163,
    "start_time": "2023-05-06T12:46:06.073Z"
   },
   {
    "duration": 146,
    "start_time": "2023-05-06T12:46:06.238Z"
   },
   {
    "duration": 172,
    "start_time": "2023-05-06T12:46:06.386Z"
   },
   {
    "duration": 234,
    "start_time": "2023-05-06T12:46:06.560Z"
   },
   {
    "duration": 20,
    "start_time": "2023-05-06T12:46:06.796Z"
   },
   {
    "duration": 276,
    "start_time": "2023-05-06T12:46:06.820Z"
   },
   {
    "duration": 425,
    "start_time": "2023-05-06T12:46:07.097Z"
   },
   {
    "duration": 217,
    "start_time": "2023-05-06T12:46:07.524Z"
   },
   {
    "duration": 199,
    "start_time": "2023-05-06T12:46:07.743Z"
   },
   {
    "duration": 141,
    "start_time": "2023-05-06T12:46:07.944Z"
   },
   {
    "duration": 137,
    "start_time": "2023-05-06T12:46:08.086Z"
   },
   {
    "duration": 155,
    "start_time": "2023-05-06T12:46:08.225Z"
   },
   {
    "duration": 146,
    "start_time": "2023-05-06T12:46:08.382Z"
   },
   {
    "duration": 139,
    "start_time": "2023-05-06T12:46:08.530Z"
   },
   {
    "duration": 23,
    "start_time": "2023-05-06T12:46:08.671Z"
   },
   {
    "duration": 11,
    "start_time": "2023-05-06T12:46:08.696Z"
   },
   {
    "duration": 147,
    "start_time": "2023-05-06T12:46:12.509Z"
   },
   {
    "duration": 16,
    "start_time": "2023-05-06T12:46:31.025Z"
   },
   {
    "duration": 149,
    "start_time": "2023-05-06T12:47:03.401Z"
   },
   {
    "duration": 57,
    "start_time": "2023-05-06T12:47:44.964Z"
   },
   {
    "duration": 151,
    "start_time": "2023-05-06T12:47:51.427Z"
   },
   {
    "duration": 169,
    "start_time": "2023-05-06T12:48:39.163Z"
   },
   {
    "duration": 12,
    "start_time": "2023-05-06T12:48:48.333Z"
   },
   {
    "duration": 10,
    "start_time": "2023-05-06T12:48:58.233Z"
   },
   {
    "duration": 111,
    "start_time": "2023-05-06T12:49:09.453Z"
   },
   {
    "duration": 1656,
    "start_time": "2023-05-06T12:49:09.566Z"
   },
   {
    "duration": 8,
    "start_time": "2023-05-06T12:49:11.223Z"
   },
   {
    "duration": 7,
    "start_time": "2023-05-06T12:49:11.233Z"
   },
   {
    "duration": 38,
    "start_time": "2023-05-06T12:49:11.242Z"
   },
   {
    "duration": 141,
    "start_time": "2023-05-06T12:49:11.294Z"
   },
   {
    "duration": 206,
    "start_time": "2023-05-06T12:49:11.437Z"
   },
   {
    "duration": 324,
    "start_time": "2023-05-06T12:49:11.645Z"
   },
   {
    "duration": 51,
    "start_time": "2023-05-06T12:49:11.971Z"
   },
   {
    "duration": 13,
    "start_time": "2023-05-06T12:49:12.024Z"
   },
   {
    "duration": 157,
    "start_time": "2023-05-06T12:49:12.039Z"
   },
   {
    "duration": 156,
    "start_time": "2023-05-06T12:49:12.197Z"
   },
   {
    "duration": 157,
    "start_time": "2023-05-06T12:49:12.354Z"
   },
   {
    "duration": 170,
    "start_time": "2023-05-06T12:49:12.513Z"
   },
   {
    "duration": 159,
    "start_time": "2023-05-06T12:49:12.684Z"
   },
   {
    "duration": 152,
    "start_time": "2023-05-06T12:49:12.844Z"
   },
   {
    "duration": 140,
    "start_time": "2023-05-06T12:49:12.998Z"
   },
   {
    "duration": 141,
    "start_time": "2023-05-06T12:49:13.139Z"
   },
   {
    "duration": 161,
    "start_time": "2023-05-06T12:49:13.281Z"
   },
   {
    "duration": 153,
    "start_time": "2023-05-06T12:49:13.444Z"
   },
   {
    "duration": 151,
    "start_time": "2023-05-06T12:49:13.598Z"
   },
   {
    "duration": 148,
    "start_time": "2023-05-06T12:49:13.751Z"
   },
   {
    "duration": 176,
    "start_time": "2023-05-06T12:49:13.900Z"
   },
   {
    "duration": 175,
    "start_time": "2023-05-06T12:49:14.078Z"
   },
   {
    "duration": 172,
    "start_time": "2023-05-06T12:49:14.254Z"
   },
   {
    "duration": 227,
    "start_time": "2023-05-06T12:49:14.427Z"
   },
   {
    "duration": 21,
    "start_time": "2023-05-06T12:49:14.656Z"
   },
   {
    "duration": 252,
    "start_time": "2023-05-06T12:49:14.680Z"
   },
   {
    "duration": 424,
    "start_time": "2023-05-06T12:49:14.934Z"
   },
   {
    "duration": 188,
    "start_time": "2023-05-06T12:49:15.359Z"
   },
   {
    "duration": 179,
    "start_time": "2023-05-06T12:49:15.548Z"
   },
   {
    "duration": 133,
    "start_time": "2023-05-06T12:49:15.729Z"
   },
   {
    "duration": 123,
    "start_time": "2023-05-06T12:49:15.863Z"
   },
   {
    "duration": 139,
    "start_time": "2023-05-06T12:49:15.988Z"
   },
   {
    "duration": 127,
    "start_time": "2023-05-06T12:49:16.128Z"
   },
   {
    "duration": 133,
    "start_time": "2023-05-06T12:49:16.256Z"
   },
   {
    "duration": 16,
    "start_time": "2023-05-06T12:49:16.390Z"
   },
   {
    "duration": 20,
    "start_time": "2023-05-06T12:49:16.408Z"
   },
   {
    "duration": 11,
    "start_time": "2023-05-06T12:49:20.744Z"
   },
   {
    "duration": 10,
    "start_time": "2023-05-06T12:49:48.408Z"
   },
   {
    "duration": 158,
    "start_time": "2023-05-06T12:50:12.772Z"
   },
   {
    "duration": 139,
    "start_time": "2023-05-06T12:50:51.997Z"
   },
   {
    "duration": 147,
    "start_time": "2023-05-06T12:51:08.347Z"
   },
   {
    "duration": 902,
    "start_time": "2023-05-06T12:51:38.909Z"
   },
   {
    "duration": 20,
    "start_time": "2023-05-06T12:51:58.048Z"
   },
   {
    "duration": 20,
    "start_time": "2023-05-06T12:52:53.702Z"
   },
   {
    "duration": 132,
    "start_time": "2023-05-06T12:53:00.324Z"
   },
   {
    "duration": 839,
    "start_time": "2023-05-06T12:53:06.157Z"
   },
   {
    "duration": 870,
    "start_time": "2023-05-06T12:53:14.141Z"
   },
   {
    "duration": 21,
    "start_time": "2023-05-06T12:53:58.368Z"
   },
   {
    "duration": 138,
    "start_time": "2023-05-06T12:54:41.083Z"
   },
   {
    "duration": 164,
    "start_time": "2023-05-06T12:55:09.060Z"
   },
   {
    "duration": 155,
    "start_time": "2023-05-06T12:55:36.868Z"
   },
   {
    "duration": 126,
    "start_time": "2023-05-06T12:55:48.660Z"
   },
   {
    "duration": 129,
    "start_time": "2023-05-06T12:55:53.173Z"
   },
   {
    "duration": 129,
    "start_time": "2023-05-06T12:55:58.802Z"
   },
   {
    "duration": 21,
    "start_time": "2023-05-06T12:57:20.191Z"
   },
   {
    "duration": 20,
    "start_time": "2023-05-06T12:57:48.630Z"
   },
   {
    "duration": 137,
    "start_time": "2023-05-06T12:57:57.129Z"
   },
   {
    "duration": 154,
    "start_time": "2023-05-06T12:58:13.786Z"
   },
   {
    "duration": 165,
    "start_time": "2023-05-06T12:59:53.811Z"
   },
   {
    "duration": 162,
    "start_time": "2023-05-06T13:00:14.450Z"
   },
   {
    "duration": 199,
    "start_time": "2023-05-06T21:11:24.232Z"
   },
   {
    "duration": 1260,
    "start_time": "2023-05-06T21:16:03.451Z"
   },
   {
    "duration": 2226,
    "start_time": "2023-05-06T21:16:04.713Z"
   },
   {
    "duration": 10,
    "start_time": "2023-05-06T21:16:06.941Z"
   },
   {
    "duration": 12,
    "start_time": "2023-05-06T21:16:06.953Z"
   },
   {
    "duration": 60,
    "start_time": "2023-05-06T21:16:06.967Z"
   },
   {
    "duration": 147,
    "start_time": "2023-05-06T21:16:07.029Z"
   },
   {
    "duration": 15,
    "start_time": "2023-05-06T21:16:07.178Z"
   },
   {
    "duration": 399,
    "start_time": "2023-05-06T21:16:07.195Z"
   },
   {
    "duration": 68,
    "start_time": "2023-05-06T21:16:07.596Z"
   },
   {
    "duration": 15,
    "start_time": "2023-05-06T21:16:07.667Z"
   },
   {
    "duration": 185,
    "start_time": "2023-05-06T21:16:07.684Z"
   },
   {
    "duration": 177,
    "start_time": "2023-05-06T21:16:07.871Z"
   },
   {
    "duration": 191,
    "start_time": "2023-05-06T21:16:08.050Z"
   },
   {
    "duration": 282,
    "start_time": "2023-05-06T21:16:08.243Z"
   },
   {
    "duration": 181,
    "start_time": "2023-05-06T21:16:08.527Z"
   },
   {
    "duration": 168,
    "start_time": "2023-05-06T21:16:08.709Z"
   },
   {
    "duration": 172,
    "start_time": "2023-05-06T21:16:08.878Z"
   },
   {
    "duration": 156,
    "start_time": "2023-05-06T21:16:09.051Z"
   },
   {
    "duration": 172,
    "start_time": "2023-05-06T21:16:09.209Z"
   },
   {
    "duration": 174,
    "start_time": "2023-05-06T21:16:09.383Z"
   },
   {
    "duration": 179,
    "start_time": "2023-05-06T21:16:09.559Z"
   },
   {
    "duration": 168,
    "start_time": "2023-05-06T21:16:09.741Z"
   },
   {
    "duration": 187,
    "start_time": "2023-05-06T21:16:09.911Z"
   },
   {
    "duration": 163,
    "start_time": "2023-05-06T21:16:10.100Z"
   },
   {
    "duration": 321,
    "start_time": "2023-05-06T21:16:10.265Z"
   },
   {
    "duration": 267,
    "start_time": "2023-05-06T21:16:10.588Z"
   },
   {
    "duration": 26,
    "start_time": "2023-05-06T21:16:10.857Z"
   },
   {
    "duration": 292,
    "start_time": "2023-05-06T21:16:10.886Z"
   },
   {
    "duration": 201,
    "start_time": "2023-05-06T21:16:11.179Z"
   },
   {
    "duration": 209,
    "start_time": "2023-05-06T21:16:11.382Z"
   },
   {
    "duration": 215,
    "start_time": "2023-05-06T21:16:11.593Z"
   },
   {
    "duration": 181,
    "start_time": "2023-05-06T21:16:11.810Z"
   },
   {
    "duration": 161,
    "start_time": "2023-05-06T21:16:11.993Z"
   },
   {
    "duration": 146,
    "start_time": "2023-05-06T21:16:12.156Z"
   },
   {
    "duration": 280,
    "start_time": "2023-05-06T21:16:12.304Z"
   },
   {
    "duration": 167,
    "start_time": "2023-05-06T21:16:12.586Z"
   },
   {
    "duration": 160,
    "start_time": "2023-05-06T21:16:12.756Z"
   },
   {
    "duration": 25,
    "start_time": "2023-05-06T21:16:12.918Z"
   },
   {
    "duration": 19,
    "start_time": "2023-05-06T21:16:12.945Z"
   },
   {
    "duration": 181,
    "start_time": "2023-05-06T21:16:12.966Z"
   },
   {
    "duration": 177,
    "start_time": "2023-05-06T21:16:32.319Z"
   },
   {
    "duration": 173,
    "start_time": "2023-05-06T21:16:45.339Z"
   },
   {
    "duration": 244,
    "start_time": "2023-05-06T21:16:53.022Z"
   },
   {
    "duration": 158,
    "start_time": "2023-05-06T21:17:09.502Z"
   },
   {
    "duration": 175,
    "start_time": "2023-05-06T21:17:14.306Z"
   },
   {
    "duration": 173,
    "start_time": "2023-05-06T21:17:18.490Z"
   },
   {
    "duration": 339,
    "start_time": "2023-05-06T21:17:23.214Z"
   },
   {
    "duration": 219,
    "start_time": "2023-05-06T21:17:30.870Z"
   },
   {
    "duration": 256,
    "start_time": "2023-05-06T21:17:36.533Z"
   },
   {
    "duration": 255,
    "start_time": "2023-05-06T21:20:47.538Z"
   },
   {
    "duration": 237,
    "start_time": "2023-05-06T21:27:48.923Z"
   },
   {
    "duration": 191,
    "start_time": "2023-05-06T21:35:32.303Z"
   },
   {
    "duration": 126,
    "start_time": "2023-05-06T22:05:34.362Z"
   },
   {
    "duration": 2195,
    "start_time": "2023-05-06T22:05:34.490Z"
   },
   {
    "duration": 13,
    "start_time": "2023-05-06T22:05:36.687Z"
   },
   {
    "duration": 16,
    "start_time": "2023-05-06T22:05:36.703Z"
   },
   {
    "duration": 50,
    "start_time": "2023-05-06T22:05:36.721Z"
   },
   {
    "duration": 172,
    "start_time": "2023-05-06T22:05:36.773Z"
   },
   {
    "duration": 16,
    "start_time": "2023-05-06T22:05:36.947Z"
   },
   {
    "duration": 400,
    "start_time": "2023-05-06T22:05:36.965Z"
   },
   {
    "duration": 74,
    "start_time": "2023-05-06T22:05:37.367Z"
   },
   {
    "duration": 16,
    "start_time": "2023-05-06T22:05:37.444Z"
   },
   {
    "duration": 337,
    "start_time": "2023-05-06T22:05:37.462Z"
   },
   {
    "duration": 184,
    "start_time": "2023-05-06T22:05:37.801Z"
   },
   {
    "duration": 212,
    "start_time": "2023-05-06T22:05:37.987Z"
   },
   {
    "duration": 190,
    "start_time": "2023-05-06T22:05:38.201Z"
   },
   {
    "duration": 189,
    "start_time": "2023-05-06T22:05:38.393Z"
   },
   {
    "duration": 176,
    "start_time": "2023-05-06T22:05:38.584Z"
   },
   {
    "duration": 254,
    "start_time": "2023-05-06T22:05:38.762Z"
   },
   {
    "duration": 169,
    "start_time": "2023-05-06T22:05:39.018Z"
   },
   {
    "duration": 250,
    "start_time": "2023-05-06T22:05:39.189Z"
   },
   {
    "duration": 171,
    "start_time": "2023-05-06T22:05:39.441Z"
   },
   {
    "duration": 332,
    "start_time": "2023-05-06T22:05:39.614Z"
   },
   {
    "duration": 181,
    "start_time": "2023-05-06T22:05:39.948Z"
   },
   {
    "duration": 173,
    "start_time": "2023-05-06T22:05:40.131Z"
   },
   {
    "duration": 242,
    "start_time": "2023-05-06T22:05:40.305Z"
   },
   {
    "duration": 180,
    "start_time": "2023-05-06T22:05:40.548Z"
   },
   {
    "duration": 255,
    "start_time": "2023-05-06T22:05:40.730Z"
   },
   {
    "duration": 23,
    "start_time": "2023-05-06T22:05:40.987Z"
   },
   {
    "duration": 292,
    "start_time": "2023-05-06T22:05:41.014Z"
   },
   {
    "duration": 222,
    "start_time": "2023-05-06T22:05:41.308Z"
   },
   {
    "duration": 230,
    "start_time": "2023-05-06T22:05:41.532Z"
   },
   {
    "duration": 401,
    "start_time": "2023-05-06T22:05:41.763Z"
   },
   {
    "duration": 212,
    "start_time": "2023-05-06T22:05:42.166Z"
   },
   {
    "duration": 170,
    "start_time": "2023-05-06T22:05:42.380Z"
   },
   {
    "duration": 159,
    "start_time": "2023-05-06T22:05:42.553Z"
   },
   {
    "duration": 167,
    "start_time": "2023-05-06T22:05:42.714Z"
   },
   {
    "duration": 155,
    "start_time": "2023-05-06T22:05:42.883Z"
   },
   {
    "duration": 154,
    "start_time": "2023-05-06T22:05:43.041Z"
   },
   {
    "duration": 22,
    "start_time": "2023-05-06T22:05:43.197Z"
   },
   {
    "duration": 26,
    "start_time": "2023-05-06T22:05:43.221Z"
   },
   {
    "duration": 172,
    "start_time": "2023-05-06T22:05:43.249Z"
   },
   {
    "duration": 802,
    "start_time": "2023-05-06T22:44:18.546Z"
   },
   {
    "duration": 2015,
    "start_time": "2023-05-06T22:44:19.350Z"
   },
   {
    "duration": 22,
    "start_time": "2023-05-06T22:44:21.366Z"
   },
   {
    "duration": 12,
    "start_time": "2023-05-06T22:44:21.392Z"
   },
   {
    "duration": 41,
    "start_time": "2023-05-06T22:44:21.406Z"
   },
   {
    "duration": 167,
    "start_time": "2023-05-06T22:44:21.448Z"
   },
   {
    "duration": 14,
    "start_time": "2023-05-06T22:44:21.616Z"
   },
   {
    "duration": 381,
    "start_time": "2023-05-06T22:44:21.632Z"
   },
   {
    "duration": 52,
    "start_time": "2023-05-06T22:44:22.014Z"
   },
   {
    "duration": 29,
    "start_time": "2023-05-06T22:44:22.068Z"
   },
   {
    "duration": 163,
    "start_time": "2023-05-06T22:44:22.099Z"
   },
   {
    "duration": 191,
    "start_time": "2023-05-06T22:44:22.264Z"
   },
   {
    "duration": 194,
    "start_time": "2023-05-06T22:44:22.457Z"
   },
   {
    "duration": 268,
    "start_time": "2023-05-06T22:44:22.653Z"
   },
   {
    "duration": 188,
    "start_time": "2023-05-06T22:44:22.923Z"
   },
   {
    "duration": 172,
    "start_time": "2023-05-06T22:44:23.113Z"
   },
   {
    "duration": 255,
    "start_time": "2023-05-06T22:44:23.290Z"
   },
   {
    "duration": 165,
    "start_time": "2023-05-06T22:44:23.547Z"
   },
   {
    "duration": 259,
    "start_time": "2023-05-06T22:44:23.713Z"
   },
   {
    "duration": 203,
    "start_time": "2023-05-06T22:44:23.974Z"
   },
   {
    "duration": 180,
    "start_time": "2023-05-06T22:44:24.185Z"
   },
   {
    "duration": 195,
    "start_time": "2023-05-06T22:44:24.367Z"
   },
   {
    "duration": 287,
    "start_time": "2023-05-06T22:44:24.564Z"
   },
   {
    "duration": 264,
    "start_time": "2023-05-06T22:44:24.853Z"
   },
   {
    "duration": 184,
    "start_time": "2023-05-06T22:44:25.118Z"
   },
   {
    "duration": 250,
    "start_time": "2023-05-06T22:44:25.304Z"
   },
   {
    "duration": 31,
    "start_time": "2023-05-06T22:44:25.555Z"
   },
   {
    "duration": 280,
    "start_time": "2023-05-06T22:44:25.593Z"
   },
   {
    "duration": 209,
    "start_time": "2023-05-06T22:44:25.876Z"
   },
   {
    "duration": 224,
    "start_time": "2023-05-06T22:44:26.086Z"
   },
   {
    "duration": 211,
    "start_time": "2023-05-06T22:44:26.312Z"
   },
   {
    "duration": 325,
    "start_time": "2023-05-06T22:44:26.525Z"
   },
   {
    "duration": 172,
    "start_time": "2023-05-06T22:44:26.851Z"
   },
   {
    "duration": 151,
    "start_time": "2023-05-06T22:44:27.025Z"
   },
   {
    "duration": 187,
    "start_time": "2023-05-06T22:44:27.177Z"
   },
   {
    "duration": 187,
    "start_time": "2023-05-06T22:44:27.366Z"
   },
   {
    "duration": 166,
    "start_time": "2023-05-06T22:44:27.554Z"
   },
   {
    "duration": 18,
    "start_time": "2023-05-06T22:44:27.721Z"
   },
   {
    "duration": 12,
    "start_time": "2023-05-06T22:44:27.740Z"
   },
   {
    "duration": 185,
    "start_time": "2023-05-06T22:44:27.753Z"
   },
   {
    "duration": 933,
    "start_time": "2023-05-07T10:26:47.472Z"
   },
   {
    "duration": 1948,
    "start_time": "2023-05-07T10:26:48.408Z"
   },
   {
    "duration": 8,
    "start_time": "2023-05-07T10:26:50.357Z"
   },
   {
    "duration": 64,
    "start_time": "2023-05-07T10:26:55.784Z"
   },
   {
    "duration": 10,
    "start_time": "2023-05-07T10:27:12.123Z"
   },
   {
    "duration": 27,
    "start_time": "2023-05-07T10:27:28.187Z"
   },
   {
    "duration": 17,
    "start_time": "2023-05-07T10:28:01.259Z"
   },
   {
    "duration": 9,
    "start_time": "2023-05-07T10:28:11.880Z"
   },
   {
    "duration": 11,
    "start_time": "2023-05-07T10:28:23.905Z"
   },
   {
    "duration": 27,
    "start_time": "2023-05-07T10:29:24.255Z"
   },
   {
    "duration": 16,
    "start_time": "2023-05-07T10:32:13.356Z"
   },
   {
    "duration": 114,
    "start_time": "2023-05-07T10:33:19.730Z"
   },
   {
    "duration": 1899,
    "start_time": "2023-05-07T10:33:19.847Z"
   },
   {
    "duration": 48,
    "start_time": "2023-05-07T10:33:21.747Z"
   },
   {
    "duration": 21,
    "start_time": "2023-05-07T10:33:21.797Z"
   },
   {
    "duration": 80,
    "start_time": "2023-05-07T10:33:21.820Z"
   },
   {
    "duration": 135,
    "start_time": "2023-05-07T10:33:21.901Z"
   },
   {
    "duration": 14,
    "start_time": "2023-05-07T10:33:22.037Z"
   },
   {
    "duration": 331,
    "start_time": "2023-05-07T10:33:22.053Z"
   },
   {
    "duration": 48,
    "start_time": "2023-05-07T10:33:22.385Z"
   },
   {
    "duration": 13,
    "start_time": "2023-05-07T10:33:22.435Z"
   },
   {
    "duration": 159,
    "start_time": "2023-05-07T10:33:22.450Z"
   },
   {
    "duration": 152,
    "start_time": "2023-05-07T10:33:22.611Z"
   },
   {
    "duration": 156,
    "start_time": "2023-05-07T10:33:22.765Z"
   },
   {
    "duration": 172,
    "start_time": "2023-05-07T10:33:22.924Z"
   },
   {
    "duration": 161,
    "start_time": "2023-05-07T10:33:23.097Z"
   },
   {
    "duration": 264,
    "start_time": "2023-05-07T10:33:23.260Z"
   },
   {
    "duration": 219,
    "start_time": "2023-05-07T10:33:23.526Z"
   },
   {
    "duration": 155,
    "start_time": "2023-05-07T10:33:23.747Z"
   },
   {
    "duration": 234,
    "start_time": "2023-05-07T10:33:23.904Z"
   },
   {
    "duration": 217,
    "start_time": "2023-05-07T10:33:24.140Z"
   },
   {
    "duration": 199,
    "start_time": "2023-05-07T10:33:24.360Z"
   },
   {
    "duration": 156,
    "start_time": "2023-05-07T10:33:24.560Z"
   },
   {
    "duration": 162,
    "start_time": "2023-05-07T10:33:24.717Z"
   },
   {
    "duration": 332,
    "start_time": "2023-05-07T10:33:24.881Z"
   },
   {
    "duration": 165,
    "start_time": "2023-05-07T10:33:25.215Z"
   },
   {
    "duration": 241,
    "start_time": "2023-05-07T10:33:25.382Z"
   },
   {
    "duration": 28,
    "start_time": "2023-05-07T10:33:25.624Z"
   },
   {
    "duration": 290,
    "start_time": "2023-05-07T10:33:25.654Z"
   },
   {
    "duration": 185,
    "start_time": "2023-05-07T10:33:25.946Z"
   },
   {
    "duration": 195,
    "start_time": "2023-05-07T10:33:26.133Z"
   },
   {
    "duration": 193,
    "start_time": "2023-05-07T10:33:26.330Z"
   },
   {
    "duration": 176,
    "start_time": "2023-05-07T10:33:26.525Z"
   },
   {
    "duration": 136,
    "start_time": "2023-05-07T10:33:26.703Z"
   },
   {
    "duration": 129,
    "start_time": "2023-05-07T10:33:26.841Z"
   },
   {
    "duration": 147,
    "start_time": "2023-05-07T10:33:26.972Z"
   },
   {
    "duration": 148,
    "start_time": "2023-05-07T10:33:27.121Z"
   },
   {
    "duration": 274,
    "start_time": "2023-05-07T10:33:27.270Z"
   },
   {
    "duration": 16,
    "start_time": "2023-05-07T10:33:27.545Z"
   },
   {
    "duration": 11,
    "start_time": "2023-05-07T10:33:27.563Z"
   },
   {
    "duration": 154,
    "start_time": "2023-05-07T10:33:27.576Z"
   }
  ],
  "kernelspec": {
   "display_name": "Python 3 (ipykernel)",
   "language": "python",
   "name": "python3"
  },
  "language_info": {
   "codemirror_mode": {
    "name": "ipython",
    "version": 3
   },
   "file_extension": ".py",
   "mimetype": "text/x-python",
   "name": "python",
   "nbconvert_exporter": "python",
   "pygments_lexer": "ipython3",
   "version": "3.9.5"
  },
  "toc": {
   "base_numbering": 1,
   "nav_menu": {},
   "number_sections": true,
   "sideBar": true,
   "skip_h1_title": true,
   "title_cell": "Table of Contents",
   "title_sidebar": "Contents",
   "toc_cell": false,
   "toc_position": {},
   "toc_section_display": true,
   "toc_window_display": false
  }
 },
 "nbformat": 4,
 "nbformat_minor": 2
}
