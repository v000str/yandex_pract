{
 "cells": [
  {
   "cell_type": "markdown",
   "id": "32dc0c82",
   "metadata": {},
   "source": [
    "### Проект по общему анализу сервиса аренды самокатов GoFast\n",
    "<div class=\"alert alert-block alert-info\">\n",
    "\n",
    "    \n",
    "в данном проекте будут выполнены следующие задачи:\n",
    "* Общие распределения пользователей по возрасту, городу, статусу подписки, времени и расстояния затраченого на поездки\n",
    "* Вычисление выручки от каждого пользователя помесячно\n",
    "* Проверена гипотеза о том, что пользователи с подпиской таратят больше времени на поездки \n",
    "* Проверена гипотеза о том, что пользователи с подпиской в среднем проезжают расстояние не превышающее оптимальное для самоката (3130м)  \n",
    "* Проверена гипотеза о том, что пользователи с подпиской выгоднее с точки зрения получения ежемесячной прибыли\n",
    "</div>"
   ]
  },
  {
   "cell_type": "markdown",
   "id": "a2abef99",
   "metadata": {},
   "source": [
    "<div class=\"alert alert-block alert-info\">\n",
    "все выводы будут сделаны на основании имеющейся информации:\n",
    "    \n",
    "  \n",
    "<b>Пользователи — users_go.csv</b>\n",
    "\n",
    "user_id - уникальный идентификатор пользователя\n",
    "    \n",
    "name - имя пользователя\n",
    "    \n",
    "age - возраст\n",
    "    \n",
    "city - город\n",
    "    \n",
    "subscription_type - тип подписки (free, ultra)\n",
    "    \n",
    "    \n",
    "<b>Поездки — rides_go.csv</b>\n",
    "    \n",
    "user_id - уникальный идентификатор пользователя\n",
    "    \n",
    "distance - расстояние, которое пользователь проехал в текущей сессии (в метрах)\n",
    "    \n",
    "duration - продолжительность сессии (в минутах) — время с того момента, как пользователь нажал кнопку «Начать поездку» до момента, как он нажал кнопку «Завершить поездку»\n",
    "    \n",
    "data - дата совершения поездки\n",
    "    \n",
    "    \n",
    "<b>Подписки — subscriptions_go.csv</b> \n",
    "    \n",
    "subscription_type - тип подписки\n",
    "    \n",
    "minute_price - стоимость одной минуты поездки по данной подписке\n",
    "    \n",
    "start_ride_price - стоимость начала поездки\n",
    "    \n",
    "subscription_fee - стоимость ежемесячного платежа\n",
    "\n",
    "</div>"
   ]
  },
  {
   "cell_type": "code",
   "execution_count": 58,
   "id": "72576667",
   "metadata": {},
   "outputs": [],
   "source": [
    "import pandas as pd\n",
    "import matplotlib.pyplot as plt\n",
    "import numpy as np\n",
    "from scipy import stats as st"
   ]
  },
  {
   "cell_type": "markdown",
   "id": "c42cbe00",
   "metadata": {},
   "source": [
    "#### Шаг 1. Загрузка данных"
   ]
  },
  {
   "cell_type": "code",
   "execution_count": 59,
   "id": "eff9f206",
   "metadata": {},
   "outputs": [],
   "source": [
    "users_data=pd.read_csv('/datasets/users_go.csv')\n",
    "rides_data=pd.read_csv('/datasets/rides_go.csv')\n",
    "subscription_data=pd.read_csv('/datasets/subscriptions_go.csv')"
   ]
  },
  {
   "cell_type": "code",
   "execution_count": 60,
   "id": "6c87d8a2",
   "metadata": {},
   "outputs": [
    {
     "name": "stdout",
     "output_type": "stream",
     "text": [
      "<class 'pandas.core.frame.DataFrame'>\n",
      "RangeIndex: 1565 entries, 0 to 1564\n",
      "Data columns (total 5 columns):\n",
      " #   Column             Non-Null Count  Dtype \n",
      "---  ------             --------------  ----- \n",
      " 0   user_id            1565 non-null   int64 \n",
      " 1   name               1565 non-null   object\n",
      " 2   age                1565 non-null   int64 \n",
      " 3   city               1565 non-null   object\n",
      " 4   subscription_type  1565 non-null   object\n",
      "dtypes: int64(2), object(3)\n",
      "memory usage: 61.3+ KB\n"
     ]
    },
    {
     "data": {
      "text/html": [
       "<div>\n",
       "<style scoped>\n",
       "    .dataframe tbody tr th:only-of-type {\n",
       "        vertical-align: middle;\n",
       "    }\n",
       "\n",
       "    .dataframe tbody tr th {\n",
       "        vertical-align: top;\n",
       "    }\n",
       "\n",
       "    .dataframe thead th {\n",
       "        text-align: right;\n",
       "    }\n",
       "</style>\n",
       "<table border=\"1\" class=\"dataframe\">\n",
       "  <thead>\n",
       "    <tr style=\"text-align: right;\">\n",
       "      <th></th>\n",
       "      <th>user_id</th>\n",
       "      <th>name</th>\n",
       "      <th>age</th>\n",
       "      <th>city</th>\n",
       "      <th>subscription_type</th>\n",
       "    </tr>\n",
       "  </thead>\n",
       "  <tbody>\n",
       "    <tr>\n",
       "      <th>0</th>\n",
       "      <td>1</td>\n",
       "      <td>Кира</td>\n",
       "      <td>22</td>\n",
       "      <td>Тюмень</td>\n",
       "      <td>ultra</td>\n",
       "    </tr>\n",
       "    <tr>\n",
       "      <th>1</th>\n",
       "      <td>2</td>\n",
       "      <td>Станислав</td>\n",
       "      <td>31</td>\n",
       "      <td>Омск</td>\n",
       "      <td>ultra</td>\n",
       "    </tr>\n",
       "    <tr>\n",
       "      <th>2</th>\n",
       "      <td>3</td>\n",
       "      <td>Алексей</td>\n",
       "      <td>20</td>\n",
       "      <td>Москва</td>\n",
       "      <td>ultra</td>\n",
       "    </tr>\n",
       "    <tr>\n",
       "      <th>3</th>\n",
       "      <td>4</td>\n",
       "      <td>Константин</td>\n",
       "      <td>26</td>\n",
       "      <td>Ростов-на-Дону</td>\n",
       "      <td>ultra</td>\n",
       "    </tr>\n",
       "    <tr>\n",
       "      <th>4</th>\n",
       "      <td>5</td>\n",
       "      <td>Адель</td>\n",
       "      <td>28</td>\n",
       "      <td>Омск</td>\n",
       "      <td>ultra</td>\n",
       "    </tr>\n",
       "  </tbody>\n",
       "</table>\n",
       "</div>"
      ],
      "text/plain": [
       "   user_id        name  age            city subscription_type\n",
       "0        1        Кира   22          Тюмень             ultra\n",
       "1        2   Станислав   31            Омск             ultra\n",
       "2        3     Алексей   20          Москва             ultra\n",
       "3        4  Константин   26  Ростов-на-Дону             ultra\n",
       "4        5       Адель   28            Омск             ultra"
      ]
     },
     "execution_count": 60,
     "metadata": {},
     "output_type": "execute_result"
    }
   ],
   "source": [
    "users_data.info()\n",
    "users_data.head(5)"
   ]
  },
  {
   "cell_type": "code",
   "execution_count": 61,
   "id": "2c5b0aea",
   "metadata": {},
   "outputs": [
    {
     "data": {
      "text/plain": [
       "user_id              0\n",
       "name                 0\n",
       "age                  0\n",
       "city                 0\n",
       "subscription_type    0\n",
       "dtype: int64"
      ]
     },
     "execution_count": 61,
     "metadata": {},
     "output_type": "execute_result"
    }
   ],
   "source": [
    "users_data.isna().sum()"
   ]
  },
  {
   "cell_type": "markdown",
   "id": "1d80839d",
   "metadata": {},
   "source": [
    "<div class=\"alert alert-block alert-info\">\n",
    "в таблице сдержится общая информация о каждом пользователе\n",
    "    \n",
    "пропусков в данных нет\n",
    "</div>"
   ]
  },
  {
   "cell_type": "code",
   "execution_count": 62,
   "id": "b65a9524",
   "metadata": {},
   "outputs": [
    {
     "name": "stdout",
     "output_type": "stream",
     "text": [
      "<class 'pandas.core.frame.DataFrame'>\n",
      "RangeIndex: 18068 entries, 0 to 18067\n",
      "Data columns (total 4 columns):\n",
      " #   Column    Non-Null Count  Dtype  \n",
      "---  ------    --------------  -----  \n",
      " 0   user_id   18068 non-null  int64  \n",
      " 1   distance  18068 non-null  float64\n",
      " 2   duration  18068 non-null  float64\n",
      " 3   date      18068 non-null  object \n",
      "dtypes: float64(2), int64(1), object(1)\n",
      "memory usage: 564.8+ KB\n"
     ]
    },
    {
     "data": {
      "text/html": [
       "<div>\n",
       "<style scoped>\n",
       "    .dataframe tbody tr th:only-of-type {\n",
       "        vertical-align: middle;\n",
       "    }\n",
       "\n",
       "    .dataframe tbody tr th {\n",
       "        vertical-align: top;\n",
       "    }\n",
       "\n",
       "    .dataframe thead th {\n",
       "        text-align: right;\n",
       "    }\n",
       "</style>\n",
       "<table border=\"1\" class=\"dataframe\">\n",
       "  <thead>\n",
       "    <tr style=\"text-align: right;\">\n",
       "      <th></th>\n",
       "      <th>user_id</th>\n",
       "      <th>distance</th>\n",
       "      <th>duration</th>\n",
       "      <th>date</th>\n",
       "    </tr>\n",
       "  </thead>\n",
       "  <tbody>\n",
       "    <tr>\n",
       "      <th>0</th>\n",
       "      <td>1</td>\n",
       "      <td>4409.919140</td>\n",
       "      <td>25.599769</td>\n",
       "      <td>2021-01-01</td>\n",
       "    </tr>\n",
       "    <tr>\n",
       "      <th>1</th>\n",
       "      <td>1</td>\n",
       "      <td>2617.592153</td>\n",
       "      <td>15.816871</td>\n",
       "      <td>2021-01-18</td>\n",
       "    </tr>\n",
       "    <tr>\n",
       "      <th>2</th>\n",
       "      <td>1</td>\n",
       "      <td>754.159807</td>\n",
       "      <td>6.232113</td>\n",
       "      <td>2021-04-20</td>\n",
       "    </tr>\n",
       "    <tr>\n",
       "      <th>3</th>\n",
       "      <td>1</td>\n",
       "      <td>2694.783254</td>\n",
       "      <td>18.511000</td>\n",
       "      <td>2021-08-11</td>\n",
       "    </tr>\n",
       "    <tr>\n",
       "      <th>4</th>\n",
       "      <td>1</td>\n",
       "      <td>4028.687306</td>\n",
       "      <td>26.265803</td>\n",
       "      <td>2021-08-28</td>\n",
       "    </tr>\n",
       "  </tbody>\n",
       "</table>\n",
       "</div>"
      ],
      "text/plain": [
       "   user_id     distance   duration        date\n",
       "0        1  4409.919140  25.599769  2021-01-01\n",
       "1        1  2617.592153  15.816871  2021-01-18\n",
       "2        1   754.159807   6.232113  2021-04-20\n",
       "3        1  2694.783254  18.511000  2021-08-11\n",
       "4        1  4028.687306  26.265803  2021-08-28"
      ]
     },
     "execution_count": 62,
     "metadata": {},
     "output_type": "execute_result"
    }
   ],
   "source": [
    "rides_data.info()\n",
    "rides_data.head(5)"
   ]
  },
  {
   "cell_type": "code",
   "execution_count": 63,
   "id": "dcd618ac",
   "metadata": {},
   "outputs": [
    {
     "data": {
      "text/plain": [
       "user_id     0\n",
       "distance    0\n",
       "duration    0\n",
       "date        0\n",
       "dtype: int64"
      ]
     },
     "execution_count": 63,
     "metadata": {},
     "output_type": "execute_result"
    }
   ],
   "source": [
    "rides_data.isna().sum()"
   ]
  },
  {
   "cell_type": "markdown",
   "id": "8beb87f0",
   "metadata": {},
   "source": [
    "<div class=\"alert alert-block alert-info\">\n",
    "в таблице сдержится информация о всех поездках по каждому пользователю\n",
    "    \n",
    "пропусков в данных нет\n",
    "</div>"
   ]
  },
  {
   "cell_type": "code",
   "execution_count": 64,
   "id": "35c1e983",
   "metadata": {},
   "outputs": [
    {
     "name": "stdout",
     "output_type": "stream",
     "text": [
      "<class 'pandas.core.frame.DataFrame'>\n",
      "RangeIndex: 2 entries, 0 to 1\n",
      "Data columns (total 4 columns):\n",
      " #   Column             Non-Null Count  Dtype \n",
      "---  ------             --------------  ----- \n",
      " 0   subscription_type  2 non-null      object\n",
      " 1   minute_price       2 non-null      int64 \n",
      " 2   start_ride_price   2 non-null      int64 \n",
      " 3   subscription_fee   2 non-null      int64 \n",
      "dtypes: int64(3), object(1)\n",
      "memory usage: 192.0+ bytes\n"
     ]
    },
    {
     "data": {
      "text/html": [
       "<div>\n",
       "<style scoped>\n",
       "    .dataframe tbody tr th:only-of-type {\n",
       "        vertical-align: middle;\n",
       "    }\n",
       "\n",
       "    .dataframe tbody tr th {\n",
       "        vertical-align: top;\n",
       "    }\n",
       "\n",
       "    .dataframe thead th {\n",
       "        text-align: right;\n",
       "    }\n",
       "</style>\n",
       "<table border=\"1\" class=\"dataframe\">\n",
       "  <thead>\n",
       "    <tr style=\"text-align: right;\">\n",
       "      <th></th>\n",
       "      <th>subscription_type</th>\n",
       "      <th>minute_price</th>\n",
       "      <th>start_ride_price</th>\n",
       "      <th>subscription_fee</th>\n",
       "    </tr>\n",
       "  </thead>\n",
       "  <tbody>\n",
       "    <tr>\n",
       "      <th>0</th>\n",
       "      <td>free</td>\n",
       "      <td>8</td>\n",
       "      <td>50</td>\n",
       "      <td>0</td>\n",
       "    </tr>\n",
       "    <tr>\n",
       "      <th>1</th>\n",
       "      <td>ultra</td>\n",
       "      <td>6</td>\n",
       "      <td>0</td>\n",
       "      <td>199</td>\n",
       "    </tr>\n",
       "  </tbody>\n",
       "</table>\n",
       "</div>"
      ],
      "text/plain": [
       "  subscription_type  minute_price  start_ride_price  subscription_fee\n",
       "0              free             8                50                 0\n",
       "1             ultra             6                 0               199"
      ]
     },
     "execution_count": 64,
     "metadata": {},
     "output_type": "execute_result"
    }
   ],
   "source": [
    "subscription_data.info()\n",
    "subscription_data.head(5)"
   ]
  },
  {
   "cell_type": "code",
   "execution_count": 65,
   "id": "77314647",
   "metadata": {},
   "outputs": [
    {
     "data": {
      "text/plain": [
       "subscription_type    0\n",
       "minute_price         0\n",
       "start_ride_price     0\n",
       "subscription_fee     0\n",
       "dtype: int64"
      ]
     },
     "execution_count": 65,
     "metadata": {},
     "output_type": "execute_result"
    }
   ],
   "source": [
    "subscription_data.isna().sum()"
   ]
  },
  {
   "cell_type": "markdown",
   "id": "a3b2ba61",
   "metadata": {},
   "source": [
    "<div class=\"alert alert-block alert-info\">\n",
    "таблице сдержится информация о тарифах представленных в приложении\n",
    "    \n",
    "пропусков в данных нет\n",
    "</div>"
   ]
  },
  {
   "cell_type": "markdown",
   "id": "d50da8ae",
   "metadata": {},
   "source": [
    " <div class=\"alert alert-block alert-info\">\n",
    "все наборы данных прочитаны, пропусков не имеют, названия столбцов соответсвуют данным\n",
    "</div>"
   ]
  },
  {
   "cell_type": "markdown",
   "id": "e95ebca7",
   "metadata": {},
   "source": [
    "#### Шаг 2. Предобработка данных"
   ]
  },
  {
   "cell_type": "code",
   "execution_count": 66,
   "id": "af6d202c",
   "metadata": {},
   "outputs": [],
   "source": [
    "rides_data['date']=pd.to_datetime(rides_data['date'])\n",
    "rides_data['month']=pd.DatetimeIndex(rides_data['date']).month"
   ]
  },
  {
   "cell_type": "markdown",
   "id": "8263e800",
   "metadata": {},
   "source": [
    "<div class=\"alert alert-block alert-info\">\n",
    "привожу столбец к формату Datetime    \n",
    "</div>"
   ]
  },
  {
   "cell_type": "code",
   "execution_count": 67,
   "id": "09a619d3",
   "metadata": {},
   "outputs": [
    {
     "data": {
      "text/plain": [
       "31"
      ]
     },
     "execution_count": 67,
     "metadata": {},
     "output_type": "execute_result"
    }
   ],
   "source": [
    "users_data.duplicated().sum()"
   ]
  },
  {
   "cell_type": "code",
   "execution_count": 68,
   "id": "92501ff1",
   "metadata": {},
   "outputs": [
    {
     "data": {
      "text/plain": [
       "0"
      ]
     },
     "execution_count": 68,
     "metadata": {},
     "output_type": "execute_result"
    }
   ],
   "source": [
    "rides_data.duplicated().sum()"
   ]
  },
  {
   "cell_type": "code",
   "execution_count": 69,
   "id": "aad11445",
   "metadata": {},
   "outputs": [
    {
     "data": {
      "text/plain": [
       "0"
      ]
     },
     "execution_count": 69,
     "metadata": {},
     "output_type": "execute_result"
    }
   ],
   "source": [
    "subscription_data.duplicated().sum()"
   ]
  },
  {
   "cell_type": "code",
   "execution_count": 70,
   "id": "7a8efc97",
   "metadata": {},
   "outputs": [
    {
     "data": {
      "text/plain": [
       "0"
      ]
     },
     "execution_count": 70,
     "metadata": {},
     "output_type": "execute_result"
    }
   ],
   "source": [
    "users_data=users_data.drop_duplicates()\n",
    "users_data.duplicated().sum()"
   ]
  },
  {
   "cell_type": "markdown",
   "id": "3db7800a",
   "metadata": {},
   "source": [
    "<div class=\"alert alert-block alert-info\">\n",
    "дубликаты  были обнаружены только в одной таблице и устранены    \n",
    "</div>"
   ]
  },
  {
   "cell_type": "markdown",
   "id": "212593c7",
   "metadata": {},
   "source": [
    "#### Шаг 3. Исследовательский анализ данных"
   ]
  },
  {
   "cell_type": "code",
   "execution_count": 71,
   "id": "e3a4274c",
   "metadata": {},
   "outputs": [
    {
     "data": {
      "text/plain": [
       "Text(0.5, 1.0, 'Распределение данных по городам')"
      ]
     },
     "execution_count": 71,
     "metadata": {},
     "output_type": "execute_result"
    },
    {
     "data": {
      "image/png": "[encoded data removed]",
      "text/plain": [
       "<Figure size 432x288 with 1 Axes>"
      ]
     },
     "metadata": {
      "needs_background": "light"
     },
     "output_type": "display_data"
    }
   ],
   "source": [
    "users_data['city'].value_counts().plot(kind='bar')\n",
    "plt.title('Распределение данных по городам')"
   ]
  },
  {
   "cell_type": "markdown",
   "id": "8b6ef686",
   "metadata": {},
   "source": [
    "<div class=\"alert alert-block alert-info\">\n",
    "выборка примерно равно распределена по городам, значит данные не будут сильно зависить от этого параметра    \n",
    "</div>"
   ]
  },
  {
   "cell_type": "code",
   "execution_count": 72,
   "id": "bc75b000",
   "metadata": {},
   "outputs": [
    {
     "data": {
      "text/plain": [
       "Text(0.5, 1.0, 'Распределение пользователей по типу подписки')"
      ]
     },
     "execution_count": 72,
     "metadata": {},
     "output_type": "execute_result"
    },
    {
     "data": {
      "image/png": "[encoded data removed]",
      "text/plain": [
       "<Figure size 432x288 with 1 Axes>"
      ]
     },
     "metadata": {},
     "output_type": "display_data"
    }
   ],
   "source": [
    "users_data['subscription_type'].value_counts().plot(kind='pie', autopct='%.1f%%')\n",
    "plt.title('Распределение пользователей по типу подписки')"
   ]
  },
  {
   "cell_type": "markdown",
   "id": "72edb0b4",
   "metadata": {},
   "source": [
    "<div class=\"alert alert-block alert-info\">\n",
    "соотношение пользователей близко к 50%,следовательно данных достаточно для корректного сравнения двух выборок     \n",
    "</div>"
   ]
  },
  {
   "cell_type": "code",
   "execution_count": 73,
   "id": "ad1b21a7",
   "metadata": {},
   "outputs": [
    {
     "data": {
      "text/plain": [
       "Text(0, 0.5, 'Кол-во пользователей')"
      ]
     },
     "execution_count": 73,
     "metadata": {},
     "output_type": "execute_result"
    },
    {
     "data": {
      "image/png": "[encoded data removed]",
      "text/plain": [
       "<Figure size 432x288 with 1 Axes>"
      ]
     },
     "metadata": {
      "needs_background": "light"
     },
     "output_type": "display_data"
    }
   ],
   "source": [
    "users_data['age'].hist(bins=100)\n",
    "plt.title('Распределение пользователей по возрасту')\n",
    "plt.xlabel(\"Возраст\")\n",
    "plt.ylabel(\"Кол-во пользователей\")"
   ]
  },
  {
   "cell_type": "code",
   "execution_count": 74,
   "id": "11db2e79",
   "metadata": {},
   "outputs": [
    {
     "data": {
      "text/plain": [
       "count    1534.000000\n",
       "mean       24.903520\n",
       "std         4.572367\n",
       "min        12.000000\n",
       "25%        22.000000\n",
       "50%        25.000000\n",
       "75%        28.000000\n",
       "max        43.000000\n",
       "Name: age, dtype: float64"
      ]
     },
     "execution_count": 74,
     "metadata": {},
     "output_type": "execute_result"
    }
   ],
   "source": [
    "users_data['age'].describe()"
   ]
  },
  {
   "cell_type": "markdown",
   "id": "5070b313",
   "metadata": {},
   "source": [
    "<div class=\"alert alert-block alert-info\">\n",
    "возраст пользователей распределен нормально, выбросов нет \n",
    "    \n",
    "средний возраст пользователя составляет ~25лет\n",
    "    \n",
    "минимальное значание - 12 лет\n",
    "    \n",
    "максимальное значение - 43 года\n",
    "    \n",
    "основной объем данных распределен на промежутке от 22 до 28 лет\n",
    "</div>"
   ]
  },
  {
   "cell_type": "code",
   "execution_count": 75,
   "id": "20755eb1",
   "metadata": {},
   "outputs": [
    {
     "data": {
      "text/plain": [
       "Text(0, 0.5, 'Кол-во пользователей')"
      ]
     },
     "execution_count": 75,
     "metadata": {},
     "output_type": "execute_result"
    },
    {
     "data": {
      "image/png": "[encoded data removed]",
      "text/plain": [
       "<Figure size 432x288 with 1 Axes>"
      ]
     },
     "metadata": {
      "needs_background": "light"
     },
     "output_type": "display_data"
    }
   ],
   "source": [
    "rides_data['distance'].hist(bins=100)\n",
    "plt.title('Распределение пользователей по пройденому расстоянию')\n",
    "plt.xlabel(\"Расстояние М\")\n",
    "plt.ylabel(\"Кол-во пользователей\")"
   ]
  },
  {
   "cell_type": "code",
   "execution_count": 76,
   "id": "3b51aeb3",
   "metadata": {},
   "outputs": [
    {
     "data": {
      "text/plain": [
       "count    18068.000000\n",
       "mean      3070.659976\n",
       "std       1116.831209\n",
       "min          0.855683\n",
       "25%       2543.226360\n",
       "50%       3133.609994\n",
       "75%       3776.222735\n",
       "max       7211.007745\n",
       "Name: distance, dtype: float64"
      ]
     },
     "execution_count": 76,
     "metadata": {},
     "output_type": "execute_result"
    }
   ],
   "source": [
    "rides_data['distance'].describe()"
   ]
  },
  {
   "cell_type": "markdown",
   "id": "98e67faf",
   "metadata": {},
   "source": [
    "<div class=\"alert alert-block alert-info\">\n",
    "Среднее расстояние поездки составляет 3070 метров, основной набор данных соответствует расстоянию 2500-3800м\n",
    "    \n",
    "Предположу что первый пик 0-1200м связан с тем, что у самоката была разряжена батарея и он смог проехать только такое расстояние на оставшемся заряде, либо проводилась акция на поездки именно на это расстояние\n",
    "    \n",
    "Подтвердить или опровергнуть это можно только имея данные по степени зарядки на момент взятия самоката или проведенных акциях. По имеющимся у нас данным этот пик нельзя с точностью объяснитью    \n",
    "</div>"
   ]
  },
  {
   "cell_type": "code",
   "execution_count": 77,
   "id": "281723bf",
   "metadata": {},
   "outputs": [
    {
     "data": {
      "text/plain": [
       "Text(0, 0.5, 'Кол-во пользователей')"
      ]
     },
     "execution_count": 77,
     "metadata": {},
     "output_type": "execute_result"
    },
    {
     "data": {
      "image/png": "[encoded data removed]",
      "text/plain": [
       "<Figure size 432x288 with 1 Axes>"
      ]
     },
     "metadata": {
      "needs_background": "light"
     },
     "output_type": "display_data"
    }
   ],
   "source": [
    "rides_data['duration'].hist(bins=100)\n",
    "plt.title('Распределение пользователей по затраченому времени')\n",
    "plt.xlabel(\"Время в МИН\")\n",
    "plt.ylabel(\"Кол-во пользователей\")"
   ]
  },
  {
   "cell_type": "code",
   "execution_count": 78,
   "id": "2b808700",
   "metadata": {},
   "outputs": [
    {
     "data": {
      "text/plain": [
       "count    18068.000000\n",
       "mean        17.805011\n",
       "std          6.091051\n",
       "min          0.500000\n",
       "25%         13.597563\n",
       "50%         17.678395\n",
       "75%         21.724800\n",
       "max         40.823963\n",
       "Name: duration, dtype: float64"
      ]
     },
     "execution_count": 78,
     "metadata": {},
     "output_type": "execute_result"
    }
   ],
   "source": [
    "rides_data['duration'].describe()"
   ]
  },
  {
   "cell_type": "markdown",
   "id": "893979b4",
   "metadata": {},
   "source": [
    "<div class=\"alert alert-block alert-info\">\n",
    "среднее время поездки составляет 18 минут, основной набор данных соответсвует времени 13-21 минута\n",
    "    \n",
    "график распределен нормально\n",
    "    \n",
    "пик у 0 появляется из за по ошибке взятых самокатов или малого количества зарядки на нем, на мой взгляд его не следует убирать, так как даже взятие самоката на 1 минуту у человека без подписки, тоже принесет прибыль и отразиться в конечных расчетах\n",
    "</div>"
   ]
  },
  {
   "cell_type": "markdown",
   "id": "4ef51331",
   "metadata": {},
   "source": [
    "#### Шаг 4. Объединение данных"
   ]
  },
  {
   "cell_type": "code",
   "execution_count": 79,
   "id": "6bf288b5",
   "metadata": {},
   "outputs": [
    {
     "data": {
      "text/html": [
       "<div>\n",
       "<style scoped>\n",
       "    .dataframe tbody tr th:only-of-type {\n",
       "        vertical-align: middle;\n",
       "    }\n",
       "\n",
       "    .dataframe tbody tr th {\n",
       "        vertical-align: top;\n",
       "    }\n",
       "\n",
       "    .dataframe thead th {\n",
       "        text-align: right;\n",
       "    }\n",
       "</style>\n",
       "<table border=\"1\" class=\"dataframe\">\n",
       "  <thead>\n",
       "    <tr style=\"text-align: right;\">\n",
       "      <th></th>\n",
       "      <th>user_id</th>\n",
       "      <th>name</th>\n",
       "      <th>age</th>\n",
       "      <th>city</th>\n",
       "      <th>subscription_type</th>\n",
       "      <th>distance</th>\n",
       "      <th>duration</th>\n",
       "      <th>date</th>\n",
       "      <th>month</th>\n",
       "      <th>minute_price</th>\n",
       "      <th>start_ride_price</th>\n",
       "      <th>subscription_fee</th>\n",
       "    </tr>\n",
       "  </thead>\n",
       "  <tbody>\n",
       "    <tr>\n",
       "      <th>0</th>\n",
       "      <td>1</td>\n",
       "      <td>Кира</td>\n",
       "      <td>22</td>\n",
       "      <td>Тюмень</td>\n",
       "      <td>ultra</td>\n",
       "      <td>4409.919140</td>\n",
       "      <td>25.599769</td>\n",
       "      <td>2021-01-01</td>\n",
       "      <td>1</td>\n",
       "      <td>6</td>\n",
       "      <td>0</td>\n",
       "      <td>199</td>\n",
       "    </tr>\n",
       "    <tr>\n",
       "      <th>1</th>\n",
       "      <td>1</td>\n",
       "      <td>Кира</td>\n",
       "      <td>22</td>\n",
       "      <td>Тюмень</td>\n",
       "      <td>ultra</td>\n",
       "      <td>2617.592153</td>\n",
       "      <td>15.816871</td>\n",
       "      <td>2021-01-18</td>\n",
       "      <td>1</td>\n",
       "      <td>6</td>\n",
       "      <td>0</td>\n",
       "      <td>199</td>\n",
       "    </tr>\n",
       "    <tr>\n",
       "      <th>2</th>\n",
       "      <td>1</td>\n",
       "      <td>Кира</td>\n",
       "      <td>22</td>\n",
       "      <td>Тюмень</td>\n",
       "      <td>ultra</td>\n",
       "      <td>754.159807</td>\n",
       "      <td>6.232113</td>\n",
       "      <td>2021-04-20</td>\n",
       "      <td>4</td>\n",
       "      <td>6</td>\n",
       "      <td>0</td>\n",
       "      <td>199</td>\n",
       "    </tr>\n",
       "  </tbody>\n",
       "</table>\n",
       "</div>"
      ],
      "text/plain": [
       "   user_id  name  age    city subscription_type     distance   duration  \\\n",
       "0        1  Кира   22  Тюмень             ultra  4409.919140  25.599769   \n",
       "1        1  Кира   22  Тюмень             ultra  2617.592153  15.816871   \n",
       "2        1  Кира   22  Тюмень             ultra   754.159807   6.232113   \n",
       "\n",
       "        date  month  minute_price  start_ride_price  subscription_fee  \n",
       "0 2021-01-01      1             6                 0               199  \n",
       "1 2021-01-18      1             6                 0               199  \n",
       "2 2021-04-20      4             6                 0               199  "
      ]
     },
     "execution_count": 79,
     "metadata": {},
     "output_type": "execute_result"
    }
   ],
   "source": [
    "data = users_data.merge(rides_data,on='user_id',how='right')\n",
    "data = data.merge(subscription_data,on='subscription_type',how='left')\n",
    "data.head(3)"
   ]
  },
  {
   "cell_type": "code",
   "execution_count": 80,
   "id": "65d68764",
   "metadata": {},
   "outputs": [
    {
     "name": "stdout",
     "output_type": "stream",
     "text": [
      "<class 'pandas.core.frame.DataFrame'>\n",
      "Int64Index: 18068 entries, 0 to 18067\n",
      "Data columns (total 12 columns):\n",
      " #   Column             Non-Null Count  Dtype         \n",
      "---  ------             --------------  -----         \n",
      " 0   user_id            18068 non-null  int64         \n",
      " 1   name               18068 non-null  object        \n",
      " 2   age                18068 non-null  int64         \n",
      " 3   city               18068 non-null  object        \n",
      " 4   subscription_type  18068 non-null  object        \n",
      " 5   distance           18068 non-null  float64       \n",
      " 6   duration           18068 non-null  float64       \n",
      " 7   date               18068 non-null  datetime64[ns]\n",
      " 8   month              18068 non-null  int64         \n",
      " 9   minute_price       18068 non-null  int64         \n",
      " 10  start_ride_price   18068 non-null  int64         \n",
      " 11  subscription_fee   18068 non-null  int64         \n",
      "dtypes: datetime64[ns](1), float64(2), int64(6), object(3)\n",
      "memory usage: 1.8+ MB\n"
     ]
    }
   ],
   "source": [
    "data.info()"
   ]
  },
  {
   "cell_type": "markdown",
   "id": "23c5a0b5",
   "metadata": {},
   "source": [
    "<div class=\"alert alert-block alert-info\">\n",
    "объединяю данные таблиц     \n",
    "</div>"
   ]
  },
  {
   "cell_type": "code",
   "execution_count": 81,
   "id": "4fd914aa",
   "metadata": {},
   "outputs": [],
   "source": [
    "data_sub=data[data['subscription_type']=='ultra']\n",
    "data_no_sub=data[data['subscription_type']=='free']"
   ]
  },
  {
   "cell_type": "code",
   "execution_count": 82,
   "id": "d4a00762",
   "metadata": {},
   "outputs": [
    {
     "data": {
      "text/plain": [
       "Text(0, 0.5, 'Кол-во пользователей')"
      ]
     },
     "execution_count": 82,
     "metadata": {},
     "output_type": "execute_result"
    },
    {
     "data": {
      "image/png": "[encoded data removed]",
      "text/plain": [
       "<Figure size 432x288 with 1 Axes>"
      ]
     },
     "metadata": {
      "needs_background": "light"
     },
     "output_type": "display_data"
    }
   ],
   "source": [
    "subdist=data_sub['distance']\n",
    "nosubdist=data_no_sub['distance']\n",
    "plt.hist([subdist,nosubdist], bins=100,alpha=0.7)\n",
    "plt.legend(['ultra','free'])\n",
    "plt.title('Распределение пользователей по расстоянию поездки')\n",
    "plt.xlabel(\"Расстояние М\")\n",
    "plt.ylabel(\"Кол-во пользователей\")"
   ]
  },
  {
   "cell_type": "code",
   "execution_count": 83,
   "id": "c2fa1f4a",
   "metadata": {},
   "outputs": [
    {
     "data": {
      "text/plain": [
       "count    6500.000000\n",
       "mean     3115.445388\n",
       "std       836.895330\n",
       "min       244.210438\n",
       "25%      2785.444017\n",
       "50%      3148.637229\n",
       "75%      3560.574425\n",
       "max      5699.769662\n",
       "Name: distance, dtype: float64"
      ]
     },
     "execution_count": 83,
     "metadata": {},
     "output_type": "execute_result"
    }
   ],
   "source": [
    "data_sub['distance'].describe()"
   ]
  },
  {
   "cell_type": "code",
   "execution_count": 84,
   "id": "02d40e6c",
   "metadata": {},
   "outputs": [
    {
     "data": {
      "text/plain": [
       "count    11568.000000\n",
       "mean      3045.495282\n",
       "std       1246.173806\n",
       "min          0.855683\n",
       "25%       2366.562689\n",
       "50%       3114.648465\n",
       "75%       3905.697894\n",
       "max       7211.007745\n",
       "Name: distance, dtype: float64"
      ]
     },
     "execution_count": 84,
     "metadata": {},
     "output_type": "execute_result"
    }
   ],
   "source": [
    "data_no_sub['distance'].describe()"
   ]
  },
  {
   "cell_type": "markdown",
   "id": "9286c5e2",
   "metadata": {},
   "source": [
    "<div class=\"alert alert-block alert-info\">\n",
    "среднее расстояние поездки больше у пользователей с подпиской (3115м против 3045м)\n",
    "\n",
    "у пользователей без подписки основная часть данных распределена на большем промежутке и имеет больший максимум\n",
    "\n",
    "так же пользователи с подпиской не совершают ошибочные взятия самоката с длинной поездки близкой к 0\n",
    "</div>"
   ]
  },
  {
   "cell_type": "code",
   "execution_count": 85,
   "id": "435cfa0a",
   "metadata": {},
   "outputs": [
    {
     "data": {
      "text/plain": [
       "Text(0, 0.5, 'Кол-во пользователей')"
      ]
     },
     "execution_count": 85,
     "metadata": {},
     "output_type": "execute_result"
    },
    {
     "data": {
      "image/png": "[encoded data removed]",
      "text/plain": [
       "<Figure size 432x288 with 1 Axes>"
      ]
     },
     "metadata": {
      "needs_background": "light"
     },
     "output_type": "display_data"
    }
   ],
   "source": [
    "subdur=data_sub['duration']\n",
    "nosubdur=data_no_sub['duration']\n",
    "plt.hist([subdur,nosubdur], bins=100,alpha=0.7)\n",
    "plt.legend(['ultra','free'])\n",
    "plt.title('Распределение пользователей по затраченому времени')\n",
    "plt.xlabel(\"Время в МИН\")\n",
    "plt.ylabel(\"Кол-во пользователей\")"
   ]
  },
  {
   "cell_type": "code",
   "execution_count": 86,
   "id": "3a58152f",
   "metadata": {},
   "outputs": [
    {
     "data": {
      "text/plain": [
       "count    6500.000000\n",
       "mean       18.541985\n",
       "std         5.572048\n",
       "min         3.760353\n",
       "25%        14.524654\n",
       "50%        18.178153\n",
       "75%        21.884129\n",
       "max        40.823963\n",
       "Name: duration, dtype: float64"
      ]
     },
     "execution_count": 86,
     "metadata": {},
     "output_type": "execute_result"
    }
   ],
   "source": [
    "data_sub['duration'].describe()"
   ]
  },
  {
   "cell_type": "code",
   "execution_count": 87,
   "id": "e5824739",
   "metadata": {},
   "outputs": [
    {
     "data": {
      "text/plain": [
       "count    11568.000000\n",
       "mean        17.390909\n",
       "std          6.326803\n",
       "min          0.500000\n",
       "25%         12.958437\n",
       "50%         17.326890\n",
       "75%         21.594071\n",
       "max         34.948498\n",
       "Name: duration, dtype: float64"
      ]
     },
     "execution_count": 87,
     "metadata": {},
     "output_type": "execute_result"
    }
   ],
   "source": [
    "data_no_sub['duration'].describe()"
   ]
  },
  {
   "cell_type": "markdown",
   "id": "0710dc8d",
   "metadata": {},
   "source": [
    "<div class=\"alert alert-block alert-info\">\n",
    "среднее время поездки больше у пользователей с подпиской (18,5 мин против 17,3 мин)\n",
    "\n",
    "данные по времени поездки распределены примерно одинаково вне зависимости от наличия подписки\n",
    "\n",
    "так же пользователи с подпиской не совершают ошибочные взятия самоката с временем поездки близким к 0\n",
    "</div>"
   ]
  },
  {
   "cell_type": "markdown",
   "id": "402d620f",
   "metadata": {},
   "source": [
    "#### Шаг 5. Подсчёт выручки"
   ]
  },
  {
   "cell_type": "code",
   "execution_count": 88,
   "id": "3a5e269a",
   "metadata": {},
   "outputs": [
    {
     "data": {
      "text/html": [
       "<div>\n",
       "<style scoped>\n",
       "    .dataframe tbody tr th:only-of-type {\n",
       "        vertical-align: middle;\n",
       "    }\n",
       "\n",
       "    .dataframe tbody tr th {\n",
       "        vertical-align: top;\n",
       "    }\n",
       "\n",
       "    .dataframe thead th {\n",
       "        text-align: right;\n",
       "    }\n",
       "</style>\n",
       "<table border=\"1\" class=\"dataframe\">\n",
       "  <thead>\n",
       "    <tr style=\"text-align: right;\">\n",
       "      <th></th>\n",
       "      <th>user_id</th>\n",
       "      <th>month</th>\n",
       "      <th>distance_sum</th>\n",
       "      <th>duration_sum</th>\n",
       "      <th>rides_count</th>\n",
       "      <th>subscription_type</th>\n",
       "      <th>income</th>\n",
       "    </tr>\n",
       "  </thead>\n",
       "  <tbody>\n",
       "    <tr>\n",
       "      <th>0</th>\n",
       "      <td>1</td>\n",
       "      <td>1</td>\n",
       "      <td>7027.511294</td>\n",
       "      <td>42.0</td>\n",
       "      <td>2</td>\n",
       "      <td>ultra</td>\n",
       "      <td>451.0</td>\n",
       "    </tr>\n",
       "    <tr>\n",
       "      <th>1</th>\n",
       "      <td>1</td>\n",
       "      <td>4</td>\n",
       "      <td>754.159807</td>\n",
       "      <td>7.0</td>\n",
       "      <td>1</td>\n",
       "      <td>ultra</td>\n",
       "      <td>241.0</td>\n",
       "    </tr>\n",
       "    <tr>\n",
       "      <th>2</th>\n",
       "      <td>1</td>\n",
       "      <td>8</td>\n",
       "      <td>6723.470560</td>\n",
       "      <td>46.0</td>\n",
       "      <td>2</td>\n",
       "      <td>ultra</td>\n",
       "      <td>475.0</td>\n",
       "    </tr>\n",
       "    <tr>\n",
       "      <th>3</th>\n",
       "      <td>1</td>\n",
       "      <td>10</td>\n",
       "      <td>5809.911100</td>\n",
       "      <td>32.0</td>\n",
       "      <td>2</td>\n",
       "      <td>ultra</td>\n",
       "      <td>391.0</td>\n",
       "    </tr>\n",
       "    <tr>\n",
       "      <th>4</th>\n",
       "      <td>1</td>\n",
       "      <td>11</td>\n",
       "      <td>7003.499363</td>\n",
       "      <td>56.0</td>\n",
       "      <td>3</td>\n",
       "      <td>ultra</td>\n",
       "      <td>535.0</td>\n",
       "    </tr>\n",
       "  </tbody>\n",
       "</table>\n",
       "</div>"
      ],
      "text/plain": [
       "   user_id  month  distance_sum  duration_sum  rides_count subscription_type  \\\n",
       "0        1      1   7027.511294          42.0            2             ultra   \n",
       "1        1      4    754.159807           7.0            1             ultra   \n",
       "2        1      8   6723.470560          46.0            2             ultra   \n",
       "3        1     10   5809.911100          32.0            2             ultra   \n",
       "4        1     11   7003.499363          56.0            3             ultra   \n",
       "\n",
       "   income  \n",
       "0   451.0  \n",
       "1   241.0  \n",
       "2   475.0  \n",
       "3   391.0  \n",
       "4   535.0  "
      ]
     },
     "metadata": {},
     "output_type": "display_data"
    },
    {
     "data": {
      "text/html": [
       "<div>\n",
       "<style scoped>\n",
       "    .dataframe tbody tr th:only-of-type {\n",
       "        vertical-align: middle;\n",
       "    }\n",
       "\n",
       "    .dataframe tbody tr th {\n",
       "        vertical-align: top;\n",
       "    }\n",
       "\n",
       "    .dataframe thead th {\n",
       "        text-align: right;\n",
       "    }\n",
       "</style>\n",
       "<table border=\"1\" class=\"dataframe\">\n",
       "  <thead>\n",
       "    <tr style=\"text-align: right;\">\n",
       "      <th></th>\n",
       "      <th>user_id</th>\n",
       "      <th>month</th>\n",
       "      <th>distance_sum</th>\n",
       "      <th>duration_sum</th>\n",
       "      <th>rides_count</th>\n",
       "      <th>subscription_type</th>\n",
       "      <th>income</th>\n",
       "    </tr>\n",
       "  </thead>\n",
       "  <tbody>\n",
       "    <tr>\n",
       "      <th>11326</th>\n",
       "      <td>1534</td>\n",
       "      <td>6</td>\n",
       "      <td>3409.468534</td>\n",
       "      <td>26.0</td>\n",
       "      <td>2</td>\n",
       "      <td>free</td>\n",
       "      <td>308.0</td>\n",
       "    </tr>\n",
       "    <tr>\n",
       "      <th>11327</th>\n",
       "      <td>1534</td>\n",
       "      <td>8</td>\n",
       "      <td>7622.453034</td>\n",
       "      <td>48.0</td>\n",
       "      <td>2</td>\n",
       "      <td>free</td>\n",
       "      <td>484.0</td>\n",
       "    </tr>\n",
       "    <tr>\n",
       "      <th>11328</th>\n",
       "      <td>1534</td>\n",
       "      <td>9</td>\n",
       "      <td>4928.173852</td>\n",
       "      <td>23.0</td>\n",
       "      <td>1</td>\n",
       "      <td>free</td>\n",
       "      <td>234.0</td>\n",
       "    </tr>\n",
       "    <tr>\n",
       "      <th>11329</th>\n",
       "      <td>1534</td>\n",
       "      <td>11</td>\n",
       "      <td>13350.015305</td>\n",
       "      <td>78.0</td>\n",
       "      <td>4</td>\n",
       "      <td>free</td>\n",
       "      <td>824.0</td>\n",
       "    </tr>\n",
       "    <tr>\n",
       "      <th>11330</th>\n",
       "      <td>1534</td>\n",
       "      <td>12</td>\n",
       "      <td>2371.711192</td>\n",
       "      <td>16.0</td>\n",
       "      <td>1</td>\n",
       "      <td>free</td>\n",
       "      <td>178.0</td>\n",
       "    </tr>\n",
       "  </tbody>\n",
       "</table>\n",
       "</div>"
      ],
      "text/plain": [
       "       user_id  month  distance_sum  duration_sum  rides_count  \\\n",
       "11326     1534      6   3409.468534          26.0            2   \n",
       "11327     1534      8   7622.453034          48.0            2   \n",
       "11328     1534      9   4928.173852          23.0            1   \n",
       "11329     1534     11  13350.015305          78.0            4   \n",
       "11330     1534     12   2371.711192          16.0            1   \n",
       "\n",
       "      subscription_type  income  \n",
       "11326              free   308.0  \n",
       "11327              free   484.0  \n",
       "11328              free   234.0  \n",
       "11329              free   824.0  \n",
       "11330              free   178.0  "
      ]
     },
     "metadata": {},
     "output_type": "display_data"
    }
   ],
   "source": [
    "data['duration']=np.ceil(data['duration'])\n",
    "agg_data = data.pivot_table(index=['user_id', 'month'], \n",
    "                              values = ['distance', 'duration', 'name', 'subscription_type'],\n",
    "                              aggfunc={'distance':'sum', 'duration':'sum', 'name':'count', 'subscription_type': 'min'})\n",
    "agg_data.columns = ['distance_sum', 'duration_sum', 'rides_count', 'subscription_type']\n",
    " \n",
    "\n",
    "agg_data = agg_data.reset_index()\n",
    "\n",
    "def income_func (row):\n",
    "    if row['user_id'] in data_sub['user_id'].values:\n",
    "        return 6*row['duration_sum']+199\n",
    "    if row['user_id'] in data_no_sub['user_id'].values:\n",
    "        return 8*row['duration_sum']+ 50*row['rides_count']\n",
    "\n",
    "agg_data['income'] = agg_data.apply(income_func, axis=1) \n",
    "\n",
    "ultra = agg_data.query('subscription_type == \"ultra\"')\n",
    "free = agg_data.query('subscription_type == \"free\"')\n",
    "display(agg_data.head(5))\n",
    "display(agg_data.tail(5))"
   ]
  },
  {
   "cell_type": "markdown",
   "id": "8da192a1",
   "metadata": {},
   "source": [
    "<div class=\"alert alert-block alert-info\">\n",
    "создаю датафрейм с агрегированными данными agg_data и с помощью функции вычисляю помесячную прибыль от каждого пользователя income\n",
    "    \n",
    "так же создаю две новых таблицы по каждому типу подписки отдельно, для удобства дальнейшего сравнения\n",
    "</div>"
   ]
  },
  {
   "cell_type": "markdown",
   "id": "41545ac0",
   "metadata": {},
   "source": [
    "#### Шаг 6. Проверка гипотез"
   ]
  },
  {
   "cell_type": "code",
   "execution_count": 89,
   "id": "23ea867b",
   "metadata": {},
   "outputs": [
    {
     "name": "stdout",
     "output_type": "stream",
     "text": [
      "p-значение: 1.2804098316645618e-34\n",
      "Отвергаем нулевую гипотезу\n"
     ]
    }
   ],
   "source": [
    "alpha = .05\n",
    " \n",
    "results = st.ttest_ind(data_sub['duration'], data_no_sub['duration'], alternative='greater')\n",
    " \n",
    "print('p-значение:', results.pvalue)\n",
    " \n",
    "if results.pvalue < alpha:\n",
    "    print('Отвергаем нулевую гипотезу')\n",
    "else:\n",
    "    print('Не получилось отвергнуть нулевую гипотезу')"
   ]
  },
  {
   "cell_type": "markdown",
   "id": "56aad53c",
   "metadata": {},
   "source": [
    "<div class=\"alert alert-block alert-info\">\n",
    "нулевая гипотеза - время поездки у пользвателей с подпиской и без равны\n",
    "    \n",
    "альтернативная гипотеза - время поездки у пользователей с подпиской больше\n",
    "    \n",
    "т.к нулевая гипотеза отвергнута то можно сказать, что владельцы подписки тратят больше времени на поездки     \n",
    "</div>"
   ]
  },
  {
   "cell_type": "code",
   "execution_count": 90,
   "id": "a48963e9",
   "metadata": {},
   "outputs": [
    {
     "name": "stdout",
     "output_type": "stream",
     "text": [
      "p-значение: 0.08046311521502146\n",
      "Не получилось отвергнуть нулевую гипотезу\n"
     ]
    }
   ],
   "source": [
    "alpha = .05\n",
    "optimal= 3130\n",
    "results = st.ttest_1samp(data_sub['distance'], optimal, alternative='less')\n",
    " \n",
    "print('p-значение:', results.pvalue)\n",
    " \n",
    "if results.pvalue < alpha:\n",
    "    print('Отвергаем нулевую гипотезу')\n",
    "else:\n",
    "    print('Не получилось отвергнуть нулевую гипотезу')"
   ]
  },
  {
   "cell_type": "markdown",
   "id": "db40965f",
   "metadata": {},
   "source": [
    "<div class=\"alert alert-block alert-info\">\n",
    "нулевая гипотеза - расстояние поездки у пользвателей с подпиской соответсвует оптимальному значнию 3130м\n",
    "    \n",
    "альтернативная гипотеза - расстояние поездки у пользователей с подпиской меньше оптимального\n",
    "    \n",
    "нулевая гипотеза не отвергнута, но это могло быть случайностью т.к. разница близка и лучше провести эксперимент на больший срок с большим количеством измерений    \n",
    "</div>"
   ]
  },
  {
   "cell_type": "code",
   "execution_count": 91,
   "id": "212b1886",
   "metadata": {},
   "outputs": [
    {
     "name": "stdout",
     "output_type": "stream",
     "text": [
      "p-значение: 1.774828178795375e-39\n",
      "Отвергаем нулевую гипотезу\n"
     ]
    }
   ],
   "source": [
    "ultra = agg_data.query('subscription_type == \"ultra\"')\n",
    "free = agg_data.query('subscription_type == \"free\"')\n",
    "alpha = 0.05\n",
    " \n",
    "results = st.ttest_ind(ultra['income'],free['income'],equal_var=False)\n",
    " \n",
    "print('p-значение:', results.pvalue)\n",
    " \n",
    "if results.pvalue < alpha:\n",
    "    print('Отвергаем нулевую гипотезу')\n",
    "else:\n",
    "    print('Не получилось отвергнуть нулевую гипотезу')"
   ]
  },
  {
   "cell_type": "code",
   "execution_count": 92,
   "id": "663a475d",
   "metadata": {},
   "outputs": [
    {
     "data": {
      "text/plain": [
       "362.7921906022502"
      ]
     },
     "execution_count": 92,
     "metadata": {},
     "output_type": "execute_result"
    }
   ],
   "source": [
    "ultra['income'].mean()"
   ]
  },
  {
   "cell_type": "code",
   "execution_count": 93,
   "id": "e8b6b8c4",
   "metadata": {},
   "outputs": [
    {
     "data": {
      "text/plain": [
       "328.6413651073845"
      ]
     },
     "execution_count": 93,
     "metadata": {},
     "output_type": "execute_result"
    }
   ],
   "source": [
    "free['income'].mean()"
   ]
  },
  {
   "cell_type": "markdown",
   "id": "489ad74e",
   "metadata": {},
   "source": [
    "<div class=\"alert alert-block alert-info\">\n",
    "нулевая гипотеза - ежемесячная прибыль от владельцев подписки равна прибыли от пользоваетелй без подписки\n",
    "    \n",
    "альтернативная гипотеза - ежемесячная прибыль от владельцев подписки больше\n",
    "    \n",
    "В резульате теста видно, что нулевая гипотеза отвергнута, следовательно средняя выручка за месяц больше от владельцев подписки     \n",
    "</div>"
   ]
  },
  {
   "cell_type": "markdown",
   "id": "94fa292d",
   "metadata": {},
   "source": [
    "<div class=\"alert alert-block alert-info\">\n",
    "<b>Выыод</b>  \n",
    "\n",
    "По имеющимся данным можно сказать, что:\n",
    "    \n",
    "* Пользователи с подпиской приносят больше выручки, чем без\n",
    "    \n",
    "* По имеющемуся объему данных нельзя с уверенностью сказать, что пользователи с подпиской способствуют меньшему износу самоката из за поездок длинной до 3130м \n",
    "</div>"
   ]
  }
 ],
 "metadata": {
  "ExecuteTimeLog": [
   {
    "duration": 455,
    "start_time": "2023-05-09T10:58:11.335Z"
   },
   {
    "duration": 203,
    "start_time": "2023-05-09T10:58:11.793Z"
   },
   {
    "duration": 18,
    "start_time": "2023-05-09T10:58:11.998Z"
   },
   {
    "duration": 10,
    "start_time": "2023-05-09T10:58:12.018Z"
   },
   {
    "duration": 13,
    "start_time": "2023-05-09T10:58:14.907Z"
   },
   {
    "duration": 18,
    "start_time": "2023-05-09T11:00:16.766Z"
   },
   {
    "duration": 3,
    "start_time": "2023-05-09T11:00:46.483Z"
   },
   {
    "duration": 61,
    "start_time": "2023-05-09T11:00:46.488Z"
   },
   {
    "duration": 15,
    "start_time": "2023-05-09T11:00:46.551Z"
   },
   {
    "duration": 14,
    "start_time": "2023-05-09T11:00:46.568Z"
   },
   {
    "duration": 12,
    "start_time": "2023-05-09T11:00:46.584Z"
   },
   {
    "duration": 58,
    "start_time": "2023-05-09T11:00:48.462Z"
   },
   {
    "duration": 9,
    "start_time": "2023-05-09T11:00:53.267Z"
   },
   {
    "duration": 133,
    "start_time": "2023-05-09T11:01:58.014Z"
   },
   {
    "duration": 18,
    "start_time": "2023-05-09T11:02:40.959Z"
   },
   {
    "duration": 6,
    "start_time": "2023-05-09T11:03:15.663Z"
   },
   {
    "duration": 10,
    "start_time": "2023-05-09T11:03:20.599Z"
   },
   {
    "duration": 8,
    "start_time": "2023-05-09T11:03:28.972Z"
   },
   {
    "duration": 8,
    "start_time": "2023-05-09T11:04:16.385Z"
   },
   {
    "duration": 5,
    "start_time": "2023-05-09T11:04:27.645Z"
   },
   {
    "duration": 10,
    "start_time": "2023-05-09T11:05:15.963Z"
   },
   {
    "duration": 8,
    "start_time": "2023-05-09T11:05:23.486Z"
   },
   {
    "duration": 10,
    "start_time": "2023-05-09T11:05:36.178Z"
   },
   {
    "duration": 6,
    "start_time": "2023-05-09T11:05:42.649Z"
   },
   {
    "duration": 8,
    "start_time": "2023-05-09T11:05:48.921Z"
   },
   {
    "duration": 11,
    "start_time": "2023-05-09T11:06:09.796Z"
   },
   {
    "duration": 374,
    "start_time": "2023-05-09T11:06:47.175Z"
   },
   {
    "duration": 73,
    "start_time": "2023-05-09T11:06:48.940Z"
   },
   {
    "duration": 18,
    "start_time": "2023-05-09T11:06:49.727Z"
   },
   {
    "duration": 19,
    "start_time": "2023-05-09T11:07:02.187Z"
   },
   {
    "duration": 15,
    "start_time": "2023-05-09T11:09:45.978Z"
   },
   {
    "duration": 17,
    "start_time": "2023-05-09T11:10:54.115Z"
   },
   {
    "duration": 7,
    "start_time": "2023-05-09T11:10:57.996Z"
   },
   {
    "duration": 12,
    "start_time": "2023-05-09T11:11:07.683Z"
   },
   {
    "duration": 11,
    "start_time": "2023-05-09T11:11:15.869Z"
   },
   {
    "duration": 3,
    "start_time": "2023-05-09T11:11:42.203Z"
   },
   {
    "duration": 64,
    "start_time": "2023-05-09T11:11:42.208Z"
   },
   {
    "duration": 17,
    "start_time": "2023-05-09T11:11:42.274Z"
   },
   {
    "duration": 19,
    "start_time": "2023-05-09T11:11:42.293Z"
   },
   {
    "duration": 28,
    "start_time": "2023-05-09T11:11:42.314Z"
   },
   {
    "duration": 13,
    "start_time": "2023-05-09T11:11:42.344Z"
   },
   {
    "duration": 15,
    "start_time": "2023-05-09T11:11:42.359Z"
   },
   {
    "duration": 36,
    "start_time": "2023-05-09T11:11:42.376Z"
   },
   {
    "duration": 6,
    "start_time": "2023-05-09T11:11:44.589Z"
   },
   {
    "duration": 5,
    "start_time": "2023-05-09T11:12:19.289Z"
   },
   {
    "duration": 9,
    "start_time": "2023-05-09T11:12:26.625Z"
   },
   {
    "duration": 176,
    "start_time": "2023-05-09T11:20:31.626Z"
   },
   {
    "duration": 146,
    "start_time": "2023-05-09T11:21:16.991Z"
   },
   {
    "duration": 184,
    "start_time": "2023-05-09T11:21:50.260Z"
   },
   {
    "duration": 264,
    "start_time": "2023-05-09T11:21:58.373Z"
   },
   {
    "duration": 206,
    "start_time": "2023-05-09T11:22:10.889Z"
   },
   {
    "duration": 269,
    "start_time": "2023-05-09T11:22:17.945Z"
   },
   {
    "duration": 156,
    "start_time": "2023-05-09T11:25:14.635Z"
   },
   {
    "duration": 215,
    "start_time": "2023-05-09T11:25:21.003Z"
   },
   {
    "duration": 315,
    "start_time": "2023-05-09T11:25:25.652Z"
   },
   {
    "duration": 784,
    "start_time": "2023-05-09T11:26:00.612Z"
   },
   {
    "duration": 374,
    "start_time": "2023-05-09T11:26:09.558Z"
   },
   {
    "duration": 19,
    "start_time": "2023-05-09T11:29:10.030Z"
   },
   {
    "duration": 26,
    "start_time": "2023-05-09T11:29:23.281Z"
   },
   {
    "duration": 3,
    "start_time": "2023-05-09T11:30:42.778Z"
   },
   {
    "duration": 77,
    "start_time": "2023-05-09T11:30:42.784Z"
   },
   {
    "duration": 20,
    "start_time": "2023-05-09T11:30:42.864Z"
   },
   {
    "duration": 17,
    "start_time": "2023-05-09T11:30:42.891Z"
   },
   {
    "duration": 15,
    "start_time": "2023-05-09T11:30:42.911Z"
   },
   {
    "duration": 28,
    "start_time": "2023-05-09T11:30:42.928Z"
   },
   {
    "duration": 6,
    "start_time": "2023-05-09T11:30:42.958Z"
   },
   {
    "duration": 26,
    "start_time": "2023-05-09T11:30:42.966Z"
   },
   {
    "duration": 5,
    "start_time": "2023-05-09T11:30:42.994Z"
   },
   {
    "duration": 14,
    "start_time": "2023-05-09T11:30:43.005Z"
   },
   {
    "duration": 157,
    "start_time": "2023-05-09T11:30:43.022Z"
   },
   {
    "duration": 86,
    "start_time": "2023-05-09T11:30:43.189Z"
   },
   {
    "duration": 280,
    "start_time": "2023-05-09T11:30:43.290Z"
   },
   {
    "duration": 340,
    "start_time": "2023-05-09T11:30:43.573Z"
   },
   {
    "duration": 284,
    "start_time": "2023-05-09T11:30:43.915Z"
   },
   {
    "duration": 28,
    "start_time": "2023-05-09T11:30:51.753Z"
   },
   {
    "duration": 8,
    "start_time": "2023-05-09T11:31:45.780Z"
   },
   {
    "duration": 8,
    "start_time": "2023-05-09T11:32:27.734Z"
   },
   {
    "duration": 535,
    "start_time": "2023-05-09T11:35:26.010Z"
   },
   {
    "duration": 445,
    "start_time": "2023-05-09T11:35:35.155Z"
   },
   {
    "duration": 396,
    "start_time": "2023-05-09T11:36:07.313Z"
   },
   {
    "duration": 470,
    "start_time": "2023-05-09T11:37:32.951Z"
   },
   {
    "duration": 618,
    "start_time": "2023-05-09T11:37:56.261Z"
   },
   {
    "duration": 509,
    "start_time": "2023-05-09T11:38:23.595Z"
   },
   {
    "duration": 501,
    "start_time": "2023-05-09T11:39:02.079Z"
   },
   {
    "duration": 672,
    "start_time": "2023-05-09T11:39:16.337Z"
   },
   {
    "duration": 511,
    "start_time": "2023-05-09T11:39:25.432Z"
   },
   {
    "duration": 863,
    "start_time": "2023-05-09T11:39:33.284Z"
   },
   {
    "duration": 702,
    "start_time": "2023-05-09T11:39:38.213Z"
   },
   {
    "duration": 437,
    "start_time": "2023-05-09T11:40:02.598Z"
   },
   {
    "duration": 634,
    "start_time": "2023-05-09T11:40:57.593Z"
   },
   {
    "duration": 49,
    "start_time": "2023-05-09T11:58:20.610Z"
   },
   {
    "duration": 51,
    "start_time": "2023-05-09T11:58:34.393Z"
   },
   {
    "duration": 52,
    "start_time": "2023-05-09T11:58:40.993Z"
   },
   {
    "duration": 768,
    "start_time": "2023-05-09T11:58:53.050Z"
   },
   {
    "duration": 706,
    "start_time": "2023-05-09T11:59:04.816Z"
   },
   {
    "duration": 736,
    "start_time": "2023-05-09T12:02:43.667Z"
   },
   {
    "duration": 33,
    "start_time": "2023-05-09T12:04:18.543Z"
   },
   {
    "duration": 515,
    "start_time": "2023-05-09T12:04:52.797Z"
   },
   {
    "duration": 526,
    "start_time": "2023-05-09T12:06:59.612Z"
   },
   {
    "duration": 10,
    "start_time": "2023-05-09T12:08:14.799Z"
   },
   {
    "duration": 5,
    "start_time": "2023-05-09T12:08:20.431Z"
   },
   {
    "duration": 75,
    "start_time": "2023-05-09T12:08:20.439Z"
   },
   {
    "duration": 20,
    "start_time": "2023-05-09T12:08:20.516Z"
   },
   {
    "duration": 21,
    "start_time": "2023-05-09T12:08:20.538Z"
   },
   {
    "duration": 34,
    "start_time": "2023-05-09T12:08:20.562Z"
   },
   {
    "duration": 10,
    "start_time": "2023-05-09T12:08:20.599Z"
   },
   {
    "duration": 17,
    "start_time": "2023-05-09T12:08:20.611Z"
   },
   {
    "duration": 23,
    "start_time": "2023-05-09T12:08:20.630Z"
   },
   {
    "duration": 9,
    "start_time": "2023-05-09T12:08:20.655Z"
   },
   {
    "duration": 29,
    "start_time": "2023-05-09T12:08:20.666Z"
   },
   {
    "duration": 158,
    "start_time": "2023-05-09T12:08:20.697Z"
   },
   {
    "duration": 97,
    "start_time": "2023-05-09T12:08:20.858Z"
   },
   {
    "duration": 283,
    "start_time": "2023-05-09T12:08:20.959Z"
   },
   {
    "duration": 288,
    "start_time": "2023-05-09T12:08:21.244Z"
   },
   {
    "duration": 312,
    "start_time": "2023-05-09T12:08:21.534Z"
   },
   {
    "duration": 27,
    "start_time": "2023-05-09T12:08:21.848Z"
   },
   {
    "duration": 26,
    "start_time": "2023-05-09T12:08:21.877Z"
   },
   {
    "duration": 761,
    "start_time": "2023-05-09T12:08:21.905Z"
   },
   {
    "duration": 505,
    "start_time": "2023-05-09T12:08:22.668Z"
   },
   {
    "duration": 520,
    "start_time": "2023-05-09T12:08:23.175Z"
   },
   {
    "duration": 507,
    "start_time": "2023-05-09T12:08:26.271Z"
   },
   {
    "duration": 18,
    "start_time": "2023-05-09T12:10:17.741Z"
   },
   {
    "duration": 17,
    "start_time": "2023-05-09T12:10:29.653Z"
   },
   {
    "duration": 920,
    "start_time": "2023-05-11T12:26:37.790Z"
   },
   {
    "duration": 218,
    "start_time": "2023-05-11T12:26:38.713Z"
   },
   {
    "duration": 23,
    "start_time": "2023-05-11T12:26:38.933Z"
   },
   {
    "duration": 18,
    "start_time": "2023-05-11T12:26:38.957Z"
   },
   {
    "duration": 15,
    "start_time": "2023-05-11T12:26:38.978Z"
   },
   {
    "duration": 21,
    "start_time": "2023-05-11T12:26:38.996Z"
   },
   {
    "duration": 8,
    "start_time": "2023-05-11T12:26:39.019Z"
   },
   {
    "duration": 20,
    "start_time": "2023-05-11T12:26:39.029Z"
   },
   {
    "duration": 7,
    "start_time": "2023-05-11T12:26:39.051Z"
   },
   {
    "duration": 16,
    "start_time": "2023-05-11T12:26:39.060Z"
   },
   {
    "duration": 173,
    "start_time": "2023-05-11T12:26:39.094Z"
   },
   {
    "duration": 86,
    "start_time": "2023-05-11T12:26:39.269Z"
   },
   {
    "duration": 267,
    "start_time": "2023-05-11T12:26:39.356Z"
   },
   {
    "duration": 357,
    "start_time": "2023-05-11T12:26:39.626Z"
   },
   {
    "duration": 297,
    "start_time": "2023-05-11T12:26:39.986Z"
   },
   {
    "duration": 38,
    "start_time": "2023-05-11T12:26:40.285Z"
   },
   {
    "duration": 10,
    "start_time": "2023-05-11T12:26:40.325Z"
   },
   {
    "duration": 560,
    "start_time": "2023-05-11T12:26:40.337Z"
   },
   {
    "duration": 534,
    "start_time": "2023-05-11T12:26:40.899Z"
   },
   {
    "duration": 622,
    "start_time": "2023-05-11T12:26:41.434Z"
   },
   {
    "duration": 24,
    "start_time": "2023-05-11T12:26:42.059Z"
   },
   {
    "duration": 99,
    "start_time": "2023-05-11T12:36:55.601Z"
   },
   {
    "duration": 537,
    "start_time": "2023-05-11T12:38:11.488Z"
   },
   {
    "duration": 37,
    "start_time": "2023-05-11T12:38:16.959Z"
   },
   {
    "duration": 6,
    "start_time": "2023-05-11T12:38:41.489Z"
   },
   {
    "duration": 7,
    "start_time": "2023-05-11T12:40:02.328Z"
   },
   {
    "duration": 5,
    "start_time": "2023-05-11T12:43:50.750Z"
   },
   {
    "duration": 31,
    "start_time": "2023-05-11T12:56:08.187Z"
   },
   {
    "duration": 10,
    "start_time": "2023-05-11T12:56:16.169Z"
   },
   {
    "duration": 20,
    "start_time": "2023-05-11T12:57:04.251Z"
   },
   {
    "duration": 27,
    "start_time": "2023-05-11T12:57:24.883Z"
   },
   {
    "duration": 735,
    "start_time": "2023-05-11T13:00:28.261Z"
   },
   {
    "duration": 3,
    "start_time": "2023-05-11T13:00:40.741Z"
   },
   {
    "duration": 63,
    "start_time": "2023-05-11T13:00:40.746Z"
   },
   {
    "duration": 16,
    "start_time": "2023-05-11T13:00:40.811Z"
   },
   {
    "duration": 25,
    "start_time": "2023-05-11T13:00:40.829Z"
   },
   {
    "duration": 16,
    "start_time": "2023-05-11T13:00:40.856Z"
   },
   {
    "duration": 11,
    "start_time": "2023-05-11T13:00:40.874Z"
   },
   {
    "duration": 5,
    "start_time": "2023-05-11T13:00:40.887Z"
   },
   {
    "duration": 9,
    "start_time": "2023-05-11T13:00:40.894Z"
   },
   {
    "duration": 5,
    "start_time": "2023-05-11T13:00:40.938Z"
   },
   {
    "duration": 9,
    "start_time": "2023-05-11T13:00:40.945Z"
   },
   {
    "duration": 161,
    "start_time": "2023-05-11T13:00:40.956Z"
   },
   {
    "duration": 86,
    "start_time": "2023-05-11T13:00:41.119Z"
   },
   {
    "duration": 273,
    "start_time": "2023-05-11T13:00:41.207Z"
   },
   {
    "duration": 294,
    "start_time": "2023-05-11T13:00:41.482Z"
   },
   {
    "duration": 426,
    "start_time": "2023-05-11T13:00:41.778Z"
   },
   {
    "duration": 38,
    "start_time": "2023-05-11T13:00:42.206Z"
   },
   {
    "duration": 15,
    "start_time": "2023-05-11T13:00:42.246Z"
   },
   {
    "duration": 530,
    "start_time": "2023-05-11T13:00:42.264Z"
   },
   {
    "duration": 487,
    "start_time": "2023-05-11T13:00:42.796Z"
   },
   {
    "duration": 670,
    "start_time": "2023-05-11T13:00:47.555Z"
   },
   {
    "duration": 959,
    "start_time": "2023-05-11T13:03:41.644Z"
   },
   {
    "duration": 930,
    "start_time": "2023-05-11T13:03:50.721Z"
   },
   {
    "duration": 893,
    "start_time": "2023-05-11T13:04:40.424Z"
   },
   {
    "duration": 2063,
    "start_time": "2023-05-11T13:06:25.999Z"
   },
   {
    "duration": 2050,
    "start_time": "2023-05-11T13:07:46.363Z"
   },
   {
    "duration": 923,
    "start_time": "2023-05-11T13:08:49.183Z"
   },
   {
    "duration": 1073,
    "start_time": "2023-05-11T13:09:21.125Z"
   },
   {
    "duration": 3,
    "start_time": "2023-05-11T13:09:29.740Z"
   },
   {
    "duration": 57,
    "start_time": "2023-05-11T13:09:29.745Z"
   },
   {
    "duration": 17,
    "start_time": "2023-05-11T13:09:29.805Z"
   },
   {
    "duration": 25,
    "start_time": "2023-05-11T13:09:29.824Z"
   },
   {
    "duration": 16,
    "start_time": "2023-05-11T13:09:29.853Z"
   },
   {
    "duration": 13,
    "start_time": "2023-05-11T13:09:29.871Z"
   },
   {
    "duration": 8,
    "start_time": "2023-05-11T13:09:29.885Z"
   },
   {
    "duration": 47,
    "start_time": "2023-05-11T13:09:29.895Z"
   },
   {
    "duration": 5,
    "start_time": "2023-05-11T13:09:29.944Z"
   },
   {
    "duration": 10,
    "start_time": "2023-05-11T13:09:29.951Z"
   },
   {
    "duration": 172,
    "start_time": "2023-05-11T13:09:29.965Z"
   },
   {
    "duration": 104,
    "start_time": "2023-05-11T13:09:30.139Z"
   },
   {
    "duration": 422,
    "start_time": "2023-05-11T13:09:30.245Z"
   },
   {
    "duration": 282,
    "start_time": "2023-05-11T13:09:30.668Z"
   },
   {
    "duration": 285,
    "start_time": "2023-05-11T13:09:30.952Z"
   },
   {
    "duration": 25,
    "start_time": "2023-05-11T13:09:31.240Z"
   },
   {
    "duration": 13,
    "start_time": "2023-05-11T13:09:31.267Z"
   },
   {
    "duration": 539,
    "start_time": "2023-05-11T13:09:31.282Z"
   },
   {
    "duration": 590,
    "start_time": "2023-05-11T13:09:31.824Z"
   },
   {
    "duration": 1108,
    "start_time": "2023-05-11T13:09:35.497Z"
   },
   {
    "duration": 1234,
    "start_time": "2023-05-11T13:10:27.583Z"
   },
   {
    "duration": 11,
    "start_time": "2023-05-11T13:12:32.340Z"
   },
   {
    "duration": 1265,
    "start_time": "2023-05-11T13:12:48.362Z"
   },
   {
    "duration": 1356,
    "start_time": "2023-05-11T13:13:09.812Z"
   },
   {
    "duration": 11,
    "start_time": "2023-05-11T13:13:15.692Z"
   },
   {
    "duration": 1317,
    "start_time": "2023-05-11T13:13:46.214Z"
   },
   {
    "duration": 3,
    "start_time": "2023-05-11T13:13:52.641Z"
   },
   {
    "duration": 65,
    "start_time": "2023-05-11T13:13:52.646Z"
   },
   {
    "duration": 18,
    "start_time": "2023-05-11T13:13:52.713Z"
   },
   {
    "duration": 21,
    "start_time": "2023-05-11T13:13:52.733Z"
   },
   {
    "duration": 15,
    "start_time": "2023-05-11T13:13:52.756Z"
   },
   {
    "duration": 20,
    "start_time": "2023-05-11T13:13:52.773Z"
   },
   {
    "duration": 17,
    "start_time": "2023-05-11T13:13:52.795Z"
   },
   {
    "duration": 15,
    "start_time": "2023-05-11T13:13:52.814Z"
   },
   {
    "duration": 11,
    "start_time": "2023-05-11T13:13:52.837Z"
   },
   {
    "duration": 14,
    "start_time": "2023-05-11T13:13:52.849Z"
   },
   {
    "duration": 151,
    "start_time": "2023-05-11T13:13:52.864Z"
   },
   {
    "duration": 100,
    "start_time": "2023-05-11T13:13:53.017Z"
   },
   {
    "duration": 289,
    "start_time": "2023-05-11T13:13:53.119Z"
   },
   {
    "duration": 276,
    "start_time": "2023-05-11T13:13:53.410Z"
   },
   {
    "duration": 283,
    "start_time": "2023-05-11T13:13:53.688Z"
   },
   {
    "duration": 27,
    "start_time": "2023-05-11T13:13:53.973Z"
   },
   {
    "duration": 10,
    "start_time": "2023-05-11T13:13:54.002Z"
   },
   {
    "duration": 508,
    "start_time": "2023-05-11T13:13:54.014Z"
   },
   {
    "duration": 490,
    "start_time": "2023-05-11T13:13:54.524Z"
   },
   {
    "duration": 1389,
    "start_time": "2023-05-11T13:13:55.016Z"
   },
   {
    "duration": 10,
    "start_time": "2023-05-11T13:13:56.408Z"
   },
   {
    "duration": 37,
    "start_time": "2023-05-11T13:13:56.420Z"
   },
   {
    "duration": 5,
    "start_time": "2023-05-11T13:13:56.459Z"
   },
   {
    "duration": 1889,
    "start_time": "2023-05-11T13:14:00.982Z"
   },
   {
    "duration": 11,
    "start_time": "2023-05-11T13:14:19.323Z"
   },
   {
    "duration": 5,
    "start_time": "2023-05-11T13:14:55.494Z"
   },
   {
    "duration": 5,
    "start_time": "2023-05-11T13:15:01.622Z"
   },
   {
    "duration": 4,
    "start_time": "2023-05-11T13:15:21.581Z"
   },
   {
    "duration": 5,
    "start_time": "2023-05-11T13:15:23.422Z"
   },
   {
    "duration": 7,
    "start_time": "2023-05-11T13:16:41.997Z"
   },
   {
    "duration": 6,
    "start_time": "2023-05-11T13:17:47.029Z"
   },
   {
    "duration": 78,
    "start_time": "2023-05-11T13:30:29.909Z"
   },
   {
    "duration": 4,
    "start_time": "2023-05-11T13:52:01.890Z"
   },
   {
    "duration": 110,
    "start_time": "2023-05-11T13:52:01.897Z"
   },
   {
    "duration": 26,
    "start_time": "2023-05-11T13:52:02.009Z"
   },
   {
    "duration": 50,
    "start_time": "2023-05-11T13:52:02.039Z"
   },
   {
    "duration": 21,
    "start_time": "2023-05-11T13:52:02.091Z"
   },
   {
    "duration": 32,
    "start_time": "2023-05-11T13:52:02.115Z"
   },
   {
    "duration": 29,
    "start_time": "2023-05-11T13:52:02.149Z"
   },
   {
    "duration": 65,
    "start_time": "2023-05-11T13:52:02.180Z"
   },
   {
    "duration": 32,
    "start_time": "2023-05-11T13:52:02.247Z"
   },
   {
    "duration": 31,
    "start_time": "2023-05-11T13:52:02.281Z"
   },
   {
    "duration": 189,
    "start_time": "2023-05-11T13:52:02.315Z"
   },
   {
    "duration": 107,
    "start_time": "2023-05-11T13:52:02.506Z"
   },
   {
    "duration": 353,
    "start_time": "2023-05-11T13:52:02.617Z"
   },
   {
    "duration": 360,
    "start_time": "2023-05-11T13:52:02.972Z"
   },
   {
    "duration": 377,
    "start_time": "2023-05-11T13:52:03.337Z"
   },
   {
    "duration": 42,
    "start_time": "2023-05-11T13:52:03.716Z"
   },
   {
    "duration": 11,
    "start_time": "2023-05-11T13:52:03.760Z"
   },
   {
    "duration": 647,
    "start_time": "2023-05-11T13:52:03.773Z"
   },
   {
    "duration": 540,
    "start_time": "2023-05-11T13:52:04.422Z"
   },
   {
    "duration": 1379,
    "start_time": "2023-05-11T13:52:04.964Z"
   },
   {
    "duration": 8,
    "start_time": "2023-05-11T13:52:06.344Z"
   },
   {
    "duration": 22,
    "start_time": "2023-05-11T13:52:06.354Z"
   },
   {
    "duration": 36,
    "start_time": "2023-05-11T13:52:06.378Z"
   },
   {
    "duration": 27,
    "start_time": "2023-05-11T13:52:06.416Z"
   },
   {
    "duration": 42,
    "start_time": "2023-05-11T13:52:06.444Z"
   },
   {
    "duration": 1293,
    "start_time": "2023-05-12T08:05:43.641Z"
   },
   {
    "duration": 316,
    "start_time": "2023-05-12T08:05:44.936Z"
   },
   {
    "duration": 20,
    "start_time": "2023-05-12T08:05:47.574Z"
   },
   {
    "duration": 14,
    "start_time": "2023-05-12T08:06:09.575Z"
   },
   {
    "duration": 12,
    "start_time": "2023-05-12T08:06:09.998Z"
   },
   {
    "duration": 3,
    "start_time": "2023-05-12T08:16:38.839Z"
   },
   {
    "duration": 73,
    "start_time": "2023-05-12T08:16:38.843Z"
   },
   {
    "duration": 13,
    "start_time": "2023-05-12T08:16:38.917Z"
   },
   {
    "duration": 15,
    "start_time": "2023-05-12T08:16:38.931Z"
   },
   {
    "duration": 12,
    "start_time": "2023-05-12T08:16:38.949Z"
   },
   {
    "duration": 9,
    "start_time": "2023-05-12T08:16:38.962Z"
   },
   {
    "duration": 16,
    "start_time": "2023-05-12T08:16:38.972Z"
   },
   {
    "duration": 11,
    "start_time": "2023-05-12T08:16:38.991Z"
   },
   {
    "duration": 7,
    "start_time": "2023-05-12T08:16:39.004Z"
   },
   {
    "duration": 15,
    "start_time": "2023-05-12T08:16:39.013Z"
   },
   {
    "duration": 134,
    "start_time": "2023-05-12T08:16:39.031Z"
   },
   {
    "duration": 90,
    "start_time": "2023-05-12T08:16:39.167Z"
   },
   {
    "duration": 267,
    "start_time": "2023-05-12T08:16:39.258Z"
   },
   {
    "duration": 242,
    "start_time": "2023-05-12T08:16:39.528Z"
   },
   {
    "duration": 247,
    "start_time": "2023-05-12T08:16:39.772Z"
   },
   {
    "duration": 24,
    "start_time": "2023-05-12T08:16:40.020Z"
   },
   {
    "duration": 9,
    "start_time": "2023-05-12T08:16:40.045Z"
   },
   {
    "duration": 6,
    "start_time": "2023-05-12T08:17:03.807Z"
   },
   {
    "duration": 2,
    "start_time": "2023-05-12T08:21:46.895Z"
   },
   {
    "duration": 78,
    "start_time": "2023-05-12T08:21:46.899Z"
   },
   {
    "duration": 14,
    "start_time": "2023-05-12T08:21:46.978Z"
   },
   {
    "duration": 28,
    "start_time": "2023-05-12T08:21:46.993Z"
   },
   {
    "duration": 11,
    "start_time": "2023-05-12T08:21:47.023Z"
   },
   {
    "duration": 18,
    "start_time": "2023-05-12T08:21:47.035Z"
   },
   {
    "duration": 7,
    "start_time": "2023-05-12T08:21:47.054Z"
   },
   {
    "duration": 18,
    "start_time": "2023-05-12T08:21:47.063Z"
   },
   {
    "duration": 21,
    "start_time": "2023-05-12T08:21:47.082Z"
   },
   {
    "duration": 14,
    "start_time": "2023-05-12T08:21:47.105Z"
   },
   {
    "duration": 129,
    "start_time": "2023-05-12T08:21:47.120Z"
   },
   {
    "duration": 119,
    "start_time": "2023-05-12T08:21:47.250Z"
   },
   {
    "duration": 195,
    "start_time": "2023-05-12T08:21:47.370Z"
   },
   {
    "duration": 213,
    "start_time": "2023-05-12T08:21:47.567Z"
   },
   {
    "duration": 191,
    "start_time": "2023-05-12T08:21:47.781Z"
   },
   {
    "duration": 26,
    "start_time": "2023-05-12T08:21:47.973Z"
   },
   {
    "duration": 7,
    "start_time": "2023-05-12T08:21:48.001Z"
   },
   {
    "duration": 350,
    "start_time": "2023-05-12T08:21:48.009Z"
   },
   {
    "duration": 430,
    "start_time": "2023-05-12T08:21:48.360Z"
   },
   {
    "duration": 1177,
    "start_time": "2023-05-12T08:21:48.792Z"
   },
   {
    "duration": 6,
    "start_time": "2023-05-12T08:22:19.595Z"
   },
   {
    "duration": 5,
    "start_time": "2023-05-12T08:24:34.718Z"
   },
   {
    "duration": 1334,
    "start_time": "2023-05-12T10:23:24.548Z"
   },
   {
    "duration": 199,
    "start_time": "2023-05-12T10:23:25.884Z"
   },
   {
    "duration": 23,
    "start_time": "2023-05-12T10:23:26.084Z"
   },
   {
    "duration": 38,
    "start_time": "2023-05-12T10:23:26.109Z"
   },
   {
    "duration": 19,
    "start_time": "2023-05-12T10:23:26.149Z"
   },
   {
    "duration": 20,
    "start_time": "2023-05-12T10:23:26.170Z"
   },
   {
    "duration": 23,
    "start_time": "2023-05-12T10:23:26.192Z"
   },
   {
    "duration": 24,
    "start_time": "2023-05-12T10:23:26.217Z"
   },
   {
    "duration": 29,
    "start_time": "2023-05-12T10:23:26.243Z"
   },
   {
    "duration": 16,
    "start_time": "2023-05-12T10:23:26.275Z"
   },
   {
    "duration": 153,
    "start_time": "2023-05-12T10:23:26.292Z"
   },
   {
    "duration": 88,
    "start_time": "2023-05-12T10:23:26.447Z"
   },
   {
    "duration": 262,
    "start_time": "2023-05-12T10:23:26.537Z"
   },
   {
    "duration": 273,
    "start_time": "2023-05-12T10:23:26.801Z"
   },
   {
    "duration": 278,
    "start_time": "2023-05-12T10:23:27.076Z"
   },
   {
    "duration": 36,
    "start_time": "2023-05-12T10:23:27.356Z"
   },
   {
    "duration": 10,
    "start_time": "2023-05-12T10:23:27.394Z"
   },
   {
    "duration": 554,
    "start_time": "2023-05-12T10:23:27.405Z"
   },
   {
    "duration": 481,
    "start_time": "2023-05-12T10:23:27.960Z"
   },
   {
    "duration": 1321,
    "start_time": "2023-05-12T10:23:28.443Z"
   },
   {
    "duration": 0,
    "start_time": "2023-05-12T10:23:29.766Z"
   },
   {
    "duration": 0,
    "start_time": "2023-05-12T10:23:29.767Z"
   },
   {
    "duration": 0,
    "start_time": "2023-05-12T10:23:29.768Z"
   },
   {
    "duration": 0,
    "start_time": "2023-05-12T10:23:29.769Z"
   },
   {
    "duration": 0,
    "start_time": "2023-05-12T10:23:29.770Z"
   },
   {
    "duration": 15,
    "start_time": "2023-05-12T10:26:38.031Z"
   },
   {
    "duration": 17,
    "start_time": "2023-05-12T10:26:56.293Z"
   },
   {
    "duration": 6,
    "start_time": "2023-05-12T10:27:06.319Z"
   },
   {
    "duration": 6,
    "start_time": "2023-05-12T10:27:23.231Z"
   },
   {
    "duration": 6,
    "start_time": "2023-05-12T10:27:35.809Z"
   },
   {
    "duration": 222,
    "start_time": "2023-05-12T12:47:03.906Z"
   },
   {
    "duration": 153,
    "start_time": "2023-05-12T12:47:38.310Z"
   },
   {
    "duration": 162,
    "start_time": "2023-05-12T12:47:54.159Z"
   },
   {
    "duration": 170,
    "start_time": "2023-05-12T12:49:08.749Z"
   },
   {
    "duration": 165,
    "start_time": "2023-05-12T12:49:58.485Z"
   },
   {
    "duration": 101,
    "start_time": "2023-05-12T12:50:23.422Z"
   },
   {
    "duration": 429,
    "start_time": "2023-05-12T12:50:55.412Z"
   },
   {
    "duration": 309,
    "start_time": "2023-05-12T12:51:14.321Z"
   },
   {
    "duration": 14,
    "start_time": "2023-05-12T12:52:03.004Z"
   },
   {
    "duration": 13,
    "start_time": "2023-05-12T12:55:55.538Z"
   },
   {
    "duration": 189,
    "start_time": "2023-05-12T12:56:03.515Z"
   },
   {
    "duration": 172,
    "start_time": "2023-05-12T12:56:14.124Z"
   },
   {
    "duration": 352,
    "start_time": "2023-05-12T12:57:46.885Z"
   },
   {
    "duration": 362,
    "start_time": "2023-05-12T12:58:19.021Z"
   },
   {
    "duration": 13,
    "start_time": "2023-05-12T12:58:42.939Z"
   },
   {
    "duration": 13,
    "start_time": "2023-05-12T12:58:56.511Z"
   },
   {
    "duration": 53,
    "start_time": "2023-05-12T13:01:46.148Z"
   },
   {
    "duration": 6,
    "start_time": "2023-05-12T13:01:49.724Z"
   },
   {
    "duration": 21,
    "start_time": "2023-05-12T13:02:52.907Z"
   },
   {
    "duration": 761,
    "start_time": "2023-05-12T13:03:47.108Z"
   },
   {
    "duration": 608,
    "start_time": "2023-05-12T13:03:57.784Z"
   },
   {
    "duration": 822,
    "start_time": "2023-05-12T13:04:32.192Z"
   },
   {
    "duration": 15,
    "start_time": "2023-05-12T13:04:57.595Z"
   },
   {
    "duration": 11,
    "start_time": "2023-05-12T13:05:13.113Z"
   },
   {
    "duration": 12,
    "start_time": "2023-05-12T13:09:16.017Z"
   },
   {
    "duration": 12,
    "start_time": "2023-05-12T13:09:18.009Z"
   },
   {
    "duration": 10,
    "start_time": "2023-05-12T13:09:42.943Z"
   },
   {
    "duration": 11,
    "start_time": "2023-05-12T13:09:44.645Z"
   },
   {
    "duration": 604,
    "start_time": "2023-05-12T13:11:07.967Z"
   },
   {
    "duration": 596,
    "start_time": "2023-05-12T13:11:25.755Z"
   },
   {
    "duration": 1536,
    "start_time": "2023-05-12T13:12:56.287Z"
   },
   {
    "duration": 1336,
    "start_time": "2023-05-12T13:13:16.524Z"
   },
   {
    "duration": 4,
    "start_time": "2023-05-12T13:17:30.558Z"
   },
   {
    "duration": 88,
    "start_time": "2023-05-12T13:17:30.582Z"
   },
   {
    "duration": 30,
    "start_time": "2023-05-12T13:17:30.672Z"
   },
   {
    "duration": 50,
    "start_time": "2023-05-12T13:17:30.705Z"
   },
   {
    "duration": 72,
    "start_time": "2023-05-12T13:17:30.758Z"
   },
   {
    "duration": 29,
    "start_time": "2023-05-12T13:17:30.832Z"
   },
   {
    "duration": 47,
    "start_time": "2023-05-12T13:17:30.863Z"
   },
   {
    "duration": 50,
    "start_time": "2023-05-12T13:17:30.912Z"
   },
   {
    "duration": 46,
    "start_time": "2023-05-12T13:17:30.964Z"
   },
   {
    "duration": 50,
    "start_time": "2023-05-12T13:17:31.013Z"
   },
   {
    "duration": 57,
    "start_time": "2023-05-12T13:17:31.067Z"
   },
   {
    "duration": 20,
    "start_time": "2023-05-12T13:17:31.126Z"
   },
   {
    "duration": 28,
    "start_time": "2023-05-12T13:17:31.149Z"
   },
   {
    "duration": 231,
    "start_time": "2023-05-12T13:17:31.179Z"
   },
   {
    "duration": 119,
    "start_time": "2023-05-12T13:17:31.412Z"
   },
   {
    "duration": 328,
    "start_time": "2023-05-12T13:17:31.533Z"
   },
   {
    "duration": 10,
    "start_time": "2023-05-12T13:17:31.863Z"
   },
   {
    "duration": 326,
    "start_time": "2023-05-12T13:17:31.888Z"
   },
   {
    "duration": 9,
    "start_time": "2023-05-12T13:17:32.216Z"
   },
   {
    "duration": 304,
    "start_time": "2023-05-12T13:17:32.227Z"
   },
   {
    "duration": 9,
    "start_time": "2023-05-12T13:17:32.533Z"
   },
   {
    "duration": 56,
    "start_time": "2023-05-12T13:17:32.544Z"
   },
   {
    "duration": 25,
    "start_time": "2023-05-12T13:17:32.602Z"
   },
   {
    "duration": 15,
    "start_time": "2023-05-12T13:17:32.629Z"
   },
   {
    "duration": 609,
    "start_time": "2023-05-12T13:17:32.646Z"
   },
   {
    "duration": 11,
    "start_time": "2023-05-12T13:17:33.257Z"
   },
   {
    "duration": 38,
    "start_time": "2023-05-12T13:17:33.269Z"
   },
   {
    "duration": 863,
    "start_time": "2023-05-12T13:17:33.309Z"
   },
   {
    "duration": 21,
    "start_time": "2023-05-12T13:17:34.175Z"
   },
   {
    "duration": 17,
    "start_time": "2023-05-12T13:17:34.203Z"
   },
   {
    "duration": 1493,
    "start_time": "2023-05-12T13:17:34.223Z"
   },
   {
    "duration": 6,
    "start_time": "2023-05-12T13:17:35.718Z"
   },
   {
    "duration": 7,
    "start_time": "2023-05-12T13:17:35.726Z"
   },
   {
    "duration": 13,
    "start_time": "2023-05-12T13:17:35.735Z"
   },
   {
    "duration": 6,
    "start_time": "2023-05-12T13:17:35.750Z"
   },
   {
    "duration": 12,
    "start_time": "2023-05-12T13:17:35.758Z"
   }
  ],
  "kernelspec": {
   "display_name": "Python 3 (ipykernel)",
   "language": "python",
   "name": "python3"
  },
  "language_info": {
   "codemirror_mode": {
    "name": "ipython",
    "version": 3
   },
   "file_extension": ".py",
   "mimetype": "text/x-python",
   "name": "python",
   "nbconvert_exporter": "python",
   "pygments_lexer": "ipython3",
   "version": "3.9.5"
  },
  "toc": {
   "base_numbering": 1,
   "nav_menu": {},
   "number_sections": true,
   "sideBar": true,
   "skip_h1_title": true,
   "title_cell": "Table of Contents",
   "title_sidebar": "Contents",
   "toc_cell": false,
   "toc_position": {},
   "toc_section_display": true,
   "toc_window_display": false
  }
 },
 "nbformat": 4,
 "nbformat_minor": 5
}
